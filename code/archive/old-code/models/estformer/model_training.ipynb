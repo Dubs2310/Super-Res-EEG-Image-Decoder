{
 "cells": [
  {
   "cell_type": "code",
   "execution_count": 11,
   "id": "2afce74b",
   "metadata": {},
   "outputs": [],
   "source": [
    "import os\n",
    "import sys\n",
    "import torch\n",
    "import wandb\n",
    "# import GPUtil\n",
    "import torch.optim as optim\n",
    "from torchinfo import summary\n",
    "import matplotlib.pyplot as plt\n",
    "from torch.utils.data import DataLoader\n",
    "from ESTFormer import ESTFormer\n",
    "\n",
    "sys.path.append('../../')\n",
    "from utils.epoch_data_reader import EpochDataReader"
   ]
  },
  {
   "cell_type": "code",
   "execution_count": 12,
   "id": "98a50522",
   "metadata": {},
   "outputs": [],
   "source": [
    "os.environ[\"CUDA_DEVICE_ORDER\"] = \"PCI_BUS_ID\" # Force CUDA to use the GPU\n",
    "os.environ[\"CUDA_VISIBLE_DEVICES\"] = \"0\"  # Use first GPU\n",
    "os.environ[\"PYTORCH_CUDA_ALLOC_CONF\"] = \"expandable_segments:True\" # Enable memory optimization settings for PyTorch\n",
    "os.environ['WANDB_NOTEBOOK_NAME'] = 'model_training'"
   ]
  },
  {
   "cell_type": "code",
   "execution_count": 17,
   "id": "085b474e",
   "metadata": {},
   "outputs": [],
   "source": [
    "# # Check if CUDA is available\n",
    "# try:\n",
    "#     gpus = GPUtil.getGPUs()\n",
    "#     if gpus:\n",
    "#         print(f\"GPUtil detected {len(gpus)} GPUs:\")\n",
    "#         for i, gpu in enumerate(gpus):\n",
    "#             print(f\"  GPU {i}: {gpu.name} (Memory: {gpu.memoryTotal}MB)\")\n",
    "        \n",
    "#         # Set default GPU\n",
    "#         os.environ[\"CUDA_VISIBLE_DEVICES\"] = \",\".join([str(i) for i in range(len(gpus))])\n",
    "#         print(f\"Set CUDA_VISIBLE_DEVICES={os.environ['CUDA_VISIBLE_DEVICES']}\")\n",
    "#     else:\n",
    "#         print(\"GPUtil found no available GPUs\")\n",
    "# except Exception as e:\n",
    "#     print(f\"Error checking GPUs with GPUtil: {e}\")"
   ]
  },
  {
   "cell_type": "code",
   "execution_count": 13,
   "id": "d5fd6d13",
   "metadata": {},
   "outputs": [
    {
     "name": "stdout",
     "output_type": "stream",
     "text": [
      "Using device: cuda\n",
      "Total GPU memory: 99.98 GB\n",
      "Available GPU memory: 0.58 GB\n"
     ]
    }
   ],
   "source": [
    "# Check for CUDA availability\n",
    "device = torch.device('cuda' if torch.cuda.is_available() else 'cpu')\n",
    "print(f\"Using device: {device}\")\n",
    "\n",
    "# Print available GPU memory\n",
    "if torch.cuda.is_available():\n",
    "    print(f\"Total GPU memory: {torch.cuda.get_device_properties(0).total_memory / 1e9:.2f} GB\")\n",
    "    print(f\"Available GPU memory: {torch.cuda.memory_reserved(0) / 1e9:.2f} GB\")"
   ]
  },
  {
   "cell_type": "code",
   "execution_count": 14,
   "id": "7eb17a40",
   "metadata": {},
   "outputs": [],
   "source": [
    "all_channels = ['Fp1', 'AF7', 'AF3', 'F1', 'F3', 'F5', 'F7', 'FT7', 'FC5', 'FC3', 'FC1', 'C1', 'C3', 'C5', 'T7', 'TP7', 'CP5', 'CP3', 'CP1', 'P1', 'P3', 'P5', 'P7', 'P9', 'PO7', 'PO3', 'O1', 'Iz', 'Oz', 'POz', 'Pz', 'CPz', 'Fpz', 'Fp2', 'AF8', 'AF4', 'AFz', 'Fz', 'F2', 'F4', 'F6', 'F8', 'FT8', 'FC6', 'FC4', 'FC2', 'FCz', 'Cz', 'C2', 'C4', 'C6', 'T8', 'TP8', 'CP6', 'CP4', 'CP2', 'P2', 'P4', 'P6', 'P8', 'P10', 'PO8', 'PO4', 'O2']\n",
    "\n",
    "hr_channel_names = [\n",
    "    'TP7', 'CP5', 'CP3', 'CP1', 'P1', 'P3', 'P5', 'P7', 'P9', 'PO7', 'PO3', 'O1', \n",
    "    'Iz', 'Oz', 'POz', 'Pz', 'CPz', \n",
    "    'TP8', 'CP6', 'CP4', 'CP2', 'P2', 'P4', 'P6', 'P8', 'P10', 'PO8', 'PO4', 'O2'\n",
    "]\n",
    "\n",
    "# Select 32 channels for the downsampled (low-resolution) set\n",
    "# This selection preserves the overall spatial coverage while reducing density\n",
    "lr_channel_names = [\n",
    "    'PO7',\n",
    "    'POz', 'Oz',\n",
    "    'PO8',\n",
    "]\n",
    "\n",
    "# Model parameters\n",
    "# hr_channel_names = all_channels # High-resolution setup (all channels)\n",
    "# lr_channel_names = ['AF3', 'F7', 'F3', 'FC5', 'T7', 'P7', 'O1', 'O2', 'P8', 'T8', 'FC6', 'F4', 'F8', 'AF4'] # Low-resolution setup (fewer channels)\n",
    "builtin_montage = 'standard_1020'\n",
    "alpha_t = 0.60\n",
    "alpha_s = 0.75\n",
    "r_mlp = 4 # amplification factor for MLP layers\n",
    "dropout_rate = 0.5\n",
    "L_s = 1  # Number of spatial layers\n",
    "L_t = 1  # Number of temporal layers\n",
    "\n",
    "# Training parameters\n",
    "epochs = 100\n",
    "\n",
    "# Optimizer parameters\n",
    "lr = 5e-5\n",
    "weight_decay = 0.5\n",
    "beta_1 = 0.9\n",
    "beta_2 = 0.95\n",
    "\n",
    "# Dataset parameters\n",
    "# split = \"70/25/5\"\n",
    "# epoch_type = \"around_evoked\"\n",
    "# before = 0.05\n",
    "# after = 0.6\n",
    "# random_state = 97\n",
    "\n",
    "# Data Loader parameter\n",
    "batch_size = 64"
   ]
  },
  {
   "cell_type": "code",
   "execution_count": 15,
   "id": "79149aae",
   "metadata": {},
   "outputs": [],
   "source": [
    "lo_res_dataset = EpochDataReader(\n",
    "    channel_names=lr_channel_names\n",
    ")\n",
    "\n",
    "hi_res_dataset = EpochDataReader(\n",
    "    channel_names=hr_channel_names\n",
    ")"
   ]
  },
  {
   "cell_type": "code",
   "execution_count": 16,
   "id": "59be6a5c",
   "metadata": {},
   "outputs": [
    {
     "data": {
      "text/plain": [
       "(719, 719)"
      ]
     },
     "execution_count": 16,
     "metadata": {},
     "output_type": "execute_result"
    }
   ],
   "source": [
    "lo_res_loader = DataLoader(\n",
    "    lo_res_dataset,\n",
    "    batch_size=batch_size,\n",
    "    shuffle=True,\n",
    "    num_workers=4,\n",
    "    pin_memory=True\n",
    ")\n",
    "\n",
    "hi_res_loader = DataLoader(\n",
    "    hi_res_dataset,\n",
    "    batch_size=batch_size,\n",
    "    shuffle=True,\n",
    "    num_workers=4,\n",
    "    pin_memory=True\n",
    ")\n",
    "\n",
    "len(lo_res_loader), len(hi_res_loader)"
   ]
  },
  {
   "cell_type": "code",
   "execution_count": 7,
   "id": "e0c4f7dc-905c-48b3-a00a-7cff055eceb1",
   "metadata": {},
   "outputs": [
    {
     "data": {
      "text/plain": [
       "((4, 338), (29, 338))"
      ]
     },
     "execution_count": 7,
     "metadata": {},
     "output_type": "execute_result"
    }
   ],
   "source": [
    "lo_res_dataset[0][0].shape, hi_res_dataset[0][0].shape"
   ]
  },
  {
   "cell_type": "code",
   "execution_count": 17,
   "id": "d6956e52",
   "metadata": {},
   "outputs": [],
   "source": [
    "# Get sample data to determine time_steps\n",
    "sample_item = lo_res_dataset[0][0] if lo_res_dataset.epoch_type == 'around_evoked' else lo_res_dataset[0]\n",
    "time_steps = sample_item.shape[1]\n",
    "sfreq = lo_res_dataset.resample_freq\n",
    "\n",
    "config = {\n",
    "    \"total_epochs_trained_on\": epochs,\n",
    "    \"scale_factor\": len(hr_channel_names) / len(lr_channel_names),\n",
    "    \"time_steps_in_seconds\": time_steps / sfreq,\n",
    "    \"is_parieto_occipital_exclusive\": True, #all(ch.startswith('P') or ch.startswith('O') or ch.startswith('PO') or ch.startswith('CP') for ch in lr_channel_names) and all(ch.startswith('P') or ch.startswith('O') or ch.startswith('PO') or ch.startswith('CP') for ch in hr_channel_names),\n",
    "    \"model_params\": {\n",
    "        \"model\": \"ESTformer\",\n",
    "        \"num_lr_channels\": len(lr_channel_names),\n",
    "        \"num_hr_channels\": len(hr_channel_names),\n",
    "        \"builtin_montage\": builtin_montage,\n",
    "        \"alpha_s\": alpha_s,\n",
    "        \"alpha_t\": alpha_t,\n",
    "        \"r_mlp\": r_mlp,\n",
    "        \"dropout_rate\": dropout_rate,\n",
    "        \"L_s\": L_s,\n",
    "        \"L_t\": L_t,\n",
    "    },\n",
    "    \"dataset_params\": {\n",
    "        \"subject_session_id\": lo_res_dataset.subject_session_id,\n",
    "        \"epoch_type\": lo_res_dataset.epoch_type,\n",
    "        \"split\": lo_res_dataset.split,\n",
    "        \"duration\": str((lo_res_dataset.before + lo_res_dataset.after) * 1000) + 'ms' if lo_res_dataset.epoch_type == 'around_evoked' else lo_res_dataset.fixed_length_duration,\n",
    "        \"batch_size\": batch_size,\n",
    "        \"random_state\": lo_res_dataset.random_state\n",
    "    },\n",
    "    \"optimizer_params\": {\n",
    "        \"optimizer\": \"Adam\",\n",
    "        \"learning_rate\": lr,\n",
    "        \"weight_decay\": weight_decay,\n",
    "        \"betas\": (beta_1, beta_2)\n",
    "    }\n",
    "}"
   ]
  },
  {
   "cell_type": "code",
   "execution_count": 18,
   "id": "8f2a24fd",
   "metadata": {},
   "outputs": [
    {
     "data": {
      "text/plain": [
       "==============================================================================================================\n",
       "Layer (type:depth-idx)                                                                Param #\n",
       "==============================================================================================================\n",
       "ESTFormer                                                                             204\n",
       "├─SigmaParameters: 1-1                                                                2\n",
       "├─SIM: 1-2                                                                            --\n",
       "│    └─Linear: 2-1                                                                    69,156\n",
       "│    └─LayerNorm: 2-2                                                                 408\n",
       "│    └─CAB: 2-3                                                                       --\n",
       "│    │    └─ModuleList: 3-1                                                           502,532\n",
       "│    └─MaskTokensInsert: 2-4                                                          --\n",
       "│    │    └─MaskTokenExpander: 3-2                                                    204\n",
       "│    └─Linear: 2-5                                                                    41,820\n",
       "│    └─CAB: 2-6                                                                       --\n",
       "│    │    └─ModuleList: 3-3                                                           522,982\n",
       "│    └─LayerNorm: 2-7                                                                 408\n",
       "│    └─Linear: 2-8                                                                    69,290\n",
       "├─TRM: 1-3                                                                            --\n",
       "│    └─Linear: 2-9                                                                    660\n",
       "│    └─SAB: 2-10                                                                      --\n",
       "│    │    └─ModuleList: 3-4                                                           6,094\n",
       "│    └─LayerNorm: 2-11                                                                676\n",
       "│    └─Linear: 2-12                                                                   506\n",
       "│    └─SAB: 2-13                                                                      --\n",
       "│    │    └─ModuleList: 3-5                                                           6,094\n",
       "│    └─LayerNorm: 2-14                                                                676\n",
       "│    └─Linear: 2-15                                                                   667\n",
       "├─LayerNorm: 1-4                                                                      19,604\n",
       "==============================================================================================================\n",
       "Total params: 1,241,983\n",
       "Trainable params: 1,241,983\n",
       "Non-trainable params: 0\n",
       "=============================================================================================================="
      ]
     },
     "execution_count": 18,
     "metadata": {},
     "output_type": "execute_result"
    }
   ],
   "source": [
    "model = ESTFormer(\n",
    "    device=device, \n",
    "    lr_channel_names=lr_channel_names,\n",
    "    hr_channel_names=hr_channel_names,\n",
    "    builtin_montage=builtin_montage,\n",
    "    time_steps=time_steps,\n",
    "    alpha_t=alpha_t,\n",
    "    alpha_s=alpha_s,\n",
    "    r_mlp=r_mlp,\n",
    "    dropout_rate=dropout_rate,\n",
    "    L_s=L_s,\n",
    "    L_t=L_t\n",
    ")\n",
    "\n",
    "summary(model)"
   ]
  },
  {
   "cell_type": "code",
   "execution_count": 19,
   "id": "d23025e8",
   "metadata": {},
   "outputs": [
    {
     "data": {
      "text/html": [
       "Tracking run with wandb version 0.19.11"
      ],
      "text/plain": [
       "<IPython.core.display.HTML object>"
      ]
     },
     "metadata": {},
     "output_type": "display_data"
    },
    {
     "data": {
      "text/html": [
       "Run data is saved locally in <code>/workspace/eeg-image-decoding/code/models/estformer/wandb/run-20250514_082732-9oqyr0wo</code>"
      ],
      "text/plain": [
       "<IPython.core.display.HTML object>"
      ]
     },
     "metadata": {},
     "output_type": "display_data"
    },
    {
     "data": {
      "text/html": [
       "Syncing run <strong><a href='https://wandb.ai/dubs2310-cal-poly-pomona/eeg-estformer/runs/9oqyr0wo' target=\"_blank\">silver-waterfall-102</a></strong> to <a href='https://wandb.ai/dubs2310-cal-poly-pomona/eeg-estformer' target=\"_blank\">Weights & Biases</a> (<a href='https://wandb.me/developer-guide' target=\"_blank\">docs</a>)<br>"
      ],
      "text/plain": [
       "<IPython.core.display.HTML object>"
      ]
     },
     "metadata": {},
     "output_type": "display_data"
    },
    {
     "data": {
      "text/html": [
       " View project at <a href='https://wandb.ai/dubs2310-cal-poly-pomona/eeg-estformer' target=\"_blank\">https://wandb.ai/dubs2310-cal-poly-pomona/eeg-estformer</a>"
      ],
      "text/plain": [
       "<IPython.core.display.HTML object>"
      ]
     },
     "metadata": {},
     "output_type": "display_data"
    },
    {
     "data": {
      "text/html": [
       " View run at <a href='https://wandb.ai/dubs2310-cal-poly-pomona/eeg-estformer/runs/9oqyr0wo' target=\"_blank\">https://wandb.ai/dubs2310-cal-poly-pomona/eeg-estformer/runs/9oqyr0wo</a>"
      ],
      "text/plain": [
       "<IPython.core.display.HTML object>"
      ]
     },
     "metadata": {},
     "output_type": "display_data"
    },
    {
     "name": "stdout",
     "output_type": "stream",
     "text": [
      "No checkpoint found at cpoints/estformer_cross_PO_650ms_29_4_best.pt, starting from scratch\n"
     ]
    },
    {
     "name": "stderr",
     "output_type": "stream",
     "text": [
      "Epoch 1/100: 100%|██████████| 503/503 [00:14<00:00, 35.63it/s, loss=304.2400] \n",
      "                                                                                     "
     ]
    },
    {
     "name": "stdout",
     "output_type": "stream",
     "text": [
      "Epoch 1/100, train_loss: 317.7670val_loss: 280.2945sigma1: 1.0245, sigma2: 0.9749\n",
      "Saved best model checkpoint to cpoints/estformer_cross_PO_650ms_29_4_best.pt\n"
     ]
    },
    {
     "name": "stderr",
     "output_type": "stream",
     "text": [
      "Epoch 2/100: 100%|██████████| 503/503 [00:14<00:00, 35.49it/s, loss=220.2395]\n",
      "                                                                                     "
     ]
    },
    {
     "name": "stdout",
     "output_type": "stream",
     "text": [
      "Epoch 2/100, train_loss: 273.3134val_loss: 254.6649sigma1: 1.0489, sigma2: 0.9498\n",
      "Saved best model checkpoint to cpoints/estformer_cross_PO_650ms_29_4_best.pt\n"
     ]
    },
    {
     "name": "stderr",
     "output_type": "stream",
     "text": [
      "Epoch 3/100: 100%|██████████| 503/503 [00:13<00:00, 36.98it/s, loss=202.8948]\n",
      "                                                                                     "
     ]
    },
    {
     "name": "stdout",
     "output_type": "stream",
     "text": [
      "Epoch 3/100, train_loss: 249.9472val_loss: 234.6858sigma1: 1.0734, sigma2: 0.9247\n",
      "Saved best model checkpoint to cpoints/estformer_cross_PO_650ms_29_4_best.pt\n"
     ]
    },
    {
     "name": "stderr",
     "output_type": "stream",
     "text": [
      "Epoch 4/100: 100%|██████████| 503/503 [00:13<00:00, 36.19it/s, loss=208.6299]\n",
      "                                                                                     "
     ]
    },
    {
     "name": "stdout",
     "output_type": "stream",
     "text": [
      "Epoch 4/100, train_loss: 231.6115val_loss: 218.6862sigma1: 1.0977, sigma2: 0.8998\n",
      "Saved best model checkpoint to cpoints/estformer_cross_PO_650ms_29_4_best.pt\n"
     ]
    },
    {
     "name": "stderr",
     "output_type": "stream",
     "text": [
      "Epoch 5/100: 100%|██████████| 503/503 [00:14<00:00, 34.58it/s, loss=384.7599]\n",
      "                                                                                     "
     ]
    },
    {
     "name": "stdout",
     "output_type": "stream",
     "text": [
      "Epoch 5/100, train_loss: 216.5834val_loss: 204.9328sigma1: 1.1221, sigma2: 0.8749\n",
      "Saved best model checkpoint to cpoints/estformer_cross_PO_650ms_29_4_best.pt\n"
     ]
    },
    {
     "name": "stderr",
     "output_type": "stream",
     "text": [
      "Epoch 6/100: 100%|██████████| 503/503 [00:13<00:00, 37.08it/s, loss=176.3053]\n",
      "                                                                                     "
     ]
    },
    {
     "name": "stdout",
     "output_type": "stream",
     "text": [
      "Epoch 6/100, train_loss: 203.3083val_loss: 192.4124sigma1: 1.1465, sigma2: 0.8501\n",
      "Saved best model checkpoint to cpoints/estformer_cross_PO_650ms_29_4_best.pt\n"
     ]
    },
    {
     "name": "stderr",
     "output_type": "stream",
     "text": [
      "Epoch 7/100: 100%|██████████| 503/503 [00:14<00:00, 35.07it/s, loss=144.5660]\n",
      "                                                                                     "
     ]
    },
    {
     "name": "stdout",
     "output_type": "stream",
     "text": [
      "Epoch 7/100, train_loss: 191.1351val_loss: 180.8562sigma1: 1.1708, sigma2: 0.8259\n",
      "Saved best model checkpoint to cpoints/estformer_cross_PO_650ms_29_4_best.pt\n"
     ]
    },
    {
     "name": "stderr",
     "output_type": "stream",
     "text": [
      "Epoch 8/100: 100%|██████████| 503/503 [00:13<00:00, 36.66it/s, loss=156.8310]\n",
      "                                                                                     "
     ]
    },
    {
     "name": "stdout",
     "output_type": "stream",
     "text": [
      "Epoch 8/100, train_loss: 179.8860val_loss: 170.3008sigma1: 1.1950, sigma2: 0.8032\n",
      "Saved best model checkpoint to cpoints/estformer_cross_PO_650ms_29_4_best.pt\n"
     ]
    },
    {
     "name": "stderr",
     "output_type": "stream",
     "text": [
      "Epoch 9/100: 100%|██████████| 503/503 [00:14<00:00, 34.64it/s, loss=172.4266]\n",
      "                                                                                     "
     ]
    },
    {
     "name": "stdout",
     "output_type": "stream",
     "text": [
      "Epoch 9/100, train_loss: 169.5222val_loss: 160.3681sigma1: 1.2193, sigma2: 0.7867\n",
      "Saved best model checkpoint to cpoints/estformer_cross_PO_650ms_29_4_best.pt\n"
     ]
    },
    {
     "name": "stderr",
     "output_type": "stream",
     "text": [
      "Epoch 10/100: 100%|██████████| 503/503 [00:13<00:00, 38.49it/s, loss=181.8228]\n",
      "                                                                                     "
     ]
    },
    {
     "name": "stdout",
     "output_type": "stream",
     "text": [
      "Epoch 10/100, train_loss: 159.9301val_loss: 151.3405sigma1: 1.2436, sigma2: 0.7785\n",
      "Saved best model checkpoint to cpoints/estformer_cross_PO_650ms_29_4_best.pt\n"
     ]
    },
    {
     "name": "stderr",
     "output_type": "stream",
     "text": [
      "Epoch 11/100: 100%|██████████| 503/503 [00:12<00:00, 39.19it/s, loss=139.4223]\n",
      "                                                                                     "
     ]
    },
    {
     "name": "stdout",
     "output_type": "stream",
     "text": [
      "Epoch 11/100, train_loss: 151.0899val_loss: 143.0270sigma1: 1.2678, sigma2: 0.7734\n",
      "Saved best model checkpoint to cpoints/estformer_cross_PO_650ms_29_4_best.pt\n"
     ]
    },
    {
     "name": "stderr",
     "output_type": "stream",
     "text": [
      "Epoch 12/100: 100%|██████████| 503/503 [00:13<00:00, 38.27it/s, loss=137.4565]\n",
      "                                                                                     "
     ]
    },
    {
     "name": "stdout",
     "output_type": "stream",
     "text": [
      "Epoch 12/100, train_loss: 142.8230val_loss: 135.2874sigma1: 1.2921, sigma2: 0.7689\n",
      "Saved best model checkpoint to cpoints/estformer_cross_PO_650ms_29_4_best.pt\n"
     ]
    },
    {
     "name": "stderr",
     "output_type": "stream",
     "text": [
      "Epoch 13/100: 100%|██████████| 503/503 [00:13<00:00, 37.17it/s, loss=125.1593]\n",
      "                                                                                     "
     ]
    },
    {
     "name": "stdout",
     "output_type": "stream",
     "text": [
      "Epoch 13/100, train_loss: 135.2507val_loss: 128.0681sigma1: 1.3160, sigma2: 0.7635\n",
      "Saved best model checkpoint to cpoints/estformer_cross_PO_650ms_29_4_best.pt\n"
     ]
    },
    {
     "name": "stderr",
     "output_type": "stream",
     "text": [
      "Epoch 14/100: 100%|██████████| 503/503 [00:13<00:00, 36.34it/s, loss=112.0539]\n",
      "                                                                                     "
     ]
    },
    {
     "name": "stdout",
     "output_type": "stream",
     "text": [
      "Epoch 14/100, train_loss: 128.1970val_loss: 121.4492sigma1: 1.3401, sigma2: 0.7587\n",
      "Saved best model checkpoint to cpoints/estformer_cross_PO_650ms_29_4_best.pt\n"
     ]
    },
    {
     "name": "stderr",
     "output_type": "stream",
     "text": [
      "Epoch 15/100: 100%|██████████| 503/503 [00:13<00:00, 37.11it/s, loss=121.9114]\n",
      "                                                                                     "
     ]
    },
    {
     "name": "stdout",
     "output_type": "stream",
     "text": [
      "Epoch 15/100, train_loss: 121.7329val_loss: 115.2329sigma1: 1.3643, sigma2: 0.7537\n",
      "Saved best model checkpoint to cpoints/estformer_cross_PO_650ms_29_4_best.pt\n"
     ]
    },
    {
     "name": "stderr",
     "output_type": "stream",
     "text": [
      "Epoch 16/100: 100%|██████████| 503/503 [00:13<00:00, 36.46it/s, loss=570.6448]\n",
      "                                                                                     "
     ]
    },
    {
     "name": "stdout",
     "output_type": "stream",
     "text": [
      "Epoch 16/100, train_loss: 115.5281val_loss: 109.5615sigma1: 1.3887, sigma2: 0.7499\n",
      "Saved best model checkpoint to cpoints/estformer_cross_PO_650ms_29_4_best.pt\n"
     ]
    },
    {
     "name": "stderr",
     "output_type": "stream",
     "text": [
      "Epoch 17/100: 100%|██████████| 503/503 [00:13<00:00, 35.95it/s, loss=96.4548] \n",
      "                                                                                     "
     ]
    },
    {
     "name": "stdout",
     "output_type": "stream",
     "text": [
      "Epoch 17/100, train_loss: 109.9614val_loss: 104.3007sigma1: 1.4124, sigma2: 0.7456\n",
      "Saved best model checkpoint to cpoints/estformer_cross_PO_650ms_29_4_best.pt\n"
     ]
    },
    {
     "name": "stderr",
     "output_type": "stream",
     "text": [
      "Epoch 18/100: 100%|██████████| 503/503 [00:13<00:00, 36.89it/s, loss=111.4893]\n",
      "                                                                                     "
     ]
    },
    {
     "name": "stdout",
     "output_type": "stream",
     "text": [
      "Epoch 18/100, train_loss: 104.7484val_loss: 99.3384sigma1: 1.4364, sigma2: 0.7410\n",
      "Saved best model checkpoint to cpoints/estformer_cross_PO_650ms_29_4_best.pt\n"
     ]
    },
    {
     "name": "stderr",
     "output_type": "stream",
     "text": [
      "Epoch 19/100: 100%|██████████| 503/503 [00:14<00:00, 34.86it/s, loss=88.6118] \n",
      "                                                                                     "
     ]
    },
    {
     "name": "stdout",
     "output_type": "stream",
     "text": [
      "Epoch 19/100, train_loss: 99.9506val_loss: 94.8304sigma1: 1.4604, sigma2: 0.7367\n",
      "Saved best model checkpoint to cpoints/estformer_cross_PO_650ms_29_4_best.pt\n"
     ]
    },
    {
     "name": "stderr",
     "output_type": "stream",
     "text": [
      "Epoch 20/100: 100%|██████████| 503/503 [00:13<00:00, 36.75it/s, loss=96.8985] \n",
      "                                                                                     "
     ]
    },
    {
     "name": "stdout",
     "output_type": "stream",
     "text": [
      "Epoch 20/100, train_loss: 95.4787val_loss: 90.6214sigma1: 1.4843, sigma2: 0.7317\n",
      "Saved best model checkpoint to cpoints/estformer_cross_PO_650ms_29_4_best.pt\n"
     ]
    },
    {
     "name": "stderr",
     "output_type": "stream",
     "text": [
      "Epoch 21/100: 100%|██████████| 503/503 [00:14<00:00, 34.52it/s, loss=91.0843] \n",
      "                                                                                     "
     ]
    },
    {
     "name": "stdout",
     "output_type": "stream",
     "text": [
      "Epoch 21/100, train_loss: 91.3198val_loss: 86.6371sigma1: 1.5083, sigma2: 0.7281\n",
      "Saved best model checkpoint to cpoints/estformer_cross_PO_650ms_29_4_best.pt\n"
     ]
    },
    {
     "name": "stderr",
     "output_type": "stream",
     "text": [
      "Epoch 22/100: 100%|██████████| 503/503 [00:13<00:00, 37.12it/s, loss=86.7594] \n",
      "                                                                                     "
     ]
    },
    {
     "name": "stdout",
     "output_type": "stream",
     "text": [
      "Epoch 22/100, train_loss: 87.5016val_loss: 83.0538sigma1: 1.5321, sigma2: 0.7244\n",
      "Saved best model checkpoint to cpoints/estformer_cross_PO_650ms_29_4_best.pt\n"
     ]
    },
    {
     "name": "stderr",
     "output_type": "stream",
     "text": [
      "Epoch 23/100: 100%|██████████| 503/503 [00:13<00:00, 38.14it/s, loss=77.1273] \n",
      "                                                                                     "
     ]
    },
    {
     "name": "stdout",
     "output_type": "stream",
     "text": [
      "Epoch 23/100, train_loss: 83.9349val_loss: 79.7151sigma1: 1.5559, sigma2: 0.7205\n",
      "Saved best model checkpoint to cpoints/estformer_cross_PO_650ms_29_4_best.pt\n"
     ]
    },
    {
     "name": "stderr",
     "output_type": "stream",
     "text": [
      "Epoch 24/100: 100%|██████████| 503/503 [00:13<00:00, 37.84it/s, loss=79.2603] \n",
      "                                                                                     "
     ]
    },
    {
     "name": "stdout",
     "output_type": "stream",
     "text": [
      "Epoch 24/100, train_loss: 80.6524val_loss: 76.6171sigma1: 1.5797, sigma2: 0.7168\n",
      "Saved best model checkpoint to cpoints/estformer_cross_PO_650ms_29_4_best.pt\n"
     ]
    },
    {
     "name": "stderr",
     "output_type": "stream",
     "text": [
      "Epoch 25/100: 100%|██████████| 503/503 [00:13<00:00, 36.72it/s, loss=80.7562] \n",
      "                                                                                     "
     ]
    },
    {
     "name": "stdout",
     "output_type": "stream",
     "text": [
      "Epoch 25/100, train_loss: 77.5934val_loss: 73.7386sigma1: 1.6035, sigma2: 0.7137\n",
      "Saved best model checkpoint to cpoints/estformer_cross_PO_650ms_29_4_best.pt\n"
     ]
    },
    {
     "name": "stderr",
     "output_type": "stream",
     "text": [
      "Epoch 26/100: 100%|██████████| 503/503 [00:13<00:00, 36.06it/s, loss=65.7850] \n",
      "                                                                                     "
     ]
    },
    {
     "name": "stdout",
     "output_type": "stream",
     "text": [
      "Epoch 26/100, train_loss: 74.7615val_loss: 71.1038sigma1: 1.6274, sigma2: 0.7106\n",
      "Saved best model checkpoint to cpoints/estformer_cross_PO_650ms_29_4_best.pt\n"
     ]
    },
    {
     "name": "stderr",
     "output_type": "stream",
     "text": [
      "Epoch 27/100: 100%|██████████| 503/503 [00:12<00:00, 38.75it/s, loss=72.0824] \n",
      "                                                                                     "
     ]
    },
    {
     "name": "stdout",
     "output_type": "stream",
     "text": [
      "Epoch 27/100, train_loss: 72.1327val_loss: 68.6585sigma1: 1.6512, sigma2: 0.7082\n",
      "Saved best model checkpoint to cpoints/estformer_cross_PO_650ms_29_4_best.pt\n"
     ]
    },
    {
     "name": "stderr",
     "output_type": "stream",
     "text": [
      "Epoch 28/100: 100%|██████████| 503/503 [00:13<00:00, 38.43it/s, loss=54.8439]\n",
      "                                                                                     "
     ]
    },
    {
     "name": "stdout",
     "output_type": "stream",
     "text": [
      "Epoch 28/100, train_loss: 69.6950val_loss: 66.4316sigma1: 1.6752, sigma2: 0.7058\n",
      "Saved best model checkpoint to cpoints/estformer_cross_PO_650ms_29_4_best.pt\n"
     ]
    },
    {
     "name": "stderr",
     "output_type": "stream",
     "text": [
      "Epoch 29/100: 100%|██████████| 503/503 [00:13<00:00, 37.80it/s, loss=68.2896]\n",
      "                                                                                     "
     ]
    },
    {
     "name": "stdout",
     "output_type": "stream",
     "text": [
      "Epoch 29/100, train_loss: 67.4658val_loss: 64.3483sigma1: 1.6988, sigma2: 0.7038\n",
      "Saved best model checkpoint to cpoints/estformer_cross_PO_650ms_29_4_best.pt\n"
     ]
    },
    {
     "name": "stderr",
     "output_type": "stream",
     "text": [
      "Epoch 30/100: 100%|██████████| 503/503 [00:14<00:00, 35.89it/s, loss=55.3739] \n",
      "                                                                                     "
     ]
    },
    {
     "name": "stdout",
     "output_type": "stream",
     "text": [
      "Epoch 30/100, train_loss: 65.4628val_loss: 62.4831sigma1: 1.7226, sigma2: 0.7019\n",
      "Saved best model checkpoint to cpoints/estformer_cross_PO_650ms_29_4_best.pt\n"
     ]
    },
    {
     "name": "stderr",
     "output_type": "stream",
     "text": [
      "Epoch 31/100: 100%|██████████| 503/503 [00:13<00:00, 38.18it/s, loss=60.3823] \n",
      "                                                                                     "
     ]
    },
    {
     "name": "stdout",
     "output_type": "stream",
     "text": [
      "Epoch 31/100, train_loss: 63.5532val_loss: 60.7291sigma1: 1.7463, sigma2: 0.7003\n",
      "Saved best model checkpoint to cpoints/estformer_cross_PO_650ms_29_4_best.pt\n"
     ]
    },
    {
     "name": "stderr",
     "output_type": "stream",
     "text": [
      "Epoch 32/100: 100%|██████████| 503/503 [00:13<00:00, 37.44it/s, loss=69.3772] \n",
      "                                                                                     "
     ]
    },
    {
     "name": "stdout",
     "output_type": "stream",
     "text": [
      "Epoch 32/100, train_loss: 61.8805val_loss: 59.2364sigma1: 1.7701, sigma2: 0.6997\n",
      "Saved best model checkpoint to cpoints/estformer_cross_PO_650ms_29_4_best.pt\n"
     ]
    },
    {
     "name": "stderr",
     "output_type": "stream",
     "text": [
      "Epoch 33/100: 100%|██████████| 503/503 [00:11<00:00, 42.36it/s, loss=49.9974] \n",
      "                                                                                     "
     ]
    },
    {
     "name": "stdout",
     "output_type": "stream",
     "text": [
      "Epoch 33/100, train_loss: 60.2747val_loss: 57.7814sigma1: 1.7939, sigma2: 0.6990\n",
      "Saved best model checkpoint to cpoints/estformer_cross_PO_650ms_29_4_best.pt\n"
     ]
    },
    {
     "name": "stderr",
     "output_type": "stream",
     "text": [
      "Epoch 34/100: 100%|██████████| 503/503 [00:13<00:00, 38.30it/s, loss=65.1100]\n",
      "                                                                                     "
     ]
    },
    {
     "name": "stdout",
     "output_type": "stream",
     "text": [
      "Epoch 34/100, train_loss: 58.8591val_loss: 56.3799sigma1: 1.8177, sigma2: 0.6985\n",
      "Saved best model checkpoint to cpoints/estformer_cross_PO_650ms_29_4_best.pt\n"
     ]
    },
    {
     "name": "stderr",
     "output_type": "stream",
     "text": [
      "Epoch 35/100: 100%|██████████| 503/503 [00:13<00:00, 38.31it/s, loss=53.6818]\n",
      "                                                                                     "
     ]
    },
    {
     "name": "stdout",
     "output_type": "stream",
     "text": [
      "Epoch 35/100, train_loss: 57.5826val_loss: 55.2447sigma1: 1.8414, sigma2: 0.6993\n",
      "Saved best model checkpoint to cpoints/estformer_cross_PO_650ms_29_4_best.pt\n"
     ]
    },
    {
     "name": "stderr",
     "output_type": "stream",
     "text": [
      "Epoch 36/100: 100%|██████████| 503/503 [00:14<00:00, 34.56it/s, loss=60.0667]\n",
      "                                                                                     "
     ]
    },
    {
     "name": "stdout",
     "output_type": "stream",
     "text": [
      "Epoch 36/100, train_loss: 56.4336val_loss: 54.1930sigma1: 1.8653, sigma2: 0.7000\n",
      "Saved best model checkpoint to cpoints/estformer_cross_PO_650ms_29_4_best.pt\n"
     ]
    },
    {
     "name": "stderr",
     "output_type": "stream",
     "text": [
      "Epoch 37/100: 100%|██████████| 503/503 [00:13<00:00, 37.99it/s, loss=43.5967]\n",
      "                                                                                     "
     ]
    },
    {
     "name": "stdout",
     "output_type": "stream",
     "text": [
      "Epoch 37/100, train_loss: 55.4289val_loss: 53.2937sigma1: 1.8890, sigma2: 0.7011\n",
      "Saved best model checkpoint to cpoints/estformer_cross_PO_650ms_29_4_best.pt\n"
     ]
    },
    {
     "name": "stderr",
     "output_type": "stream",
     "text": [
      "Epoch 38/100: 100%|██████████| 503/503 [00:16<00:00, 31.09it/s, loss=59.3675]\n",
      "                                                                                     "
     ]
    },
    {
     "name": "stdout",
     "output_type": "stream",
     "text": [
      "Epoch 38/100, train_loss: 54.5359val_loss: 52.5604sigma1: 1.9128, sigma2: 0.7024\n",
      "Saved best model checkpoint to cpoints/estformer_cross_PO_650ms_29_4_best.pt\n"
     ]
    },
    {
     "name": "stderr",
     "output_type": "stream",
     "text": [
      "Epoch 39/100: 100%|██████████| 503/503 [00:15<00:00, 32.04it/s, loss=51.5480] \n",
      "                                                                                     "
     ]
    },
    {
     "name": "stdout",
     "output_type": "stream",
     "text": [
      "Epoch 39/100, train_loss: 53.7905val_loss: 51.8116sigma1: 1.9366, sigma2: 0.7035\n",
      "Saved best model checkpoint to cpoints/estformer_cross_PO_650ms_29_4_best.pt\n"
     ]
    },
    {
     "name": "stderr",
     "output_type": "stream",
     "text": [
      "Epoch 40/100: 100%|██████████| 503/503 [00:16<00:00, 29.98it/s, loss=42.6083] \n",
      "                                                                                     "
     ]
    },
    {
     "name": "stdout",
     "output_type": "stream",
     "text": [
      "Epoch 40/100, train_loss: 52.8525val_loss: 50.7244sigma1: 1.9605, sigma2: 0.7048\n",
      "Saved best model checkpoint to cpoints/estformer_cross_PO_650ms_29_4_best.pt\n"
     ]
    },
    {
     "name": "stderr",
     "output_type": "stream",
     "text": [
      "Epoch 41/100: 100%|██████████| 503/503 [00:15<00:00, 32.27it/s, loss=120.5758]\n",
      "                                                                                     "
     ]
    },
    {
     "name": "stdout",
     "output_type": "stream",
     "text": [
      "Epoch 41/100, train_loss: 51.5372val_loss: 49.3863sigma1: 1.9843, sigma2: 0.7046\n",
      "Saved best model checkpoint to cpoints/estformer_cross_PO_650ms_29_4_best.pt\n"
     ]
    },
    {
     "name": "stderr",
     "output_type": "stream",
     "text": [
      "Epoch 42/100: 100%|██████████| 503/503 [00:16<00:00, 29.88it/s, loss=39.5275]\n",
      "                                                                                     "
     ]
    },
    {
     "name": "stdout",
     "output_type": "stream",
     "text": [
      "Epoch 42/100, train_loss: 50.2766val_loss: 48.2777sigma1: 2.0080, sigma2: 0.7047\n",
      "Saved best model checkpoint to cpoints/estformer_cross_PO_650ms_29_4_best.pt\n"
     ]
    },
    {
     "name": "stderr",
     "output_type": "stream",
     "text": [
      "Epoch 43/100: 100%|██████████| 503/503 [00:14<00:00, 34.81it/s, loss=49.3790]\n",
      "                                                                                     "
     ]
    },
    {
     "name": "stdout",
     "output_type": "stream",
     "text": [
      "Epoch 43/100, train_loss: 49.1418val_loss: 47.2229sigma1: 2.0316, sigma2: 0.7044\n",
      "Saved best model checkpoint to cpoints/estformer_cross_PO_650ms_29_4_best.pt\n"
     ]
    },
    {
     "name": "stderr",
     "output_type": "stream",
     "text": [
      "Epoch 44/100: 100%|██████████| 503/503 [00:14<00:00, 35.79it/s, loss=56.1108] \n",
      "                                                                                     "
     ]
    },
    {
     "name": "stdout",
     "output_type": "stream",
     "text": [
      "Epoch 44/100, train_loss: 48.0551val_loss: 46.1566sigma1: 2.0555, sigma2: 0.7045\n",
      "Saved best model checkpoint to cpoints/estformer_cross_PO_650ms_29_4_best.pt\n"
     ]
    },
    {
     "name": "stderr",
     "output_type": "stream",
     "text": [
      "Epoch 45/100: 100%|██████████| 503/503 [00:15<00:00, 31.48it/s, loss=50.9333]\n",
      "                                                                                     "
     ]
    },
    {
     "name": "stdout",
     "output_type": "stream",
     "text": [
      "Epoch 45/100, train_loss: 47.0014val_loss: 45.1870sigma1: 2.0792, sigma2: 0.7049\n",
      "Saved best model checkpoint to cpoints/estformer_cross_PO_650ms_29_4_best.pt\n"
     ]
    },
    {
     "name": "stderr",
     "output_type": "stream",
     "text": [
      "Epoch 46/100: 100%|██████████| 503/503 [00:16<00:00, 29.76it/s, loss=36.5172]\n",
      "                                                                                     "
     ]
    },
    {
     "name": "stdout",
     "output_type": "stream",
     "text": [
      "Epoch 46/100, train_loss: 46.0064val_loss: 44.1768sigma1: 2.1029, sigma2: 0.7049\n",
      "Saved best model checkpoint to cpoints/estformer_cross_PO_650ms_29_4_best.pt\n"
     ]
    },
    {
     "name": "stderr",
     "output_type": "stream",
     "text": [
      "Epoch 47/100: 100%|██████████| 503/503 [00:13<00:00, 36.38it/s, loss=42.1159] \n",
      "                                                                                     "
     ]
    },
    {
     "name": "stdout",
     "output_type": "stream",
     "text": [
      "Epoch 47/100, train_loss: 44.9975val_loss: 43.2449sigma1: 2.1267, sigma2: 0.7048\n",
      "Saved best model checkpoint to cpoints/estformer_cross_PO_650ms_29_4_best.pt\n"
     ]
    },
    {
     "name": "stderr",
     "output_type": "stream",
     "text": [
      "Epoch 48/100: 100%|██████████| 503/503 [00:15<00:00, 32.94it/s, loss=46.4510]\n",
      "                                                                                     "
     ]
    },
    {
     "name": "stdout",
     "output_type": "stream",
     "text": [
      "Epoch 48/100, train_loss: 44.0720val_loss: 42.3837sigma1: 2.1504, sigma2: 0.7048\n",
      "Saved best model checkpoint to cpoints/estformer_cross_PO_650ms_29_4_best.pt\n"
     ]
    },
    {
     "name": "stderr",
     "output_type": "stream",
     "text": [
      "Epoch 49/100: 100%|██████████| 503/503 [00:15<00:00, 31.79it/s, loss=41.0212]\n",
      "                                                                                     "
     ]
    },
    {
     "name": "stdout",
     "output_type": "stream",
     "text": [
      "Epoch 49/100, train_loss: 43.1439val_loss: 41.4835sigma1: 2.1740, sigma2: 0.7051\n",
      "Saved best model checkpoint to cpoints/estformer_cross_PO_650ms_29_4_best.pt\n"
     ]
    },
    {
     "name": "stderr",
     "output_type": "stream",
     "text": [
      "Epoch 50/100: 100%|██████████| 503/503 [00:13<00:00, 38.07it/s, loss=52.5302] \n",
      "                                                                                     "
     ]
    },
    {
     "name": "stdout",
     "output_type": "stream",
     "text": [
      "Epoch 50/100, train_loss: 42.2698val_loss: 40.6204sigma1: 2.1978, sigma2: 0.7048\n",
      "Saved best model checkpoint to cpoints/estformer_cross_PO_650ms_29_4_best.pt\n"
     ]
    },
    {
     "name": "stderr",
     "output_type": "stream",
     "text": [
      "Epoch 51/100: 100%|██████████| 503/503 [00:13<00:00, 36.76it/s, loss=38.1217]\n",
      "                                                                                     "
     ]
    },
    {
     "name": "stdout",
     "output_type": "stream",
     "text": [
      "Epoch 51/100, train_loss: 41.3898val_loss: 39.8009sigma1: 2.2217, sigma2: 0.7053\n",
      "Saved best model checkpoint to cpoints/estformer_cross_PO_650ms_29_4_best.pt\n"
     ]
    },
    {
     "name": "stderr",
     "output_type": "stream",
     "text": [
      "Epoch 52/100: 100%|██████████| 503/503 [00:14<00:00, 35.28it/s, loss=28.8769] \n",
      "                                                                                     "
     ]
    },
    {
     "name": "stdout",
     "output_type": "stream",
     "text": [
      "Epoch 52/100, train_loss: 40.5733val_loss: 39.0304sigma1: 2.2455, sigma2: 0.7048\n",
      "Saved best model checkpoint to cpoints/estformer_cross_PO_650ms_29_4_best.pt\n"
     ]
    },
    {
     "name": "stderr",
     "output_type": "stream",
     "text": [
      "Epoch 53/100: 100%|██████████| 503/503 [00:13<00:00, 36.86it/s, loss=42.0480]\n",
      "                                                                                     "
     ]
    },
    {
     "name": "stdout",
     "output_type": "stream",
     "text": [
      "Epoch 53/100, train_loss: 39.7755val_loss: 38.2463sigma1: 2.2692, sigma2: 0.7047\n",
      "Saved best model checkpoint to cpoints/estformer_cross_PO_650ms_29_4_best.pt\n"
     ]
    },
    {
     "name": "stderr",
     "output_type": "stream",
     "text": [
      "Epoch 54/100: 100%|██████████| 503/503 [00:14<00:00, 35.08it/s, loss=44.1699] \n",
      "                                                                                     "
     ]
    },
    {
     "name": "stdout",
     "output_type": "stream",
     "text": [
      "Epoch 54/100, train_loss: 38.9917val_loss: 37.4983sigma1: 2.2931, sigma2: 0.7046\n",
      "Saved best model checkpoint to cpoints/estformer_cross_PO_650ms_29_4_best.pt\n"
     ]
    },
    {
     "name": "stderr",
     "output_type": "stream",
     "text": [
      "Epoch 55/100: 100%|██████████| 503/503 [00:13<00:00, 37.71it/s, loss=45.2302]\n",
      "                                                                                     "
     ]
    },
    {
     "name": "stdout",
     "output_type": "stream",
     "text": [
      "Epoch 55/100, train_loss: 38.2367val_loss: 36.7595sigma1: 2.3169, sigma2: 0.7047\n",
      "Saved best model checkpoint to cpoints/estformer_cross_PO_650ms_29_4_best.pt\n"
     ]
    },
    {
     "name": "stderr",
     "output_type": "stream",
     "text": [
      "Epoch 56/100: 100%|██████████| 503/503 [00:13<00:00, 38.16it/s, loss=47.4319]\n",
      "                                                                                     "
     ]
    },
    {
     "name": "stdout",
     "output_type": "stream",
     "text": [
      "Epoch 56/100, train_loss: 37.4786val_loss: 36.0584sigma1: 2.3407, sigma2: 0.7053\n",
      "Saved best model checkpoint to cpoints/estformer_cross_PO_650ms_29_4_best.pt\n"
     ]
    },
    {
     "name": "stderr",
     "output_type": "stream",
     "text": [
      "Epoch 57/100: 100%|██████████| 503/503 [00:13<00:00, 36.84it/s, loss=59.1874]\n",
      "                                                                                     "
     ]
    },
    {
     "name": "stdout",
     "output_type": "stream",
     "text": [
      "Epoch 57/100, train_loss: 36.7825val_loss: 35.4138sigma1: 2.3644, sigma2: 0.7053\n",
      "Saved best model checkpoint to cpoints/estformer_cross_PO_650ms_29_4_best.pt\n"
     ]
    },
    {
     "name": "stderr",
     "output_type": "stream",
     "text": [
      "Epoch 58/100: 100%|██████████| 503/503 [00:13<00:00, 37.93it/s, loss=28.5416]\n",
      "                                                                                     "
     ]
    },
    {
     "name": "stdout",
     "output_type": "stream",
     "text": [
      "Epoch 58/100, train_loss: 36.0801val_loss: 34.7190sigma1: 2.3882, sigma2: 0.7050\n",
      "Saved best model checkpoint to cpoints/estformer_cross_PO_650ms_29_4_best.pt\n"
     ]
    },
    {
     "name": "stderr",
     "output_type": "stream",
     "text": [
      "Epoch 59/100: 100%|██████████| 503/503 [00:13<00:00, 36.67it/s, loss=31.7868]\n",
      "                                                                                     "
     ]
    },
    {
     "name": "stdout",
     "output_type": "stream",
     "text": [
      "Epoch 59/100, train_loss: 35.4228val_loss: 34.1072sigma1: 2.4118, sigma2: 0.7052\n",
      "Saved best model checkpoint to cpoints/estformer_cross_PO_650ms_29_4_best.pt\n"
     ]
    },
    {
     "name": "stderr",
     "output_type": "stream",
     "text": [
      "Epoch 60/100: 100%|██████████| 503/503 [00:13<00:00, 36.03it/s, loss=172.5744]\n",
      "                                                                                     "
     ]
    },
    {
     "name": "stdout",
     "output_type": "stream",
     "text": [
      "Epoch 60/100, train_loss: 34.7650val_loss: 33.4767sigma1: 2.4358, sigma2: 0.7056\n",
      "Saved best model checkpoint to cpoints/estformer_cross_PO_650ms_29_4_best.pt\n"
     ]
    },
    {
     "name": "stderr",
     "output_type": "stream",
     "text": [
      "Epoch 61/100: 100%|██████████| 503/503 [00:13<00:00, 37.67it/s, loss=33.2567]\n",
      "                                                                                     "
     ]
    },
    {
     "name": "stdout",
     "output_type": "stream",
     "text": [
      "Epoch 61/100, train_loss: 34.1366val_loss: 32.8731sigma1: 2.4593, sigma2: 0.7049\n",
      "Saved best model checkpoint to cpoints/estformer_cross_PO_650ms_29_4_best.pt\n"
     ]
    },
    {
     "name": "stderr",
     "output_type": "stream",
     "text": [
      "Epoch 62/100: 100%|██████████| 503/503 [00:13<00:00, 36.34it/s, loss=34.4309]\n",
      "                                                                                     "
     ]
    },
    {
     "name": "stdout",
     "output_type": "stream",
     "text": [
      "Epoch 62/100, train_loss: 33.5240val_loss: 32.2622sigma1: 2.4831, sigma2: 0.7051\n",
      "Saved best model checkpoint to cpoints/estformer_cross_PO_650ms_29_4_best.pt\n"
     ]
    },
    {
     "name": "stderr",
     "output_type": "stream",
     "text": [
      "Epoch 63/100: 100%|██████████| 503/503 [00:13<00:00, 37.15it/s, loss=27.7921]\n",
      "                                                                                     "
     ]
    },
    {
     "name": "stdout",
     "output_type": "stream",
     "text": [
      "Epoch 63/100, train_loss: 32.9276val_loss: 31.6989sigma1: 2.5069, sigma2: 0.7054\n",
      "Saved best model checkpoint to cpoints/estformer_cross_PO_650ms_29_4_best.pt\n"
     ]
    },
    {
     "name": "stderr",
     "output_type": "stream",
     "text": [
      "Epoch 64/100: 100%|██████████| 503/503 [00:12<00:00, 40.50it/s, loss=33.7612]\n",
      "                                                                                     "
     ]
    },
    {
     "name": "stdout",
     "output_type": "stream",
     "text": [
      "Epoch 64/100, train_loss: 32.3489val_loss: 31.1577sigma1: 2.5305, sigma2: 0.7056\n",
      "Saved best model checkpoint to cpoints/estformer_cross_PO_650ms_29_4_best.pt\n"
     ]
    },
    {
     "name": "stderr",
     "output_type": "stream",
     "text": [
      "Epoch 65/100: 100%|██████████| 503/503 [00:13<00:00, 37.89it/s, loss=34.0090] \n",
      "                                                                                     "
     ]
    },
    {
     "name": "stdout",
     "output_type": "stream",
     "text": [
      "Epoch 65/100, train_loss: 31.7844val_loss: 30.6313sigma1: 2.5543, sigma2: 0.7053\n",
      "Saved best model checkpoint to cpoints/estformer_cross_PO_650ms_29_4_best.pt\n"
     ]
    },
    {
     "name": "stderr",
     "output_type": "stream",
     "text": [
      "Epoch 66/100: 100%|██████████| 503/503 [00:13<00:00, 38.02it/s, loss=28.7714]\n",
      "                                                                                     "
     ]
    },
    {
     "name": "stdout",
     "output_type": "stream",
     "text": [
      "Epoch 66/100, train_loss: 31.2307val_loss: 30.0955sigma1: 2.5781, sigma2: 0.7055\n",
      "Saved best model checkpoint to cpoints/estformer_cross_PO_650ms_29_4_best.pt\n"
     ]
    },
    {
     "name": "stderr",
     "output_type": "stream",
     "text": [
      "Epoch 67/100: 100%|██████████| 503/503 [00:14<00:00, 35.53it/s, loss=24.5335]\n",
      "                                                                                     "
     ]
    },
    {
     "name": "stdout",
     "output_type": "stream",
     "text": [
      "Epoch 67/100, train_loss: 30.6927val_loss: 29.5925sigma1: 2.6018, sigma2: 0.7051\n",
      "Saved best model checkpoint to cpoints/estformer_cross_PO_650ms_29_4_best.pt\n"
     ]
    },
    {
     "name": "stderr",
     "output_type": "stream",
     "text": [
      "Epoch 68/100: 100%|██████████| 503/503 [00:13<00:00, 37.94it/s, loss=27.7263]\n",
      "                                                                                     "
     ]
    },
    {
     "name": "stdout",
     "output_type": "stream",
     "text": [
      "Epoch 68/100, train_loss: 30.1748val_loss: 29.0610sigma1: 2.6255, sigma2: 0.7055\n",
      "Saved best model checkpoint to cpoints/estformer_cross_PO_650ms_29_4_best.pt\n"
     ]
    },
    {
     "name": "stderr",
     "output_type": "stream",
     "text": [
      "Epoch 69/100: 100%|██████████| 503/503 [00:14<00:00, 35.87it/s, loss=25.7068] \n",
      "                                                                                     "
     ]
    },
    {
     "name": "stdout",
     "output_type": "stream",
     "text": [
      "Epoch 69/100, train_loss: 29.6652val_loss: 28.5748sigma1: 2.6493, sigma2: 0.7059\n",
      "Saved best model checkpoint to cpoints/estformer_cross_PO_650ms_29_4_best.pt\n"
     ]
    },
    {
     "name": "stderr",
     "output_type": "stream",
     "text": [
      "Epoch 70/100: 100%|██████████| 503/503 [00:14<00:00, 35.88it/s, loss=34.6868] \n",
      "                                                                                     "
     ]
    },
    {
     "name": "stdout",
     "output_type": "stream",
     "text": [
      "Epoch 70/100, train_loss: 29.1792val_loss: 28.1341sigma1: 2.6730, sigma2: 0.7061\n",
      "Saved best model checkpoint to cpoints/estformer_cross_PO_650ms_29_4_best.pt\n"
     ]
    },
    {
     "name": "stderr",
     "output_type": "stream",
     "text": [
      "Epoch 71/100: 100%|██████████| 503/503 [00:14<00:00, 35.60it/s, loss=20.5540]\n",
      "                                                                                     "
     ]
    },
    {
     "name": "stdout",
     "output_type": "stream",
     "text": [
      "Epoch 71/100, train_loss: 28.7001val_loss: 27.6687sigma1: 2.6967, sigma2: 0.7060\n",
      "Saved best model checkpoint to cpoints/estformer_cross_PO_650ms_29_4_best.pt\n"
     ]
    },
    {
     "name": "stderr",
     "output_type": "stream",
     "text": [
      "Epoch 72/100: 100%|██████████| 503/503 [00:13<00:00, 37.69it/s, loss=20.5973]\n",
      "                                                                                     "
     ]
    },
    {
     "name": "stdout",
     "output_type": "stream",
     "text": [
      "Epoch 72/100, train_loss: 28.2436val_loss: 27.2240sigma1: 2.7203, sigma2: 0.7059\n",
      "Saved best model checkpoint to cpoints/estformer_cross_PO_650ms_29_4_best.pt\n"
     ]
    },
    {
     "name": "stderr",
     "output_type": "stream",
     "text": [
      "Epoch 73/100: 100%|██████████| 503/503 [00:13<00:00, 36.75it/s, loss=23.6079]\n",
      "                                                                                     "
     ]
    },
    {
     "name": "stdout",
     "output_type": "stream",
     "text": [
      "Epoch 73/100, train_loss: 27.7824val_loss: 26.7789sigma1: 2.7440, sigma2: 0.7063\n",
      "Saved best model checkpoint to cpoints/estformer_cross_PO_650ms_29_4_best.pt\n"
     ]
    },
    {
     "name": "stderr",
     "output_type": "stream",
     "text": [
      "Epoch 74/100: 100%|██████████| 503/503 [00:13<00:00, 36.73it/s, loss=29.9279]\n",
      "                                                                                     "
     ]
    },
    {
     "name": "stdout",
     "output_type": "stream",
     "text": [
      "Epoch 74/100, train_loss: 27.3447val_loss: 26.3657sigma1: 2.7676, sigma2: 0.7061\n",
      "Saved best model checkpoint to cpoints/estformer_cross_PO_650ms_29_4_best.pt\n"
     ]
    },
    {
     "name": "stderr",
     "output_type": "stream",
     "text": [
      "Epoch 75/100: 100%|██████████| 503/503 [00:13<00:00, 36.10it/s, loss=24.8480]\n",
      "                                                                                     "
     ]
    },
    {
     "name": "stdout",
     "output_type": "stream",
     "text": [
      "Epoch 75/100, train_loss: 26.9216val_loss: 25.9623sigma1: 2.7915, sigma2: 0.7061\n",
      "Saved best model checkpoint to cpoints/estformer_cross_PO_650ms_29_4_best.pt\n"
     ]
    },
    {
     "name": "stderr",
     "output_type": "stream",
     "text": [
      "Epoch 76/100: 100%|██████████| 503/503 [00:13<00:00, 36.52it/s, loss=20.1359]\n",
      "                                                                                     "
     ]
    },
    {
     "name": "stdout",
     "output_type": "stream",
     "text": [
      "Epoch 76/100, train_loss: 26.4967val_loss: 25.5644sigma1: 2.8149, sigma2: 0.7063\n",
      "Saved best model checkpoint to cpoints/estformer_cross_PO_650ms_29_4_best.pt\n"
     ]
    },
    {
     "name": "stderr",
     "output_type": "stream",
     "text": [
      "Epoch 77/100: 100%|██████████| 503/503 [00:13<00:00, 36.53it/s, loss=24.6108] \n",
      "                                                                                     "
     ]
    },
    {
     "name": "stdout",
     "output_type": "stream",
     "text": [
      "Epoch 77/100, train_loss: 26.0942val_loss: 25.1792sigma1: 2.8386, sigma2: 0.7060\n",
      "Saved best model checkpoint to cpoints/estformer_cross_PO_650ms_29_4_best.pt\n"
     ]
    },
    {
     "name": "stderr",
     "output_type": "stream",
     "text": [
      "Epoch 78/100: 100%|██████████| 503/503 [00:14<00:00, 35.92it/s, loss=24.0132]\n",
      "                                                                                     "
     ]
    },
    {
     "name": "stdout",
     "output_type": "stream",
     "text": [
      "Epoch 78/100, train_loss: 25.6952val_loss: 24.7888sigma1: 2.8623, sigma2: 0.7061\n",
      "Saved best model checkpoint to cpoints/estformer_cross_PO_650ms_29_4_best.pt\n"
     ]
    },
    {
     "name": "stderr",
     "output_type": "stream",
     "text": [
      "Epoch 79/100: 100%|██████████| 503/503 [00:13<00:00, 37.73it/s, loss=28.0159]\n",
      "                                                                                     "
     ]
    },
    {
     "name": "stdout",
     "output_type": "stream",
     "text": [
      "Epoch 79/100, train_loss: 25.3165val_loss: 24.4186sigma1: 2.8859, sigma2: 0.7053\n",
      "Saved best model checkpoint to cpoints/estformer_cross_PO_650ms_29_4_best.pt\n"
     ]
    },
    {
     "name": "stderr",
     "output_type": "stream",
     "text": [
      "Epoch 80/100: 100%|██████████| 503/503 [00:13<00:00, 36.11it/s, loss=54.9887] \n",
      "                                                                                     "
     ]
    },
    {
     "name": "stdout",
     "output_type": "stream",
     "text": [
      "Epoch 80/100, train_loss: 24.9302val_loss: 24.0582sigma1: 2.9096, sigma2: 0.7062\n",
      "Saved best model checkpoint to cpoints/estformer_cross_PO_650ms_29_4_best.pt\n"
     ]
    },
    {
     "name": "stderr",
     "output_type": "stream",
     "text": [
      "Epoch 81/100: 100%|██████████| 503/503 [00:13<00:00, 35.95it/s, loss=19.6782]\n",
      "                                                                                     "
     ]
    },
    {
     "name": "stdout",
     "output_type": "stream",
     "text": [
      "Epoch 81/100, train_loss: 24.5635val_loss: 23.7464sigma1: 2.9331, sigma2: 0.7056\n",
      "Saved best model checkpoint to cpoints/estformer_cross_PO_650ms_29_4_best.pt\n"
     ]
    },
    {
     "name": "stderr",
     "output_type": "stream",
     "text": [
      "Epoch 82/100: 100%|██████████| 503/503 [00:13<00:00, 37.62it/s, loss=24.0572]\n",
      "                                                                                     "
     ]
    },
    {
     "name": "stdout",
     "output_type": "stream",
     "text": [
      "Epoch 82/100, train_loss: 24.2071val_loss: 23.3654sigma1: 2.9567, sigma2: 0.7057\n",
      "Saved best model checkpoint to cpoints/estformer_cross_PO_650ms_29_4_best.pt\n"
     ]
    },
    {
     "name": "stderr",
     "output_type": "stream",
     "text": [
      "Epoch 83/100: 100%|██████████| 503/503 [00:13<00:00, 36.68it/s, loss=22.5307]\n",
      "                                                                                     "
     ]
    },
    {
     "name": "stdout",
     "output_type": "stream",
     "text": [
      "Epoch 83/100, train_loss: 23.8607val_loss: 23.0212sigma1: 2.9803, sigma2: 0.7054\n",
      "Saved best model checkpoint to cpoints/estformer_cross_PO_650ms_29_4_best.pt\n"
     ]
    },
    {
     "name": "stderr",
     "output_type": "stream",
     "text": [
      "Epoch 84/100: 100%|██████████| 503/503 [00:12<00:00, 39.23it/s, loss=18.0341]\n",
      "                                                                                     "
     ]
    },
    {
     "name": "stdout",
     "output_type": "stream",
     "text": [
      "Epoch 84/100, train_loss: 23.5162val_loss: 22.6929sigma1: 3.0039, sigma2: 0.7055\n",
      "Saved best model checkpoint to cpoints/estformer_cross_PO_650ms_29_4_best.pt\n"
     ]
    },
    {
     "name": "stderr",
     "output_type": "stream",
     "text": [
      "Epoch 85/100: 100%|██████████| 503/503 [00:13<00:00, 36.81it/s, loss=20.1465]\n",
      "                                                                                     "
     ]
    },
    {
     "name": "stdout",
     "output_type": "stream",
     "text": [
      "Epoch 85/100, train_loss: 23.1819val_loss: 22.3866sigma1: 3.0275, sigma2: 0.7058\n",
      "Saved best model checkpoint to cpoints/estformer_cross_PO_650ms_29_4_best.pt\n"
     ]
    },
    {
     "name": "stderr",
     "output_type": "stream",
     "text": [
      "Epoch 86/100: 100%|██████████| 503/503 [00:14<00:00, 34.67it/s, loss=21.9455]\n",
      "                                                                                     "
     ]
    },
    {
     "name": "stdout",
     "output_type": "stream",
     "text": [
      "Epoch 86/100, train_loss: 22.8528val_loss: 22.0697sigma1: 3.0510, sigma2: 0.7060\n",
      "Saved best model checkpoint to cpoints/estformer_cross_PO_650ms_29_4_best.pt\n"
     ]
    },
    {
     "name": "stderr",
     "output_type": "stream",
     "text": [
      "Epoch 87/100: 100%|██████████| 503/503 [00:14<00:00, 34.62it/s, loss=19.1839]\n",
      "                                                                                     "
     ]
    },
    {
     "name": "stdout",
     "output_type": "stream",
     "text": [
      "Epoch 87/100, train_loss: 22.5382val_loss: 21.7707sigma1: 3.0746, sigma2: 0.7053\n",
      "Saved best model checkpoint to cpoints/estformer_cross_PO_650ms_29_4_best.pt\n"
     ]
    },
    {
     "name": "stderr",
     "output_type": "stream",
     "text": [
      "Epoch 88/100: 100%|██████████| 503/503 [00:13<00:00, 37.84it/s, loss=20.7502]\n",
      "                                                                                     "
     ]
    },
    {
     "name": "stdout",
     "output_type": "stream",
     "text": [
      "Epoch 88/100, train_loss: 22.2269val_loss: 21.4553sigma1: 3.0982, sigma2: 0.7057\n",
      "Saved best model checkpoint to cpoints/estformer_cross_PO_650ms_29_4_best.pt\n"
     ]
    },
    {
     "name": "stderr",
     "output_type": "stream",
     "text": [
      "Epoch 89/100: 100%|██████████| 503/503 [00:14<00:00, 34.22it/s, loss=25.8623]\n",
      "                                                                                     "
     ]
    },
    {
     "name": "stdout",
     "output_type": "stream",
     "text": [
      "Epoch 89/100, train_loss: 21.9195val_loss: 21.1922sigma1: 3.1217, sigma2: 0.7059\n",
      "Saved best model checkpoint to cpoints/estformer_cross_PO_650ms_29_4_best.pt\n"
     ]
    },
    {
     "name": "stderr",
     "output_type": "stream",
     "text": [
      "Epoch 90/100: 100%|██████████| 503/503 [00:13<00:00, 37.07it/s, loss=21.2842]\n",
      "                                                                                     "
     ]
    },
    {
     "name": "stdout",
     "output_type": "stream",
     "text": [
      "Epoch 90/100, train_loss: 21.6385val_loss: 20.8904sigma1: 3.1450, sigma2: 0.7055\n",
      "Saved best model checkpoint to cpoints/estformer_cross_PO_650ms_29_4_best.pt\n"
     ]
    },
    {
     "name": "stderr",
     "output_type": "stream",
     "text": [
      "Epoch 91/100: 100%|██████████| 503/503 [00:14<00:00, 33.90it/s, loss=21.8852]\n",
      "                                                                                     "
     ]
    },
    {
     "name": "stdout",
     "output_type": "stream",
     "text": [
      "Epoch 91/100, train_loss: 21.3434val_loss: 20.6141sigma1: 3.1685, sigma2: 0.7054\n",
      "Saved best model checkpoint to cpoints/estformer_cross_PO_650ms_29_4_best.pt\n"
     ]
    },
    {
     "name": "stderr",
     "output_type": "stream",
     "text": [
      "Epoch 92/100: 100%|██████████| 503/503 [00:12<00:00, 38.89it/s, loss=17.8108]\n",
      "                                                                                     "
     ]
    },
    {
     "name": "stdout",
     "output_type": "stream",
     "text": [
      "Epoch 92/100, train_loss: 21.0529val_loss: 20.3429sigma1: 3.1920, sigma2: 0.7063\n",
      "Saved best model checkpoint to cpoints/estformer_cross_PO_650ms_29_4_best.pt\n"
     ]
    },
    {
     "name": "stderr",
     "output_type": "stream",
     "text": [
      "Epoch 93/100: 100%|██████████| 503/503 [00:14<00:00, 35.23it/s, loss=16.2088]\n",
      "                                                                                     "
     ]
    },
    {
     "name": "stdout",
     "output_type": "stream",
     "text": [
      "Epoch 93/100, train_loss: 20.7752val_loss: 20.0747sigma1: 3.2156, sigma2: 0.7067\n",
      "Saved best model checkpoint to cpoints/estformer_cross_PO_650ms_29_4_best.pt\n"
     ]
    },
    {
     "name": "stderr",
     "output_type": "stream",
     "text": [
      "Epoch 94/100: 100%|██████████| 503/503 [00:13<00:00, 37.24it/s, loss=23.9461]\n",
      "                                                                                     "
     ]
    },
    {
     "name": "stdout",
     "output_type": "stream",
     "text": [
      "Epoch 94/100, train_loss: 20.5040val_loss: 19.8161sigma1: 3.2389, sigma2: 0.7061\n",
      "Saved best model checkpoint to cpoints/estformer_cross_PO_650ms_29_4_best.pt\n"
     ]
    },
    {
     "name": "stderr",
     "output_type": "stream",
     "text": [
      "Epoch 95/100: 100%|██████████| 503/503 [00:13<00:00, 37.34it/s, loss=22.4622] \n",
      "                                                                                     "
     ]
    },
    {
     "name": "stdout",
     "output_type": "stream",
     "text": [
      "Epoch 95/100, train_loss: 20.2410val_loss: 19.5569sigma1: 3.2624, sigma2: 0.7063\n",
      "Saved best model checkpoint to cpoints/estformer_cross_PO_650ms_29_4_best.pt\n"
     ]
    },
    {
     "name": "stderr",
     "output_type": "stream",
     "text": [
      "Epoch 96/100: 100%|██████████| 503/503 [00:13<00:00, 37.53it/s, loss=18.5244]\n",
      "                                                                                     "
     ]
    },
    {
     "name": "stdout",
     "output_type": "stream",
     "text": [
      "Epoch 96/100, train_loss: 19.9837val_loss: 19.3290sigma1: 3.2860, sigma2: 0.7056\n",
      "Saved best model checkpoint to cpoints/estformer_cross_PO_650ms_29_4_best.pt\n"
     ]
    },
    {
     "name": "stderr",
     "output_type": "stream",
     "text": [
      "Epoch 97/100: 100%|██████████| 503/503 [00:12<00:00, 38.72it/s, loss=15.5872]\n",
      "                                                                                     "
     ]
    },
    {
     "name": "stdout",
     "output_type": "stream",
     "text": [
      "Epoch 97/100, train_loss: 19.7247val_loss: 19.0733sigma1: 3.3097, sigma2: 0.7064\n",
      "Saved best model checkpoint to cpoints/estformer_cross_PO_650ms_29_4_best.pt\n"
     ]
    },
    {
     "name": "stderr",
     "output_type": "stream",
     "text": [
      "Epoch 98/100: 100%|██████████| 503/503 [00:13<00:00, 37.18it/s, loss=17.5223]\n",
      "                                                                                     "
     ]
    },
    {
     "name": "stdout",
     "output_type": "stream",
     "text": [
      "Epoch 98/100, train_loss: 19.4769val_loss: 18.8482sigma1: 3.3330, sigma2: 0.7065\n",
      "Saved best model checkpoint to cpoints/estformer_cross_PO_650ms_29_4_best.pt\n"
     ]
    },
    {
     "name": "stderr",
     "output_type": "stream",
     "text": [
      "Epoch 99/100: 100%|██████████| 503/503 [00:15<00:00, 32.54it/s, loss=15.5946]\n",
      "                                                                                     "
     ]
    },
    {
     "name": "stdout",
     "output_type": "stream",
     "text": [
      "Epoch 99/100, train_loss: 19.2414val_loss: 18.6019sigma1: 3.3563, sigma2: 0.7055\n",
      "Saved best model checkpoint to cpoints/estformer_cross_PO_650ms_29_4_best.pt\n"
     ]
    },
    {
     "name": "stderr",
     "output_type": "stream",
     "text": [
      "Epoch 100/100: 100%|██████████| 503/503 [00:13<00:00, 36.98it/s, loss=18.1324]\n",
      "                                                                                     "
     ]
    },
    {
     "name": "stdout",
     "output_type": "stream",
     "text": [
      "Epoch 100/100, train_loss: 19.0077val_loss: 18.3761sigma1: 3.3797, sigma2: 0.7063\n",
      "Saved best model checkpoint to cpoints/estformer_cross_PO_650ms_29_4_best.pt\n"
     ]
    },
    {
     "data": {
      "text/html": [],
      "text/plain": [
       "<IPython.core.display.HTML object>"
      ]
     },
     "metadata": {},
     "output_type": "display_data"
    },
    {
     "data": {
      "text/html": [
       "<br>    <style><br>        .wandb-row {<br>            display: flex;<br>            flex-direction: row;<br>            flex-wrap: wrap;<br>            justify-content: flex-start;<br>            width: 100%;<br>        }<br>        .wandb-col {<br>            display: flex;<br>            flex-direction: column;<br>            flex-basis: 100%;<br>            flex: 1;<br>            padding: 10px;<br>        }<br>    </style><br><div class=\"wandb-row\"><div class=\"wandb-col\"><h3>Run history:</h3><br/><table class=\"wandb\"><tr><td>epoch</td><td>▁▁▁▂▂▂▂▂▂▂▃▃▃▃▃▄▄▄▄▅▅▅▅▅▅▆▆▆▆▆▆▇▇▇▇▇▇▇██</td></tr><tr><td>sigma1</td><td>▁▁▂▂▂▂▂▂▂▃▃▃▃▃▃▄▄▄▄▄▅▅▅▅▅▅▆▆▆▆▆▇▇▇▇█████</td></tr><tr><td>sigma2</td><td>█▇▅▅▃▃▃▂▂▂▂▁▁▁▁▁▁▁▁▁▁▁▁▁▁▁▁▁▁▁▁▁▁▁▁▁▁▁▁▁</td></tr><tr><td>train_loss</td><td>█▇▆▆▅▄▃▃▂▂▂▂▂▂▂▂▂▂▂▁▁▁▁▁▁▁▁▁▁▁▁▁▁▁▁▁▁▁▁▁</td></tr><tr><td>val_loss</td><td>█▇▇▅▅▅▄▄▄▃▃▃▂▂▂▂▂▂▂▂▂▂▂▂▁▁▁▁▁▁▁▁▁▁▁▁▁▁▁▁</td></tr></table><br/></div><div class=\"wandb-col\"><h3>Run summary:</h3><br/><table class=\"wandb\"><tr><td>epoch</td><td>100</td></tr><tr><td>sigma1</td><td>3.37974</td></tr><tr><td>sigma2</td><td>0.70632</td></tr><tr><td>train_loss</td><td>19.00767</td></tr><tr><td>val_loss</td><td>18.37606</td></tr></table><br/></div></div>"
      ],
      "text/plain": [
       "<IPython.core.display.HTML object>"
      ]
     },
     "metadata": {},
     "output_type": "display_data"
    },
    {
     "data": {
      "text/html": [
       " View run <strong style=\"color:#cdcd00\">silver-waterfall-102</strong> at: <a href='https://wandb.ai/dubs2310-cal-poly-pomona/eeg-estformer/runs/9oqyr0wo' target=\"_blank\">https://wandb.ai/dubs2310-cal-poly-pomona/eeg-estformer/runs/9oqyr0wo</a><br> View project at: <a href='https://wandb.ai/dubs2310-cal-poly-pomona/eeg-estformer' target=\"_blank\">https://wandb.ai/dubs2310-cal-poly-pomona/eeg-estformer</a><br>Synced 5 W&B file(s), 0 media file(s), 0 artifact file(s) and 1 other file(s)"
      ],
      "text/plain": [
       "<IPython.core.display.HTML object>"
      ]
     },
     "metadata": {},
     "output_type": "display_data"
    },
    {
     "data": {
      "text/html": [
       "Find logs at: <code>./wandb/run-20250514_082732-9oqyr0wo/logs</code>"
      ],
      "text/plain": [
       "<IPython.core.display.HTML object>"
      ]
     },
     "metadata": {},
     "output_type": "display_data"
    }
   ],
   "source": [
    "# Create optimizer with both model and sigma parameters\n",
    "optimizer = optim.Adam(\n",
    "    params=[{'params': model.parameters()}], \n",
    "    lr=lr,\n",
    "    weight_decay=weight_decay,\n",
    "    betas=(beta_1, beta_2)\n",
    ")\n",
    "\n",
    "with wandb.init(project=\"eeg-estformer\", config=config) as run:\n",
    "    history = model.fit(\n",
    "        epochs=100,\n",
    "        lo_res_loader=lo_res_loader,\n",
    "        hi_res_loader=hi_res_loader,\n",
    "        optimizer=optimizer,\n",
    "        checkpoint_dir='cpoints',\n",
    "        identifier='cross_PO_650ms_29_4',\n",
    "        use_checkpoint=True\n",
    "    )\n"
   ]
  },
  {
   "cell_type": "code",
   "execution_count": 20,
   "id": "d9ad9a37-2298-40df-8abb-6439a40c4331",
   "metadata": {},
   "outputs": [
    {
     "data": {
      "text/plain": [
       "(719, 719)"
      ]
     },
     "execution_count": 20,
     "metadata": {},
     "output_type": "execute_result"
    }
   ],
   "source": [
    "lo_res_loader.dataset.set_split_type(\"all\")\n",
    "hi_res_loader.dataset.set_split_type(\"all\")\n",
    "len(lo_res_loader), len(hi_res_loader)"
   ]
  },
  {
   "cell_type": "code",
   "execution_count": 21,
   "id": "a3aaed77-9448-4f3a-ac73-dea2c1b5f34e",
   "metadata": {},
   "outputs": [],
   "source": [
    "from utils.metrics import (\n",
    "    mae as compute_mean_absolute_error, \n",
    "    nmse as compute_normalized_mean_squared_error, \n",
    "    pcc as compute_pearson_correlation_coefficient,\n",
    "    snr as compute_signal_to_noise_ratio,\n",
    "    loss as reconstruction_loss,\n",
    ")\n",
    "import numpy as np"
   ]
  },
  {
   "cell_type": "code",
   "execution_count": 22,
   "id": "54b7f369-6965-4a84-83ed-3148519b9dc5",
   "metadata": {},
   "outputs": [
    {
     "name": "stdout",
     "output_type": "stream",
     "text": [
      "{'loss': np.float64(47.086743824204206), 'mae': np.float64(0.27880570982173775), 'nmse': np.float64(0.00854258869661971), 'snr': np.float64(0.03753490652957217), 'pcc': np.float64(0.1518838427678436)}\n"
     ]
    }
   ],
   "source": [
    "test_losses = []\n",
    "test_maes = []\n",
    "test_nmse = []\n",
    "test_snr = []\n",
    "test_pcc = []\n",
    "for i in range(len(lo_res_loader.dataset)):\n",
    "    outputs = model.predict(torch.from_numpy(lo_res_loader.dataset[i][0]).float().to(model.device))\n",
    "    hi_res = torch.from_numpy(hi_res_loader.dataset[i][0]).float().to(model.device)\n",
    "    loss = reconstruction_loss(hi_res, outputs, model.sigmas.sigma1, model.sigmas.sigma2)\n",
    "    mae = compute_mean_absolute_error(hi_res, outputs)\n",
    "    nmse = compute_normalized_mean_squared_error(hi_res, outputs)\n",
    "    snr = compute_signal_to_noise_ratio(hi_res, outputs)\n",
    "    pcc = compute_pearson_correlation_coefficient(hi_res, outputs)\n",
    "\n",
    "    test_losses.append(loss.item())\n",
    "    test_maes.append(mae.item())\n",
    "    test_nmse.append(nmse.item())\n",
    "    test_snr.append(snr.item())\n",
    "    test_pcc.append(pcc.item())\n",
    "\n",
    "avg_test_loss = np.std(test_losses)\n",
    "avg_test_mae = np.std(test_maes)\n",
    "avg_test_nmse = np.std(test_nmse)\n",
    "avg_test_snr = np.std(test_snr)\n",
    "avg_test_pcc = np.std(test_pcc)\n",
    "\n",
    "print({\n",
    "    'loss': avg_test_loss, \n",
    "    'mae': avg_test_mae, \n",
    "    'nmse': avg_test_nmse, \n",
    "    'snr': avg_test_snr, \n",
    "    'pcc': avg_test_pcc\n",
    "})  "
   ]
  },
  {
   "cell_type": "code",
   "execution_count": 23,
   "id": "9d17dca0-9d95-499f-b389-aa7165cefeb8",
   "metadata": {},
   "outputs": [
    {
     "name": "stdout",
     "output_type": "stream",
     "text": [
      "{'loss': np.float64(18.72634536293204), 'mae': np.float64(0.6231985407908345), 'nmse': np.float64(0.9913483776497044), 'snr': np.float64(0.03789882155105099), 'pcc': np.float64(0.22231080678759066)}\n"
     ]
    }
   ],
   "source": [
    "test_losses = []\n",
    "test_maes = []\n",
    "test_nmse = []\n",
    "test_snr = []\n",
    "test_pcc = []\n",
    "for i in range(len(lo_res_loader.dataset)):\n",
    "    outputs = model.predict(torch.from_numpy(lo_res_loader.dataset[i][0]).float().to(model.device))\n",
    "    hi_res = torch.from_numpy(hi_res_loader.dataset[i][0]).float().to(model.device)\n",
    "    loss = reconstruction_loss(hi_res, outputs, model.sigmas.sigma1, model.sigmas.sigma2)\n",
    "    mae = compute_mean_absolute_error(hi_res, outputs)\n",
    "    nmse = compute_normalized_mean_squared_error(hi_res, outputs)\n",
    "    snr = compute_signal_to_noise_ratio(hi_res, outputs)\n",
    "    pcc = compute_pearson_correlation_coefficient(hi_res, outputs)\n",
    "\n",
    "    test_losses.append(loss.item())\n",
    "    test_maes.append(mae.item())\n",
    "    test_nmse.append(nmse.item())\n",
    "    test_snr.append(snr.item())\n",
    "    test_pcc.append(pcc.item())\n",
    "\n",
    "avg_test_loss = np.mean(test_losses)\n",
    "avg_test_mae = np.mean(test_maes)\n",
    "avg_test_nmse = np.mean(test_nmse)\n",
    "avg_test_snr = np.mean(test_snr)\n",
    "avg_test_pcc = np.mean(test_pcc)\n",
    "\n",
    "print({\n",
    "    'loss': avg_test_loss, \n",
    "    'mae': avg_test_mae, \n",
    "    'nmse': avg_test_nmse, \n",
    "    'snr': avg_test_snr, \n",
    "    'pcc': avg_test_pcc\n",
    "})  "
   ]
  },
  {
   "cell_type": "code",
   "execution_count": 84,
   "id": "f07438a6",
   "metadata": {},
   "outputs": [
    {
     "name": "stdout",
     "output_type": "stream",
     "text": [
      "Opening raw data file /workspace/eeg-image-decoding/code/utils/../../data/all-joined-1/eeg/preprocessed/ground-truth/subj08_session1_eeg.fif...\n",
      "    Range : 964 ... 1778950 =      1.883 ...  3474.512 secs\n",
      "Ready.\n",
      "Not setting metadata\n",
      "1736 matching events found\n",
      "No baseline correction applied\n",
      "0 projection items activated\n",
      "Loading data for 1736 events and 1024 original time points ...\n",
      "0 bad epochs dropped\n",
      "Opening raw data file /workspace/eeg-image-decoding/code/utils/../../data/all-joined-1/eeg/preprocessed/ground-truth/subj08_session1_eeg.fif...\n",
      "    Range : 964 ... 1778950 =      1.883 ...  3474.512 secs\n",
      "Ready.\n",
      "Not setting metadata\n",
      "1736 matching events found\n",
      "No baseline correction applied\n",
      "0 projection items activated\n",
      "Loading data for 1736 events and 1024 original time points ...\n",
      "0 bad epochs dropped\n"
     ]
    }
   ],
   "source": [
    "lo_res_sub_dataset = EpochDataReader(\n",
    "    channel_names=lr_channel_names,\n",
    "    epoch_type = \"fixed_length\",\n",
    "    fixed_length_duration=2,\n",
    "    subject_session_id=\"subj08_session1\"\n",
    ")\n",
    "\n",
    "hi_res_sub_dataset = EpochDataReader(\n",
    "    channel_names=hr_channel_names,\n",
    "    epoch_type = \"fixed_length\",\n",
    "    fixed_length_duration=2,\n",
    "    subject_session_id=\"subj08_session1\"\n",
    ")"
   ]
  },
  {
   "cell_type": "code",
   "execution_count": 85,
   "id": "54f59df1-38b5-45bc-a278-0cdb16a143c9",
   "metadata": {},
   "outputs": [
    {
     "name": "stdout",
     "output_type": "stream",
     "text": [
      "{'subject_loss': np.float64(367.77311860678924), 'subject_mae': np.float64(0.36977608747501656), 'subject_nmse': np.float64(3.636364843830822e-05), 'subject_snr': np.float64(0.00015792352440409266), 'subject_pcc': np.float64(0.07547242010988042)}\n"
     ]
    }
   ],
   "source": [
    "test_losses = []\n",
    "test_maes = []\n",
    "test_nmse = []\n",
    "test_snr = []\n",
    "test_pcc = []\n",
    "for i in range(len(lo_res_sub_dataset)):\n",
    "    outputs = model.predict(torch.from_numpy(lo_res_sub_dataset[i]).float().to(model.device))\n",
    "    hi_res = torch.from_numpy(hi_res_sub_dataset[i]).float().to(model.device)\n",
    "    loss = reconstruction_loss(hi_res, outputs, model.sigmas.sigma1, model.sigmas.sigma2)\n",
    "    mae = compute_mean_absolute_error(hi_res, outputs)\n",
    "    nmse = compute_normalized_mean_squared_error(hi_res, outputs)\n",
    "    snr = compute_signal_to_noise_ratio(hi_res, outputs)\n",
    "    pcc = compute_pearson_correlation_coefficient(hi_res, outputs)\n",
    "\n",
    "    test_losses.append(loss.item())\n",
    "    test_maes.append(mae.item())\n",
    "    test_nmse.append(nmse.item())\n",
    "    test_snr.append(snr.item())\n",
    "    test_pcc.append(pcc.item())\n",
    "\n",
    "avg_test_loss = np.std(test_losses)\n",
    "avg_test_mae = np.std(test_maes)\n",
    "avg_test_nmse = np.std(test_nmse)\n",
    "avg_test_snr = np.std(test_snr)\n",
    "avg_test_pcc = np.std(test_pcc)\n",
    "\n",
    "print({\n",
    "    'subject_loss': avg_test_loss, \n",
    "    'subject_mae': avg_test_mae, \n",
    "    'subject_nmse': avg_test_nmse, \n",
    "    'subject_snr': avg_test_snr, \n",
    "    'subject_pcc': avg_test_pcc\n",
    "})  "
   ]
  },
  {
   "cell_type": "code",
   "execution_count": 59,
   "id": "56692b60-5c9f-4c5c-becc-3f8c9257b638",
   "metadata": {},
   "outputs": [
    {
     "name": "stdout",
     "output_type": "stream",
     "text": [
      "{'subject_loss': np.float64(141.5141217879767), 'subject_mae': np.float64(0.5192700316514317), 'subject_nmse': np.float64(0.9999980168531573), 'subject_snr': np.float64(8.518937587249931e-06), 'subject_pcc': np.float64(0.0020403546021180306)}\n"
     ]
    }
   ],
   "source": [
    "test_losses = []\n",
    "test_maes = []\n",
    "test_nmse = []\n",
    "test_snr = []\n",
    "test_pcc = []\n",
    "for i in range(len(lo_res_sub_dataset)):\n",
    "    outputs = model.predict(torch.from_numpy(lo_res_sub_dataset[i]).float().to(model.device))\n",
    "    hi_res = torch.from_numpy(hi_res_sub_dataset[i]).float().to(model.device)\n",
    "    loss = reconstruction_loss(hi_res, outputs, model.sigmas.sigma1, model.sigmas.sigma2)\n",
    "    mae = compute_mean_absolute_error(hi_res, outputs)\n",
    "    nmse = compute_normalized_mean_squared_error(hi_res, outputs)\n",
    "    snr = compute_signal_to_noise_ratio(hi_res, outputs)\n",
    "    pcc = compute_pearson_correlation_coefficient(hi_res, outputs)\n",
    "\n",
    "    test_losses.append(loss.item())\n",
    "    test_maes.append(mae.item())\n",
    "    test_nmse.append(nmse.item())\n",
    "    test_snr.append(snr.item())\n",
    "    test_pcc.append(pcc.item())\n",
    "\n",
    "avg_test_loss = np.mean(test_losses)\n",
    "avg_test_mae = np.mean(test_maes)\n",
    "avg_test_nmse = np.mean(test_nmse)\n",
    "avg_test_snr = np.mean(test_snr)\n",
    "avg_test_pcc = np.mean(test_pcc)\n",
    "\n",
    "print({\n",
    "    'subject_loss': avg_test_loss, \n",
    "    'subject_mae': avg_test_mae, \n",
    "    'subject_nmse': avg_test_nmse, \n",
    "    'subject_snr': avg_test_snr, \n",
    "    'subject_pcc': avg_test_pcc\n",
    "})  "
   ]
  },
  {
   "cell_type": "code",
   "execution_count": 16,
   "id": "181c1237",
   "metadata": {},
   "outputs": [
    {
     "name": "stdout",
     "output_type": "stream",
     "text": [
      "Final sigma1 value: 3.380436658859253\n",
      "Final sigma2 value: 0.7063338160514832\n"
     ]
    },
    {
     "data": {
      "image/png": "[encoded data removed]",
      "text/plain": [
       "<Figure size 1200x800 with 3 Axes>"
      ]
     },
     "metadata": {},
     "output_type": "display_data"
    }
   ],
   "source": [
    "def monitor_sigma_values_and_loss(history):\n",
    "    \"\"\"\n",
    "    Monitor the values of sigma1 and sigma2 during training.\n",
    "    \n",
    "    Args:\n",
    "        history: Training history dictionary\n",
    "    \"\"\"\n",
    "    # Get the values of sigma1 and sigma2\n",
    "    sigma1_values = history['sigma1']\n",
    "    sigma2_values = history['sigma2']\n",
    "    \n",
    "    print(f\"Final sigma1 value: {sigma1_values[-1]}\")\n",
    "    print(f\"Final sigma2 value: {sigma2_values[-1]}\")\n",
    "    \n",
    "    # Plot the loss history\n",
    "    plt.figure(figsize=(12, 8))\n",
    "    \n",
    "    # Plot loss\n",
    "    plt.subplot(2, 2, 1)\n",
    "    plt.plot(history['train_loss'], label='Training Loss')\n",
    "    plt.plot(history['val_loss'], label='Validation Loss')\n",
    "    plt.title('Model Loss')\n",
    "    plt.xlabel('Epoch')\n",
    "    plt.ylabel('Loss')\n",
    "    plt.legend()\n",
    "    \n",
    "    # # Plot MAE\n",
    "    # plt.subplot(2, 2, 2)\n",
    "    # plt.plot(history['train_mae'], label='Training MAE')\n",
    "    # plt.plot(history['val_mae'], label='Validation MAE')\n",
    "    # plt.title('Model MAE')\n",
    "    # plt.xlabel('Epoch')\n",
    "    # plt.ylabel('MAE')\n",
    "    # plt.legend()\n",
    "\n",
    "    # # Plot NMSE\n",
    "    # plt.subplot(2, 2, 3)\n",
    "    # plt.plot(history['train_nmse'], label='Training NMSE')\n",
    "    # plt.plot(history['val_nmse'], label='Validation NMSE')\n",
    "    # plt.title('Model NMSE')\n",
    "    # plt.xlabel('Epoch')\n",
    "    # plt.ylabel('NMSE')\n",
    "    # plt.legend()\n",
    "\n",
    "    # # Plot SNR\n",
    "    # plt.subplot(2, 2, 4)\n",
    "    # plt.plot(history['train_snr'], label='Training SNR')\n",
    "    # plt.plot(history['val_snr'], label='Validation SNR')\n",
    "    # plt.title('Model SNR')\n",
    "    # plt.xlabel('Epoch')\n",
    "    # plt.ylabel('SNR')\n",
    "    # plt.legend()\n",
    "    \n",
    "    # # Plot PCC\n",
    "    # plt.subplot(2, 2, 5)\n",
    "    # plt.plot(history['train_pcc'], label='Training PCC')\n",
    "    # plt.plot(history['val_pcc'], label='Validation PCC')\n",
    "    # plt.title('Model PCC')\n",
    "    # plt.xlabel('Epoch')\n",
    "    # plt.ylabel('PCC')\n",
    "    # plt.legend()\n",
    "    \n",
    "    # Plot sigma values\n",
    "    plt.subplot(2, 2, 3)\n",
    "    plt.plot(sigma1_values, label='Sigma1')\n",
    "    plt.title('Sigma1 Value')\n",
    "    plt.xlabel('Epoch')\n",
    "    plt.ylabel('Value')\n",
    "    \n",
    "    plt.subplot(2, 2, 4)\n",
    "    plt.plot(sigma2_values, label='Sigma2')\n",
    "    plt.title('Sigma2 Value')\n",
    "    plt.xlabel('Epoch')\n",
    "    plt.ylabel('Value')\n",
    "    \n",
    "    plt.tight_layout()\n",
    "    \n",
    "    # Save figure to wandb\n",
    "    if wandb.run is not None:\n",
    "        wandb.log({\"training_history\": wandb.Image(plt)})\n",
    "    \n",
    "    plt.show()\n",
    "\n",
    "monitor_sigma_values_and_loss(history)"
   ]
  },
  {
   "cell_type": "code",
   "execution_count": 13,
   "id": "02e504ed",
   "metadata": {},
   "outputs": [],
   "source": [
    "# def visualize_results(model, val_dataset, device, subject_idx=0, channel_idx=0):\n",
    "#     \"\"\"\n",
    "#     Visualize the results of the model on a validation sample.\n",
    "    \n",
    "#     Args:\n",
    "#         model: Trained ESTformer model\n",
    "#         val_dataset: Validation dataset\n",
    "#         device: Device to run inference on\n",
    "#         subject_idx: Index of the subject to visualize\n",
    "#         channel_idx: Index of the channel to visualize\n",
    "#     \"\"\"\n",
    "#     # Set model to eval mode\n",
    "#     model.eval()\n",
    "    \n",
    "#     # Get a validation sample\n",
    "#     sample = val_dataset[subject_idx]\n",
    "    \n",
    "#     # Convert to tensors and add batch dimension\n",
    "#     lo_res = torch.tensor(sample['lo_res'], dtype=torch.float32).unsqueeze(0).to(device)\n",
    "#     hi_res = torch.tensor(sample['hi_res'], dtype=torch.float32)\n",
    "    \n",
    "#     # Get predictions\n",
    "#     with torch.no_grad():\n",
    "#         pred = model(lo_res).cpu().numpy()[0]\n",
    "    \n",
    "#     # Convert back to numpy for visualization\n",
    "#     lo_res = lo_res.cpu().numpy()[0]\n",
    "#     hi_res = hi_res.numpy()\n",
    "    \n",
    "#     # Plot the results\n",
    "#     plt.figure(figsize=(12, 8))\n",
    "    \n",
    "#     # Plot low-res input\n",
    "#     plt.subplot(3, 1, 1)\n",
    "#     plt.plot(lo_res[channel_idx])\n",
    "#     plt.title(f'Low-Res (Downsampled) Input (Channel {channel_idx})')\n",
    "    \n",
    "#     # Plot high-res ground truth\n",
    "#     plt.subplot(3, 1, 2)\n",
    "#     plt.plot(hi_res[channel_idx])\n",
    "#     plt.title(f'High-Res (Ground Truth) (Channel {channel_idx})')\n",
    "    \n",
    "#     # Plot prediction\n",
    "#     plt.subplot(3, 1, 3)\n",
    "#     plt.plot(pred[channel_idx])\n",
    "#     plt.title(f'Super-Res (Prediction) (Channel {channel_idx})')\n",
    "    \n",
    "#     plt.tight_layout()\n",
    "    \n",
    "#     # Save figure to wandb\n",
    "#     if wandb.run is not None:\n",
    "#         wandb.log({\"prediction_visualization\": wandb.Image(plt)})\n",
    "    \n",
    "#     plt.show()\n",
    "\n",
    "# visualize_results(model, val_loader.dataset, device)"
   ]
  }
 ],
 "metadata": {
  "kernelspec": {
   "display_name": "Python3 (ipykernel)",
   "language": "python",
   "name": "python3"
  },
  "language_info": {
   "codemirror_mode": {
    "name": "ipython",
    "version": 3
   },
   "file_extension": ".py",
   "mimetype": "text/x-python",
   "name": "python",
   "nbconvert_exporter": "python",
   "pygments_lexer": "ipython3",
   "version": "3.12.3"
  }
 },
 "nbformat": 4,
 "nbformat_minor": 5
}
