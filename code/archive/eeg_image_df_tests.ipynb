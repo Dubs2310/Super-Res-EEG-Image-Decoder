{
 "cells": [
  {
   "cell_type": "code",
   "execution_count": 3,
   "id": "5e853587",
   "metadata": {},
   "outputs": [],
   "source": [
    "import os\n",
    "import sys\n",
    "import pandas as pd\n",
    "sys.path.append('..')"
   ]
  },
  {
   "cell_type": "code",
   "execution_count": 4,
   "id": "8ee5e2d9",
   "metadata": {},
   "outputs": [
    {
     "data": {
      "text/html": [
       "<div>\n",
       "<style scoped>\n",
       "    .dataframe tbody tr th:only-of-type {\n",
       "        vertical-align: middle;\n",
       "    }\n",
       "\n",
       "    .dataframe tbody tr th {\n",
       "        vertical-align: top;\n",
       "    }\n",
       "\n",
       "    .dataframe thead th {\n",
       "        text-align: right;\n",
       "    }\n",
       "</style>\n",
       "<table border=\"1\" class=\"dataframe\">\n",
       "  <thead>\n",
       "    <tr style=\"text-align: right;\">\n",
       "      <th></th>\n",
       "      <th>subject</th>\n",
       "      <th>session</th>\n",
       "      <th>epoch_idx</th>\n",
       "      <th>img_id</th>\n",
       "      <th>accessory (sc)</th>\n",
       "      <th>animal (sc)</th>\n",
       "      <th>appliance (sc)</th>\n",
       "      <th>electronic (sc)</th>\n",
       "      <th>food (sc)</th>\n",
       "      <th>furniture (sc)</th>\n",
       "      <th>...</th>\n",
       "      <th>toilet (fc)</th>\n",
       "      <th>toothbrush (fc)</th>\n",
       "      <th>traffic light (fc)</th>\n",
       "      <th>train (fc)</th>\n",
       "      <th>truck (fc)</th>\n",
       "      <th>tv (fc)</th>\n",
       "      <th>umbrella (fc)</th>\n",
       "      <th>vase (fc)</th>\n",
       "      <th>wine glass (fc)</th>\n",
       "      <th>zebra (fc)</th>\n",
       "    </tr>\n",
       "  </thead>\n",
       "  <tbody>\n",
       "    <tr>\n",
       "      <th>0</th>\n",
       "      <td>1</td>\n",
       "      <td>1</td>\n",
       "      <td>0</td>\n",
       "      <td>98</td>\n",
       "      <td>0</td>\n",
       "      <td>0</td>\n",
       "      <td>0</td>\n",
       "      <td>0</td>\n",
       "      <td>0</td>\n",
       "      <td>0</td>\n",
       "      <td>...</td>\n",
       "      <td>0</td>\n",
       "      <td>0</td>\n",
       "      <td>0</td>\n",
       "      <td>0</td>\n",
       "      <td>0</td>\n",
       "      <td>0</td>\n",
       "      <td>0</td>\n",
       "      <td>0</td>\n",
       "      <td>0</td>\n",
       "      <td>0</td>\n",
       "    </tr>\n",
       "    <tr>\n",
       "      <th>1</th>\n",
       "      <td>1</td>\n",
       "      <td>1</td>\n",
       "      <td>1</td>\n",
       "      <td>10</td>\n",
       "      <td>0</td>\n",
       "      <td>1</td>\n",
       "      <td>0</td>\n",
       "      <td>0</td>\n",
       "      <td>0</td>\n",
       "      <td>0</td>\n",
       "      <td>...</td>\n",
       "      <td>0</td>\n",
       "      <td>0</td>\n",
       "      <td>0</td>\n",
       "      <td>0</td>\n",
       "      <td>0</td>\n",
       "      <td>0</td>\n",
       "      <td>0</td>\n",
       "      <td>0</td>\n",
       "      <td>0</td>\n",
       "      <td>1</td>\n",
       "    </tr>\n",
       "    <tr>\n",
       "      <th>2</th>\n",
       "      <td>1</td>\n",
       "      <td>1</td>\n",
       "      <td>2</td>\n",
       "      <td>102</td>\n",
       "      <td>0</td>\n",
       "      <td>0</td>\n",
       "      <td>0</td>\n",
       "      <td>0</td>\n",
       "      <td>0</td>\n",
       "      <td>1</td>\n",
       "      <td>...</td>\n",
       "      <td>0</td>\n",
       "      <td>0</td>\n",
       "      <td>0</td>\n",
       "      <td>0</td>\n",
       "      <td>0</td>\n",
       "      <td>0</td>\n",
       "      <td>0</td>\n",
       "      <td>0</td>\n",
       "      <td>0</td>\n",
       "      <td>0</td>\n",
       "    </tr>\n",
       "    <tr>\n",
       "      <th>3</th>\n",
       "      <td>1</td>\n",
       "      <td>1</td>\n",
       "      <td>3</td>\n",
       "      <td>98</td>\n",
       "      <td>0</td>\n",
       "      <td>0</td>\n",
       "      <td>0</td>\n",
       "      <td>0</td>\n",
       "      <td>0</td>\n",
       "      <td>0</td>\n",
       "      <td>...</td>\n",
       "      <td>0</td>\n",
       "      <td>0</td>\n",
       "      <td>0</td>\n",
       "      <td>0</td>\n",
       "      <td>0</td>\n",
       "      <td>0</td>\n",
       "      <td>0</td>\n",
       "      <td>0</td>\n",
       "      <td>0</td>\n",
       "      <td>0</td>\n",
       "    </tr>\n",
       "    <tr>\n",
       "      <th>4</th>\n",
       "      <td>1</td>\n",
       "      <td>1</td>\n",
       "      <td>4</td>\n",
       "      <td>12</td>\n",
       "      <td>0</td>\n",
       "      <td>1</td>\n",
       "      <td>0</td>\n",
       "      <td>0</td>\n",
       "      <td>0</td>\n",
       "      <td>0</td>\n",
       "      <td>...</td>\n",
       "      <td>0</td>\n",
       "      <td>0</td>\n",
       "      <td>0</td>\n",
       "      <td>0</td>\n",
       "      <td>0</td>\n",
       "      <td>0</td>\n",
       "      <td>0</td>\n",
       "      <td>0</td>\n",
       "      <td>0</td>\n",
       "      <td>0</td>\n",
       "    </tr>\n",
       "  </tbody>\n",
       "</table>\n",
       "<p>5 rows × 96 columns</p>\n",
       "</div>"
      ],
      "text/plain": [
       "   subject  session  epoch_idx  img_id  accessory (sc)  animal (sc)  \\\n",
       "0        1        1          0      98               0            0   \n",
       "1        1        1          1      10               0            1   \n",
       "2        1        1          2     102               0            0   \n",
       "3        1        1          3      98               0            0   \n",
       "4        1        1          4      12               0            1   \n",
       "\n",
       "   appliance (sc)  electronic (sc)  food (sc)  furniture (sc)  ...  \\\n",
       "0               0                0          0               0  ...   \n",
       "1               0                0          0               0  ...   \n",
       "2               0                0          0               1  ...   \n",
       "3               0                0          0               0  ...   \n",
       "4               0                0          0               0  ...   \n",
       "\n",
       "   toilet (fc)  toothbrush (fc)  traffic light (fc)  train (fc)  truck (fc)  \\\n",
       "0            0                0                   0           0           0   \n",
       "1            0                0                   0           0           0   \n",
       "2            0                0                   0           0           0   \n",
       "3            0                0                   0           0           0   \n",
       "4            0                0                   0           0           0   \n",
       "\n",
       "   tv (fc)  umbrella (fc)  vase (fc)  wine glass (fc)  zebra (fc)  \n",
       "0        0              0          0                0           0  \n",
       "1        0              0          0                0           1  \n",
       "2        0              0          0                0           0  \n",
       "3        0              0          0                0           0  \n",
       "4        0              0          0                0           0  \n",
       "\n",
       "[5 rows x 96 columns]"
      ]
     },
     "execution_count": 4,
     "metadata": {},
     "output_type": "execute_result"
    }
   ],
   "source": [
    "file_path = os.path.join(os.getcwd(), \"..\\\\..\\\\data\\\\all-joined-1\\\\epoch_image_dataframe.csv\")\n",
    "df = pd.read_csv(file_path)\n",
    "df.head()"
   ]
  },
  {
   "cell_type": "code",
   "execution_count": 40,
   "id": "1130ae4d",
   "metadata": {},
   "outputs": [
    {
     "name": "stdout",
     "output_type": "stream",
     "text": [
      "Subject 1 (Across Sessions):\n",
      "\tTotal Trials - 3839\n",
      "\tTotal Classes - 960\n",
      "\tClass Repetitions - 4\n"
     ]
    }
   ],
   "source": [
    "subject1_session1 = df[(df['subject'] == 1) & (df['session'] == 1)]\n",
    "print(f\"Subject 1 (Across Sessions):\\n\\tTotal Trials - {subject1_session1.shape[0]}\\n\\tTotal Classes - {subject1_session1['img_id'].unique().shape[0]}\\n\\tClass Repetitions - {int(round(subject1_session1['img_id'].value_counts().mean()))}\")"
   ]
  },
  {
   "cell_type": "code",
   "execution_count": 32,
   "id": "05876a64",
   "metadata": {},
   "outputs": [
    {
     "name": "stdout",
     "output_type": "stream",
     "text": [
      "Subject 1 (Across Sessions):\n",
      "\tTotal Trials - 7678\n",
      "\tTotal Classes - 960\n",
      "\tClass Repetitions - 8\n"
     ]
    }
   ],
   "source": [
    "subject1_cross_session = df[df['subject'] == 1]\n",
    "print(f\"Subject 1 (Across Sessions):\\n\\tTotal Trials - {subject1_cross_session.shape[0]}\\n\\tTotal Classes - {subject1_cross_session['img_id'].unique().shape[0]}\\n\\tClass Repetitions - {int(round(subject1_cross_session['img_id'].value_counts().mean()))}\")"
   ]
  },
  {
   "cell_type": "code",
   "execution_count": 31,
   "id": "cf8ae84c",
   "metadata": {},
   "outputs": [
    {
     "name": "stdout",
     "output_type": "stream",
     "text": [
      "Across Subjects:\n",
      "\tTotal Trials - 45980\n",
      "\tTotal Classes - 960\n",
      "\tClass Repetitions - 48\n"
     ]
    }
   ],
   "source": [
    "print(f\"Across Subjects:\\n\\tTotal Trials - {df.shape[0]}\\n\\tTotal Classes - {df['img_id'].unique().shape[0]}\\n\\tClass Repetitions - {int(round(df['img_id'].value_counts().mean()))}\")"
   ]
  },
  {
   "cell_type": "code",
   "execution_count": 38,
   "id": "c28915de",
   "metadata": {},
   "outputs": [
    {
     "data": {
      "text/plain": [
       "array([8, 7])"
      ]
     },
     "execution_count": 38,
     "metadata": {},
     "output_type": "execute_result"
    }
   ],
   "source": [
    "subject1_cross_session['img_id'].value_counts().unique()"
   ]
  }
 ],
 "metadata": {
  "kernelspec": {
   "display_name": "env",
   "language": "python",
   "name": "python3"
  },
  "language_info": {
   "codemirror_mode": {
    "name": "ipython",
    "version": 3
   },
   "file_extension": ".py",
   "mimetype": "text/x-python",
   "name": "python",
   "nbconvert_exporter": "python",
   "pygments_lexer": "ipython3",
   "version": "3.11.9"
  }
 },
 "nbformat": 4,
 "nbformat_minor": 5
}
