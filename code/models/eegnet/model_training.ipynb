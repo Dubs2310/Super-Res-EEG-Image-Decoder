{
 "cells": [
  {
   "cell_type": "code",
   "execution_count": null,
   "id": "af719db4",
   "metadata": {},
   "outputs": [
    {
     "name": "stderr",
     "output_type": "stream",
     "text": [
      "s:\\PolySecLabProjects\\eeg-image-decode\\env\\Lib\\site-packages\\tqdm\\auto.py:21: TqdmWarning: IProgress not found. Please update jupyter and ipywidgets. See https://ipywidgets.readthedocs.io/en/stable/user_install.html\n",
      "  from .autonotebook import tqdm as notebook_tqdm\n"
     ]
    }
   ],
   "source": [
    "import os\n",
    "import sys\n",
    "import wandb\n",
    "import torch\n",
    "import GPUtil\n",
    "from models.eegnet.EEGNet import EEGNet\n",
    "from torchinfo import summary\n",
    "from torch.utils.data import DataLoader\n",
    "\n",
    "sys.path.append('../../')\n",
    "from utils.coco_data_handler import COCODataHandler\n",
    "from utils.hdf5_data_split_generator import HDF5DataSplitGenerator"
   ]
  },
  {
   "cell_type": "code",
   "execution_count": null,
   "id": "bf3e159a",
   "metadata": {},
   "outputs": [],
   "source": [
    "os.environ[\"CUDA_DEVICE_ORDER\"] = \"PCI_BUS_ID\" # Force CUDA to use the GPU\n",
    "os.environ[\"CUDA_VISIBLE_DEVICES\"] = \"0\"  # Use first GPU\n",
    "os.environ[\"PYTORCH_CUDA_ALLOC_CONF\"] = \"expandable_segments:True\" # Enable memory optimization settings for PyTorch"
   ]
  },
  {
   "cell_type": "code",
   "execution_count": null,
   "id": "34a8a94e",
   "metadata": {},
   "outputs": [],
   "source": [
    "# Check if CUDA is available\n",
    "try:\n",
    "    gpus = GPUtil.getGPUs()\n",
    "    if gpus:\n",
    "        print(f\"GPUtil detected {len(gpus)} GPUs:\")\n",
    "        for i, gpu in enumerate(gpus):\n",
    "            print(f\"  GPU {i}: {gpu.name} (Memory: {gpu.memoryTotal}MB)\")\n",
    "        \n",
    "        # Set default GPU\n",
    "        os.environ[\"CUDA_VISIBLE_DEVICES\"] = \",\".join([str(i) for i in range(len(gpus))])\n",
    "        print(f\"Set CUDA_VISIBLE_DEVICES={os.environ['CUDA_VISIBLE_DEVICES']}\")\n",
    "    else:\n",
    "        print(\"GPUtil found no available GPUs\")\n",
    "except Exception as e:\n",
    "    print(f\"Error checking GPUs with GPUtil: {e}\")"
   ]
  },
  {
   "cell_type": "code",
   "execution_count": null,
   "id": "46622f7a",
   "metadata": {},
   "outputs": [],
   "source": [
    "# Check for CUDA availability\n",
    "device = torch.device('cuda' if torch.cuda.is_available() else 'cpu')\n",
    "print(f\"Using device: {device}\")\n",
    "\n",
    "# Print available GPU memory\n",
    "if torch.cuda.is_available():\n",
    "    print(f\"Total GPU memory: {torch.cuda.get_device_properties(0).total_memory / 1e9:.2f} GB\")\n",
    "    print(f\"Available GPU memory: {torch.cuda.memory_reserved(0) / 1e9:.2f} GB\")"
   ]
  },
  {
   "cell_type": "code",
   "execution_count": 5,
   "id": "7ee17b2d",
   "metadata": {},
   "outputs": [
    {
     "data": {
      "text/plain": [
       "{'accessory': 0,\n",
       " 'animal': 1,\n",
       " 'appliance': 2,\n",
       " 'electronic': 3,\n",
       " 'food': 4,\n",
       " 'furniture': 5,\n",
       " 'indoor': 6,\n",
       " 'kitchen': 7,\n",
       " 'outdoor': 8,\n",
       " 'person': 9,\n",
       " 'sports': 10,\n",
       " 'vehicle': 11}"
      ]
     },
     "execution_count": 5,
     "metadata": {},
     "output_type": "execute_result"
    }
   ],
   "source": [
    "coco_data = COCODataHandler.from_file('../../../data/all-joined-1/coco-train17-captions-and-categories.json')\n",
    "coco_data.category_index"
   ]
  },
  {
   "cell_type": "code",
   "execution_count": null,
   "id": "e756ddd2",
   "metadata": {},
   "outputs": [],
   "source": [
    "all_channels = ['Fp1', 'AF7', 'AF3', 'F1', 'F3', 'F5', 'F7', 'FT7', 'FC5', 'FC3', 'FC1', 'C1', 'C3', 'C5', 'T7', 'TP7', 'CP5', 'CP3', 'CP1', 'P1', 'P3', 'P5', 'P7', 'P9', 'PO7', 'PO3', 'O1', 'Iz', 'Oz', 'POz', 'Pz', 'CPz', 'Fpz', 'Fp2', 'AF8', 'AF4', 'AFz', 'Fz', 'F2', 'F4', 'F6', 'F8', 'FT8', 'FC6', 'FC4', 'FC2', 'FCz', 'Cz', 'C2', 'C4', 'C6', 'T8', 'TP8', 'CP6', 'CP4', 'CP2', 'P2', 'P4', 'P6', 'P8', 'P10', 'PO8', 'PO4', 'O2']\n",
    "\n",
    "# Model parameters\n",
    "hr_channel_names = all_channels # High-resolution setup (all channels)\n",
    "lr_channel_names = ['AF3', 'F7', 'F3', 'FC5', 'T7', 'P7', 'O1', 'O2', 'P8', 'T8', 'FC6', 'F4', 'F8', 'AF4'] # Low-resolution setup (fewer channels)\n",
    "num_classes = len(coco_data.category_index.keys())\n",
    "\n",
    "# Training parameters\n",
    "epochs = 30\n",
    "\n",
    "# Optimizer parameters\n",
    "lr = 5e-5\n",
    "weight_decay = 0.5\n",
    "beta_1 = 0.9\n",
    "beta_2 = 0.95\n",
    "\n",
    "# Dataset parameters\n",
    "batch_size = 30\n",
    "dataset_split = \"70/25/5\"\n",
    "eeg_epoch_mode = \"around_evoked_event\"\n",
    "duration_before_onset = 0.05\n",
    "duration_after_onset = 0.6\n",
    "random_state = 97"
   ]
  },
  {
   "cell_type": "code",
   "execution_count": null,
   "id": "03af6730",
   "metadata": {},
   "outputs": [],
   "source": [
    "train_dataset = HDF5DataSplitGenerator(\n",
    "    dataset_type=\"train\",\n",
    "    dataset_split=dataset_split,\n",
    "    eeg_epoch_mode=eeg_epoch_mode,\n",
    "    duration_before_onset=duration_before_onset,\n",
    "    duration_after_onset=duration_after_onset\n",
    ")"
   ]
  },
  {
   "cell_type": "code",
   "execution_count": null,
   "id": "2298e4e7",
   "metadata": {},
   "outputs": [],
   "source": [
    "train_loader = DataLoader(\n",
    "    train_dataset,\n",
    "    batch_size=32,\n",
    "    shuffle=False,\n",
    "    num_workers=4,\n",
    "    pin_memory=True\n",
    ")\n",
    "\n",
    "len(train_loader)"
   ]
  },
  {
   "cell_type": "code",
   "execution_count": null,
   "id": "04ffdbb6",
   "metadata": {},
   "outputs": [],
   "source": [
    "input_channels, input_window_samples = train_loader.dataset[0]['lo_res'].shape"
   ]
  },
  {
   "cell_type": "code",
   "execution_count": null,
   "id": "50c036cc",
   "metadata": {},
   "outputs": [],
   "source": [
    "model = EEGNet(input_channels, input_window_samples, num_classes)\n",
    "summary(model)"
   ]
  },
  {
   "cell_type": "code",
   "execution_count": null,
   "id": "0d7f1df0",
   "metadata": {},
   "outputs": [],
   "source": [
    "history = model.fit(train_loader, coco_data, epochs)"
   ]
  }
 ],
 "metadata": {
  "kernelspec": {
   "display_name": "env",
   "language": "python",
   "name": "python3"
  },
  "language_info": {
   "codemirror_mode": {
    "name": "ipython",
    "version": 3
   },
   "file_extension": ".py",
   "mimetype": "text/x-python",
   "name": "python",
   "nbconvert_exporter": "python",
   "pygments_lexer": "ipython3",
   "version": "3.11.9"
  }
 },
 "nbformat": 4,
 "nbformat_minor": 5
}
