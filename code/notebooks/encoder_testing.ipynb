{
 "cells": [
  {
   "cell_type": "code",
   "execution_count": 1,
   "id": "986c4776",
   "metadata": {},
   "outputs": [
    {
     "name": "stderr",
     "output_type": "stream",
     "text": [
      "s:\\PolySecLabProjects\\eeg-image-decoding\\env\\Lib\\site-packages\\tqdm\\auto.py:21: TqdmWarning: IProgress not found. Please update jupyter and ipywidgets. See https://ipywidgets.readthedocs.io/en/stable/user_install.html\n",
      "  from .autonotebook import tqdm as notebook_tqdm\n"
     ]
    },
    {
     "name": "stdout",
     "output_type": "stream",
     "text": [
      "S:\\PolySecLabProjects\\eeg-image-decoding\\data\\all-joined-1\\eeg\\epochs\n"
     ]
    }
   ],
   "source": [
    "import sys\n",
    "import wandb\n",
    "import torch\n",
    "sys.path.append('..')\n",
    "import pytorch_lightning as pl\n",
    "from utils.data_modules.contrastive import EEGContrastiveDataModule\n",
    "from models.trainers.contrastive import ContrastiveTrainerModel, PlottingCallback"
   ]
  },
  {
   "cell_type": "code",
   "execution_count": 2,
   "id": "5fe0b6b4",
   "metadata": {},
   "outputs": [],
   "source": [
    "dm = EEGContrastiveDataModule(\n",
    "    input_channels=['Fp1', 'AF7', 'AF3', 'F1', 'F3', 'F5', 'F7', 'FT7', 'FC5', 'FC3', 'FC1', 'C1', 'C3', 'C5', 'T7', 'TP7', 'CP5', 'CP3', 'CP1', 'P1', 'P3', 'P5', 'P7', 'P9', 'PO7', 'PO3', 'O1', 'Iz', 'Oz', 'POz', 'Pz', 'CPz', 'Fpz', 'Fp2', 'AF8', 'AF4', 'AFz', 'Fz', 'F2', 'F4', 'F6', 'F8', 'FT8', 'FC6', 'FC4', 'FC2', 'FCz', 'Cz', 'C2', 'C4', 'C6', 'T8', 'TP8', 'CP6', 'CP4', 'CP2', 'P2', 'P4', 'P6', 'P8', 'P10', 'PO8', 'PO4', 'O2'],\n",
    "    sfreq=250,\n",
    "    montage='standard_1020',\n",
    "    window_before_event_ms=50,\n",
    "    window_after_event_ms=600,\n",
    "    subject=1, \n",
    "    session=1, \n",
    "    batch_size=64, \n",
    "    num_workers=4\n",
    ")"
   ]
  },
  {
   "cell_type": "code",
   "execution_count": 3,
   "id": "b7ce8b65",
   "metadata": {},
   "outputs": [
    {
     "name": "stdout",
     "output_type": "stream",
     "text": [
      "Using default COCO train/test split\n",
      "Data split - Train: 2879, Val: 320, Test: 640\n",
      "Creating Datasets...\n",
      "Original dataframe size: 2879\n",
      "Original dataframe size: 320\n",
      "Original dataframe size: 640\n"
     ]
    }
   ],
   "source": [
    "sample_data = dm.get_sample_info()\n",
    "epochs = 200\n",
    "subject = 1\n",
    "session = 1\n",
    "num_channels = sample_data['input']['num_channels']\n",
    "timesteps = sample_data['input']['num_timesteps']\n",
    "num_fine_labels = sample_data['output']['fine_labels_shape']"
   ]
  },
  {
   "cell_type": "code",
   "execution_count": 4,
   "id": "2482d1b5",
   "metadata": {},
   "outputs": [],
   "source": [
    "checkpoint_path = \"S:\\\\PolySecLabProjects\\\\eeg-image-decoding\\\\code\\\\models\\\\check_points\\\\contrastive_encoder\\\\subj1_session1_epoch=199.ckpt\""
   ]
  },
  {
   "cell_type": "code",
   "execution_count": null,
   "id": "777826d1",
   "metadata": {},
   "outputs": [
    {
     "name": "stderr",
     "output_type": "stream",
     "text": [
      "s:\\PolySecLabProjects\\eeg-image-decoding\\env\\Lib\\site-packages\\pytorch_lightning\\utilities\\migration\\utils.py:56: The loaded checkpoint was produced with Lightning v2.5.2, which is newer than your current Lightning version: v2.5.1.post0\n",
      "s:\\PolySecLabProjects\\eeg-image-decoding\\env\\Lib\\site-packages\\braindecode\\models\\base.py:23: UserWarning: EEGNetv4: 'in_chans' is depreciated. Use 'n_chans' instead.\n",
      "  warnings.warn(\n",
      "s:\\PolySecLabProjects\\eeg-image-decoding\\env\\Lib\\site-packages\\braindecode\\models\\base.py:23: UserWarning: EEGNetv4: 'n_classes' is depreciated. Use 'n_outputs' instead.\n",
      "  warnings.warn(\n",
      "s:\\PolySecLabProjects\\eeg-image-decoding\\env\\Lib\\site-packages\\braindecode\\models\\base.py:23: UserWarning: EEGNetv4: 'input_window_samples' is depreciated. Use 'n_times' instead.\n",
      "  warnings.warn(\n",
      "Using default `ModelCheckpoint`. Consider installing `litmodels` package to enable `LitModelCheckpoint` for automatic upload to the Lightning model registry.\n",
      "GPU available: True (cuda), used: True\n",
      "TPU available: False, using: 0 TPU cores\n",
      "HPU available: False, using: 0 HPUs\n",
      "You are using a CUDA device ('NVIDIA GeForce RTX 3070 Laptop GPU') that has Tensor Cores. To properly utilize them, you should set `torch.set_float32_matmul_precision('medium' | 'high')` which will trade-off precision for performance. For more details, read https://pytorch.org/docs/stable/generated/torch.set_float32_matmul_precision.html#torch.set_float32_matmul_precision\n",
      "\u001b[34m\u001b[1mwandb\u001b[0m: Currently logged in as: \u001b[33mdubs2310\u001b[0m (\u001b[33mdubs2310-cal-poly-pomona\u001b[0m) to \u001b[32mhttps://api.wandb.ai\u001b[0m. Use \u001b[1m`wandb login --relogin`\u001b[0m to force relogin\n"
     ]
    },
    {
     "data": {
      "text/html": [
       "Tracking run with wandb version 0.19.11"
      ],
      "text/plain": [
       "<IPython.core.display.HTML object>"
      ]
     },
     "metadata": {},
     "output_type": "display_data"
    },
    {
     "data": {
      "text/html": [
       "Run data is saved locally in <code>.\\wandb\\run-20250708_155914-z9cxgb50</code>"
      ],
      "text/plain": [
       "<IPython.core.display.HTML object>"
      ]
     },
     "metadata": {},
     "output_type": "display_data"
    },
    {
     "data": {
      "text/html": [
       "Syncing run <strong><a href='https://wandb.ai/dubs2310-cal-poly-pomona/contrastive_eeg_net/runs/z9cxgb50' target=\"_blank\">lucky-brook-10</a></strong> to <a href='https://wandb.ai/dubs2310-cal-poly-pomona/contrastive_eeg_net' target=\"_blank\">Weights & Biases</a> (<a href='https://wandb.me/developer-guide' target=\"_blank\">docs</a>)<br>"
      ],
      "text/plain": [
       "<IPython.core.display.HTML object>"
      ]
     },
     "metadata": {},
     "output_type": "display_data"
    },
    {
     "data": {
      "text/html": [
       " View project at <a href='https://wandb.ai/dubs2310-cal-poly-pomona/contrastive_eeg_net' target=\"_blank\">https://wandb.ai/dubs2310-cal-poly-pomona/contrastive_eeg_net</a>"
      ],
      "text/plain": [
       "<IPython.core.display.HTML object>"
      ]
     },
     "metadata": {},
     "output_type": "display_data"
    },
    {
     "data": {
      "text/html": [
       " View run at <a href='https://wandb.ai/dubs2310-cal-poly-pomona/contrastive_eeg_net/runs/z9cxgb50' target=\"_blank\">https://wandb.ai/dubs2310-cal-poly-pomona/contrastive_eeg_net/runs/z9cxgb50</a>"
      ],
      "text/plain": [
       "<IPython.core.display.HTML object>"
      ]
     },
     "metadata": {},
     "output_type": "display_data"
    }
   ],
   "source": [
    "lightning_model = ContrastiveTrainerModel.load_from_checkpoint(checkpoint_path)\n",
    "\n",
    "results_callback = PlottingCallback()\n",
    "\n",
    "logger = pl.loggers.WandbLogger(project=\"contrastive_eeg_net\")\n",
    "\n",
    "trainer = pl.Trainer(\n",
    "    max_epochs=epochs,\n",
    "    callbacks=[results_callback],\n",
    "    logger=logger,\n",
    "    accelerator='gpu' if torch.cuda.is_available() else 'cpu',\n",
    "    devices=1\n",
    ")\n",
    "\n",
    "trainer.test(lightning_model, dm)\n",
    "\n",
    "if logger and isinstance(logger, pl.loggers.WandbLogger):\n",
    "    logger.finalize('success')\n",
    "    wandb.finish()"
   ]
  }
 ],
 "metadata": {
  "kernelspec": {
   "display_name": "env",
   "language": "python",
   "name": "python3"
  },
  "language_info": {
   "codemirror_mode": {
    "name": "ipython",
    "version": 3
   },
   "file_extension": ".py",
   "mimetype": "text/x-python",
   "name": "python",
   "nbconvert_exporter": "python",
   "pygments_lexer": "ipython3",
   "version": "3.11.9"
  }
 },
 "nbformat": 4,
 "nbformat_minor": 5
}
