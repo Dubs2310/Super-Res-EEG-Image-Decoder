{
 "cells": [
  {
   "cell_type": "code",
   "execution_count": 2,
   "id": "3a9f7856",
   "metadata": {},
   "outputs": [],
   "source": [
    "from torch.utils.data import DataLoader\n",
    "import sys\n",
    "sys.path.append(\"..\")\n",
    "from utils.hdf5_data_split_generator import HDF5DataSplitGenerator"
   ]
  },
  {
   "cell_type": "code",
   "execution_count": null,
   "id": "f7a281eb",
   "metadata": {},
   "outputs": [],
   "source": [
    "lr_channel_names = ['AF3', 'F7', 'F3', 'FC5', 'T7', 'P7', 'O1', 'O2', 'P8', 'T8', 'FC6', 'F4', 'F8', 'AF4']\n",
    "hr_channel_names = ['Fp1', 'Fz', 'F3', 'F7', 'FT9', 'FC5', 'FC1', 'C3', 'T7', 'TP9', 'CP5', 'CP1', 'Pz', 'P3', 'P7', 'O1', 'Oz', 'O2', 'P4', 'P8', 'TP10', 'CP6', 'CP2', 'C4', 'T8', 'FT10', 'FC6', 'FC2', 'F4', 'F8', 'Fp2', 'AF7', 'AF3', 'AFz', 'F1', 'F5', 'FT7', 'FC3', 'C1', 'C5', 'TP7', 'CP3', 'P1', 'P5', 'PO7', 'PO3', 'POz', 'PO4', 'PO8', 'P6', 'P2', 'CPz', 'CP4', 'TP8', 'C6', 'C2', 'FC4', 'FT8', 'F6', 'AF8', 'AF4', 'F2', 'FCz']\n",
    "\n",
    "train_dataset = HDF5DataSplitGenerator(\n",
    "    dataset_type=\"train\",\n",
    "    test_size=0.2,\n",
    "    event_mode=\"fixed_length_event\",\n",
    "    event_duration=4,\n",
    "    lr_channel_names=lr_channel_names,\n",
    "    hr_channel_names=hr_channel_names\n",
    ")\n",
    "    \n",
    "val_dataset = HDF5DataSplitGenerator(\n",
    "    dataset_type=\"test\",\n",
    "    test_size=0.2,\n",
    "    event_mode=\"fixed_length_event\",\n",
    "    event_duration=4,\n",
    "    lr_channel_names=lr_channel_names,\n",
    "    hr_channel_names=hr_channel_names\n",
    ")\n",
    "    \n",
    "train_loader = DataLoader(\n",
    "    train_dataset,\n",
    "    batch_size=32,\n",
    "    shuffle=True,\n",
    "    num_workers=4,\n",
    "    pin_memory=True\n",
    ")\n",
    "    \n",
    "val_loader = DataLoader(\n",
    "    val_dataset,\n",
    "    batch_size=32,\n",
    "    shuffle=False,\n",
    "    num_workers=4,\n",
    "    pin_memory=True\n",
    ")"
   ]
  },
  {
   "cell_type": "code",
   "execution_count": 4,
   "id": "12c58d72",
   "metadata": {},
   "outputs": [
    {
     "data": {
      "text/plain": [
       "261"
      ]
     },
     "execution_count": 4,
     "metadata": {},
     "output_type": "execute_result"
    }
   ],
   "source": [
    "len(train_loader.dataset)"
   ]
  },
  {
   "cell_type": "code",
   "execution_count": 5,
   "id": "1a60d928",
   "metadata": {},
   "outputs": [
    {
     "data": {
      "text/plain": [
       "{'lo_res_shape': (14, 2048), 'hi_res_shape': (59, 2048)}"
      ]
     },
     "execution_count": 5,
     "metadata": {},
     "output_type": "execute_result"
    }
   ],
   "source": [
    "train_loader.dataset.get_data_shape()"
   ]
  },
  {
   "cell_type": "code",
   "execution_count": 6,
   "id": "9a532ac8",
   "metadata": {},
   "outputs": [
    {
     "data": {
      "text/plain": [
       "{'lo_res_channels': ['AF3',\n",
       "  'F7',\n",
       "  'F3',\n",
       "  'FC5',\n",
       "  'T7',\n",
       "  'P7',\n",
       "  'O1',\n",
       "  'O2',\n",
       "  'P8',\n",
       "  'T8',\n",
       "  'FC6',\n",
       "  'F4',\n",
       "  'F8',\n",
       "  'AF4'],\n",
       " 'hi_res_channels': ['Fp1',\n",
       "  'Fz',\n",
       "  'F3',\n",
       "  'F7',\n",
       "  'FC5',\n",
       "  'FC1',\n",
       "  'C3',\n",
       "  'T7',\n",
       "  'CP5',\n",
       "  'CP1',\n",
       "  'Pz',\n",
       "  'P3',\n",
       "  'P7',\n",
       "  'O1',\n",
       "  'Oz',\n",
       "  'O2',\n",
       "  'P4',\n",
       "  'P8',\n",
       "  'CP6',\n",
       "  'CP2',\n",
       "  'C4',\n",
       "  'T8',\n",
       "  'FC6',\n",
       "  'FC2',\n",
       "  'F4',\n",
       "  'F8',\n",
       "  'Fp2',\n",
       "  'AF7',\n",
       "  'AF3',\n",
       "  'AFz',\n",
       "  'F1',\n",
       "  'F5',\n",
       "  'FT7',\n",
       "  'FC3',\n",
       "  'C1',\n",
       "  'C5',\n",
       "  'TP7',\n",
       "  'CP3',\n",
       "  'P1',\n",
       "  'P5',\n",
       "  'PO7',\n",
       "  'PO3',\n",
       "  'POz',\n",
       "  'PO4',\n",
       "  'PO8',\n",
       "  'P6',\n",
       "  'P2',\n",
       "  'CPz',\n",
       "  'CP4',\n",
       "  'TP8',\n",
       "  'C6',\n",
       "  'C2',\n",
       "  'FC4',\n",
       "  'FT8',\n",
       "  'F6',\n",
       "  'AF8',\n",
       "  'AF4',\n",
       "  'F2',\n",
       "  'FCz']}"
      ]
     },
     "execution_count": 6,
     "metadata": {},
     "output_type": "execute_result"
    }
   ],
   "source": [
    "train_loader.dataset.get_channel_names()"
   ]
  },
  {
   "cell_type": "code",
   "execution_count": 10,
   "id": "3f1d8a31",
   "metadata": {},
   "outputs": [
    {
     "data": {
      "text/plain": [
       "9"
      ]
     },
     "execution_count": 10,
     "metadata": {},
     "output_type": "execute_result"
    }
   ],
   "source": [
    "len(train_loader)"
   ]
  }
 ],
 "metadata": {
  "kernelspec": {
   "display_name": "env",
   "language": "python",
   "name": "python3"
  },
  "language_info": {
   "codemirror_mode": {
    "name": "ipython",
    "version": 3
   },
   "file_extension": ".py",
   "mimetype": "text/x-python",
   "name": "python",
   "nbconvert_exporter": "python",
   "pygments_lexer": "ipython3",
   "version": "3.11.9"
  }
 },
 "nbformat": 4,
 "nbformat_minor": 5
}
