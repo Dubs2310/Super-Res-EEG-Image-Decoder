{
 "cells": [
  {
   "cell_type": "code",
   "execution_count": 1,
   "id": "986c4776",
   "metadata": {},
   "outputs": [
    {
     "name": "stderr",
     "output_type": "stream",
     "text": [
      "s:\\PolySecLabProjects\\eeg-image-decoding\\env\\Lib\\site-packages\\tqdm\\auto.py:21: TqdmWarning: IProgress not found. Please update jupyter and ipywidgets. See https://ipywidgets.readthedocs.io/en/stable/user_install.html\n",
      "  from .autonotebook import tqdm as notebook_tqdm\n"
     ]
    },
    {
     "name": "stdout",
     "output_type": "stream",
     "text": [
      "S:\\PolySecLabProjects\\eeg-image-decoding\\data\\all-joined-1\\eeg\\epochs\n"
     ]
    }
   ],
   "source": [
    "import sys\n",
    "import torch\n",
    "import wandb\n",
    "sys.path.append('..')\n",
    "import pytorch_lightning as pl\n",
    "from utils.data_modules.super_resolution import EEGSuperResolutionDataModule\n",
    "from models.trainers.super_resolution import SuperResolutionTrainerModel, SuperResolutionTrainerCallback"
   ]
  },
  {
   "cell_type": "code",
   "execution_count": 2,
   "id": "5fe0b6b4",
   "metadata": {},
   "outputs": [],
   "source": [
    "dm = EEGSuperResolutionDataModule(\n",
    "    input_channels=['Fp1', 'Fp2', 'AF3', 'AF4', 'F7', 'F3', 'Fz', 'F4', 'F8', 'FT7', 'FC3', 'FCz', 'FC4', 'FT8', 'T7', 'C3', 'Cz', 'C4', 'T8', 'TP7', 'CP3', 'CPz', 'CP4', 'TP8', 'P7', 'P3', 'Pz', 'P4', 'P8', 'O1', 'Oz', 'O2'],\n",
    "    output_channels=['Fp1', 'AF7', 'AF3', 'F1', 'F3', 'F5', 'F7', 'FT7', 'FC5', 'FC3', 'FC1', 'C1', 'C3', 'C5', 'T7', 'TP7', 'CP5', 'CP3', 'CP1', 'P1', 'P3', 'P5', 'P7', 'P9', 'PO7', 'PO3', 'O1', 'Iz', 'Oz', 'POz', 'Pz', 'CPz', 'Fpz', 'Fp2', 'AF8', 'AF4', 'AFz', 'Fz', 'F2', 'F4', 'F6', 'F8', 'FT8', 'FC6', 'FC4', 'FC2', 'FCz', 'Cz', 'C2', 'C4', 'C6', 'T8', 'TP8', 'CP6', 'CP4', 'CP2', 'P2', 'P4', 'P6', 'P8', 'P10', 'PO8', 'PO4', 'O2'],\n",
    "    sfreq=250,\n",
    "    montage='standard_1020',\n",
    "    window_before_event_ms=50,\n",
    "    window_after_event_ms=600,\n",
    "    subject=1, \n",
    "    session=1, \n",
    "    batch_size=32, \n",
    "    num_workers=4\n",
    ")"
   ]
  },
  {
   "cell_type": "code",
   "execution_count": 3,
   "id": "b7ce8b65",
   "metadata": {},
   "outputs": [
    {
     "name": "stdout",
     "output_type": "stream",
     "text": [
      "Creating Datasets...\n",
      "Original dataframe size: 2879\n",
      "Original dataframe size: 320\n",
      "Original dataframe size: 640\n"
     ]
    }
   ],
   "source": [
    "sample_data = dm.get_sample_info()\n",
    "epochs = 1\n",
    "subject = 1\n",
    "session = 1\n",
    "input_channels = sample_data['input']['channel_names']\n",
    "output_channels = sample_data['output']['channel_names']\n",
    "timesteps = sample_data['input']['num_timesteps']"
   ]
  },
  {
   "cell_type": "code",
   "execution_count": null,
   "id": "777826d1",
   "metadata": {},
   "outputs": [
    {
     "name": "stderr",
     "output_type": "stream",
     "text": [
      "GPU available: True (cuda), used: True\n",
      "TPU available: False, using: 0 TPU cores\n",
      "HPU available: False, using: 0 HPUs\n",
      "You are using a CUDA device ('NVIDIA GeForce RTX 3070 Laptop GPU') that has Tensor Cores. To properly utilize them, you should set `torch.set_float32_matmul_precision('medium' | 'high')` which will trade-off precision for performance. For more details, read https://pytorch.org/docs/stable/generated/torch.set_float32_matmul_precision.html#torch.set_float32_matmul_precision\n",
      "\u001b[34m\u001b[1mwandb\u001b[0m: Currently logged in as: \u001b[33mdubs2310\u001b[0m (\u001b[33mdubs2310-cal-poly-pomona\u001b[0m) to \u001b[32mhttps://api.wandb.ai\u001b[0m. Use \u001b[1m`wandb login --relogin`\u001b[0m to force relogin\n"
     ]
    },
    {
     "data": {
      "text/html": [
       "Tracking run with wandb version 0.19.11"
      ],
      "text/plain": [
       "<IPython.core.display.HTML object>"
      ]
     },
     "metadata": {},
     "output_type": "display_data"
    },
    {
     "data": {
      "text/html": [
       "Run data is saved locally in <code>.\\wandb\\run-20250706_233458-i0minfa1</code>"
      ],
      "text/plain": [
       "<IPython.core.display.HTML object>"
      ]
     },
     "metadata": {},
     "output_type": "display_data"
    },
    {
     "data": {
      "text/html": [
       "Syncing run <strong><a href='https://wandb.ai/dubs2310-cal-poly-pomona/eeg_super_resolution/runs/i0minfa1' target=\"_blank\">ethereal-cloud-1</a></strong> to <a href='https://wandb.ai/dubs2310-cal-poly-pomona/eeg_super_resolution' target=\"_blank\">Weights & Biases</a> (<a href='https://wandb.me/developer-guide' target=\"_blank\">docs</a>)<br>"
      ],
      "text/plain": [
       "<IPython.core.display.HTML object>"
      ]
     },
     "metadata": {},
     "output_type": "display_data"
    },
    {
     "data": {
      "text/html": [
       " View project at <a href='https://wandb.ai/dubs2310-cal-poly-pomona/eeg_super_resolution' target=\"_blank\">https://wandb.ai/dubs2310-cal-poly-pomona/eeg_super_resolution</a>"
      ],
      "text/plain": [
       "<IPython.core.display.HTML object>"
      ]
     },
     "metadata": {},
     "output_type": "display_data"
    },
    {
     "data": {
      "text/html": [
       " View run at <a href='https://wandb.ai/dubs2310-cal-poly-pomona/eeg_super_resolution/runs/i0minfa1' target=\"_blank\">https://wandb.ai/dubs2310-cal-poly-pomona/eeg_super_resolution/runs/i0minfa1</a>"
      ],
      "text/plain": [
       "<IPython.core.display.HTML object>"
      ]
     },
     "metadata": {},
     "output_type": "display_data"
    },
    {
     "name": "stdout",
     "output_type": "stream",
     "text": [
      "Creating Datasets...\n",
      "Original dataframe size: 2879\n",
      "Original dataframe size: 320\n"
     ]
    },
    {
     "name": "stderr",
     "output_type": "stream",
     "text": [
      "LOCAL_RANK: 0 - CUDA_VISIBLE_DEVICES: [0]\n",
      "\n",
      "  | Name                   | Type                           | Params | Mode \n",
      "----------------------------------------------------------------------------------\n",
      "0 | super_resolution_model | EEGSuperResolutionDefiner      | 492 K  | train\n",
      "1 | mean_train_loss        | MeanMetric                     | 0      | train\n",
      "2 | mean_val_loss          | MeanMetric                     | 0      | train\n",
      "3 | mean_test_loss         | MeanMetric                     | 0      | train\n",
      "4 | mean_test_snr          | SignalNoiseRatio               | 0      | train\n",
      "5 | mean_test_mae          | MeanAbsoluteError              | 0      | train\n",
      "6 | mean_test_mse          | MeanSquaredError               | 0      | train\n",
      "7 | mean_test_nrmse        | NormalizedRootMeanSquaredError | 0      | train\n",
      "8 | mean_test_pearson      | PearsonCorrCoef                | 0      | train\n",
      "----------------------------------------------------------------------------------\n",
      "492 K     Trainable params\n",
      "0         Non-trainable params\n",
      "492 K     Total params\n",
      "1.971     Total estimated model params size (MB)\n",
      "144       Modules in train mode\n",
      "0         Modules in eval mode\n"
     ]
    },
    {
     "name": "stdout",
     "output_type": "stream",
     "text": [
      "Original dataframe size: 640\n",
      "Epoch 0: 100%|██████████| 90/90 [06:43<00:00,  0.22it/s, v_num=nfa1]       "
     ]
    },
    {
     "name": "stderr",
     "output_type": "stream",
     "text": [
      "`Trainer.fit` stopped: `max_epochs=1` reached.\n"
     ]
    },
    {
     "name": "stdout",
     "output_type": "stream",
     "text": [
      "Epoch 0: 100%|██████████| 90/90 [06:43<00:00,  0.22it/s, v_num=nfa1]\n"
     ]
    },
    {
     "ename": "TypeError",
     "evalue": "isinstance expected 2 arguments, got 1",
     "output_type": "error",
     "traceback": [
      "\u001b[31m---------------------------------------------------------------------------\u001b[39m",
      "\u001b[31mTypeError\u001b[39m                                 Traceback (most recent call last)",
      "\u001b[36mCell\u001b[39m\u001b[36m \u001b[39m\u001b[32mIn[4]\u001b[39m\u001b[32m, line 25\u001b[39m\n\u001b[32m     22\u001b[39m trainer.fit(lightning_model, dm)\n\u001b[32m     23\u001b[39m \u001b[38;5;66;03m# trainer.test(lightning_model, dm)\u001b[39;00m\n\u001b[32m---> \u001b[39m\u001b[32m25\u001b[39m \u001b[38;5;28;01mif\u001b[39;00m logger \u001b[38;5;129;01mand\u001b[39;00m \u001b[38;5;28;43misinstance\u001b[39;49m\u001b[43m(\u001b[49m\u001b[43mpl\u001b[49m\u001b[43m.\u001b[49m\u001b[43mloggers\u001b[49m\u001b[43m.\u001b[49m\u001b[43mWandbLogger\u001b[49m\u001b[43m)\u001b[49m:\n\u001b[32m     26\u001b[39m     logger.finalize(\u001b[33m'\u001b[39m\u001b[33msuccess\u001b[39m\u001b[33m'\u001b[39m)\n\u001b[32m     27\u001b[39m     wandb.finish()\n",
      "\u001b[31mTypeError\u001b[39m: isinstance expected 2 arguments, got 1"
     ]
    }
   ],
   "source": [
    "lightning_model = SuperResolutionTrainerModel(input_channels, output_channels, timesteps)\n",
    "    \n",
    "checkpoint_callback = pl.callbacks.ModelCheckpoint(\n",
    "    dirpath=\"S:\\\\PolySecLabProjects\\\\eeg-image-decoding\\\\updated-code\\\\models\\\\check_points\\\\super_resolution\",\n",
    "    filename=f\"subj{subject}_session{session}_{{epoch}}\",\n",
    "    every_n_epochs=5,\n",
    "    save_top_k=-1\n",
    ")\n",
    "\n",
    "results_callback = SuperResolutionTrainerCallback()\n",
    "\n",
    "logger = pl.loggers.WandbLogger(project=\"eeg_super_resolution\")\n",
    "\n",
    "trainer = pl.Trainer(\n",
    "    max_epochs=epochs,\n",
    "    callbacks=[checkpoint_callback, results_callback],\n",
    "    logger=logger,\n",
    "    accelerator='gpu' if torch.cuda.is_available() else 'cpu',\n",
    "    devices=1\n",
    ")\n",
    "\n",
    "trainer.fit(lightning_model, dm)\n",
    "# trainer.test(lightning_model, dm)\n",
    "\n",
    "if logger and isinstance(logger, pl.loggers.WandbLogger):\n",
    "    logger.finalize('success')\n",
    "    wandb.finish()"
   ]
  },
  {
   "cell_type": "code",
   "execution_count": 5,
   "id": "5932fec1",
   "metadata": {},
   "outputs": [
    {
     "data": {
      "text/html": [],
      "text/plain": [
       "<IPython.core.display.HTML object>"
      ]
     },
     "metadata": {},
     "output_type": "display_data"
    },
    {
     "data": {
      "text/html": [
       "<br>    <style><br>        .wandb-row {<br>            display: flex;<br>            flex-direction: row;<br>            flex-wrap: wrap;<br>            justify-content: flex-start;<br>            width: 100%;<br>        }<br>        .wandb-col {<br>            display: flex;<br>            flex-direction: column;<br>            flex-basis: 100%;<br>            flex: 1;<br>            padding: 10px;<br>        }<br>    </style><br><div class=\"wandb-row\"><div class=\"wandb-col\"><h3>Run history:</h3><br/><table class=\"wandb\"><tr><td>epoch</td><td>▁▁▁</td></tr><tr><td>train_batch_loss</td><td>▁</td></tr><tr><td>train_loss</td><td>▁</td></tr><tr><td>trainer/global_step</td><td>▁██</td></tr><tr><td>val_loss</td><td>▁</td></tr></table><br/></div><div class=\"wandb-col\"><h3>Run summary:</h3><br/><table class=\"wandb\"><tr><td>epoch</td><td>0</td></tr><tr><td>train_batch_loss</td><td>120.7109</td></tr><tr><td>train_loss</td><td>130.10382</td></tr><tr><td>trainer/global_step</td><td>89</td></tr><tr><td>val_loss</td><td>127.13895</td></tr></table><br/></div></div>"
      ],
      "text/plain": [
       "<IPython.core.display.HTML object>"
      ]
     },
     "metadata": {},
     "output_type": "display_data"
    },
    {
     "data": {
      "text/html": [
       " View run <strong style=\"color:#cdcd00\">ethereal-cloud-1</strong> at: <a href='https://wandb.ai/dubs2310-cal-poly-pomona/eeg_super_resolution/runs/i0minfa1' target=\"_blank\">https://wandb.ai/dubs2310-cal-poly-pomona/eeg_super_resolution/runs/i0minfa1</a><br> View project at: <a href='https://wandb.ai/dubs2310-cal-poly-pomona/eeg_super_resolution' target=\"_blank\">https://wandb.ai/dubs2310-cal-poly-pomona/eeg_super_resolution</a><br>Synced 5 W&B file(s), 0 media file(s), 0 artifact file(s) and 0 other file(s)"
      ],
      "text/plain": [
       "<IPython.core.display.HTML object>"
      ]
     },
     "metadata": {},
     "output_type": "display_data"
    },
    {
     "data": {
      "text/html": [
       "Find logs at: <code>.\\wandb\\run-20250706_233458-i0minfa1\\logs</code>"
      ],
      "text/plain": [
       "<IPython.core.display.HTML object>"
      ]
     },
     "metadata": {},
     "output_type": "display_data"
    }
   ],
   "source": [
    "if logger and isinstance(logger, pl.loggers.WandbLogger):\n",
    "    logger.finalize('success')\n",
    "    wandb.finish()"
   ]
  },
  {
   "cell_type": "code",
   "execution_count": 6,
   "id": "96a2d45e",
   "metadata": {},
   "outputs": [
    {
     "data": {
      "text/plain": [
       "[{'epoch': 1, 'train_loss': 0, 'val_loss': 0}]"
      ]
     },
     "execution_count": 6,
     "metadata": {},
     "output_type": "execute_result"
    }
   ],
   "source": [
    "results = []\n",
    "for epoch in range(len(results_callback.train_losses)):\n",
    "    epoch_results = {\n",
    "        \"epoch\": epoch + 1,\n",
    "        \"train_loss\": results_callback.train_losses[epoch],\n",
    "        \"val_loss\": results_callback.val_losses[epoch] if epoch < len(results_callback.val_losses) else 0\n",
    "    }\n",
    "    results.append(epoch_results)\n",
    "\n",
    "if results_callback.test_metrics:\n",
    "    results.append({\"test_metrics\": results_callback.test_metrics})\n",
    "\n",
    "results"
   ]
  }
 ],
 "metadata": {
  "kernelspec": {
   "display_name": "env",
   "language": "python",
   "name": "python3"
  },
  "language_info": {
   "codemirror_mode": {
    "name": "ipython",
    "version": 3
   },
   "file_extension": ".py",
   "mimetype": "text/x-python",
   "name": "python",
   "nbconvert_exporter": "python",
   "pygments_lexer": "ipython3",
   "version": "3.11.9"
  }
 },
 "nbformat": 4,
 "nbformat_minor": 5
}
