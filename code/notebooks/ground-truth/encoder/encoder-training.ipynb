{
 "cells": [
  {
   "cell_type": "code",
   "execution_count": 1,
   "id": "986c4776",
   "metadata": {},
   "outputs": [
    {
     "name": "stdout",
     "output_type": "stream",
     "text": [
      "/workspace/eeg-image-decoding/data/all-joined-1/eeg/epochs\n"
     ]
    }
   ],
   "source": [
    "import sys\n",
    "import math\n",
    "import wandb\n",
    "import torch\n",
    "sys.path.append('..')\n",
    "import pytorch_lightning as pl\n",
    "from pytorch_lightning.callbacks import ModelCheckpoint\n",
    "from utils.data_modules.contrastive import EEGContrastiveDataModule\n",
    "from models.trainers.contrastive import ContrastiveTrainerModel, PlottingCallback"
   ]
  },
  {
   "cell_type": "code",
   "execution_count": 2,
   "id": "cb4f8703",
   "metadata": {},
   "outputs": [],
   "source": [
    "dm = EEGContrastiveDataModule(\n",
    "    input_channels=['Fp1', 'AF7', 'AF3', 'F1', 'F3', 'F5', 'F7', 'FT7', 'FC5', 'FC3', 'FC1', 'C1', 'C3', 'C5', 'T7', 'TP7', 'CP5', 'CP3', 'CP1', 'P1', 'P3', 'P5', 'P7', 'P9', 'PO7', 'PO3', 'O1', 'Iz', 'Oz', 'POz', 'Pz', 'CPz', 'Fpz', 'Fp2', 'AF8', 'AF4', 'AFz', 'Fz', 'F2', 'F4', 'F6', 'F8', 'FT8', 'FC6', 'FC4', 'FC2', 'FCz', 'Cz', 'C2', 'C4', 'C6', 'T8', 'TP8', 'CP6', 'CP4', 'CP2', 'P2', 'P4', 'P6', 'P8', 'P10', 'PO8', 'PO4', 'O2'],\n",
    "    sfreq=250,\n",
    "    montage='standard_1020',\n",
    "    window_before_event_ms=50,\n",
    "    window_after_event_ms=600,\n",
    "    subject=1, \n",
    "    session=1, \n",
    "    batch_size=64, \n",
    "    num_workers=4\n",
    ")"
   ]
  },
  {
   "cell_type": "code",
   "execution_count": 3,
   "id": "0e1fe4eb",
   "metadata": {},
   "outputs": [
    {
     "name": "stdout",
     "output_type": "stream",
     "text": [
      "Creating Datasets...\n",
      "Original dataframe size: 2887\n",
      "Original dataframe size: 321\n",
      "Original dataframe size: 631\n"
     ]
    }
   ],
   "source": [
    "sample_data = dm.get_sample_info()\n",
    "epochs = 200\n",
    "subject = 1\n",
    "session = 1\n",
    "num_channels = sample_data['input']['num_channels']\n",
    "timesteps = sample_data['input']['num_timesteps']\n",
    "num_fine_labels = sample_data['output']['fine_labels_shape']"
   ]
  },
  {
   "cell_type": "code",
   "execution_count": 4,
   "id": "54b3ee16",
   "metadata": {},
   "outputs": [
    {
     "name": "stderr",
     "output_type": "stream",
     "text": [
      "/venv/main/lib/python3.10/site-packages/braindecode/models/base.py:23: UserWarning: EEGNetv4: 'in_chans' is depreciated. Use 'n_chans' instead.\n",
      "  warnings.warn(\n",
      "/venv/main/lib/python3.10/site-packages/braindecode/models/base.py:23: UserWarning: EEGNetv4: 'n_classes' is depreciated. Use 'n_outputs' instead.\n",
      "  warnings.warn(\n",
      "/venv/main/lib/python3.10/site-packages/braindecode/models/base.py:23: UserWarning: EEGNetv4: 'input_window_samples' is depreciated. Use 'n_times' instead.\n",
      "  warnings.warn(\n",
      "GPU available: True (cuda), used: True\n",
      "TPU available: False, using: 0 TPU cores\n",
      "HPU available: False, using: 0 HPUs\n",
      "You are using a CUDA device ('NVIDIA H100 NVL') that has Tensor Cores. To properly utilize them, you should set `torch.set_float32_matmul_precision('medium' | 'high')` which will trade-off precision for performance. For more details, read https://pytorch.org/docs/stable/generated/torch.set_float32_matmul_precision.html#torch.set_float32_matmul_precision\n",
      "\u001b[34m\u001b[1mwandb\u001b[0m: \u001b[32m\u001b[41mERROR\u001b[0m Failed to detect the name of this notebook. You can set it manually with the WANDB_NOTEBOOK_NAME environment variable to enable code saving.\n",
      "\u001b[34m\u001b[1mwandb\u001b[0m: Currently logged in as: \u001b[33mdubs2310\u001b[0m (\u001b[33mdubs2310-cal-poly-pomona\u001b[0m) to \u001b[32mhttps://api.wandb.ai\u001b[0m. Use \u001b[1m`wandb login --relogin`\u001b[0m to force relogin\n"
     ]
    },
    {
     "data": {
      "text/html": [
       "Tracking run with wandb version 0.21.0"
      ],
      "text/plain": [
       "<IPython.core.display.HTML object>"
      ]
     },
     "metadata": {},
     "output_type": "display_data"
    },
    {
     "data": {
      "text/html": [
       "Run data is saved locally in <code>./wandb/run-20250707_111551-y7ypplz4</code>"
      ],
      "text/plain": [
       "<IPython.core.display.HTML object>"
      ]
     },
     "metadata": {},
     "output_type": "display_data"
    },
    {
     "data": {
      "text/html": [
       "Syncing run <strong><a href='https://wandb.ai/dubs2310-cal-poly-pomona/contrastive_eeg_net/runs/y7ypplz4' target=\"_blank\">pretty-cloud-9</a></strong> to <a href='https://wandb.ai/dubs2310-cal-poly-pomona/contrastive_eeg_net' target=\"_blank\">Weights & Biases</a> (<a href='https://wandb.me/developer-guide' target=\"_blank\">docs</a>)<br>"
      ],
      "text/plain": [
       "<IPython.core.display.HTML object>"
      ]
     },
     "metadata": {},
     "output_type": "display_data"
    },
    {
     "data": {
      "text/html": [
       " View project at <a href='https://wandb.ai/dubs2310-cal-poly-pomona/contrastive_eeg_net' target=\"_blank\">https://wandb.ai/dubs2310-cal-poly-pomona/contrastive_eeg_net</a>"
      ],
      "text/plain": [
       "<IPython.core.display.HTML object>"
      ]
     },
     "metadata": {},
     "output_type": "display_data"
    },
    {
     "data": {
      "text/html": [
       " View run at <a href='https://wandb.ai/dubs2310-cal-poly-pomona/contrastive_eeg_net/runs/y7ypplz4' target=\"_blank\">https://wandb.ai/dubs2310-cal-poly-pomona/contrastive_eeg_net/runs/y7ypplz4</a>"
      ],
      "text/plain": [
       "<IPython.core.display.HTML object>"
      ]
     },
     "metadata": {},
     "output_type": "display_data"
    },
    {
     "name": "stdout",
     "output_type": "stream",
     "text": [
      "Creating Datasets...\n",
      "Original dataframe size: 2887\n",
      "Original dataframe size: 321\n"
     ]
    },
    {
     "name": "stderr",
     "output_type": "stream",
     "text": [
      "LOCAL_RANK: 0 - CUDA_VISIBLE_DEVICES: [0]\n",
      "\n",
      "   | Name                  | Type                      | Params | Mode \n",
      "-----------------------------------------------------------------------------\n",
      "0  | encoder               | EEGEncoderDefiner         | 859 K  | train\n",
      "1  | train_loss            | MeanMetric                | 0      | train\n",
      "2  | train_accuracy        | MultilabelAccuracy        | 0      | train\n",
      "3  | val_loss              | MeanMetric                | 0      | train\n",
      "4  | val_accuracy          | MultilabelAccuracy        | 0      | train\n",
      "5  | v2_acc                | MultilabelAccuracy        | 0      | train\n",
      "6  | v4_acc                | MultilabelAccuracy        | 0      | train\n",
      "7  | v10_acc               | MultilabelAccuracy        | 0      | train\n",
      "8  | v80_acc               | MultilabelAccuracy        | 0      | train\n",
      "9  | top5_acc              | MeanMetric                | 0      | train\n",
      "10 | test_precision        | MultilabelPrecision       | 0      | train\n",
      "11 | test_recall           | MultilabelRecall          | 0      | train\n",
      "12 | test_f1               | MultilabelF1Score         | 0      | train\n",
      "13 | test_auroc            | MultilabelAUROC           | 0      | train\n",
      "14 | test_confusion_matrix | MultilabelConfusionMatrix | 0      | train\n",
      "-----------------------------------------------------------------------------\n",
      "859 K     Trainable params\n",
      "0         Non-trainable params\n",
      "859 K     Total params\n",
      "3.437     Total estimated model params size (MB)\n",
      "36        Modules in train mode\n",
      "0         Modules in eval mode\n"
     ]
    },
    {
     "name": "stdout",
     "output_type": "stream",
     "text": [
      "Original dataframe size: 631\n"
     ]
    },
    {
     "data": {
      "application/vnd.jupyter.widget-view+json": {
       "model_id": "f34c33cf5f264d938875bf64a74ddc9f",
       "version_major": 2,
       "version_minor": 0
      },
      "text/plain": [
       "Sanity Checking: |          | 0/? [00:00<?, ?it/s]"
      ]
     },
     "metadata": {},
     "output_type": "display_data"
    },
    {
     "name": "stderr",
     "output_type": "stream",
     "text": [
      "/venv/main/lib/python3.10/site-packages/torchmetrics/utilities/prints.py:43: UserWarning: The ``compute`` method of metric MeanMetric was called before the ``update`` method which may lead to errors, as metric states have not yet been updated.\n",
      "  warnings.warn(*args, **kwargs)\n",
      "/venv/main/lib/python3.10/site-packages/torchmetrics/utilities/prints.py:43: UserWarning: The ``compute`` method of metric MultilabelAccuracy was called before the ``update`` method which may lead to errors, as metric states have not yet been updated.\n",
      "  warnings.warn(*args, **kwargs)\n",
      "/venv/main/lib/python3.10/site-packages/pytorch_lightning/loops/fit_loop.py:310: The number of training batches (46) is smaller than the logging interval Trainer(log_every_n_steps=50). Set a lower value for log_every_n_steps if you want to see logs for the training epoch.\n"
     ]
    },
    {
     "data": {
      "application/vnd.jupyter.widget-view+json": {
       "model_id": "83e09d5f127f42938ca7ebe9806c3484",
       "version_major": 2,
       "version_minor": 0
      },
      "text/plain": [
       "Training: |          | 0/? [00:00<?, ?it/s]"
      ]
     },
     "metadata": {},
     "output_type": "display_data"
    },
    {
     "data": {
      "application/vnd.jupyter.widget-view+json": {
       "model_id": "c4d601000b67443abcc2174ef2a1689f",
       "version_major": 2,
       "version_minor": 0
      },
      "text/plain": [
       "Validation: |          | 0/? [00:00<?, ?it/s]"
      ]
     },
     "metadata": {},
     "output_type": "display_data"
    },
    {
     "data": {
      "application/vnd.jupyter.widget-view+json": {
       "model_id": "d3af305451c14a4db535d82e38ff83b1",
       "version_major": 2,
       "version_minor": 0
      },
      "text/plain": [
       "Validation: |          | 0/? [00:00<?, ?it/s]"
      ]
     },
     "metadata": {},
     "output_type": "display_data"
    },
    {
     "data": {
      "application/vnd.jupyter.widget-view+json": {
       "model_id": "399dce21994c41799787577835f34c81",
       "version_major": 2,
       "version_minor": 0
      },
      "text/plain": [
       "Validation: |          | 0/? [00:00<?, ?it/s]"
      ]
     },
     "metadata": {},
     "output_type": "display_data"
    },
    {
     "data": {
      "application/vnd.jupyter.widget-view+json": {
       "model_id": "7c4ff7eb4592421784e66d54660fac17",
       "version_major": 2,
       "version_minor": 0
      },
      "text/plain": [
       "Validation: |          | 0/? [00:00<?, ?it/s]"
      ]
     },
     "metadata": {},
     "output_type": "display_data"
    },
    {
     "data": {
      "application/vnd.jupyter.widget-view+json": {
       "model_id": "b0b051696f844b8096168ffb1e491c17",
       "version_major": 2,
       "version_minor": 0
      },
      "text/plain": [
       "Validation: |          | 0/? [00:00<?, ?it/s]"
      ]
     },
     "metadata": {},
     "output_type": "display_data"
    },
    {
     "data": {
      "application/vnd.jupyter.widget-view+json": {
       "model_id": "ec754e7b2e8a45dcaaf9e7a442b1523b",
       "version_major": 2,
       "version_minor": 0
      },
      "text/plain": [
       "Validation: |          | 0/? [00:00<?, ?it/s]"
      ]
     },
     "metadata": {},
     "output_type": "display_data"
    },
    {
     "data": {
      "application/vnd.jupyter.widget-view+json": {
       "model_id": "30a29bec67d8485f8b01f575222ce35c",
       "version_major": 2,
       "version_minor": 0
      },
      "text/plain": [
       "Validation: |          | 0/? [00:00<?, ?it/s]"
      ]
     },
     "metadata": {},
     "output_type": "display_data"
    },
    {
     "data": {
      "application/vnd.jupyter.widget-view+json": {
       "model_id": "37a9a28a6bfe48b0bebd9a31113b3fb0",
       "version_major": 2,
       "version_minor": 0
      },
      "text/plain": [
       "Validation: |          | 0/? [00:00<?, ?it/s]"
      ]
     },
     "metadata": {},
     "output_type": "display_data"
    },
    {
     "data": {
      "application/vnd.jupyter.widget-view+json": {
       "model_id": "5c30e3121df44a2a8f17c612e3f3d1ee",
       "version_major": 2,
       "version_minor": 0
      },
      "text/plain": [
       "Validation: |          | 0/? [00:00<?, ?it/s]"
      ]
     },
     "metadata": {},
     "output_type": "display_data"
    },
    {
     "data": {
      "application/vnd.jupyter.widget-view+json": {
       "model_id": "1262e9c89d8e4e62813cff0414e10d1e",
       "version_major": 2,
       "version_minor": 0
      },
      "text/plain": [
       "Validation: |          | 0/? [00:00<?, ?it/s]"
      ]
     },
     "metadata": {},
     "output_type": "display_data"
    },
    {
     "data": {
      "application/vnd.jupyter.widget-view+json": {
       "model_id": "6d13357fa29c408da5b729297e540d84",
       "version_major": 2,
       "version_minor": 0
      },
      "text/plain": [
       "Validation: |          | 0/? [00:00<?, ?it/s]"
      ]
     },
     "metadata": {},
     "output_type": "display_data"
    },
    {
     "data": {
      "application/vnd.jupyter.widget-view+json": {
       "model_id": "10b8aa2abe5c43cfa0b52718dfc1bf82",
       "version_major": 2,
       "version_minor": 0
      },
      "text/plain": [
       "Validation: |          | 0/? [00:00<?, ?it/s]"
      ]
     },
     "metadata": {},
     "output_type": "display_data"
    },
    {
     "data": {
      "application/vnd.jupyter.widget-view+json": {
       "model_id": "11e5084d24de4d7483bff7dda53b9ec8",
       "version_major": 2,
       "version_minor": 0
      },
      "text/plain": [
       "Validation: |          | 0/? [00:00<?, ?it/s]"
      ]
     },
     "metadata": {},
     "output_type": "display_data"
    },
    {
     "data": {
      "application/vnd.jupyter.widget-view+json": {
       "model_id": "4b4372bfe98346579cf6fc5ef081eb2f",
       "version_major": 2,
       "version_minor": 0
      },
      "text/plain": [
       "Validation: |          | 0/? [00:00<?, ?it/s]"
      ]
     },
     "metadata": {},
     "output_type": "display_data"
    },
    {
     "data": {
      "application/vnd.jupyter.widget-view+json": {
       "model_id": "b3b69ab9bc76424d93b5d6f07f8ad097",
       "version_major": 2,
       "version_minor": 0
      },
      "text/plain": [
       "Validation: |          | 0/? [00:00<?, ?it/s]"
      ]
     },
     "metadata": {},
     "output_type": "display_data"
    },
    {
     "data": {
      "application/vnd.jupyter.widget-view+json": {
       "model_id": "9ecc3cbd516448e8b57178515f9e1d52",
       "version_major": 2,
       "version_minor": 0
      },
      "text/plain": [
       "Validation: |          | 0/? [00:00<?, ?it/s]"
      ]
     },
     "metadata": {},
     "output_type": "display_data"
    },
    {
     "data": {
      "application/vnd.jupyter.widget-view+json": {
       "model_id": "fe75b58fe5094e80880e2fed25367c7f",
       "version_major": 2,
       "version_minor": 0
      },
      "text/plain": [
       "Validation: |          | 0/? [00:00<?, ?it/s]"
      ]
     },
     "metadata": {},
     "output_type": "display_data"
    },
    {
     "data": {
      "application/vnd.jupyter.widget-view+json": {
       "model_id": "749682ce44b04e2a91272689720cda53",
       "version_major": 2,
       "version_minor": 0
      },
      "text/plain": [
       "Validation: |          | 0/? [00:00<?, ?it/s]"
      ]
     },
     "metadata": {},
     "output_type": "display_data"
    },
    {
     "data": {
      "application/vnd.jupyter.widget-view+json": {
       "model_id": "6e6d7fd73ca04418a94835d696394a45",
       "version_major": 2,
       "version_minor": 0
      },
      "text/plain": [
       "Validation: |          | 0/? [00:00<?, ?it/s]"
      ]
     },
     "metadata": {},
     "output_type": "display_data"
    },
    {
     "data": {
      "application/vnd.jupyter.widget-view+json": {
       "model_id": "68b37207973d4906aaf72b3d80566d1e",
       "version_major": 2,
       "version_minor": 0
      },
      "text/plain": [
       "Validation: |          | 0/? [00:00<?, ?it/s]"
      ]
     },
     "metadata": {},
     "output_type": "display_data"
    },
    {
     "data": {
      "application/vnd.jupyter.widget-view+json": {
       "model_id": "f04eff714b784297b7ef59d979ba34d0",
       "version_major": 2,
       "version_minor": 0
      },
      "text/plain": [
       "Validation: |          | 0/? [00:00<?, ?it/s]"
      ]
     },
     "metadata": {},
     "output_type": "display_data"
    },
    {
     "data": {
      "application/vnd.jupyter.widget-view+json": {
       "model_id": "9a9ed2846eeb4c21b1d0b54884d96ec2",
       "version_major": 2,
       "version_minor": 0
      },
      "text/plain": [
       "Validation: |          | 0/? [00:00<?, ?it/s]"
      ]
     },
     "metadata": {},
     "output_type": "display_data"
    },
    {
     "data": {
      "application/vnd.jupyter.widget-view+json": {
       "model_id": "af94294b505d4022969a1deacb787bc6",
       "version_major": 2,
       "version_minor": 0
      },
      "text/plain": [
       "Validation: |          | 0/? [00:00<?, ?it/s]"
      ]
     },
     "metadata": {},
     "output_type": "display_data"
    },
    {
     "data": {
      "application/vnd.jupyter.widget-view+json": {
       "model_id": "1a6b20f9d8dd4e70a75c137a510ecc96",
       "version_major": 2,
       "version_minor": 0
      },
      "text/plain": [
       "Validation: |          | 0/? [00:00<?, ?it/s]"
      ]
     },
     "metadata": {},
     "output_type": "display_data"
    },
    {
     "data": {
      "application/vnd.jupyter.widget-view+json": {
       "model_id": "c843732508194b86a0f5a6dfce505e65",
       "version_major": 2,
       "version_minor": 0
      },
      "text/plain": [
       "Validation: |          | 0/? [00:00<?, ?it/s]"
      ]
     },
     "metadata": {},
     "output_type": "display_data"
    },
    {
     "data": {
      "application/vnd.jupyter.widget-view+json": {
       "model_id": "6d589078d80840e1ae91f4cec08d6755",
       "version_major": 2,
       "version_minor": 0
      },
      "text/plain": [
       "Validation: |          | 0/? [00:00<?, ?it/s]"
      ]
     },
     "metadata": {},
     "output_type": "display_data"
    },
    {
     "data": {
      "application/vnd.jupyter.widget-view+json": {
       "model_id": "3f7025fd208b4448bb96fdd5133f1077",
       "version_major": 2,
       "version_minor": 0
      },
      "text/plain": [
       "Validation: |          | 0/? [00:00<?, ?it/s]"
      ]
     },
     "metadata": {},
     "output_type": "display_data"
    },
    {
     "data": {
      "application/vnd.jupyter.widget-view+json": {
       "model_id": "48298e8e3dc849569baa5449f8fc6459",
       "version_major": 2,
       "version_minor": 0
      },
      "text/plain": [
       "Validation: |          | 0/? [00:00<?, ?it/s]"
      ]
     },
     "metadata": {},
     "output_type": "display_data"
    },
    {
     "data": {
      "application/vnd.jupyter.widget-view+json": {
       "model_id": "3e9f1da1544749188f503366de26198b",
       "version_major": 2,
       "version_minor": 0
      },
      "text/plain": [
       "Validation: |          | 0/? [00:00<?, ?it/s]"
      ]
     },
     "metadata": {},
     "output_type": "display_data"
    },
    {
     "data": {
      "application/vnd.jupyter.widget-view+json": {
       "model_id": "62d62e7d9457422984acca1f07ae6a49",
       "version_major": 2,
       "version_minor": 0
      },
      "text/plain": [
       "Validation: |          | 0/? [00:00<?, ?it/s]"
      ]
     },
     "metadata": {},
     "output_type": "display_data"
    },
    {
     "data": {
      "application/vnd.jupyter.widget-view+json": {
       "model_id": "0da45803483144778b61c8246d3ca214",
       "version_major": 2,
       "version_minor": 0
      },
      "text/plain": [
       "Validation: |          | 0/? [00:00<?, ?it/s]"
      ]
     },
     "metadata": {},
     "output_type": "display_data"
    },
    {
     "data": {
      "application/vnd.jupyter.widget-view+json": {
       "model_id": "0dc2ebd415a14fb7834bfaef586e6d85",
       "version_major": 2,
       "version_minor": 0
      },
      "text/plain": [
       "Validation: |          | 0/? [00:00<?, ?it/s]"
      ]
     },
     "metadata": {},
     "output_type": "display_data"
    },
    {
     "data": {
      "application/vnd.jupyter.widget-view+json": {
       "model_id": "45411c27af5f40e981c81b5ab463d99b",
       "version_major": 2,
       "version_minor": 0
      },
      "text/plain": [
       "Validation: |          | 0/? [00:00<?, ?it/s]"
      ]
     },
     "metadata": {},
     "output_type": "display_data"
    },
    {
     "data": {
      "application/vnd.jupyter.widget-view+json": {
       "model_id": "7571475d8201445694a6f454eca965c7",
       "version_major": 2,
       "version_minor": 0
      },
      "text/plain": [
       "Validation: |          | 0/? [00:00<?, ?it/s]"
      ]
     },
     "metadata": {},
     "output_type": "display_data"
    },
    {
     "data": {
      "application/vnd.jupyter.widget-view+json": {
       "model_id": "745132011012458c88b15c4d4e1509d8",
       "version_major": 2,
       "version_minor": 0
      },
      "text/plain": [
       "Validation: |          | 0/? [00:00<?, ?it/s]"
      ]
     },
     "metadata": {},
     "output_type": "display_data"
    },
    {
     "data": {
      "application/vnd.jupyter.widget-view+json": {
       "model_id": "d3bba5b272114cc5acecbee4b6f55036",
       "version_major": 2,
       "version_minor": 0
      },
      "text/plain": [
       "Validation: |          | 0/? [00:00<?, ?it/s]"
      ]
     },
     "metadata": {},
     "output_type": "display_data"
    },
    {
     "data": {
      "application/vnd.jupyter.widget-view+json": {
       "model_id": "1608c1e9093041c8a423db594f392a46",
       "version_major": 2,
       "version_minor": 0
      },
      "text/plain": [
       "Validation: |          | 0/? [00:00<?, ?it/s]"
      ]
     },
     "metadata": {},
     "output_type": "display_data"
    },
    {
     "data": {
      "application/vnd.jupyter.widget-view+json": {
       "model_id": "ebf413c1d14444f79b54356294a00050",
       "version_major": 2,
       "version_minor": 0
      },
      "text/plain": [
       "Validation: |          | 0/? [00:00<?, ?it/s]"
      ]
     },
     "metadata": {},
     "output_type": "display_data"
    },
    {
     "data": {
      "application/vnd.jupyter.widget-view+json": {
       "model_id": "d9601c5124614aa3851a38ca28a4fcea",
       "version_major": 2,
       "version_minor": 0
      },
      "text/plain": [
       "Validation: |          | 0/? [00:00<?, ?it/s]"
      ]
     },
     "metadata": {},
     "output_type": "display_data"
    },
    {
     "data": {
      "application/vnd.jupyter.widget-view+json": {
       "model_id": "336e3d632256415c94826ad2e39f5d7e",
       "version_major": 2,
       "version_minor": 0
      },
      "text/plain": [
       "Validation: |          | 0/? [00:00<?, ?it/s]"
      ]
     },
     "metadata": {},
     "output_type": "display_data"
    },
    {
     "data": {
      "application/vnd.jupyter.widget-view+json": {
       "model_id": "67440f45136f407fb9ccd602f7bb0f77",
       "version_major": 2,
       "version_minor": 0
      },
      "text/plain": [
       "Validation: |          | 0/? [00:00<?, ?it/s]"
      ]
     },
     "metadata": {},
     "output_type": "display_data"
    },
    {
     "data": {
      "application/vnd.jupyter.widget-view+json": {
       "model_id": "4e50c7e3d9bc44f795d382cb769e48a2",
       "version_major": 2,
       "version_minor": 0
      },
      "text/plain": [
       "Validation: |          | 0/? [00:00<?, ?it/s]"
      ]
     },
     "metadata": {},
     "output_type": "display_data"
    },
    {
     "data": {
      "application/vnd.jupyter.widget-view+json": {
       "model_id": "b266a0384e9a4ae5acbb9a9e7b78da38",
       "version_major": 2,
       "version_minor": 0
      },
      "text/plain": [
       "Validation: |          | 0/? [00:00<?, ?it/s]"
      ]
     },
     "metadata": {},
     "output_type": "display_data"
    },
    {
     "data": {
      "application/vnd.jupyter.widget-view+json": {
       "model_id": "02204817a0b742938719f21b7dd316a5",
       "version_major": 2,
       "version_minor": 0
      },
      "text/plain": [
       "Validation: |          | 0/? [00:00<?, ?it/s]"
      ]
     },
     "metadata": {},
     "output_type": "display_data"
    },
    {
     "data": {
      "application/vnd.jupyter.widget-view+json": {
       "model_id": "2114240d536546ecbd09fc9ca1a2bd56",
       "version_major": 2,
       "version_minor": 0
      },
      "text/plain": [
       "Validation: |          | 0/? [00:00<?, ?it/s]"
      ]
     },
     "metadata": {},
     "output_type": "display_data"
    },
    {
     "data": {
      "application/vnd.jupyter.widget-view+json": {
       "model_id": "7c566449664e42768d0ce1c7d0a4df09",
       "version_major": 2,
       "version_minor": 0
      },
      "text/plain": [
       "Validation: |          | 0/? [00:00<?, ?it/s]"
      ]
     },
     "metadata": {},
     "output_type": "display_data"
    },
    {
     "data": {
      "application/vnd.jupyter.widget-view+json": {
       "model_id": "4200e79928814da3b1ea8a83540687eb",
       "version_major": 2,
       "version_minor": 0
      },
      "text/plain": [
       "Validation: |          | 0/? [00:00<?, ?it/s]"
      ]
     },
     "metadata": {},
     "output_type": "display_data"
    },
    {
     "data": {
      "application/vnd.jupyter.widget-view+json": {
       "model_id": "44e4fc933e444baa90b3a7b9395a1411",
       "version_major": 2,
       "version_minor": 0
      },
      "text/plain": [
       "Validation: |          | 0/? [00:00<?, ?it/s]"
      ]
     },
     "metadata": {},
     "output_type": "display_data"
    },
    {
     "data": {
      "application/vnd.jupyter.widget-view+json": {
       "model_id": "5f7e7150d5684b6face2bba21274fa73",
       "version_major": 2,
       "version_minor": 0
      },
      "text/plain": [
       "Validation: |          | 0/? [00:00<?, ?it/s]"
      ]
     },
     "metadata": {},
     "output_type": "display_data"
    },
    {
     "data": {
      "application/vnd.jupyter.widget-view+json": {
       "model_id": "25645743962d484eb62dc8a41eee527f",
       "version_major": 2,
       "version_minor": 0
      },
      "text/plain": [
       "Validation: |          | 0/? [00:00<?, ?it/s]"
      ]
     },
     "metadata": {},
     "output_type": "display_data"
    },
    {
     "data": {
      "application/vnd.jupyter.widget-view+json": {
       "model_id": "179f930ba2384292a2dae14c1f5fe4af",
       "version_major": 2,
       "version_minor": 0
      },
      "text/plain": [
       "Validation: |          | 0/? [00:00<?, ?it/s]"
      ]
     },
     "metadata": {},
     "output_type": "display_data"
    },
    {
     "data": {
      "application/vnd.jupyter.widget-view+json": {
       "model_id": "96c82c3ebf024b759c6bcf3c533b3a10",
       "version_major": 2,
       "version_minor": 0
      },
      "text/plain": [
       "Validation: |          | 0/? [00:00<?, ?it/s]"
      ]
     },
     "metadata": {},
     "output_type": "display_data"
    },
    {
     "data": {
      "application/vnd.jupyter.widget-view+json": {
       "model_id": "4f26e259e2dd4723bddd3c4e80fc912d",
       "version_major": 2,
       "version_minor": 0
      },
      "text/plain": [
       "Validation: |          | 0/? [00:00<?, ?it/s]"
      ]
     },
     "metadata": {},
     "output_type": "display_data"
    },
    {
     "data": {
      "application/vnd.jupyter.widget-view+json": {
       "model_id": "b51166ebebfa43498cca309e0da487e6",
       "version_major": 2,
       "version_minor": 0
      },
      "text/plain": [
       "Validation: |          | 0/? [00:00<?, ?it/s]"
      ]
     },
     "metadata": {},
     "output_type": "display_data"
    },
    {
     "data": {
      "application/vnd.jupyter.widget-view+json": {
       "model_id": "56ed0edbe4fa4e7ab3cf8dfc4e75d262",
       "version_major": 2,
       "version_minor": 0
      },
      "text/plain": [
       "Validation: |          | 0/? [00:00<?, ?it/s]"
      ]
     },
     "metadata": {},
     "output_type": "display_data"
    },
    {
     "data": {
      "application/vnd.jupyter.widget-view+json": {
       "model_id": "6269f12bee6c4f2297afe4665b7bfcbb",
       "version_major": 2,
       "version_minor": 0
      },
      "text/plain": [
       "Validation: |          | 0/? [00:00<?, ?it/s]"
      ]
     },
     "metadata": {},
     "output_type": "display_data"
    },
    {
     "data": {
      "application/vnd.jupyter.widget-view+json": {
       "model_id": "d4ff86de0e644f37a90d74d844a04cca",
       "version_major": 2,
       "version_minor": 0
      },
      "text/plain": [
       "Validation: |          | 0/? [00:00<?, ?it/s]"
      ]
     },
     "metadata": {},
     "output_type": "display_data"
    },
    {
     "data": {
      "application/vnd.jupyter.widget-view+json": {
       "model_id": "9c822d5f8ede425783d54f378f6ee5ed",
       "version_major": 2,
       "version_minor": 0
      },
      "text/plain": [
       "Validation: |          | 0/? [00:00<?, ?it/s]"
      ]
     },
     "metadata": {},
     "output_type": "display_data"
    },
    {
     "data": {
      "application/vnd.jupyter.widget-view+json": {
       "model_id": "ec4e25ed1abf42c1a77accacd65fb322",
       "version_major": 2,
       "version_minor": 0
      },
      "text/plain": [
       "Validation: |          | 0/? [00:00<?, ?it/s]"
      ]
     },
     "metadata": {},
     "output_type": "display_data"
    },
    {
     "data": {
      "application/vnd.jupyter.widget-view+json": {
       "model_id": "3c115485bd584870ac60b85619e475ae",
       "version_major": 2,
       "version_minor": 0
      },
      "text/plain": [
       "Validation: |          | 0/? [00:00<?, ?it/s]"
      ]
     },
     "metadata": {},
     "output_type": "display_data"
    },
    {
     "data": {
      "application/vnd.jupyter.widget-view+json": {
       "model_id": "0dfaa34e5b184a0db20755457bee8d1b",
       "version_major": 2,
       "version_minor": 0
      },
      "text/plain": [
       "Validation: |          | 0/? [00:00<?, ?it/s]"
      ]
     },
     "metadata": {},
     "output_type": "display_data"
    },
    {
     "data": {
      "application/vnd.jupyter.widget-view+json": {
       "model_id": "017e9b00274b432ab69a4c17daa2d292",
       "version_major": 2,
       "version_minor": 0
      },
      "text/plain": [
       "Validation: |          | 0/? [00:00<?, ?it/s]"
      ]
     },
     "metadata": {},
     "output_type": "display_data"
    },
    {
     "data": {
      "application/vnd.jupyter.widget-view+json": {
       "model_id": "53a5aa7e60fd45028d4590f878adafa7",
       "version_major": 2,
       "version_minor": 0
      },
      "text/plain": [
       "Validation: |          | 0/? [00:00<?, ?it/s]"
      ]
     },
     "metadata": {},
     "output_type": "display_data"
    },
    {
     "data": {
      "application/vnd.jupyter.widget-view+json": {
       "model_id": "71335b2240f84799a56b8679fa37c770",
       "version_major": 2,
       "version_minor": 0
      },
      "text/plain": [
       "Validation: |          | 0/? [00:00<?, ?it/s]"
      ]
     },
     "metadata": {},
     "output_type": "display_data"
    },
    {
     "data": {
      "application/vnd.jupyter.widget-view+json": {
       "model_id": "41feb12e4dee4741889237e0e56964d0",
       "version_major": 2,
       "version_minor": 0
      },
      "text/plain": [
       "Validation: |          | 0/? [00:00<?, ?it/s]"
      ]
     },
     "metadata": {},
     "output_type": "display_data"
    },
    {
     "data": {
      "application/vnd.jupyter.widget-view+json": {
       "model_id": "e34f9d4527ef4be7aa03dcedb8f1ade3",
       "version_major": 2,
       "version_minor": 0
      },
      "text/plain": [
       "Validation: |          | 0/? [00:00<?, ?it/s]"
      ]
     },
     "metadata": {},
     "output_type": "display_data"
    },
    {
     "data": {
      "application/vnd.jupyter.widget-view+json": {
       "model_id": "3e6a85f23df7485f9d5cd5197c094ced",
       "version_major": 2,
       "version_minor": 0
      },
      "text/plain": [
       "Validation: |          | 0/? [00:00<?, ?it/s]"
      ]
     },
     "metadata": {},
     "output_type": "display_data"
    },
    {
     "data": {
      "application/vnd.jupyter.widget-view+json": {
       "model_id": "ac24de149811491fa50153e7e5a08b1a",
       "version_major": 2,
       "version_minor": 0
      },
      "text/plain": [
       "Validation: |          | 0/? [00:00<?, ?it/s]"
      ]
     },
     "metadata": {},
     "output_type": "display_data"
    },
    {
     "data": {
      "application/vnd.jupyter.widget-view+json": {
       "model_id": "c0a9886a5bd24c75b3933da2be24e102",
       "version_major": 2,
       "version_minor": 0
      },
      "text/plain": [
       "Validation: |          | 0/? [00:00<?, ?it/s]"
      ]
     },
     "metadata": {},
     "output_type": "display_data"
    },
    {
     "data": {
      "application/vnd.jupyter.widget-view+json": {
       "model_id": "3cedcdc3e2484ff4a009af8c17283e8f",
       "version_major": 2,
       "version_minor": 0
      },
      "text/plain": [
       "Validation: |          | 0/? [00:00<?, ?it/s]"
      ]
     },
     "metadata": {},
     "output_type": "display_data"
    },
    {
     "data": {
      "application/vnd.jupyter.widget-view+json": {
       "model_id": "c9da1bf13c0c49dbb268c7977fd9d284",
       "version_major": 2,
       "version_minor": 0
      },
      "text/plain": [
       "Validation: |          | 0/? [00:00<?, ?it/s]"
      ]
     },
     "metadata": {},
     "output_type": "display_data"
    },
    {
     "data": {
      "application/vnd.jupyter.widget-view+json": {
       "model_id": "a0a4160961ef4942ae43b6554aeebaed",
       "version_major": 2,
       "version_minor": 0
      },
      "text/plain": [
       "Validation: |          | 0/? [00:00<?, ?it/s]"
      ]
     },
     "metadata": {},
     "output_type": "display_data"
    },
    {
     "data": {
      "application/vnd.jupyter.widget-view+json": {
       "model_id": "8a7bce5ae8d54684a50ee0d6bec90825",
       "version_major": 2,
       "version_minor": 0
      },
      "text/plain": [
       "Validation: |          | 0/? [00:00<?, ?it/s]"
      ]
     },
     "metadata": {},
     "output_type": "display_data"
    },
    {
     "data": {
      "application/vnd.jupyter.widget-view+json": {
       "model_id": "e8c13c53491f43df890519ed48a04056",
       "version_major": 2,
       "version_minor": 0
      },
      "text/plain": [
       "Validation: |          | 0/? [00:00<?, ?it/s]"
      ]
     },
     "metadata": {},
     "output_type": "display_data"
    },
    {
     "data": {
      "application/vnd.jupyter.widget-view+json": {
       "model_id": "a1d0d9d87ba94b4e8c59d0e65113a70b",
       "version_major": 2,
       "version_minor": 0
      },
      "text/plain": [
       "Validation: |          | 0/? [00:00<?, ?it/s]"
      ]
     },
     "metadata": {},
     "output_type": "display_data"
    },
    {
     "data": {
      "application/vnd.jupyter.widget-view+json": {
       "model_id": "a696cb0a327448dd8a9eb1a58edf84f9",
       "version_major": 2,
       "version_minor": 0
      },
      "text/plain": [
       "Validation: |          | 0/? [00:00<?, ?it/s]"
      ]
     },
     "metadata": {},
     "output_type": "display_data"
    },
    {
     "data": {
      "application/vnd.jupyter.widget-view+json": {
       "model_id": "58c5789018894caaa6586223d0ab9a28",
       "version_major": 2,
       "version_minor": 0
      },
      "text/plain": [
       "Validation: |          | 0/? [00:00<?, ?it/s]"
      ]
     },
     "metadata": {},
     "output_type": "display_data"
    },
    {
     "data": {
      "application/vnd.jupyter.widget-view+json": {
       "model_id": "9d371ea48d68417ca669349110c95aab",
       "version_major": 2,
       "version_minor": 0
      },
      "text/plain": [
       "Validation: |          | 0/? [00:00<?, ?it/s]"
      ]
     },
     "metadata": {},
     "output_type": "display_data"
    },
    {
     "data": {
      "application/vnd.jupyter.widget-view+json": {
       "model_id": "ad9256843366421f8a7a8040cefba520",
       "version_major": 2,
       "version_minor": 0
      },
      "text/plain": [
       "Validation: |          | 0/? [00:00<?, ?it/s]"
      ]
     },
     "metadata": {},
     "output_type": "display_data"
    },
    {
     "data": {
      "application/vnd.jupyter.widget-view+json": {
       "model_id": "adef16b619b94e21a77c7fa92caf4574",
       "version_major": 2,
       "version_minor": 0
      },
      "text/plain": [
       "Validation: |          | 0/? [00:00<?, ?it/s]"
      ]
     },
     "metadata": {},
     "output_type": "display_data"
    },
    {
     "data": {
      "application/vnd.jupyter.widget-view+json": {
       "model_id": "e2a49729253e4b86a98602e8b5202aed",
       "version_major": 2,
       "version_minor": 0
      },
      "text/plain": [
       "Validation: |          | 0/? [00:00<?, ?it/s]"
      ]
     },
     "metadata": {},
     "output_type": "display_data"
    },
    {
     "data": {
      "application/vnd.jupyter.widget-view+json": {
       "model_id": "12c35f7f0d204af69a64bd4de44200a7",
       "version_major": 2,
       "version_minor": 0
      },
      "text/plain": [
       "Validation: |          | 0/? [00:00<?, ?it/s]"
      ]
     },
     "metadata": {},
     "output_type": "display_data"
    },
    {
     "data": {
      "application/vnd.jupyter.widget-view+json": {
       "model_id": "7ed83e6077ff43f3a4c32fc40d4b2c8a",
       "version_major": 2,
       "version_minor": 0
      },
      "text/plain": [
       "Validation: |          | 0/? [00:00<?, ?it/s]"
      ]
     },
     "metadata": {},
     "output_type": "display_data"
    },
    {
     "data": {
      "application/vnd.jupyter.widget-view+json": {
       "model_id": "009516f59d9d452e8f3d67588ffefa6d",
       "version_major": 2,
       "version_minor": 0
      },
      "text/plain": [
       "Validation: |          | 0/? [00:00<?, ?it/s]"
      ]
     },
     "metadata": {},
     "output_type": "display_data"
    },
    {
     "data": {
      "application/vnd.jupyter.widget-view+json": {
       "model_id": "703d239ce83a4acfaf77cc657ae69225",
       "version_major": 2,
       "version_minor": 0
      },
      "text/plain": [
       "Validation: |          | 0/? [00:00<?, ?it/s]"
      ]
     },
     "metadata": {},
     "output_type": "display_data"
    },
    {
     "data": {
      "application/vnd.jupyter.widget-view+json": {
       "model_id": "b9ba13aa677f440e9019ad44d55d4a2d",
       "version_major": 2,
       "version_minor": 0
      },
      "text/plain": [
       "Validation: |          | 0/? [00:00<?, ?it/s]"
      ]
     },
     "metadata": {},
     "output_type": "display_data"
    },
    {
     "data": {
      "application/vnd.jupyter.widget-view+json": {
       "model_id": "3a84f008dfbc4f5284c481244421339e",
       "version_major": 2,
       "version_minor": 0
      },
      "text/plain": [
       "Validation: |          | 0/? [00:00<?, ?it/s]"
      ]
     },
     "metadata": {},
     "output_type": "display_data"
    },
    {
     "data": {
      "application/vnd.jupyter.widget-view+json": {
       "model_id": "9bdfc774891a40e1891071bae5b09176",
       "version_major": 2,
       "version_minor": 0
      },
      "text/plain": [
       "Validation: |          | 0/? [00:00<?, ?it/s]"
      ]
     },
     "metadata": {},
     "output_type": "display_data"
    },
    {
     "data": {
      "application/vnd.jupyter.widget-view+json": {
       "model_id": "81c29241753f4a768da7f93cf326f95d",
       "version_major": 2,
       "version_minor": 0
      },
      "text/plain": [
       "Validation: |          | 0/? [00:00<?, ?it/s]"
      ]
     },
     "metadata": {},
     "output_type": "display_data"
    },
    {
     "data": {
      "application/vnd.jupyter.widget-view+json": {
       "model_id": "f72884deb40246c28090fcddb1095c9c",
       "version_major": 2,
       "version_minor": 0
      },
      "text/plain": [
       "Validation: |          | 0/? [00:00<?, ?it/s]"
      ]
     },
     "metadata": {},
     "output_type": "display_data"
    },
    {
     "data": {
      "application/vnd.jupyter.widget-view+json": {
       "model_id": "c13761e6c1984df791a9b6243d12c9b8",
       "version_major": 2,
       "version_minor": 0
      },
      "text/plain": [
       "Validation: |          | 0/? [00:00<?, ?it/s]"
      ]
     },
     "metadata": {},
     "output_type": "display_data"
    },
    {
     "data": {
      "application/vnd.jupyter.widget-view+json": {
       "model_id": "d7bab5870c084cde85b59f1b78b0e2e5",
       "version_major": 2,
       "version_minor": 0
      },
      "text/plain": [
       "Validation: |          | 0/? [00:00<?, ?it/s]"
      ]
     },
     "metadata": {},
     "output_type": "display_data"
    },
    {
     "data": {
      "application/vnd.jupyter.widget-view+json": {
       "model_id": "104f62a60d3c4fefad7e185fb2525b22",
       "version_major": 2,
       "version_minor": 0
      },
      "text/plain": [
       "Validation: |          | 0/? [00:00<?, ?it/s]"
      ]
     },
     "metadata": {},
     "output_type": "display_data"
    },
    {
     "data": {
      "application/vnd.jupyter.widget-view+json": {
       "model_id": "b76db21180604ab4a41c179677a360a4",
       "version_major": 2,
       "version_minor": 0
      },
      "text/plain": [
       "Validation: |          | 0/? [00:00<?, ?it/s]"
      ]
     },
     "metadata": {},
     "output_type": "display_data"
    },
    {
     "data": {
      "application/vnd.jupyter.widget-view+json": {
       "model_id": "6c616035d3df4ddb9f5abe697134f47c",
       "version_major": 2,
       "version_minor": 0
      },
      "text/plain": [
       "Validation: |          | 0/? [00:00<?, ?it/s]"
      ]
     },
     "metadata": {},
     "output_type": "display_data"
    },
    {
     "data": {
      "application/vnd.jupyter.widget-view+json": {
       "model_id": "2c7a85c4a3074fbdb0fd9cbd59d5a515",
       "version_major": 2,
       "version_minor": 0
      },
      "text/plain": [
       "Validation: |          | 0/? [00:00<?, ?it/s]"
      ]
     },
     "metadata": {},
     "output_type": "display_data"
    },
    {
     "data": {
      "application/vnd.jupyter.widget-view+json": {
       "model_id": "e96864b5972b4627ac8cc704f6879083",
       "version_major": 2,
       "version_minor": 0
      },
      "text/plain": [
       "Validation: |          | 0/? [00:00<?, ?it/s]"
      ]
     },
     "metadata": {},
     "output_type": "display_data"
    },
    {
     "data": {
      "application/vnd.jupyter.widget-view+json": {
       "model_id": "e14ae3cd71c5412e9bd061b0f280394a",
       "version_major": 2,
       "version_minor": 0
      },
      "text/plain": [
       "Validation: |          | 0/? [00:00<?, ?it/s]"
      ]
     },
     "metadata": {},
     "output_type": "display_data"
    },
    {
     "data": {
      "application/vnd.jupyter.widget-view+json": {
       "model_id": "88d5f3328e924241b18ecf65595fa944",
       "version_major": 2,
       "version_minor": 0
      },
      "text/plain": [
       "Validation: |          | 0/? [00:00<?, ?it/s]"
      ]
     },
     "metadata": {},
     "output_type": "display_data"
    },
    {
     "data": {
      "application/vnd.jupyter.widget-view+json": {
       "model_id": "bb0b16f00d5d4c96bc0f7db7e3c55906",
       "version_major": 2,
       "version_minor": 0
      },
      "text/plain": [
       "Validation: |          | 0/? [00:00<?, ?it/s]"
      ]
     },
     "metadata": {},
     "output_type": "display_data"
    },
    {
     "data": {
      "application/vnd.jupyter.widget-view+json": {
       "model_id": "629dabe1b914493bb6b00dec8b6127b8",
       "version_major": 2,
       "version_minor": 0
      },
      "text/plain": [
       "Validation: |          | 0/? [00:00<?, ?it/s]"
      ]
     },
     "metadata": {},
     "output_type": "display_data"
    },
    {
     "data": {
      "application/vnd.jupyter.widget-view+json": {
       "model_id": "83c8e8047d41456bbbe54f93ce756554",
       "version_major": 2,
       "version_minor": 0
      },
      "text/plain": [
       "Validation: |          | 0/? [00:00<?, ?it/s]"
      ]
     },
     "metadata": {},
     "output_type": "display_data"
    },
    {
     "data": {
      "application/vnd.jupyter.widget-view+json": {
       "model_id": "d892d16ae0114d70b3e700d0df6a498e",
       "version_major": 2,
       "version_minor": 0
      },
      "text/plain": [
       "Validation: |          | 0/? [00:00<?, ?it/s]"
      ]
     },
     "metadata": {},
     "output_type": "display_data"
    },
    {
     "data": {
      "application/vnd.jupyter.widget-view+json": {
       "model_id": "7024e3b25b004f729457a252b2e916fe",
       "version_major": 2,
       "version_minor": 0
      },
      "text/plain": [
       "Validation: |          | 0/? [00:00<?, ?it/s]"
      ]
     },
     "metadata": {},
     "output_type": "display_data"
    },
    {
     "data": {
      "application/vnd.jupyter.widget-view+json": {
       "model_id": "f1af2480628f4332999b6a6edf3621cc",
       "version_major": 2,
       "version_minor": 0
      },
      "text/plain": [
       "Validation: |          | 0/? [00:00<?, ?it/s]"
      ]
     },
     "metadata": {},
     "output_type": "display_data"
    },
    {
     "data": {
      "application/vnd.jupyter.widget-view+json": {
       "model_id": "507e96288bdb451bbf80c82b04c36a34",
       "version_major": 2,
       "version_minor": 0
      },
      "text/plain": [
       "Validation: |          | 0/? [00:00<?, ?it/s]"
      ]
     },
     "metadata": {},
     "output_type": "display_data"
    },
    {
     "data": {
      "application/vnd.jupyter.widget-view+json": {
       "model_id": "f75ad653f8bc4323a24cde70d6838749",
       "version_major": 2,
       "version_minor": 0
      },
      "text/plain": [
       "Validation: |          | 0/? [00:00<?, ?it/s]"
      ]
     },
     "metadata": {},
     "output_type": "display_data"
    },
    {
     "data": {
      "application/vnd.jupyter.widget-view+json": {
       "model_id": "f3db8e56d106438093300019876f274c",
       "version_major": 2,
       "version_minor": 0
      },
      "text/plain": [
       "Validation: |          | 0/? [00:00<?, ?it/s]"
      ]
     },
     "metadata": {},
     "output_type": "display_data"
    },
    {
     "data": {
      "application/vnd.jupyter.widget-view+json": {
       "model_id": "f28a4cdfb36b493bad4706c32a47f908",
       "version_major": 2,
       "version_minor": 0
      },
      "text/plain": [
       "Validation: |          | 0/? [00:00<?, ?it/s]"
      ]
     },
     "metadata": {},
     "output_type": "display_data"
    },
    {
     "data": {
      "application/vnd.jupyter.widget-view+json": {
       "model_id": "294f8b1aff6f42088029da0ff6569920",
       "version_major": 2,
       "version_minor": 0
      },
      "text/plain": [
       "Validation: |          | 0/? [00:00<?, ?it/s]"
      ]
     },
     "metadata": {},
     "output_type": "display_data"
    },
    {
     "data": {
      "application/vnd.jupyter.widget-view+json": {
       "model_id": "4bf486ececa640fdaada656240f931e1",
       "version_major": 2,
       "version_minor": 0
      },
      "text/plain": [
       "Validation: |          | 0/? [00:00<?, ?it/s]"
      ]
     },
     "metadata": {},
     "output_type": "display_data"
    },
    {
     "data": {
      "application/vnd.jupyter.widget-view+json": {
       "model_id": "7fe54d0212184ec4956602721a63d740",
       "version_major": 2,
       "version_minor": 0
      },
      "text/plain": [
       "Validation: |          | 0/? [00:00<?, ?it/s]"
      ]
     },
     "metadata": {},
     "output_type": "display_data"
    },
    {
     "data": {
      "application/vnd.jupyter.widget-view+json": {
       "model_id": "009590bd2b8f48caacbd224ae2b9bf2f",
       "version_major": 2,
       "version_minor": 0
      },
      "text/plain": [
       "Validation: |          | 0/? [00:00<?, ?it/s]"
      ]
     },
     "metadata": {},
     "output_type": "display_data"
    },
    {
     "data": {
      "application/vnd.jupyter.widget-view+json": {
       "model_id": "4c3be1992a6c412cbcf9719b21733088",
       "version_major": 2,
       "version_minor": 0
      },
      "text/plain": [
       "Validation: |          | 0/? [00:00<?, ?it/s]"
      ]
     },
     "metadata": {},
     "output_type": "display_data"
    },
    {
     "data": {
      "application/vnd.jupyter.widget-view+json": {
       "model_id": "152655e6a53c42c5bd6fbffb09e22c0f",
       "version_major": 2,
       "version_minor": 0
      },
      "text/plain": [
       "Validation: |          | 0/? [00:00<?, ?it/s]"
      ]
     },
     "metadata": {},
     "output_type": "display_data"
    },
    {
     "data": {
      "application/vnd.jupyter.widget-view+json": {
       "model_id": "94f282fd17b14102861039cc4227ba51",
       "version_major": 2,
       "version_minor": 0
      },
      "text/plain": [
       "Validation: |          | 0/? [00:00<?, ?it/s]"
      ]
     },
     "metadata": {},
     "output_type": "display_data"
    },
    {
     "data": {
      "application/vnd.jupyter.widget-view+json": {
       "model_id": "e04517ce03494004a1e9f1c4607f6254",
       "version_major": 2,
       "version_minor": 0
      },
      "text/plain": [
       "Validation: |          | 0/? [00:00<?, ?it/s]"
      ]
     },
     "metadata": {},
     "output_type": "display_data"
    },
    {
     "data": {
      "application/vnd.jupyter.widget-view+json": {
       "model_id": "ef0381c0728c4939ba653f57ca4e3eba",
       "version_major": 2,
       "version_minor": 0
      },
      "text/plain": [
       "Validation: |          | 0/? [00:00<?, ?it/s]"
      ]
     },
     "metadata": {},
     "output_type": "display_data"
    },
    {
     "data": {
      "application/vnd.jupyter.widget-view+json": {
       "model_id": "51cbaaade63949f395aa07b1299e87dc",
       "version_major": 2,
       "version_minor": 0
      },
      "text/plain": [
       "Validation: |          | 0/? [00:00<?, ?it/s]"
      ]
     },
     "metadata": {},
     "output_type": "display_data"
    },
    {
     "data": {
      "application/vnd.jupyter.widget-view+json": {
       "model_id": "3cfa60636fc94390ade5571e350ba7e8",
       "version_major": 2,
       "version_minor": 0
      },
      "text/plain": [
       "Validation: |          | 0/? [00:00<?, ?it/s]"
      ]
     },
     "metadata": {},
     "output_type": "display_data"
    },
    {
     "data": {
      "application/vnd.jupyter.widget-view+json": {
       "model_id": "ec4b09ec1d2d4f399f1f35533cffc2d6",
       "version_major": 2,
       "version_minor": 0
      },
      "text/plain": [
       "Validation: |          | 0/? [00:00<?, ?it/s]"
      ]
     },
     "metadata": {},
     "output_type": "display_data"
    },
    {
     "data": {
      "application/vnd.jupyter.widget-view+json": {
       "model_id": "ded832ac518a439982ea8ec42ca94a3d",
       "version_major": 2,
       "version_minor": 0
      },
      "text/plain": [
       "Validation: |          | 0/? [00:00<?, ?it/s]"
      ]
     },
     "metadata": {},
     "output_type": "display_data"
    },
    {
     "data": {
      "application/vnd.jupyter.widget-view+json": {
       "model_id": "eec51925be9d454e96200ee50c55e44d",
       "version_major": 2,
       "version_minor": 0
      },
      "text/plain": [
       "Validation: |          | 0/? [00:00<?, ?it/s]"
      ]
     },
     "metadata": {},
     "output_type": "display_data"
    },
    {
     "data": {
      "application/vnd.jupyter.widget-view+json": {
       "model_id": "c67be3a0b12c417ba4a8d2718adbf4a6",
       "version_major": 2,
       "version_minor": 0
      },
      "text/plain": [
       "Validation: |          | 0/? [00:00<?, ?it/s]"
      ]
     },
     "metadata": {},
     "output_type": "display_data"
    },
    {
     "data": {
      "application/vnd.jupyter.widget-view+json": {
       "model_id": "3dcb0f7b267e4cd6bf5b28fd23e9d4cd",
       "version_major": 2,
       "version_minor": 0
      },
      "text/plain": [
       "Validation: |          | 0/? [00:00<?, ?it/s]"
      ]
     },
     "metadata": {},
     "output_type": "display_data"
    },
    {
     "data": {
      "application/vnd.jupyter.widget-view+json": {
       "model_id": "cd3482dc8db340a9b7976da6c60b6059",
       "version_major": 2,
       "version_minor": 0
      },
      "text/plain": [
       "Validation: |          | 0/? [00:00<?, ?it/s]"
      ]
     },
     "metadata": {},
     "output_type": "display_data"
    },
    {
     "data": {
      "application/vnd.jupyter.widget-view+json": {
       "model_id": "a9dcec81ae284e379753a5176e958dd6",
       "version_major": 2,
       "version_minor": 0
      },
      "text/plain": [
       "Validation: |          | 0/? [00:00<?, ?it/s]"
      ]
     },
     "metadata": {},
     "output_type": "display_data"
    },
    {
     "data": {
      "application/vnd.jupyter.widget-view+json": {
       "model_id": "13ebb0cf5d8e4f88af3dfdb738339bb0",
       "version_major": 2,
       "version_minor": 0
      },
      "text/plain": [
       "Validation: |          | 0/? [00:00<?, ?it/s]"
      ]
     },
     "metadata": {},
     "output_type": "display_data"
    },
    {
     "data": {
      "application/vnd.jupyter.widget-view+json": {
       "model_id": "e458714a727c4259a7924b22581fff86",
       "version_major": 2,
       "version_minor": 0
      },
      "text/plain": [
       "Validation: |          | 0/? [00:00<?, ?it/s]"
      ]
     },
     "metadata": {},
     "output_type": "display_data"
    },
    {
     "data": {
      "application/vnd.jupyter.widget-view+json": {
       "model_id": "efe62863c2294ceba1d0774be3e2501b",
       "version_major": 2,
       "version_minor": 0
      },
      "text/plain": [
       "Validation: |          | 0/? [00:00<?, ?it/s]"
      ]
     },
     "metadata": {},
     "output_type": "display_data"
    },
    {
     "data": {
      "application/vnd.jupyter.widget-view+json": {
       "model_id": "cea39ee4c0f046c3818c167651cb315f",
       "version_major": 2,
       "version_minor": 0
      },
      "text/plain": [
       "Validation: |          | 0/? [00:00<?, ?it/s]"
      ]
     },
     "metadata": {},
     "output_type": "display_data"
    },
    {
     "data": {
      "application/vnd.jupyter.widget-view+json": {
       "model_id": "122a6dee22c9498099dd98d46122a094",
       "version_major": 2,
       "version_minor": 0
      },
      "text/plain": [
       "Validation: |          | 0/? [00:00<?, ?it/s]"
      ]
     },
     "metadata": {},
     "output_type": "display_data"
    },
    {
     "data": {
      "application/vnd.jupyter.widget-view+json": {
       "model_id": "02769cfaad714eb99c4f1f2d9b0d341e",
       "version_major": 2,
       "version_minor": 0
      },
      "text/plain": [
       "Validation: |          | 0/? [00:00<?, ?it/s]"
      ]
     },
     "metadata": {},
     "output_type": "display_data"
    },
    {
     "data": {
      "application/vnd.jupyter.widget-view+json": {
       "model_id": "b2b9b048a1134981a9cbf34ed5d2fd04",
       "version_major": 2,
       "version_minor": 0
      },
      "text/plain": [
       "Validation: |          | 0/? [00:00<?, ?it/s]"
      ]
     },
     "metadata": {},
     "output_type": "display_data"
    },
    {
     "data": {
      "application/vnd.jupyter.widget-view+json": {
       "model_id": "1ba42f66ae5b4471ab1890116e6ed6de",
       "version_major": 2,
       "version_minor": 0
      },
      "text/plain": [
       "Validation: |          | 0/? [00:00<?, ?it/s]"
      ]
     },
     "metadata": {},
     "output_type": "display_data"
    },
    {
     "data": {
      "application/vnd.jupyter.widget-view+json": {
       "model_id": "1db310291b0a40b4a3fa66050820bd0d",
       "version_major": 2,
       "version_minor": 0
      },
      "text/plain": [
       "Validation: |          | 0/? [00:00<?, ?it/s]"
      ]
     },
     "metadata": {},
     "output_type": "display_data"
    },
    {
     "data": {
      "application/vnd.jupyter.widget-view+json": {
       "model_id": "0b6131ddd0954b6090bbc7d1a580f668",
       "version_major": 2,
       "version_minor": 0
      },
      "text/plain": [
       "Validation: |          | 0/? [00:00<?, ?it/s]"
      ]
     },
     "metadata": {},
     "output_type": "display_data"
    },
    {
     "data": {
      "application/vnd.jupyter.widget-view+json": {
       "model_id": "dc69af34ce0e4064a7aa345dc162c197",
       "version_major": 2,
       "version_minor": 0
      },
      "text/plain": [
       "Validation: |          | 0/? [00:00<?, ?it/s]"
      ]
     },
     "metadata": {},
     "output_type": "display_data"
    },
    {
     "data": {
      "application/vnd.jupyter.widget-view+json": {
       "model_id": "7ebf8375f4f34a5ab9e22bab4d1b959c",
       "version_major": 2,
       "version_minor": 0
      },
      "text/plain": [
       "Validation: |          | 0/? [00:00<?, ?it/s]"
      ]
     },
     "metadata": {},
     "output_type": "display_data"
    },
    {
     "data": {
      "application/vnd.jupyter.widget-view+json": {
       "model_id": "ea30839617f7423ea5920afe4dec35cd",
       "version_major": 2,
       "version_minor": 0
      },
      "text/plain": [
       "Validation: |          | 0/? [00:00<?, ?it/s]"
      ]
     },
     "metadata": {},
     "output_type": "display_data"
    },
    {
     "data": {
      "application/vnd.jupyter.widget-view+json": {
       "model_id": "87192cbe08d44427ad3a1e5ae0b12712",
       "version_major": 2,
       "version_minor": 0
      },
      "text/plain": [
       "Validation: |          | 0/? [00:00<?, ?it/s]"
      ]
     },
     "metadata": {},
     "output_type": "display_data"
    },
    {
     "data": {
      "application/vnd.jupyter.widget-view+json": {
       "model_id": "c00ff093d0eb4db09c556cc869cc6a69",
       "version_major": 2,
       "version_minor": 0
      },
      "text/plain": [
       "Validation: |          | 0/? [00:00<?, ?it/s]"
      ]
     },
     "metadata": {},
     "output_type": "display_data"
    },
    {
     "data": {
      "application/vnd.jupyter.widget-view+json": {
       "model_id": "d17d5bc7f2bf45ceba089e897f81b97f",
       "version_major": 2,
       "version_minor": 0
      },
      "text/plain": [
       "Validation: |          | 0/? [00:00<?, ?it/s]"
      ]
     },
     "metadata": {},
     "output_type": "display_data"
    },
    {
     "data": {
      "application/vnd.jupyter.widget-view+json": {
       "model_id": "2fcce5d3821f46529f1367be154a7af8",
       "version_major": 2,
       "version_minor": 0
      },
      "text/plain": [
       "Validation: |          | 0/? [00:00<?, ?it/s]"
      ]
     },
     "metadata": {},
     "output_type": "display_data"
    },
    {
     "data": {
      "application/vnd.jupyter.widget-view+json": {
       "model_id": "069ecc6d098a4c01a8f06e55f5531fed",
       "version_major": 2,
       "version_minor": 0
      },
      "text/plain": [
       "Validation: |          | 0/? [00:00<?, ?it/s]"
      ]
     },
     "metadata": {},
     "output_type": "display_data"
    },
    {
     "data": {
      "application/vnd.jupyter.widget-view+json": {
       "model_id": "12ebc489cabd47609637fd83a5c4af65",
       "version_major": 2,
       "version_minor": 0
      },
      "text/plain": [
       "Validation: |          | 0/? [00:00<?, ?it/s]"
      ]
     },
     "metadata": {},
     "output_type": "display_data"
    },
    {
     "data": {
      "application/vnd.jupyter.widget-view+json": {
       "model_id": "bcc1216beae24c2ba800681ad6249ef0",
       "version_major": 2,
       "version_minor": 0
      },
      "text/plain": [
       "Validation: |          | 0/? [00:00<?, ?it/s]"
      ]
     },
     "metadata": {},
     "output_type": "display_data"
    },
    {
     "data": {
      "application/vnd.jupyter.widget-view+json": {
       "model_id": "abf1c9c4e8a74f64a4f863372c7559bd",
       "version_major": 2,
       "version_minor": 0
      },
      "text/plain": [
       "Validation: |          | 0/? [00:00<?, ?it/s]"
      ]
     },
     "metadata": {},
     "output_type": "display_data"
    },
    {
     "data": {
      "application/vnd.jupyter.widget-view+json": {
       "model_id": "3c62cbd38c8f4219939cedc0e688218a",
       "version_major": 2,
       "version_minor": 0
      },
      "text/plain": [
       "Validation: |          | 0/? [00:00<?, ?it/s]"
      ]
     },
     "metadata": {},
     "output_type": "display_data"
    },
    {
     "data": {
      "application/vnd.jupyter.widget-view+json": {
       "model_id": "45706f51fb1942b994ad9648e8f1bd9e",
       "version_major": 2,
       "version_minor": 0
      },
      "text/plain": [
       "Validation: |          | 0/? [00:00<?, ?it/s]"
      ]
     },
     "metadata": {},
     "output_type": "display_data"
    },
    {
     "data": {
      "application/vnd.jupyter.widget-view+json": {
       "model_id": "f2cc08b76bba4ab58f7ed51950f91b04",
       "version_major": 2,
       "version_minor": 0
      },
      "text/plain": [
       "Validation: |          | 0/? [00:00<?, ?it/s]"
      ]
     },
     "metadata": {},
     "output_type": "display_data"
    },
    {
     "data": {
      "application/vnd.jupyter.widget-view+json": {
       "model_id": "77a7176091124adfa318116ed584b8f1",
       "version_major": 2,
       "version_minor": 0
      },
      "text/plain": [
       "Validation: |          | 0/? [00:00<?, ?it/s]"
      ]
     },
     "metadata": {},
     "output_type": "display_data"
    },
    {
     "data": {
      "application/vnd.jupyter.widget-view+json": {
       "model_id": "8396fc2a94e9493fb69fe3a2746774a4",
       "version_major": 2,
       "version_minor": 0
      },
      "text/plain": [
       "Validation: |          | 0/? [00:00<?, ?it/s]"
      ]
     },
     "metadata": {},
     "output_type": "display_data"
    },
    {
     "data": {
      "application/vnd.jupyter.widget-view+json": {
       "model_id": "7ffb692edb7a47c9aab966d342233180",
       "version_major": 2,
       "version_minor": 0
      },
      "text/plain": [
       "Validation: |          | 0/? [00:00<?, ?it/s]"
      ]
     },
     "metadata": {},
     "output_type": "display_data"
    },
    {
     "data": {
      "application/vnd.jupyter.widget-view+json": {
       "model_id": "ae93c0b8454f4418b49878b8d224f116",
       "version_major": 2,
       "version_minor": 0
      },
      "text/plain": [
       "Validation: |          | 0/? [00:00<?, ?it/s]"
      ]
     },
     "metadata": {},
     "output_type": "display_data"
    },
    {
     "data": {
      "application/vnd.jupyter.widget-view+json": {
       "model_id": "fd4ea196c09944b48935906e6901d644",
       "version_major": 2,
       "version_minor": 0
      },
      "text/plain": [
       "Validation: |          | 0/? [00:00<?, ?it/s]"
      ]
     },
     "metadata": {},
     "output_type": "display_data"
    },
    {
     "data": {
      "application/vnd.jupyter.widget-view+json": {
       "model_id": "8d5b495b63f24081ba649f67a88a4b8b",
       "version_major": 2,
       "version_minor": 0
      },
      "text/plain": [
       "Validation: |          | 0/? [00:00<?, ?it/s]"
      ]
     },
     "metadata": {},
     "output_type": "display_data"
    },
    {
     "data": {
      "application/vnd.jupyter.widget-view+json": {
       "model_id": "fa68af0c085b457a9b15bc8a01100eaf",
       "version_major": 2,
       "version_minor": 0
      },
      "text/plain": [
       "Validation: |          | 0/? [00:00<?, ?it/s]"
      ]
     },
     "metadata": {},
     "output_type": "display_data"
    },
    {
     "data": {
      "application/vnd.jupyter.widget-view+json": {
       "model_id": "840d45b4515c47f98dfc5c7856bad9cb",
       "version_major": 2,
       "version_minor": 0
      },
      "text/plain": [
       "Validation: |          | 0/? [00:00<?, ?it/s]"
      ]
     },
     "metadata": {},
     "output_type": "display_data"
    },
    {
     "data": {
      "application/vnd.jupyter.widget-view+json": {
       "model_id": "ad5100d757fc497385ef5c844a25e7f4",
       "version_major": 2,
       "version_minor": 0
      },
      "text/plain": [
       "Validation: |          | 0/? [00:00<?, ?it/s]"
      ]
     },
     "metadata": {},
     "output_type": "display_data"
    },
    {
     "data": {
      "application/vnd.jupyter.widget-view+json": {
       "model_id": "6e50d1c11711472eaf1990efef260e07",
       "version_major": 2,
       "version_minor": 0
      },
      "text/plain": [
       "Validation: |          | 0/? [00:00<?, ?it/s]"
      ]
     },
     "metadata": {},
     "output_type": "display_data"
    },
    {
     "data": {
      "application/vnd.jupyter.widget-view+json": {
       "model_id": "8f6e952d107147efb75581dfcb609bfe",
       "version_major": 2,
       "version_minor": 0
      },
      "text/plain": [
       "Validation: |          | 0/? [00:00<?, ?it/s]"
      ]
     },
     "metadata": {},
     "output_type": "display_data"
    },
    {
     "data": {
      "application/vnd.jupyter.widget-view+json": {
       "model_id": "4046b1c574ae4be1905d9fc5227255c8",
       "version_major": 2,
       "version_minor": 0
      },
      "text/plain": [
       "Validation: |          | 0/? [00:00<?, ?it/s]"
      ]
     },
     "metadata": {},
     "output_type": "display_data"
    },
    {
     "data": {
      "application/vnd.jupyter.widget-view+json": {
       "model_id": "00cacea20f0b4882a640251e59c485ae",
       "version_major": 2,
       "version_minor": 0
      },
      "text/plain": [
       "Validation: |          | 0/? [00:00<?, ?it/s]"
      ]
     },
     "metadata": {},
     "output_type": "display_data"
    },
    {
     "data": {
      "application/vnd.jupyter.widget-view+json": {
       "model_id": "ff3c2da618c54659b8b0311390ec2ff4",
       "version_major": 2,
       "version_minor": 0
      },
      "text/plain": [
       "Validation: |          | 0/? [00:00<?, ?it/s]"
      ]
     },
     "metadata": {},
     "output_type": "display_data"
    },
    {
     "data": {
      "application/vnd.jupyter.widget-view+json": {
       "model_id": "713348c9fa7c4501a6fb0862c5fff08f",
       "version_major": 2,
       "version_minor": 0
      },
      "text/plain": [
       "Validation: |          | 0/? [00:00<?, ?it/s]"
      ]
     },
     "metadata": {},
     "output_type": "display_data"
    },
    {
     "data": {
      "application/vnd.jupyter.widget-view+json": {
       "model_id": "a81db0986de04cbbb119d12f96c836ea",
       "version_major": 2,
       "version_minor": 0
      },
      "text/plain": [
       "Validation: |          | 0/? [00:00<?, ?it/s]"
      ]
     },
     "metadata": {},
     "output_type": "display_data"
    },
    {
     "data": {
      "application/vnd.jupyter.widget-view+json": {
       "model_id": "1c8b8eec21f34c8d822f2eebe6daeabd",
       "version_major": 2,
       "version_minor": 0
      },
      "text/plain": [
       "Validation: |          | 0/? [00:00<?, ?it/s]"
      ]
     },
     "metadata": {},
     "output_type": "display_data"
    },
    {
     "data": {
      "application/vnd.jupyter.widget-view+json": {
       "model_id": "de3f18f2fe204ee8a3087f6a932518f6",
       "version_major": 2,
       "version_minor": 0
      },
      "text/plain": [
       "Validation: |          | 0/? [00:00<?, ?it/s]"
      ]
     },
     "metadata": {},
     "output_type": "display_data"
    },
    {
     "data": {
      "application/vnd.jupyter.widget-view+json": {
       "model_id": "f50d3ddd08434ff2ac470ab9f76db1b7",
       "version_major": 2,
       "version_minor": 0
      },
      "text/plain": [
       "Validation: |          | 0/? [00:00<?, ?it/s]"
      ]
     },
     "metadata": {},
     "output_type": "display_data"
    },
    {
     "data": {
      "application/vnd.jupyter.widget-view+json": {
       "model_id": "7fc9887d347c4f8fa3bf4fa1f1d39d5e",
       "version_major": 2,
       "version_minor": 0
      },
      "text/plain": [
       "Validation: |          | 0/? [00:00<?, ?it/s]"
      ]
     },
     "metadata": {},
     "output_type": "display_data"
    },
    {
     "data": {
      "application/vnd.jupyter.widget-view+json": {
       "model_id": "e035f959833d472f86411775d8338fdf",
       "version_major": 2,
       "version_minor": 0
      },
      "text/plain": [
       "Validation: |          | 0/? [00:00<?, ?it/s]"
      ]
     },
     "metadata": {},
     "output_type": "display_data"
    },
    {
     "data": {
      "application/vnd.jupyter.widget-view+json": {
       "model_id": "29ea94408f634020a9a786fe5621592b",
       "version_major": 2,
       "version_minor": 0
      },
      "text/plain": [
       "Validation: |          | 0/? [00:00<?, ?it/s]"
      ]
     },
     "metadata": {},
     "output_type": "display_data"
    },
    {
     "data": {
      "application/vnd.jupyter.widget-view+json": {
       "model_id": "4657bf8bf1974d9fb34cc1785b0b3928",
       "version_major": 2,
       "version_minor": 0
      },
      "text/plain": [
       "Validation: |          | 0/? [00:00<?, ?it/s]"
      ]
     },
     "metadata": {},
     "output_type": "display_data"
    },
    {
     "data": {
      "application/vnd.jupyter.widget-view+json": {
       "model_id": "6fbb0719e273444d8960c9ab40e1d90f",
       "version_major": 2,
       "version_minor": 0
      },
      "text/plain": [
       "Validation: |          | 0/? [00:00<?, ?it/s]"
      ]
     },
     "metadata": {},
     "output_type": "display_data"
    },
    {
     "data": {
      "application/vnd.jupyter.widget-view+json": {
       "model_id": "9c6561bf915249739641410ca3f97ec8",
       "version_major": 2,
       "version_minor": 0
      },
      "text/plain": [
       "Validation: |          | 0/? [00:00<?, ?it/s]"
      ]
     },
     "metadata": {},
     "output_type": "display_data"
    },
    {
     "data": {
      "application/vnd.jupyter.widget-view+json": {
       "model_id": "de6853a694ae4214b27282f1365e4ef9",
       "version_major": 2,
       "version_minor": 0
      },
      "text/plain": [
       "Validation: |          | 0/? [00:00<?, ?it/s]"
      ]
     },
     "metadata": {},
     "output_type": "display_data"
    },
    {
     "data": {
      "application/vnd.jupyter.widget-view+json": {
       "model_id": "a32e3e2e38e54810b63d99dcea7a2116",
       "version_major": 2,
       "version_minor": 0
      },
      "text/plain": [
       "Validation: |          | 0/? [00:00<?, ?it/s]"
      ]
     },
     "metadata": {},
     "output_type": "display_data"
    },
    {
     "data": {
      "application/vnd.jupyter.widget-view+json": {
       "model_id": "9941f35ff496412cbfc631d1a1bdd89e",
       "version_major": 2,
       "version_minor": 0
      },
      "text/plain": [
       "Validation: |          | 0/? [00:00<?, ?it/s]"
      ]
     },
     "metadata": {},
     "output_type": "display_data"
    },
    {
     "data": {
      "application/vnd.jupyter.widget-view+json": {
       "model_id": "b91ebe8aa4f64ea6adba3abd17eb8f0c",
       "version_major": 2,
       "version_minor": 0
      },
      "text/plain": [
       "Validation: |          | 0/? [00:00<?, ?it/s]"
      ]
     },
     "metadata": {},
     "output_type": "display_data"
    },
    {
     "data": {
      "application/vnd.jupyter.widget-view+json": {
       "model_id": "4a338c4f78bb47c0b91f22f3d434e5cd",
       "version_major": 2,
       "version_minor": 0
      },
      "text/plain": [
       "Validation: |          | 0/? [00:00<?, ?it/s]"
      ]
     },
     "metadata": {},
     "output_type": "display_data"
    },
    {
     "data": {
      "application/vnd.jupyter.widget-view+json": {
       "model_id": "1fb5d1fea93a4456b1c52f07a3cf4b32",
       "version_major": 2,
       "version_minor": 0
      },
      "text/plain": [
       "Validation: |          | 0/? [00:00<?, ?it/s]"
      ]
     },
     "metadata": {},
     "output_type": "display_data"
    },
    {
     "data": {
      "application/vnd.jupyter.widget-view+json": {
       "model_id": "5a17ae38340a43f6b007f3dd9ba59d6a",
       "version_major": 2,
       "version_minor": 0
      },
      "text/plain": [
       "Validation: |          | 0/? [00:00<?, ?it/s]"
      ]
     },
     "metadata": {},
     "output_type": "display_data"
    },
    {
     "data": {
      "application/vnd.jupyter.widget-view+json": {
       "model_id": "0dc6f63af11647d2bcdf3d6c2f912ba9",
       "version_major": 2,
       "version_minor": 0
      },
      "text/plain": [
       "Validation: |          | 0/? [00:00<?, ?it/s]"
      ]
     },
     "metadata": {},
     "output_type": "display_data"
    },
    {
     "data": {
      "application/vnd.jupyter.widget-view+json": {
       "model_id": "40d73ba26d0e4b03bccbf2aff546f91d",
       "version_major": 2,
       "version_minor": 0
      },
      "text/plain": [
       "Validation: |          | 0/? [00:00<?, ?it/s]"
      ]
     },
     "metadata": {},
     "output_type": "display_data"
    },
    {
     "data": {
      "application/vnd.jupyter.widget-view+json": {
       "model_id": "b742204022014f38a5bd71efe8d18ccd",
       "version_major": 2,
       "version_minor": 0
      },
      "text/plain": [
       "Validation: |          | 0/? [00:00<?, ?it/s]"
      ]
     },
     "metadata": {},
     "output_type": "display_data"
    },
    {
     "data": {
      "application/vnd.jupyter.widget-view+json": {
       "model_id": "b69651e3b9254b239ae06be9e45476c9",
       "version_major": 2,
       "version_minor": 0
      },
      "text/plain": [
       "Validation: |          | 0/? [00:00<?, ?it/s]"
      ]
     },
     "metadata": {},
     "output_type": "display_data"
    },
    {
     "data": {
      "application/vnd.jupyter.widget-view+json": {
       "model_id": "a6e32297c6e14cfea98da09bc6f7a2f0",
       "version_major": 2,
       "version_minor": 0
      },
      "text/plain": [
       "Validation: |          | 0/? [00:00<?, ?it/s]"
      ]
     },
     "metadata": {},
     "output_type": "display_data"
    },
    {
     "data": {
      "application/vnd.jupyter.widget-view+json": {
       "model_id": "90f7977841784d4f9cbbee7c896d5e3d",
       "version_major": 2,
       "version_minor": 0
      },
      "text/plain": [
       "Validation: |          | 0/? [00:00<?, ?it/s]"
      ]
     },
     "metadata": {},
     "output_type": "display_data"
    },
    {
     "data": {
      "application/vnd.jupyter.widget-view+json": {
       "model_id": "1d013a43e87242cf8843f7c4847c8c12",
       "version_major": 2,
       "version_minor": 0
      },
      "text/plain": [
       "Validation: |          | 0/? [00:00<?, ?it/s]"
      ]
     },
     "metadata": {},
     "output_type": "display_data"
    },
    {
     "data": {
      "application/vnd.jupyter.widget-view+json": {
       "model_id": "7e7965a1926d4bcdb1db5da148309c6c",
       "version_major": 2,
       "version_minor": 0
      },
      "text/plain": [
       "Validation: |          | 0/? [00:00<?, ?it/s]"
      ]
     },
     "metadata": {},
     "output_type": "display_data"
    },
    {
     "data": {
      "application/vnd.jupyter.widget-view+json": {
       "model_id": "91bdff37ad6d41e59166ac1644e3ac62",
       "version_major": 2,
       "version_minor": 0
      },
      "text/plain": [
       "Validation: |          | 0/? [00:00<?, ?it/s]"
      ]
     },
     "metadata": {},
     "output_type": "display_data"
    },
    {
     "data": {
      "application/vnd.jupyter.widget-view+json": {
       "model_id": "1b3925e2fe5d490e914ff487f2ac9e31",
       "version_major": 2,
       "version_minor": 0
      },
      "text/plain": [
       "Validation: |          | 0/? [00:00<?, ?it/s]"
      ]
     },
     "metadata": {},
     "output_type": "display_data"
    },
    {
     "data": {
      "application/vnd.jupyter.widget-view+json": {
       "model_id": "184a3cc0f39c4db589d06d5a759ec06c",
       "version_major": 2,
       "version_minor": 0
      },
      "text/plain": [
       "Validation: |          | 0/? [00:00<?, ?it/s]"
      ]
     },
     "metadata": {},
     "output_type": "display_data"
    },
    {
     "data": {
      "application/vnd.jupyter.widget-view+json": {
       "model_id": "13f10ab1cce6405896a94692b5419d8d",
       "version_major": 2,
       "version_minor": 0
      },
      "text/plain": [
       "Validation: |          | 0/? [00:00<?, ?it/s]"
      ]
     },
     "metadata": {},
     "output_type": "display_data"
    },
    {
     "data": {
      "application/vnd.jupyter.widget-view+json": {
       "model_id": "ed5c905246ef4b78ac6a1e35df11c874",
       "version_major": 2,
       "version_minor": 0
      },
      "text/plain": [
       "Validation: |          | 0/? [00:00<?, ?it/s]"
      ]
     },
     "metadata": {},
     "output_type": "display_data"
    },
    {
     "data": {
      "application/vnd.jupyter.widget-view+json": {
       "model_id": "fdfc1b877d7b4ddea6fe54a8d1b318e1",
       "version_major": 2,
       "version_minor": 0
      },
      "text/plain": [
       "Validation: |          | 0/? [00:00<?, ?it/s]"
      ]
     },
     "metadata": {},
     "output_type": "display_data"
    },
    {
     "data": {
      "application/vnd.jupyter.widget-view+json": {
       "model_id": "4a0533cf00994f7786052ffe913c2cc7",
       "version_major": 2,
       "version_minor": 0
      },
      "text/plain": [
       "Validation: |          | 0/? [00:00<?, ?it/s]"
      ]
     },
     "metadata": {},
     "output_type": "display_data"
    },
    {
     "data": {
      "application/vnd.jupyter.widget-view+json": {
       "model_id": "d22be38dd71e44cba60b9c88a95ad563",
       "version_major": 2,
       "version_minor": 0
      },
      "text/plain": [
       "Validation: |          | 0/? [00:00<?, ?it/s]"
      ]
     },
     "metadata": {},
     "output_type": "display_data"
    },
    {
     "data": {
      "application/vnd.jupyter.widget-view+json": {
       "model_id": "ce6f55fc618b4e559c8bad1da867989d",
       "version_major": 2,
       "version_minor": 0
      },
      "text/plain": [
       "Validation: |          | 0/? [00:00<?, ?it/s]"
      ]
     },
     "metadata": {},
     "output_type": "display_data"
    },
    {
     "name": "stderr",
     "output_type": "stream",
     "text": [
      "`Trainer.fit` stopped: `max_epochs=200` reached.\n"
     ]
    },
    {
     "name": "stdout",
     "output_type": "stream",
     "text": [
      "No test predictions available for confusion matrix visualization\n"
     ]
    },
    {
     "name": "stderr",
     "output_type": "stream",
     "text": [
      "\u001b[34m\u001b[1mwandb\u001b[0m: \u001b[32m\u001b[41mERROR\u001b[0m The nbformat package was not found. It is required to save notebook history.\n"
     ]
    },
    {
     "data": {
      "text/html": [],
      "text/plain": [
       "<IPython.core.display.HTML object>"
      ]
     },
     "metadata": {},
     "output_type": "display_data"
    },
    {
     "data": {
      "text/html": [
       "<br>    <style><br>        .wandb-row {<br>            display: flex;<br>            flex-direction: row;<br>            flex-wrap: wrap;<br>            justify-content: flex-start;<br>            width: 100%;<br>        }<br>        .wandb-col {<br>            display: flex;<br>            flex-direction: column;<br>            flex-basis: 100%;<br>            flex: 1;<br>            padding: 10px;<br>        }<br>    </style><br><div class=\"wandb-row\"><div class=\"wandb-col\"><h3>Run history:</h3><br/><table class=\"wandb\"><tr><td>epoch</td><td>▁▁▁▁▁▂▂▂▂▃▃▃▃▃▃▃▃▄▄▄▄▅▅▅▅▅▅▆▆▆▆▆▆▆▇▇▇███</td></tr><tr><td>top5_acc</td><td>▄▇▅▅▃▄▂▃▂▃▁▅▆▅▄▄▅▄█▄▆▄▂▇▅▃▃▂▃▄▆▄▇▅▄▅▅▄▄▃</td></tr><tr><td>train_accuracy</td><td>▇████▇▇▇▇▇▆▆▅▅▅▄▃▃▃▃▃▂▂▂▂▂▁▂▂▂▁▁▁▁▁▂▂▂▁▂</td></tr><tr><td>train_loss</td><td>█▂▁▁▁▁▁▁▁▁▁▁▁▁▁▁▁▁▁▁▁▁▁▁▁▁▁▁▁▁▁▁▁▁▁▁▁▁▁▁</td></tr><tr><td>trainer/global_step</td><td>▁▁▁▁▂▂▃▃▃▃▃▃▄▄▄▄▄▄▄▄▄▄▄▅▅▅▅▆▆▆▆▆▆▆▆█████</td></tr><tr><td>v10_acc</td><td>▇████▇▅▅▆▄▄▄▅▄▃▃▃▃▃▃▂▂▂▁▂▁▂▁▁▁▁▁▂▁▁▁▁▂▁▂</td></tr><tr><td>v2_acc</td><td>▇█▅▄▂▁▂▂▂▂▄▄▄▄▄▃▄▅▅▅▅▅▆▅▆▅▅▆▆▅▆▆▆▆▆▆▆▆▆▆</td></tr><tr><td>v4_acc</td><td>██▁▂▁▃▃▂▃▄▄▄▄▄▅▅▆▅▅▆▅▅▆▆▆▅▄▅▆▆▆▇▅▇▆▆▆▆▆▇</td></tr><tr><td>v80_acc</td><td>▁▅▇█▇█▇▇▇▇▆▅▅▅▅▆▅▅▄▄▄▄▄▄▄▃▄▄▄▃▃▃▃▃▃▃▃▃▃▃</td></tr><tr><td>val_accuracy</td><td>▁▂█▇██▇▇▆▅▅▆▅▅▄▃▄▄▄▃▄▄▃▃▃▃▃▃▂▂▃▃▂▃▂▃▃▂▃▃</td></tr><tr><td>val_loss</td><td>▁▁▅▆▇███████▇▇▇▇▇▇▇▇▇▇▇▇▇▇▆▆▆▆▆▆▆▆▆▆▆▆▆▆</td></tr></table><br/></div><div class=\"wandb-col\"><h3>Run summary:</h3><br/><table class=\"wandb\"><tr><td>epoch</td><td>199</td></tr><tr><td>top5_acc</td><td>0.15888</td></tr><tr><td>train_accuracy</td><td>0.31027</td></tr><tr><td>train_loss</td><td>0.17087</td></tr><tr><td>trainer/global_step</td><td>9199</td></tr><tr><td>v10_acc</td><td>0.39034</td></tr><tr><td>v2_acc</td><td>0.72897</td></tr><tr><td>v4_acc</td><td>0.57477</td></tr><tr><td>v80_acc</td><td>0.23968</td></tr><tr><td>val_accuracy</td><td>0.23968</td></tr><tr><td>val_loss</td><td>6.28739</td></tr></table><br/></div></div>"
      ],
      "text/plain": [
       "<IPython.core.display.HTML object>"
      ]
     },
     "metadata": {},
     "output_type": "display_data"
    },
    {
     "data": {
      "text/html": [
       " View run <strong style=\"color:#cdcd00\">pretty-cloud-9</strong> at: <a href='https://wandb.ai/dubs2310-cal-poly-pomona/contrastive_eeg_net/runs/y7ypplz4' target=\"_blank\">https://wandb.ai/dubs2310-cal-poly-pomona/contrastive_eeg_net/runs/y7ypplz4</a><br> View project at: <a href='https://wandb.ai/dubs2310-cal-poly-pomona/contrastive_eeg_net' target=\"_blank\">https://wandb.ai/dubs2310-cal-poly-pomona/contrastive_eeg_net</a><br>Synced 5 W&B file(s), 7 media file(s), 0 artifact file(s) and 0 other file(s)"
      ],
      "text/plain": [
       "<IPython.core.display.HTML object>"
      ]
     },
     "metadata": {},
     "output_type": "display_data"
    },
    {
     "data": {
      "text/html": [
       "Find logs at: <code>./wandb/run-20250707_111551-y7ypplz4/logs</code>"
      ],
      "text/plain": [
       "<IPython.core.display.HTML object>"
      ]
     },
     "metadata": {},
     "output_type": "display_data"
    }
   ],
   "source": [
    "lightning_model = ContrastiveTrainerModel(num_channels, timesteps, num_fine_labels)\n",
    "    \n",
    "checkpoint_callback = ModelCheckpoint(\n",
    "    dirpath=\"/workspace/eeg-image-decoding/code/models/check_points/contrastive_encoder\",\n",
    "    filename=f\"subj{subject}_session{session}_{{epoch}}\",\n",
    "    every_n_epochs=5,\n",
    "    save_top_k=-1\n",
    ")\n",
    "\n",
    "plotting_callback = PlottingCallback()\n",
    "\n",
    "logger = pl.loggers.WandbLogger(project=\"contrastive_eeg_net\")\n",
    "\n",
    "trainer = pl.Trainer(\n",
    "    max_epochs=epochs,\n",
    "    callbacks=[checkpoint_callback, plotting_callback],\n",
    "    logger=logger,\n",
    "    accelerator='gpu' if torch.cuda.is_available() else 'cpu',\n",
    "    devices=1\n",
    ")\n",
    "\n",
    "trainer.fit(lightning_model, dm)\n",
    "\n",
    "if logger and isinstance(logger, pl.loggers.WandbLogger):\n",
    "    logger.finalize('success')\n",
    "    wandb.finish()"
   ]
  },
  {
   "cell_type": "code",
   "execution_count": 5,
   "id": "81671b89",
   "metadata": {},
   "outputs": [
    {
     "data": {
      "text/plain": [
       "[{'epoch': 1,\n",
       "  'train_loss': 0,\n",
       "  'train_accuracy': 0,\n",
       "  'test_loss': 0,\n",
       "  'test_accuracy': 0,\n",
       "  'v2_acc': 0,\n",
       "  'v4_acc': 0,\n",
       "  'v10_acc': 0,\n",
       "  'v80_acc': 0},\n",
       " {'epoch': 2,\n",
       "  'train_loss': 4.414199352264404,\n",
       "  'train_accuracy': 0.5976359844207764,\n",
       "  'test_loss': 0,\n",
       "  'test_accuracy': 0,\n",
       "  'v2_acc': 0,\n",
       "  'v4_acc': 0,\n",
       "  'v10_acc': 0,\n",
       "  'v80_acc': 0},\n",
       " {'epoch': 3,\n",
       "  'train_loss': 3.697460889816284,\n",
       "  'train_accuracy': 0.5900675654411316,\n",
       "  'test_loss': 3.465386390686035,\n",
       "  'test_accuracy': 0.09754672646522522,\n",
       "  'v2_acc': 0.8395638465881348,\n",
       "  'v4_acc': 0.6066977977752686,\n",
       "  'v10_acc': 0.3065420389175415,\n",
       "  'v80_acc': 0.09754672646522522},\n",
       " {'epoch': 4,\n",
       "  'train_loss': 3.1454596519470215,\n",
       "  'train_accuracy': 0.6295332908630371,\n",
       "  'test_loss': 3.4659945964813232,\n",
       "  'test_accuracy': 0.03492990881204605,\n",
       "  'v2_acc': 0.8831775784492493,\n",
       "  'v4_acc': 0.6152647733688354,\n",
       "  'v10_acc': 0.2781931459903717,\n",
       "  'v80_acc': 0.03492990881204605},\n",
       " {'epoch': 5,\n",
       "  'train_loss': 2.5300121307373047,\n",
       "  'train_accuracy': 0.6491470336914062,\n",
       "  'test_loss': 3.4662458896636963,\n",
       "  'test_accuracy': 0.03492990881204605,\n",
       "  'v2_acc': 0.8831775784492493,\n",
       "  'v4_acc': 0.6152647733688354,\n",
       "  'v10_acc': 0.27881619334220886,\n",
       "  'v80_acc': 0.03492990881204605},\n",
       " {'epoch': 6,\n",
       "  'train_loss': 2.009178400039673,\n",
       "  'train_accuracy': 0.6358330249786377,\n",
       "  'test_loss': 3.4726390838623047,\n",
       "  'test_accuracy': 0.039135515689849854,\n",
       "  'v2_acc': 0.8753893971443176,\n",
       "  'v4_acc': 0.6137071847915649,\n",
       "  'v10_acc': 0.2797507643699646,\n",
       "  'v80_acc': 0.039135515689849854},\n",
       " {'epoch': 7,\n",
       "  'train_loss': 1.5975223779678345,\n",
       "  'train_accuracy': 0.6560183763504028,\n",
       "  'test_loss': 3.4776782989501953,\n",
       "  'test_accuracy': 0.04252336546778679,\n",
       "  'v2_acc': 0.8753893971443176,\n",
       "  'v4_acc': 0.6129283905029297,\n",
       "  'v10_acc': 0.2797507643699646,\n",
       "  'v80_acc': 0.04252336546778679},\n",
       " {'epoch': 8,\n",
       "  'train_loss': 1.2092809677124023,\n",
       "  'train_accuracy': 0.6374090909957886,\n",
       "  'test_loss': 3.5485944747924805,\n",
       "  'test_accuracy': 0.11035825312137604,\n",
       "  'v2_acc': 0.8115264773368835,\n",
       "  'v4_acc': 0.5989096164703369,\n",
       "  'v10_acc': 0.3165108859539032,\n",
       "  'v80_acc': 0.11035825312137604},\n",
       " {'epoch': 9,\n",
       "  'train_loss': 0.9391814470291138,\n",
       "  'train_accuracy': 0.6558754444122314,\n",
       "  'test_loss': 3.7273213863372803,\n",
       "  'test_accuracy': 0.17655763030052185,\n",
       "  'v2_acc': 0.7507787942886353,\n",
       "  'v4_acc': 0.59034264087677,\n",
       "  'v10_acc': 0.34828659892082214,\n",
       "  'v80_acc': 0.17655763030052185},\n",
       " {'epoch': 10,\n",
       "  'train_loss': 0.7207748293876648,\n",
       "  'train_accuracy': 0.6467743515968323,\n",
       "  'test_loss': 4.048131465911865,\n",
       "  'test_accuracy': 0.3448987603187561,\n",
       "  'v2_acc': 0.6573208570480347,\n",
       "  'v4_acc': 0.5482865571975708,\n",
       "  'v10_acc': 0.4280374050140381,\n",
       "  'v80_acc': 0.3448987603187561},\n",
       " {'epoch': 11,\n",
       "  'train_loss': 0.6027697324752808,\n",
       "  'train_accuracy': 0.6333564519882202,\n",
       "  'test_loss': 4.405633926391602,\n",
       "  'test_accuracy': 0.3807632327079773,\n",
       "  'v2_acc': 0.6246106028556824,\n",
       "  'v4_acc': 0.5428348779678345,\n",
       "  'v10_acc': 0.4576324224472046,\n",
       "  'v80_acc': 0.3807632327079773},\n",
       " {'epoch': 12,\n",
       "  'train_loss': 0.5213342905044556,\n",
       "  'train_accuracy': 0.6269007325172424,\n",
       "  'test_loss': 4.90477991104126,\n",
       "  'test_accuracy': 0.45003893971443176,\n",
       "  'v2_acc': 0.6059190034866333,\n",
       "  'v4_acc': 0.541277289390564,\n",
       "  'v10_acc': 0.48380061984062195,\n",
       "  'v80_acc': 0.45003893971443176},\n",
       " {'epoch': 13,\n",
       "  'train_loss': 0.4283622205257416,\n",
       "  'train_accuracy': 0.6393791437149048,\n",
       "  'test_loss': 5.340909957885742,\n",
       "  'test_accuracy': 0.538551390171051,\n",
       "  'v2_acc': 0.4875389337539673,\n",
       "  'v4_acc': 0.4898754060268402,\n",
       "  'v10_acc': 0.5305296182632446,\n",
       "  'v80_acc': 0.538551390171051},\n",
       " {'epoch': 14,\n",
       "  'train_loss': 0.4362238049507141,\n",
       "  'train_accuracy': 0.6368851661682129,\n",
       "  'test_loss': 5.734589099884033,\n",
       "  'test_accuracy': 0.6068536043167114,\n",
       "  'v2_acc': 0.45015576481819153,\n",
       "  'v4_acc': 0.48364484310150146,\n",
       "  'v10_acc': 0.5461059212684631,\n",
       "  'v80_acc': 0.6068536043167114},\n",
       " {'epoch': 15,\n",
       "  'train_loss': 0.3797754943370819,\n",
       "  'train_accuracy': 0.6330447196960449,\n",
       "  'test_loss': 5.823055267333984,\n",
       "  'test_accuracy': 0.5555295944213867,\n",
       "  'v2_acc': 0.4579439163208008,\n",
       "  'v4_acc': 0.4758566915988922,\n",
       "  'v10_acc': 0.5252336263656616,\n",
       "  'v80_acc': 0.5555295944213867},\n",
       " {'epoch': 16,\n",
       "  'train_loss': 0.36808350682258606,\n",
       "  'train_accuracy': 0.6258399486541748,\n",
       "  'test_loss': 6.203111171722412,\n",
       "  'test_accuracy': 0.5952881574630737,\n",
       "  'v2_acc': 0.4096573293209076,\n",
       "  'v4_acc': 0.45093458890914917,\n",
       "  'v10_acc': 0.5389407873153687,\n",
       "  'v80_acc': 0.5952881574630737},\n",
       " {'epoch': 17,\n",
       "  'train_loss': 0.41289520263671875,\n",
       "  'train_accuracy': 0.6230732798576355,\n",
       "  'test_loss': 6.501424312591553,\n",
       "  'test_accuracy': 0.6234813332557678,\n",
       "  'v2_acc': 0.40342676639556885,\n",
       "  'v4_acc': 0.45560747385025024,\n",
       "  'v10_acc': 0.5576324462890625,\n",
       "  'v80_acc': 0.623481273651123},\n",
       " {'epoch': 18,\n",
       "  'train_loss': 0.3296359181404114,\n",
       "  'train_accuracy': 0.633430004119873,\n",
       "  'test_loss': 6.491996765136719,\n",
       "  'test_accuracy': 0.58855140209198,\n",
       "  'v2_acc': 0.4563862681388855,\n",
       "  'v4_acc': 0.4953271150588989,\n",
       "  'v10_acc': 0.5426790714263916,\n",
       "  'v80_acc': 0.58855140209198},\n",
       " {'epoch': 19,\n",
       "  'train_loss': 0.3053268790245056,\n",
       "  'train_accuracy': 0.6353784203529358,\n",
       "  'test_loss': 6.608570098876953,\n",
       "  'test_accuracy': 0.6049065589904785,\n",
       "  'v2_acc': 0.4252336621284485,\n",
       "  'v4_acc': 0.4704049825668335,\n",
       "  'v10_acc': 0.5700934529304504,\n",
       "  'v80_acc': 0.6049065589904785},\n",
       " {'epoch': 20,\n",
       "  'train_loss': 0.3013029992580414,\n",
       "  'train_accuracy': 0.6611058115959167,\n",
       "  'test_loss': 6.823700428009033,\n",
       "  'test_accuracy': 0.6393302083015442,\n",
       "  'v2_acc': 0.38473519682884216,\n",
       "  'v4_acc': 0.45560747385025024,\n",
       "  'v10_acc': 0.5623052716255188,\n",
       "  'v80_acc': 0.6393302083015442},\n",
       " {'epoch': 21,\n",
       "  'train_loss': 0.2841120958328247,\n",
       "  'train_accuracy': 0.6362963318824768,\n",
       "  'test_loss': 6.783329010009766,\n",
       "  'test_accuracy': 0.5914719700813293,\n",
       "  'v2_acc': 0.42990654706954956,\n",
       "  'v4_acc': 0.47274142503738403,\n",
       "  'v10_acc': 0.5457943677902222,\n",
       "  'v80_acc': 0.5914719700813293},\n",
       " {'epoch': 22,\n",
       "  'train_loss': 0.27378174662590027,\n",
       "  'train_accuracy': 0.6368331909179688,\n",
       "  'test_loss': 6.942240238189697,\n",
       "  'test_accuracy': 0.6190810203552246,\n",
       "  'v2_acc': 0.40031152963638306,\n",
       "  'v4_acc': 0.4548286497592926,\n",
       "  'v10_acc': 0.5557632446289062,\n",
       "  'v80_acc': 0.6190810203552246},\n",
       " {'epoch': 23,\n",
       "  'train_loss': 0.28483080863952637,\n",
       "  'train_accuracy': 0.608512282371521,\n",
       "  'test_loss': 6.989782810211182,\n",
       "  'test_accuracy': 0.6045560836791992,\n",
       "  'v2_acc': 0.43146416544914246,\n",
       "  'v4_acc': 0.47819313406944275,\n",
       "  'v10_acc': 0.5498442649841309,\n",
       "  'v80_acc': 0.6045560836791992},\n",
       " {'epoch': 24,\n",
       "  'train_loss': 0.2891053259372711,\n",
       "  'train_accuracy': 0.6347029209136963,\n",
       "  'test_loss': 6.881552219390869,\n",
       "  'test_accuracy': 0.5933800935745239,\n",
       "  'v2_acc': 0.47819316387176514,\n",
       "  'v4_acc': 0.5070093870162964,\n",
       "  'v10_acc': 0.5557632446289062,\n",
       "  'v80_acc': 0.5933800935745239},\n",
       " {'epoch': 25,\n",
       "  'train_loss': 0.25385579466819763,\n",
       "  'train_accuracy': 0.632304310798645,\n",
       "  'test_loss': 7.0707526206970215,\n",
       "  'test_accuracy': 0.5985981225967407,\n",
       "  'v2_acc': 0.47819316387176514,\n",
       "  'v4_acc': 0.5085669755935669,\n",
       "  'v10_acc': 0.5542056560516357,\n",
       "  'v80_acc': 0.5985981225967407},\n",
       " {'epoch': 26,\n",
       "  'train_loss': 0.27299782633781433,\n",
       "  'train_accuracy': 0.6114262342453003,\n",
       "  'test_loss': 6.94883394241333,\n",
       "  'test_accuracy': 0.6056463718414307,\n",
       "  'v2_acc': 0.4532710313796997,\n",
       "  'v4_acc': 0.4875389635562897,\n",
       "  'v10_acc': 0.5576324462890625,\n",
       "  'v80_acc': 0.6056464314460754},\n",
       " {'epoch': 27,\n",
       "  'train_loss': 0.2784740626811981,\n",
       "  'train_accuracy': 0.6043557524681091,\n",
       "  'test_loss': 6.973621845245361,\n",
       "  'test_accuracy': 0.5883177518844604,\n",
       "  'v2_acc': 0.4657320976257324,\n",
       "  'v4_acc': 0.5007787942886353,\n",
       "  'v10_acc': 0.5507788062095642,\n",
       "  'v80_acc': 0.5883177518844604},\n",
       " {'epoch': 28,\n",
       "  'train_loss': 0.3030981719493866,\n",
       "  'train_accuracy': 0.5705403685569763,\n",
       "  'test_loss': 7.077856063842773,\n",
       "  'test_accuracy': 0.5394080877304077,\n",
       "  'v2_acc': 0.47975078225135803,\n",
       "  'v4_acc': 0.5015576481819153,\n",
       "  'v10_acc': 0.5239875316619873,\n",
       "  'v80_acc': 0.5394080877304077},\n",
       " {'epoch': 29,\n",
       "  'train_loss': 0.25597983598709106,\n",
       "  'train_accuracy': 0.613019585609436,\n",
       "  'test_loss': 7.220235347747803,\n",
       "  'test_accuracy': 0.5841121673583984,\n",
       "  'v2_acc': 0.45015573501586914,\n",
       "  'v4_acc': 0.49221184849739075,\n",
       "  'v10_acc': 0.5420560836791992,\n",
       "  'v80_acc': 0.5841121673583984},\n",
       " {'epoch': 30,\n",
       "  'train_loss': 0.24580630660057068,\n",
       "  'train_accuracy': 0.5930854082107544,\n",
       "  'test_loss': 7.068667888641357,\n",
       "  'test_accuracy': 0.5643302202224731,\n",
       "  'v2_acc': 0.44704049825668335,\n",
       "  'v4_acc': 0.4805295765399933,\n",
       "  'v10_acc': 0.5289719104766846,\n",
       "  'v80_acc': 0.5643302202224731},\n",
       " {'epoch': 31,\n",
       "  'train_loss': 0.25211867690086365,\n",
       "  'train_accuracy': 0.5798666477203369,\n",
       "  'test_loss': 7.136483669281006,\n",
       "  'test_accuracy': 0.5729750394821167,\n",
       "  'v2_acc': 0.44548285007476807,\n",
       "  'v4_acc': 0.4914330244064331,\n",
       "  'v10_acc': 0.5305296182632446,\n",
       "  'v80_acc': 0.5729750990867615},\n",
       " {'epoch': 32,\n",
       "  'train_loss': 0.22742684185504913,\n",
       "  'train_accuracy': 0.5827935934066772,\n",
       "  'test_loss': 7.229846954345703,\n",
       "  'test_accuracy': 0.5561915636062622,\n",
       "  'v2_acc': 0.4813084006309509,\n",
       "  'v4_acc': 0.49065423011779785,\n",
       "  'v10_acc': 0.5342679023742676,\n",
       "  'v80_acc': 0.5561915636062622},\n",
       " {'epoch': 33,\n",
       "  'train_loss': 0.25087353587150574,\n",
       "  'train_accuracy': 0.6024463176727295,\n",
       "  'test_loss': 7.097713470458984,\n",
       "  'test_accuracy': 0.5625778436660767,\n",
       "  'v2_acc': 0.47507786750793457,\n",
       "  'v4_acc': 0.48676013946533203,\n",
       "  'v10_acc': 0.5320872068405151,\n",
       "  'v80_acc': 0.5625778436660767},\n",
       " {'epoch': 34,\n",
       "  'train_loss': 0.25802749395370483,\n",
       "  'train_accuracy': 0.6052693128585815,\n",
       "  'test_loss': 7.058012008666992,\n",
       "  'test_accuracy': 0.5663940906524658,\n",
       "  'v2_acc': 0.4579439163208008,\n",
       "  'v4_acc': 0.4883177578449249,\n",
       "  'v10_acc': 0.5339564085006714,\n",
       "  'v80_acc': 0.5663940906524658},\n",
       " {'epoch': 35,\n",
       "  'train_loss': 0.2726480960845947,\n",
       "  'train_accuracy': 0.5670375823974609,\n",
       "  'test_loss': 7.323234558105469,\n",
       "  'test_accuracy': 0.5646417140960693,\n",
       "  'v2_acc': 0.47819316387176514,\n",
       "  'v4_acc': 0.49922120571136475,\n",
       "  'v10_acc': 0.5339564085006714,\n",
       "  'v80_acc': 0.5646417140960693},\n",
       " {'epoch': 36,\n",
       "  'train_loss': 0.28570985794067383,\n",
       "  'train_accuracy': 0.6134915351867676,\n",
       "  'test_loss': 7.292301654815674,\n",
       "  'test_accuracy': 0.5607866048812866,\n",
       "  'v2_acc': 0.4579439163208008,\n",
       "  'v4_acc': 0.4875389337539673,\n",
       "  'v10_acc': 0.522741436958313,\n",
       "  'v80_acc': 0.5607866048812866},\n",
       " {'epoch': 37,\n",
       "  'train_loss': 0.2485562264919281,\n",
       "  'train_accuracy': 0.5602788925170898,\n",
       "  'test_loss': 7.360513210296631,\n",
       "  'test_accuracy': 0.5697429776191711,\n",
       "  'v2_acc': 0.4579439163208008,\n",
       "  'v4_acc': 0.5038940906524658,\n",
       "  'v10_acc': 0.5342679023742676,\n",
       "  'v80_acc': 0.5697429776191711},\n",
       " {'epoch': 38,\n",
       "  'train_loss': 0.24700218439102173,\n",
       "  'train_accuracy': 0.5442327260971069,\n",
       "  'test_loss': 7.364602565765381,\n",
       "  'test_accuracy': 0.5248442888259888,\n",
       "  'v2_acc': 0.4984423816204071,\n",
       "  'v4_acc': 0.5124610662460327,\n",
       "  'v10_acc': 0.5099688768386841,\n",
       "  'v80_acc': 0.524844229221344},\n",
       " {'epoch': 39,\n",
       "  'train_loss': 0.23824447393417358,\n",
       "  'train_accuracy': 0.5483590364456177,\n",
       "  'test_loss': 7.372303009033203,\n",
       "  'test_accuracy': 0.5285435914993286,\n",
       "  'v2_acc': 0.49221184849739075,\n",
       "  'v4_acc': 0.5155763626098633,\n",
       "  'v10_acc': 0.5283489227294922,\n",
       "  'v80_acc': 0.5285435914993286},\n",
       " {'epoch': 40,\n",
       "  'train_loss': 0.23584073781967163,\n",
       "  'train_accuracy': 0.5428125858306885,\n",
       "  'test_loss': 7.349174499511719,\n",
       "  'test_accuracy': 0.5063473582267761,\n",
       "  'v2_acc': 0.5031152963638306,\n",
       "  'v4_acc': 0.5109034180641174,\n",
       "  'v10_acc': 0.48255449533462524,\n",
       "  'v80_acc': 0.5063473582267761},\n",
       " {'epoch': 41,\n",
       "  'train_loss': 0.22504854202270508,\n",
       "  'train_accuracy': 0.532633364200592,\n",
       "  'test_loss': 7.282839298248291,\n",
       "  'test_accuracy': 0.45716509222984314,\n",
       "  'v2_acc': 0.5155763030052185,\n",
       "  'v4_acc': 0.5124610662460327,\n",
       "  'v10_acc': 0.4676012396812439,\n",
       "  'v80_acc': 0.4571651220321655},\n",
       " {'epoch': 42,\n",
       "  'train_loss': 0.2018057107925415,\n",
       "  'train_accuracy': 0.5225883722305298,\n",
       "  'test_loss': 7.429483413696289,\n",
       "  'test_accuracy': 0.46421337127685547,\n",
       "  'v2_acc': 0.5342679023742676,\n",
       "  'v4_acc': 0.49922117590904236,\n",
       "  'v10_acc': 0.4797508120536804,\n",
       "  'v80_acc': 0.46421337127685547},\n",
       " {'epoch': 43,\n",
       "  'train_loss': 0.22394117712974548,\n",
       "  'train_accuracy': 0.5162409543991089,\n",
       "  'test_loss': 7.328251361846924,\n",
       "  'test_accuracy': 0.4618380069732666,\n",
       "  'v2_acc': 0.5342679023742676,\n",
       "  'v4_acc': 0.4999999701976776,\n",
       "  'v10_acc': 0.46510905027389526,\n",
       "  'v80_acc': 0.4618380069732666},\n",
       " {'epoch': 44,\n",
       "  'train_loss': 0.21095781028270721,\n",
       "  'train_accuracy': 0.47921720147132874,\n",
       "  'test_loss': 7.1529765129089355,\n",
       "  'test_accuracy': 0.41479751467704773,\n",
       "  'v2_acc': 0.6105918884277344,\n",
       "  'v4_acc': 0.5218068361282349,\n",
       "  'v10_acc': 0.4579439163208008,\n",
       "  'v80_acc': 0.41479748487472534},\n",
       " {'epoch': 45,\n",
       "  'train_loss': 0.2082531899213791,\n",
       "  'train_accuracy': 0.5331226587295532,\n",
       "  'test_loss': 7.232656955718994,\n",
       "  'test_accuracy': 0.43917447328567505,\n",
       "  'v2_acc': 0.5685358047485352,\n",
       "  'v4_acc': 0.5241433382034302,\n",
       "  'v10_acc': 0.4772585928440094,\n",
       "  'v80_acc': 0.43917444348335266},\n",
       " {'epoch': 46,\n",
       "  'train_loss': 0.20740221440792084,\n",
       "  'train_accuracy': 0.512885332107544,\n",
       "  'test_loss': 7.4506402015686035,\n",
       "  'test_accuracy': 0.49992212653160095,\n",
       "  'v2_acc': 0.5264797210693359,\n",
       "  'v4_acc': 0.513239860534668,\n",
       "  'v10_acc': 0.5074766278266907,\n",
       "  'v80_acc': 0.49992215633392334},\n",
       " {'epoch': 47,\n",
       "  'train_loss': 0.2070060670375824,\n",
       "  'train_accuracy': 0.49475234746932983,\n",
       "  'test_loss': 7.5104289054870605,\n",
       "  'test_accuracy': 0.4611760377883911,\n",
       "  'v2_acc': 0.5389407873153687,\n",
       "  'v4_acc': 0.5093457698822021,\n",
       "  'v10_acc': 0.4704049825668335,\n",
       "  'v80_acc': 0.46117597818374634},\n",
       " {'epoch': 48,\n",
       "  'train_loss': 0.22419533133506775,\n",
       "  'train_accuracy': 0.48405349254608154,\n",
       "  'test_loss': 7.558896541595459,\n",
       "  'test_accuracy': 0.47959500551223755,\n",
       "  'v2_acc': 0.5560747385025024,\n",
       "  'v4_acc': 0.5194703936576843,\n",
       "  'v10_acc': 0.5093457698822021,\n",
       "  'v80_acc': 0.47959503531455994},\n",
       " {'epoch': 49,\n",
       "  'train_loss': 0.21200576424598694,\n",
       "  'train_accuracy': 0.47943365573883057,\n",
       "  'test_loss': 7.425931453704834,\n",
       "  'test_accuracy': 0.4641355276107788,\n",
       "  'v2_acc': 0.5529595017433167,\n",
       "  'v4_acc': 0.5163551568984985,\n",
       "  'v10_acc': 0.4897196292877197,\n",
       "  'v80_acc': 0.4641354978084564},\n",
       " {'epoch': 50,\n",
       "  'train_loss': 0.21589909493923187,\n",
       "  'train_accuracy': 0.455243319272995,\n",
       "  'test_loss': 7.442469120025635,\n",
       "  'test_accuracy': 0.4563862979412079,\n",
       "  'v2_acc': 0.5529594421386719,\n",
       "  'v4_acc': 0.5007787942886353,\n",
       "  'v10_acc': 0.48660439252853394,\n",
       "  'v80_acc': 0.4563862979412079},\n",
       " {'epoch': 51,\n",
       "  'train_loss': 0.1951848715543747,\n",
       "  'train_accuracy': 0.49170851707458496,\n",
       "  'test_loss': 7.523619174957275,\n",
       "  'test_accuracy': 0.4383956491947174,\n",
       "  'v2_acc': 0.59034264087677,\n",
       "  'v4_acc': 0.5295950174331665,\n",
       "  'v10_acc': 0.4719626307487488,\n",
       "  'v80_acc': 0.4383956491947174},\n",
       " {'epoch': 52,\n",
       "  'train_loss': 0.20821501314640045,\n",
       "  'train_accuracy': 0.505949079990387,\n",
       "  'test_loss': 7.434950351715088,\n",
       "  'test_accuracy': 0.4566199481487274,\n",
       "  'v2_acc': 0.585669755935669,\n",
       "  'v4_acc': 0.5147975087165833,\n",
       "  'v10_acc': 0.4897196292877197,\n",
       "  'v80_acc': 0.45661991834640503},\n",
       " {'epoch': 53,\n",
       "  'train_loss': 0.19804097712039948,\n",
       "  'train_accuracy': 0.498740017414093,\n",
       "  'test_loss': 7.523799896240234,\n",
       "  'test_accuracy': 0.42375391721725464,\n",
       "  'v2_acc': 0.59034264087677,\n",
       "  'v4_acc': 0.5295950174331665,\n",
       "  'v10_acc': 0.4691588878631592,\n",
       "  'v80_acc': 0.42375388741493225},\n",
       " {'epoch': 54,\n",
       "  'train_loss': 0.18562723696231842,\n",
       "  'train_accuracy': 0.44621574878692627,\n",
       "  'test_loss': 7.413690567016602,\n",
       "  'test_accuracy': 0.41518694162368774,\n",
       "  'v2_acc': 0.6105918884277344,\n",
       "  'v4_acc': 0.5490654110908508,\n",
       "  'v10_acc': 0.46791279315948486,\n",
       "  'v80_acc': 0.41518694162368774},\n",
       " {'epoch': 55,\n",
       "  'train_loss': 0.21250410377979279,\n",
       "  'train_accuracy': 0.48078453540802,\n",
       "  'test_loss': 7.2571258544921875,\n",
       "  'test_accuracy': 0.4009345769882202,\n",
       "  'v2_acc': 0.5996884703636169,\n",
       "  'v4_acc': 0.5350466966629028,\n",
       "  'v10_acc': 0.45669782161712646,\n",
       "  'v80_acc': 0.4009345769882202},\n",
       " {'epoch': 56,\n",
       "  'train_loss': 0.2320573478937149,\n",
       "  'train_accuracy': 0.4701160192489624,\n",
       "  'test_loss': 7.521505832672119,\n",
       "  'test_accuracy': 0.41448599100112915,\n",
       "  'v2_acc': 0.6012461185455322,\n",
       "  'v4_acc': 0.5428348779678345,\n",
       "  'v10_acc': 0.4629283547401428,\n",
       "  'v80_acc': 0.41448599100112915},\n",
       " {'epoch': 57,\n",
       "  'train_loss': 0.26494672894477844,\n",
       "  'train_accuracy': 0.478879451751709,\n",
       "  'test_loss': 7.356456279754639,\n",
       "  'test_accuracy': 0.44147199392318726,\n",
       "  'v2_acc': 0.5887850522994995,\n",
       "  'v4_acc': 0.5420560836791992,\n",
       "  'v10_acc': 0.47819313406944275,\n",
       "  'v80_acc': 0.44147196412086487},\n",
       " {'epoch': 58,\n",
       "  'train_loss': 0.23091094195842743,\n",
       "  'train_accuracy': 0.4711378812789917,\n",
       "  'test_loss': 7.432672023773193,\n",
       "  'test_accuracy': 0.46612149477005005,\n",
       "  'v2_acc': 0.5747663378715515,\n",
       "  'v4_acc': 0.5288162231445312,\n",
       "  'v10_acc': 0.49376946687698364,\n",
       "  'v80_acc': 0.46612146496772766},\n",
       " {'epoch': 59,\n",
       "  'train_loss': 0.20795221626758575,\n",
       "  'train_accuracy': 0.46914181113243103,\n",
       "  'test_loss': 7.366382598876953,\n",
       "  'test_accuracy': 0.3880062401294708,\n",
       "  'v2_acc': 0.6121495366096497,\n",
       "  'v4_acc': 0.5202491879463196,\n",
       "  'v10_acc': 0.45015576481819153,\n",
       "  'v80_acc': 0.38800621032714844},\n",
       " {'epoch': 60,\n",
       "  'train_loss': 0.2184998244047165,\n",
       "  'train_accuracy': 0.4674921929836273,\n",
       "  'test_loss': 7.2636399269104,\n",
       "  'test_accuracy': 0.390732079744339,\n",
       "  'v2_acc': 0.6214953064918518,\n",
       "  'v4_acc': 0.5397196412086487,\n",
       "  'v10_acc': 0.4517133831977844,\n",
       "  'v80_acc': 0.3907321095466614},\n",
       " {'epoch': 61,\n",
       "  'train_loss': 0.20411793887615204,\n",
       "  'train_accuracy': 0.46536195278167725,\n",
       "  'test_loss': 7.335124492645264,\n",
       "  'test_accuracy': 0.40416666865348816,\n",
       "  'v2_acc': 0.6012461185455322,\n",
       "  'v4_acc': 0.5436137318611145,\n",
       "  'v10_acc': 0.45389407873153687,\n",
       "  'v80_acc': 0.40416666865348816},\n",
       " {'epoch': 62,\n",
       "  'train_loss': 0.19718818366527557,\n",
       "  'train_accuracy': 0.44459646940231323,\n",
       "  'test_loss': 7.363210201263428,\n",
       "  'test_accuracy': 0.39750781655311584,\n",
       "  'v2_acc': 0.6152647733688354,\n",
       "  'v4_acc': 0.5436136722564697,\n",
       "  'v10_acc': 0.46666666865348816,\n",
       "  'v80_acc': 0.39750778675079346},\n",
       " {'epoch': 63,\n",
       "  'train_loss': 0.19151094555854797,\n",
       "  'train_accuracy': 0.42124176025390625,\n",
       "  'test_loss': 7.167978763580322,\n",
       "  'test_accuracy': 0.3656931519508362,\n",
       "  'v2_acc': 0.6401869058609009,\n",
       "  'v4_acc': 0.5475077629089355,\n",
       "  'v10_acc': 0.4392523765563965,\n",
       "  'v80_acc': 0.3656931519508362},\n",
       " {'epoch': 64,\n",
       "  'train_loss': 0.20937961339950562,\n",
       "  'train_accuracy': 0.4695878028869629,\n",
       "  'test_loss': 7.121849060058594,\n",
       "  'test_accuracy': 0.39049845933914185,\n",
       "  'v2_acc': 0.6074765920639038,\n",
       "  'v4_acc': 0.5428348779678345,\n",
       "  'v10_acc': 0.46137070655822754,\n",
       "  'v80_acc': 0.39049842953681946},\n",
       " {'epoch': 65,\n",
       "  'train_loss': 0.18587645888328552,\n",
       "  'train_accuracy': 0.4336422085762024,\n",
       "  'test_loss': 7.2968268394470215,\n",
       "  'test_accuracy': 0.3881620168685913,\n",
       "  'v2_acc': 0.6261682510375977,\n",
       "  'v4_acc': 0.5467289686203003,\n",
       "  'v10_acc': 0.4504672884941101,\n",
       "  'v80_acc': 0.3881619870662689},\n",
       " {'epoch': 66,\n",
       "  'train_loss': 0.20363645255565643,\n",
       "  'train_accuracy': 0.44157862663269043,\n",
       "  'test_loss': 7.271368503570557,\n",
       "  'test_accuracy': 0.3494548201560974,\n",
       "  'v2_acc': 0.6915887594223022,\n",
       "  'v4_acc': 0.5755451917648315,\n",
       "  'v10_acc': 0.4392523467540741,\n",
       "  'v80_acc': 0.3494548201560974},\n",
       " {'epoch': 67,\n",
       "  'train_loss': 0.17019903659820557,\n",
       "  'train_accuracy': 0.4381581246852875,\n",
       "  'test_loss': 7.457675933837891,\n",
       "  'test_accuracy': 0.42675232887268066,\n",
       "  'v2_acc': 0.5669782161712646,\n",
       "  'v4_acc': 0.5342679023742676,\n",
       "  'v10_acc': 0.46978193521499634,\n",
       "  'v80_acc': 0.42675235867500305},\n",
       " {'epoch': 68,\n",
       "  'train_loss': 0.17576062679290771,\n",
       "  'train_accuracy': 0.44071269035339355,\n",
       "  'test_loss': 7.348964691162109,\n",
       "  'test_accuracy': 0.40412771701812744,\n",
       "  'v2_acc': 0.6059190034866333,\n",
       "  'v4_acc': 0.5389407873153687,\n",
       "  'v10_acc': 0.44704049825668335,\n",
       "  'v80_acc': 0.40412771701812744},\n",
       " {'epoch': 69,\n",
       "  'train_loss': 0.17754851281642914,\n",
       "  'train_accuracy': 0.4362097382545471,\n",
       "  'test_loss': 7.2575860023498535,\n",
       "  'test_accuracy': 0.357982873916626,\n",
       "  'v2_acc': 0.6292834877967834,\n",
       "  'v4_acc': 0.5451713800430298,\n",
       "  'v10_acc': 0.43831774592399597,\n",
       "  'v80_acc': 0.357982873916626},\n",
       " {'epoch': 70,\n",
       "  'train_loss': 0.19420331716537476,\n",
       "  'train_accuracy': 0.4312305450439453,\n",
       "  'test_loss': 7.411203861236572,\n",
       "  'test_accuracy': 0.3951323628425598,\n",
       "  'v2_acc': 0.618380069732666,\n",
       "  'v4_acc': 0.5443925261497498,\n",
       "  'v10_acc': 0.4535825252532959,\n",
       "  'v80_acc': 0.3951324224472046},\n",
       " {'epoch': 71,\n",
       "  'train_loss': 0.1754187047481537,\n",
       "  'train_accuracy': 0.40707916021347046,\n",
       "  'test_loss': 7.127689361572266,\n",
       "  'test_accuracy': 0.34388628602027893,\n",
       "  'v2_acc': 0.6697819232940674,\n",
       "  'v4_acc': 0.527258574962616,\n",
       "  'v10_acc': 0.4295949935913086,\n",
       "  'v80_acc': 0.3438863158226013},\n",
       " {'epoch': 72,\n",
       "  'train_loss': 0.20585381984710693,\n",
       "  'train_accuracy': 0.4183408319950104,\n",
       "  'test_loss': 7.250049591064453,\n",
       "  'test_accuracy': 0.345249205827713,\n",
       "  'v2_acc': 0.6479750871658325,\n",
       "  'v4_acc': 0.5295950174331665,\n",
       "  'v10_acc': 0.420560747385025,\n",
       "  'v80_acc': 0.345249205827713},\n",
       " {'epoch': 73,\n",
       "  'train_loss': 0.18495826423168182,\n",
       "  'train_accuracy': 0.4054728150367737,\n",
       "  'test_loss': 7.09329080581665,\n",
       "  'test_accuracy': 0.35214173793792725,\n",
       "  'v2_acc': 0.6417445540428162,\n",
       "  'v4_acc': 0.5514018535614014,\n",
       "  'v10_acc': 0.4221183657646179,\n",
       "  'v80_acc': 0.35214173793792725},\n",
       " {'epoch': 74,\n",
       "  'train_loss': 0.1727878898382187,\n",
       "  'train_accuracy': 0.4037928581237793,\n",
       "  'test_loss': 7.011937618255615,\n",
       "  'test_accuracy': 0.30175232887268066,\n",
       "  'v2_acc': 0.6884735226631165,\n",
       "  'v4_acc': 0.5685358047485352,\n",
       "  'v10_acc': 0.40872275829315186,\n",
       "  'v80_acc': 0.30175232887268066},\n",
       " {'epoch': 75,\n",
       "  'train_loss': 0.23413828015327454,\n",
       "  'train_accuracy': 0.39966660737991333,\n",
       "  'test_loss': 7.358382701873779,\n",
       "  'test_accuracy': 0.3587227463722229,\n",
       "  'v2_acc': 0.6651090383529663,\n",
       "  'v4_acc': 0.5537383556365967,\n",
       "  'v10_acc': 0.4448598325252533,\n",
       "  'v80_acc': 0.3587227463722229},\n",
       " {'epoch': 76,\n",
       "  'train_loss': 0.22058279812335968,\n",
       "  'train_accuracy': 0.40759438276290894,\n",
       "  'test_loss': 7.2127366065979,\n",
       "  'test_accuracy': 0.34077101945877075,\n",
       "  'v2_acc': 0.6573208570480347,\n",
       "  'v4_acc': 0.5467289686203003,\n",
       "  'v10_acc': 0.4233644902706146,\n",
       "  'v80_acc': 0.34077101945877075},\n",
       " {'epoch': 77,\n",
       "  'train_loss': 0.18525134027004242,\n",
       "  'train_accuracy': 0.3907169997692108,\n",
       "  'test_loss': 7.15829610824585,\n",
       "  'test_accuracy': 0.4016355276107788,\n",
       "  'v2_acc': 0.6292834877967834,\n",
       "  'v4_acc': 0.5381619930267334,\n",
       "  'v10_acc': 0.4601246118545532,\n",
       "  'v80_acc': 0.4016355276107788},\n",
       " {'epoch': 78,\n",
       "  'train_loss': 0.1623881459236145,\n",
       "  'train_accuracy': 0.41353046894073486,\n",
       "  'test_loss': 7.0722503662109375,\n",
       "  'test_accuracy': 0.3305685520172119,\n",
       "  'v2_acc': 0.6838005781173706,\n",
       "  'v4_acc': 0.5685358047485352,\n",
       "  'v10_acc': 0.4280373752117157,\n",
       "  'v80_acc': 0.3305685222148895},\n",
       " {'epoch': 79,\n",
       "  'train_loss': 0.16073325276374817,\n",
       "  'train_accuracy': 0.39721596240997314,\n",
       "  'test_loss': 7.086031436920166,\n",
       "  'test_accuracy': 0.3651869297027588,\n",
       "  'v2_acc': 0.6557632684707642,\n",
       "  'v4_acc': 0.5584112405776978,\n",
       "  'v10_acc': 0.4489096701145172,\n",
       "  'v80_acc': 0.3651868999004364},\n",
       " {'epoch': 80,\n",
       "  'train_loss': 0.1837230920791626,\n",
       "  'train_accuracy': 0.38231295347213745,\n",
       "  'test_loss': 7.026880741119385,\n",
       "  'test_accuracy': 0.2760903239250183,\n",
       "  'v2_acc': 0.7024922370910645,\n",
       "  'v4_acc': 0.5732086896896362,\n",
       "  'v10_acc': 0.3996884822845459,\n",
       "  'v80_acc': 0.2760903537273407},\n",
       " {'epoch': 81,\n",
       "  'train_loss': 0.19579565525054932,\n",
       "  'train_accuracy': 0.3916652202606201,\n",
       "  'test_loss': 7.040198802947998,\n",
       "  'test_accuracy': 0.33831775188446045,\n",
       "  'v2_acc': 0.6760124564170837,\n",
       "  'v4_acc': 0.5685358047485352,\n",
       "  'v10_acc': 0.43302178382873535,\n",
       "  'v80_acc': 0.33831775188446045},\n",
       " {'epoch': 82,\n",
       "  'train_loss': 0.19726473093032837,\n",
       "  'train_accuracy': 0.35856857895851135,\n",
       "  'test_loss': 6.954795837402344,\n",
       "  'test_accuracy': 0.30506229400634766,\n",
       "  'v2_acc': 0.6838006377220154,\n",
       "  'v4_acc': 0.5716511011123657,\n",
       "  'v10_acc': 0.42398756742477417,\n",
       "  'v80_acc': 0.30506229400634766},\n",
       " {'epoch': 83,\n",
       "  'train_loss': 0.16612006723880768,\n",
       "  'train_accuracy': 0.35611361265182495,\n",
       "  'test_loss': 6.823170185089111,\n",
       "  'test_accuracy': 0.2976635694503784,\n",
       "  'v2_acc': 0.6869158744812012,\n",
       "  'v4_acc': 0.5443925261497498,\n",
       "  'v10_acc': 0.3869158923625946,\n",
       "  'v80_acc': 0.29766353964805603},\n",
       " {'epoch': 84,\n",
       "  'train_loss': 0.1506897211074829,\n",
       "  'train_accuracy': 0.3572523593902588,\n",
       "  'test_loss': 7.006005764007568,\n",
       "  'test_accuracy': 0.31471961736679077,\n",
       "  'v2_acc': 0.6900311708450317,\n",
       "  'v4_acc': 0.5661994218826294,\n",
       "  'v10_acc': 0.4177570343017578,\n",
       "  'v80_acc': 0.31471961736679077},\n",
       " {'epoch': 85,\n",
       "  'train_loss': 0.16174858808517456,\n",
       "  'train_accuracy': 0.37835556268692017,\n",
       "  'test_loss': 7.061148166656494,\n",
       "  'test_accuracy': 0.32990655303001404,\n",
       "  'v2_acc': 0.6542055606842041,\n",
       "  'v4_acc': 0.5584112405776978,\n",
       "  'v10_acc': 0.4205607771873474,\n",
       "  'v80_acc': 0.32990652322769165},\n",
       " {'epoch': 86,\n",
       "  'train_loss': 0.17436110973358154,\n",
       "  'train_accuracy': 0.3694275915622711,\n",
       "  'test_loss': 6.94704008102417,\n",
       "  'test_accuracy': 0.30907320976257324,\n",
       "  'v2_acc': 0.6822429895401001,\n",
       "  'v4_acc': 0.5607476234436035,\n",
       "  'v10_acc': 0.4255451560020447,\n",
       "  'v80_acc': 0.30907320976257324},\n",
       " {'epoch': 87,\n",
       "  'train_loss': 0.17974227666854858,\n",
       "  'train_accuracy': 0.351931095123291,\n",
       "  'test_loss': 7.138144016265869,\n",
       "  'test_accuracy': 0.3387071490287781,\n",
       "  'v2_acc': 0.649532675743103,\n",
       "  'v4_acc': 0.5693146586418152,\n",
       "  'v10_acc': 0.42024922370910645,\n",
       "  'v80_acc': 0.3387071490287781},\n",
       " {'epoch': 88,\n",
       "  'train_loss': 0.1647728681564331,\n",
       "  'train_accuracy': 0.36450034379959106,\n",
       "  'test_loss': 7.05340051651001,\n",
       "  'test_accuracy': 0.29279595613479614,\n",
       "  'v2_acc': 0.7024922370910645,\n",
       "  'v4_acc': 0.5677570104598999,\n",
       "  'v10_acc': 0.4152648150920868,\n",
       "  'v80_acc': 0.29279595613479614},\n",
       " {'epoch': 89,\n",
       "  'train_loss': 0.17194244265556335,\n",
       "  'train_accuracy': 0.38644787669181824,\n",
       "  'test_loss': 7.195007801055908,\n",
       "  'test_accuracy': 0.33025699853897095,\n",
       "  'v2_acc': 0.6542056202888489,\n",
       "  'v4_acc': 0.5545171499252319,\n",
       "  'v10_acc': 0.4249221086502075,\n",
       "  'v80_acc': 0.33025702834129333},\n",
       " {'epoch': 90,\n",
       "  'train_loss': 0.1695455014705658,\n",
       "  'train_accuracy': 0.38178473711013794,\n",
       "  'test_loss': 6.9512858390808105,\n",
       "  'test_accuracy': 0.319509357213974,\n",
       "  'v2_acc': 0.6806853413581848,\n",
       "  'v4_acc': 0.5521806478500366,\n",
       "  'v10_acc': 0.4152648150920868,\n",
       "  'v80_acc': 0.3195093274116516},\n",
       " {'epoch': 91,\n",
       "  'train_loss': 0.15604619681835175,\n",
       "  'train_accuracy': 0.3613179624080658,\n",
       "  'test_loss': 7.179837703704834,\n",
       "  'test_accuracy': 0.31226634979248047,\n",
       "  'v2_acc': 0.6713395714759827,\n",
       "  'v4_acc': 0.5677570104598999,\n",
       "  'v10_acc': 0.41619938611984253,\n",
       "  'v80_acc': 0.31226634979248047},\n",
       " {'epoch': 92,\n",
       "  'train_loss': 0.16362528502941132,\n",
       "  'train_accuracy': 0.3775675296783447,\n",
       "  'test_loss': 7.084686279296875,\n",
       "  'test_accuracy': 0.3403427004814148,\n",
       "  'v2_acc': 0.6682243347167969,\n",
       "  'v4_acc': 0.5482865571975708,\n",
       "  'v10_acc': 0.4140186905860901,\n",
       "  'v80_acc': 0.3403427004814148},\n",
       " {'epoch': 93,\n",
       "  'train_loss': 0.15714429318904877,\n",
       "  'train_accuracy': 0.35050225257873535,\n",
       "  'test_loss': 6.887792110443115,\n",
       "  'test_accuracy': 0.30560749769210815,\n",
       "  'v2_acc': 0.6744548082351685,\n",
       "  'v4_acc': 0.5732086896896362,\n",
       "  'v10_acc': 0.4140186905860901,\n",
       "  'v80_acc': 0.30560746788978577},\n",
       " {'epoch': 94,\n",
       "  'train_loss': 0.16714690625667572,\n",
       "  'train_accuracy': 0.37467092275619507,\n",
       "  'test_loss': 6.7612833976745605,\n",
       "  'test_accuracy': 0.31156542897224426,\n",
       "  'v2_acc': 0.6853582859039307,\n",
       "  'v4_acc': 0.5584112405776978,\n",
       "  'v10_acc': 0.4193146228790283,\n",
       "  'v80_acc': 0.31156542897224426},\n",
       " {'epoch': 95,\n",
       "  'train_loss': 0.1528438776731491,\n",
       "  'train_accuracy': 0.36196744441986084,\n",
       "  'test_loss': 6.936101913452148,\n",
       "  'test_accuracy': 0.2946261763572693,\n",
       "  'v2_acc': 0.6931464076042175,\n",
       "  'v4_acc': 0.5669782161712646,\n",
       "  'v10_acc': 0.4112149477005005,\n",
       "  'v80_acc': 0.2946261763572693},\n",
       " {'epoch': 96,\n",
       "  'train_loss': 0.15065474808216095,\n",
       "  'train_accuracy': 0.3511863648891449,\n",
       "  'test_loss': 6.96044397354126,\n",
       "  'test_accuracy': 0.3196651041507721,\n",
       "  'v2_acc': 0.6806853413581848,\n",
       "  'v4_acc': 0.5545171499252319,\n",
       "  'v10_acc': 0.409345805644989,\n",
       "  'v80_acc': 0.3196651041507721},\n",
       " {'epoch': 97,\n",
       "  'train_loss': 0.14851343631744385,\n",
       "  'train_accuracy': 0.35370194911956787,\n",
       "  'test_loss': 6.891119480133057,\n",
       "  'test_accuracy': 0.2620716691017151,\n",
       "  'v2_acc': 0.7165108919143677,\n",
       "  'v4_acc': 0.5623052716255188,\n",
       "  'v10_acc': 0.3993769586086273,\n",
       "  'v80_acc': 0.2620716392993927},\n",
       " {'epoch': 98,\n",
       "  'train_loss': 0.16854989528656006,\n",
       "  'train_accuracy': 0.3506624698638916,\n",
       "  'test_loss': 6.984960079193115,\n",
       "  'test_accuracy': 0.3145638704299927,\n",
       "  'v2_acc': 0.6900311708450317,\n",
       "  'v4_acc': 0.5693145990371704,\n",
       "  'v10_acc': 0.42429909110069275,\n",
       "  'v80_acc': 0.3145638704299927},\n",
       " {'epoch': 99,\n",
       "  'train_loss': 0.18893857300281525,\n",
       "  'train_accuracy': 0.3633616268634796,\n",
       "  'test_loss': 7.084252834320068,\n",
       "  'test_accuracy': 0.30046725273132324,\n",
       "  'v2_acc': 0.704049825668335,\n",
       "  'v4_acc': 0.5607476234436035,\n",
       "  'v10_acc': 0.41028037667274475,\n",
       "  'v80_acc': 0.30046728253364563},\n",
       " {'epoch': 100,\n",
       "  'train_loss': 0.15636871755123138,\n",
       "  'train_accuracy': 0.35436007380485535,\n",
       "  'test_loss': 6.900909423828125,\n",
       "  'test_accuracy': 0.3128115236759186,\n",
       "  'v2_acc': 0.6838005781173706,\n",
       "  'v4_acc': 0.5537382960319519,\n",
       "  'v10_acc': 0.40498441457748413,\n",
       "  'v80_acc': 0.3128115236759186},\n",
       " {'epoch': 101,\n",
       "  'train_loss': 0.18525812029838562,\n",
       "  'train_accuracy': 0.32423797249794006,\n",
       "  'test_loss': 6.907567501068115,\n",
       "  'test_accuracy': 0.3086838126182556,\n",
       "  'v2_acc': 0.6806854009628296,\n",
       "  'v4_acc': 0.5700934529304504,\n",
       "  'v10_acc': 0.4084112048149109,\n",
       "  'v80_acc': 0.3086838126182556},\n",
       " {'epoch': 102,\n",
       "  'train_loss': 0.15926770865917206,\n",
       "  'train_accuracy': 0.3190292716026306,\n",
       "  'test_loss': 6.891391754150391,\n",
       "  'test_accuracy': 0.2470404952764511,\n",
       "  'v2_acc': 0.7149533033370972,\n",
       "  'v4_acc': 0.5638629198074341,\n",
       "  'v10_acc': 0.38348910212516785,\n",
       "  'v80_acc': 0.24704048037528992},\n",
       " {'epoch': 103,\n",
       "  'train_loss': 0.15609845519065857,\n",
       "  'train_accuracy': 0.30704450607299805,\n",
       "  'test_loss': 6.873095989227295,\n",
       "  'test_accuracy': 0.2535046637058258,\n",
       "  'v2_acc': 0.7289719581604004,\n",
       "  'v4_acc': 0.5739874839782715,\n",
       "  'v10_acc': 0.3869158923625946,\n",
       "  'v80_acc': 0.2535046935081482},\n",
       " {'epoch': 104,\n",
       "  'train_loss': 0.1603090465068817,\n",
       "  'train_accuracy': 0.34703412652015686,\n",
       "  'test_loss': 6.931246280670166,\n",
       "  'test_accuracy': 0.31347352266311646,\n",
       "  'v2_acc': 0.6806853413581848,\n",
       "  'v4_acc': 0.5560747385025024,\n",
       "  'v10_acc': 0.40996885299682617,\n",
       "  'v80_acc': 0.31347352266311646},\n",
       " {'epoch': 105,\n",
       "  'train_loss': 0.16838432848453522,\n",
       "  'train_accuracy': 0.36527103185653687,\n",
       "  'test_loss': 6.970961093902588,\n",
       "  'test_accuracy': 0.2902258634567261,\n",
       "  'v2_acc': 0.6884735226631165,\n",
       "  'v4_acc': 0.5521806478500366,\n",
       "  'v10_acc': 0.4028037190437317,\n",
       "  'v80_acc': 0.2902258634567261},\n",
       " {'epoch': 106,\n",
       "  'train_loss': 0.13511604070663452,\n",
       "  'train_accuracy': 0.35128161311149597,\n",
       "  'test_loss': 6.791922092437744,\n",
       "  'test_accuracy': 0.3119937777519226,\n",
       "  'v2_acc': 0.6993769407272339,\n",
       "  'v4_acc': 0.572429895401001,\n",
       "  'v10_acc': 0.4183800518512726,\n",
       "  'v80_acc': 0.3119937777519226},\n",
       " {'epoch': 107,\n",
       "  'train_loss': 0.13997933268547058,\n",
       "  'train_accuracy': 0.32136300206184387,\n",
       "  'test_loss': 6.819314479827881,\n",
       "  'test_accuracy': 0.3045949935913086,\n",
       "  'v2_acc': 0.6931464076042175,\n",
       "  'v4_acc': 0.5669782161712646,\n",
       "  'v10_acc': 0.42118382453918457,\n",
       "  'v80_acc': 0.304595023393631},\n",
       " {'epoch': 108,\n",
       "  'train_loss': 0.159652441740036,\n",
       "  'train_accuracy': 0.334456205368042,\n",
       "  'test_loss': 6.773149013519287,\n",
       "  'test_accuracy': 0.2568535804748535,\n",
       "  'v2_acc': 0.7211837768554688,\n",
       "  'v4_acc': 0.5771028399467468,\n",
       "  'v10_acc': 0.3881620168685913,\n",
       "  'v80_acc': 0.2568535804748535},\n",
       " {'epoch': 109,\n",
       "  'train_loss': 0.1420964151620865,\n",
       "  'train_accuracy': 0.34219345450401306,\n",
       "  'test_loss': 6.666947841644287,\n",
       "  'test_accuracy': 0.24548286199569702,\n",
       "  'v2_acc': 0.7429906129837036,\n",
       "  'v4_acc': 0.5802180767059326,\n",
       "  'v10_acc': 0.3760124444961548,\n",
       "  'v80_acc': 0.24548286199569702},\n",
       " {'epoch': 110,\n",
       "  'train_loss': 0.14662539958953857,\n",
       "  'train_accuracy': 0.3387036621570587,\n",
       "  'test_loss': 6.791536808013916,\n",
       "  'test_accuracy': 0.3142523467540741,\n",
       "  'v2_acc': 0.677570104598999,\n",
       "  'v4_acc': 0.5700934529304504,\n",
       "  'v10_acc': 0.4180685579776764,\n",
       "  'v80_acc': 0.3142523467540741},\n",
       " {'epoch': 111,\n",
       "  'train_loss': 0.14536544680595398,\n",
       "  'train_accuracy': 0.36613699793815613,\n",
       "  'test_loss': 6.8362135887146,\n",
       "  'test_accuracy': 0.27616822719573975,\n",
       "  'v2_acc': 0.6900311708450317,\n",
       "  'v4_acc': 0.5646417140960693,\n",
       "  'v10_acc': 0.39470404386520386,\n",
       "  'v80_acc': 0.27616822719573975},\n",
       " {'epoch': 112,\n",
       "  'train_loss': 0.1346925050020218,\n",
       "  'train_accuracy': 0.36327505111694336,\n",
       "  'test_loss': 6.862406253814697,\n",
       "  'test_accuracy': 0.30946260690689087,\n",
       "  'v2_acc': 0.6682243347167969,\n",
       "  'v4_acc': 0.5482866168022156,\n",
       "  'v10_acc': 0.40031152963638306,\n",
       "  'v80_acc': 0.30946260690689087},\n",
       " {'epoch': 113,\n",
       "  'train_loss': 0.12918949127197266,\n",
       "  'train_accuracy': 0.3341401219367981,\n",
       "  'test_loss': 6.841654300689697,\n",
       "  'test_accuracy': 0.2674844264984131,\n",
       "  'v2_acc': 0.7133956551551819,\n",
       "  'v4_acc': 0.5755451917648315,\n",
       "  'v10_acc': 0.39626172184944153,\n",
       "  'v80_acc': 0.2674844264984131},\n",
       " {'epoch': 114,\n",
       "  'train_loss': 0.13496257364749908,\n",
       "  'train_accuracy': 0.35944318771362305,\n",
       "  'test_loss': 7.04788064956665,\n",
       "  'test_accuracy': 0.31292834877967834,\n",
       "  'v2_acc': 0.6838005781173706,\n",
       "  'v4_acc': 0.5716511011123657,\n",
       "  'v10_acc': 0.42180684208869934,\n",
       "  'v80_acc': 0.31292831897735596},\n",
       " {'epoch': 115,\n",
       "  'train_loss': 0.15775169432163239,\n",
       "  'train_accuracy': 0.34916436672210693,\n",
       "  'test_loss': 6.997653961181641,\n",
       "  'test_accuracy': 0.2830996811389923,\n",
       "  'v2_acc': 0.6915887594223022,\n",
       "  'v4_acc': 0.5661994218826294,\n",
       "  'v10_acc': 0.39314642548561096,\n",
       "  'v80_acc': 0.2830997109413147},\n",
       " {'epoch': 116,\n",
       "  'train_loss': 0.17534016072750092,\n",
       "  'train_accuracy': 0.34113264083862305,\n",
       "  'test_loss': 6.921358108520508,\n",
       "  'test_accuracy': 0.26845794916152954,\n",
       "  'v2_acc': 0.7149533033370972,\n",
       "  'v4_acc': 0.5615264773368835,\n",
       "  'v10_acc': 0.3859812915325165,\n",
       "  'v80_acc': 0.26845794916152954},\n",
       " {'epoch': 117,\n",
       "  'train_loss': 0.1887342631816864,\n",
       "  'train_accuracy': 0.3171544671058655,\n",
       "  'test_loss': 7.0765767097473145,\n",
       "  'test_accuracy': 0.28718847036361694,\n",
       "  'v2_acc': 0.677570104598999,\n",
       "  'v4_acc': 0.5638629198074341,\n",
       "  'v10_acc': 0.40186917781829834,\n",
       "  'v80_acc': 0.28718847036361694},\n",
       " {'epoch': 118,\n",
       "  'train_loss': 0.16145440936088562,\n",
       "  'train_accuracy': 0.32780569791793823,\n",
       "  'test_loss': 6.843882083892822,\n",
       "  'test_accuracy': 0.2544003129005432,\n",
       "  'v2_acc': 0.7305295467376709,\n",
       "  'v4_acc': 0.559190034866333,\n",
       "  'v10_acc': 0.3996884822845459,\n",
       "  'v80_acc': 0.2544003129005432},\n",
       " {'epoch': 119,\n",
       "  'train_loss': 0.16043786704540253,\n",
       "  'train_accuracy': 0.32570576667785645,\n",
       "  'test_loss': 6.831449031829834,\n",
       "  'test_accuracy': 0.26129284501075745,\n",
       "  'v2_acc': 0.7383177280426025,\n",
       "  'v4_acc': 0.5677570104598999,\n",
       "  'v10_acc': 0.3940809965133667,\n",
       "  'v80_acc': 0.26129284501075745},\n",
       " {'epoch': 120,\n",
       "  'train_loss': 0.13957199454307556,\n",
       "  'train_accuracy': 0.32473158836364746,\n",
       "  'test_loss': 6.829223155975342,\n",
       "  'test_accuracy': 0.24575546383857727,\n",
       "  'v2_acc': 0.7102803587913513,\n",
       "  'v4_acc': 0.5747663378715515,\n",
       "  'v10_acc': 0.381619930267334,\n",
       "  'v80_acc': 0.24575546383857727},\n",
       " {'epoch': 121,\n",
       "  'train_loss': 0.14442193508148193,\n",
       "  'train_accuracy': 0.31631016731262207,\n",
       "  'test_loss': 6.891166687011719,\n",
       "  'test_accuracy': 0.24793612957000732,\n",
       "  'v2_acc': 0.7196261882781982,\n",
       "  'v4_acc': 0.5560747385025024,\n",
       "  'v10_acc': 0.3900311589241028,\n",
       "  'v80_acc': 0.24793614447116852},\n",
       " {'epoch': 122,\n",
       "  'train_loss': 0.15518707036972046,\n",
       "  'train_accuracy': 0.3315508961677551,\n",
       "  'test_loss': 7.0133514404296875,\n",
       "  'test_accuracy': 0.26179906725883484,\n",
       "  'v2_acc': 0.6978193521499634,\n",
       "  'v4_acc': 0.5436136722564697,\n",
       "  'v10_acc': 0.3809968829154968,\n",
       "  'v80_acc': 0.26179906725883484},\n",
       " {'epoch': 123,\n",
       "  'train_loss': 0.14170454442501068,\n",
       "  'train_accuracy': 0.33535677194595337,\n",
       "  'test_loss': 6.886648654937744,\n",
       "  'test_accuracy': 0.2792834937572479,\n",
       "  'v2_acc': 0.6791276931762695,\n",
       "  'v4_acc': 0.5537382960319519,\n",
       "  'v10_acc': 0.3922118544578552,\n",
       "  'v80_acc': 0.2792834937572479},\n",
       " {'epoch': 124,\n",
       "  'train_loss': 0.16175051033496857,\n",
       "  'train_accuracy': 0.3229433596134186,\n",
       "  'test_loss': 6.657200336456299,\n",
       "  'test_accuracy': 0.25011682510375977,\n",
       "  'v2_acc': 0.6947040557861328,\n",
       "  'v4_acc': 0.5545171499252319,\n",
       "  'v10_acc': 0.36822429299354553,\n",
       "  'v80_acc': 0.25011682510375977},\n",
       " {'epoch': 125,\n",
       "  'train_loss': 0.1406315267086029,\n",
       "  'train_accuracy': 0.30739957094192505,\n",
       "  'test_loss': 6.681309223175049,\n",
       "  'test_accuracy': 0.23341122269630432,\n",
       "  'v2_acc': 0.7149533033370972,\n",
       "  'v4_acc': 0.5545171499252319,\n",
       "  'v10_acc': 0.36199378967285156,\n",
       "  'v80_acc': 0.23341120779514313},\n",
       " {'epoch': 126,\n",
       "  'train_loss': 0.16920694708824158,\n",
       "  'train_accuracy': 0.29498183727264404,\n",
       "  'test_loss': 6.742450714111328,\n",
       "  'test_accuracy': 0.2307243049144745,\n",
       "  'v2_acc': 0.7242990732192993,\n",
       "  'v4_acc': 0.5638629198074341,\n",
       "  'v10_acc': 0.37383174896240234,\n",
       "  'v80_acc': 0.2307242900133133},\n",
       " {'epoch': 127,\n",
       "  'train_loss': 0.17895466089248657,\n",
       "  'train_accuracy': 0.3278273344039917,\n",
       "  'test_loss': 6.840906620025635,\n",
       "  'test_accuracy': 0.2594626247882843,\n",
       "  'v2_acc': 0.6713395714759827,\n",
       "  'v4_acc': 0.5381619930267334,\n",
       "  'v10_acc': 0.37632399797439575,\n",
       "  'v80_acc': 0.2594626247882843},\n",
       " {'epoch': 128,\n",
       "  'train_loss': 0.18894249200820923,\n",
       "  'train_accuracy': 0.2967137098312378,\n",
       "  'test_loss': 6.709178924560547,\n",
       "  'test_accuracy': 0.25081777572631836,\n",
       "  'v2_acc': 0.7211837768554688,\n",
       "  'v4_acc': 0.559190034866333,\n",
       "  'v10_acc': 0.3844236731529236,\n",
       "  'v80_acc': 0.25081774592399597},\n",
       " {'epoch': 129,\n",
       "  'train_loss': 0.15956678986549377,\n",
       "  'train_accuracy': 0.317474901676178,\n",
       "  'test_loss': 6.750453948974609,\n",
       "  'test_accuracy': 0.2890576422214508,\n",
       "  'v2_acc': 0.6900311708450317,\n",
       "  'v4_acc': 0.5646417140960693,\n",
       "  'v10_acc': 0.39906540513038635,\n",
       "  'v80_acc': 0.2890576422214508},\n",
       " {'epoch': 130,\n",
       "  'train_loss': 0.1711176335811615,\n",
       "  'train_accuracy': 0.3254762887954712,\n",
       "  'test_loss': 6.840848922729492,\n",
       "  'test_accuracy': 0.2709501385688782,\n",
       "  'v2_acc': 0.7258567214012146,\n",
       "  'v4_acc': 0.5755451917648315,\n",
       "  'v10_acc': 0.395638644695282,\n",
       "  'v80_acc': 0.2709501385688782},\n",
       " {'epoch': 131,\n",
       "  'train_loss': 0.16942264139652252,\n",
       "  'train_accuracy': 0.31869155168533325,\n",
       "  'test_loss': 6.753925800323486,\n",
       "  'test_accuracy': 0.2781542241573334,\n",
       "  'v2_acc': 0.7102804183959961,\n",
       "  'v4_acc': 0.5654205679893494,\n",
       "  'v10_acc': 0.39937692880630493,\n",
       "  'v80_acc': 0.278154194355011},\n",
       " {'epoch': 132,\n",
       "  'train_loss': 0.15756738185882568,\n",
       "  'train_accuracy': 0.290968120098114,\n",
       "  'test_loss': 6.648725986480713,\n",
       "  'test_accuracy': 0.22842679917812347,\n",
       "  'v2_acc': 0.7398754358291626,\n",
       "  'v4_acc': 0.5708723068237305,\n",
       "  'v10_acc': 0.3800622820854187,\n",
       "  'v80_acc': 0.22842679917812347},\n",
       " {'epoch': 133,\n",
       "  'train_loss': 0.15834611654281616,\n",
       "  'train_accuracy': 0.2893228232860565,\n",
       "  'test_loss': 6.7654852867126465,\n",
       "  'test_accuracy': 0.23380061984062195,\n",
       "  'v2_acc': 0.7242990732192993,\n",
       "  'v4_acc': 0.5856698155403137,\n",
       "  'v10_acc': 0.38161996006965637,\n",
       "  'v80_acc': 0.23380061984062195},\n",
       " {'epoch': 134,\n",
       "  'train_loss': 0.1445160061120987,\n",
       "  'train_accuracy': 0.3085642457008362,\n",
       "  'test_loss': 6.513286590576172,\n",
       "  'test_accuracy': 0.24521028995513916,\n",
       "  'v2_acc': 0.7258566617965698,\n",
       "  'v4_acc': 0.5747663378715515,\n",
       "  'v10_acc': 0.37383174896240234,\n",
       "  'v80_acc': 0.24521027505397797},\n",
       " {'epoch': 135,\n",
       "  'train_loss': 0.14506517350673676,\n",
       "  'train_accuracy': 0.3153749704360962,\n",
       "  'test_loss': 6.620561599731445,\n",
       "  'test_accuracy': 0.23551401495933533,\n",
       "  'v2_acc': 0.7196261882781982,\n",
       "  'v4_acc': 0.5747663378715515,\n",
       "  'v10_acc': 0.3781931400299072,\n",
       "  'v80_acc': 0.23551401495933533},\n",
       " {'epoch': 136,\n",
       "  'train_loss': 0.13932165503501892,\n",
       "  'train_accuracy': 0.3218565881252289,\n",
       "  'test_loss': 6.607666015625,\n",
       "  'test_accuracy': 0.2582165002822876,\n",
       "  'v2_acc': 0.7118380069732666,\n",
       "  'v4_acc': 0.5817756652832031,\n",
       "  'v10_acc': 0.38504672050476074,\n",
       "  'v80_acc': 0.25821653008461},\n",
       " {'epoch': 137,\n",
       "  'train_loss': 0.1279362589120865,\n",
       "  'train_accuracy': 0.30836939811706543,\n",
       "  'test_loss': 6.654824733734131,\n",
       "  'test_accuracy': 0.23742210865020752,\n",
       "  'v2_acc': 0.7398753762245178,\n",
       "  'v4_acc': 0.5552959442138672,\n",
       "  'v10_acc': 0.3676012456417084,\n",
       "  'v80_acc': 0.23742210865020752},\n",
       " {'epoch': 138,\n",
       "  'train_loss': 0.15810371935367584,\n",
       "  'train_accuracy': 0.30021217465400696,\n",
       "  'test_loss': 6.493377685546875,\n",
       "  'test_accuracy': 0.2347741425037384,\n",
       "  'v2_acc': 0.7336448431015015,\n",
       "  'v4_acc': 0.5661994218826294,\n",
       "  'v10_acc': 0.36822429299354553,\n",
       "  'v80_acc': 0.2347741425037384},\n",
       " {'epoch': 139,\n",
       "  'train_loss': 0.1484861522912979,\n",
       "  'train_accuracy': 0.31072479486465454,\n",
       "  'test_loss': 6.4156174659729,\n",
       "  'test_accuracy': 0.24661213159561157,\n",
       "  'v2_acc': 0.7196261882781982,\n",
       "  'v4_acc': 0.5716511011123657,\n",
       "  'v10_acc': 0.38878506422042847,\n",
       "  'v80_acc': 0.24661214649677277},\n",
       " {'epoch': 140,\n",
       "  'train_loss': 0.1529150903224945,\n",
       "  'train_accuracy': 0.29870539903640747,\n",
       "  'test_loss': 6.431943893432617,\n",
       "  'test_accuracy': 0.23481309413909912,\n",
       "  'v2_acc': 0.722741425037384,\n",
       "  'v4_acc': 0.5646417737007141,\n",
       "  'v10_acc': 0.37383177876472473,\n",
       "  'v80_acc': 0.23481309413909912},\n",
       " {'epoch': 141,\n",
       "  'train_loss': 0.14506205916404724,\n",
       "  'train_accuracy': 0.32082176208496094,\n",
       "  'test_loss': 6.52135705947876,\n",
       "  'test_accuracy': 0.267328679561615,\n",
       "  'v2_acc': 0.7149533033370972,\n",
       "  'v4_acc': 0.577102780342102,\n",
       "  'v10_acc': 0.4012460708618164,\n",
       "  'v80_acc': 0.2673286497592926},\n",
       " {'epoch': 142,\n",
       "  'train_loss': 0.15217725932598114,\n",
       "  'train_accuracy': 0.30861619114875793,\n",
       "  'test_loss': 6.577819347381592,\n",
       "  'test_accuracy': 0.2795950174331665,\n",
       "  'v2_acc': 0.7102804183959961,\n",
       "  'v4_acc': 0.558411180973053,\n",
       "  'v10_acc': 0.39595016837120056,\n",
       "  'v80_acc': 0.2795950174331665},\n",
       " {'epoch': 143,\n",
       "  'train_loss': 0.14919324219226837,\n",
       "  'train_accuracy': 0.3139288127422333,\n",
       "  'test_loss': 6.380266189575195,\n",
       "  'test_accuracy': 0.21016354858875275,\n",
       "  'v2_acc': 0.7461059093475342,\n",
       "  'v4_acc': 0.5841121673583984,\n",
       "  'v10_acc': 0.36510902643203735,\n",
       "  'v80_acc': 0.21016354858875275},\n",
       " {'epoch': 144,\n",
       "  'train_loss': 0.15618455410003662,\n",
       "  'train_accuracy': 0.29621580243110657,\n",
       "  'test_loss': 6.539327621459961,\n",
       "  'test_accuracy': 0.24271807074546814,\n",
       "  'v2_acc': 0.7118380069732666,\n",
       "  'v4_acc': 0.5615264773368835,\n",
       "  'v10_acc': 0.3757009208202362,\n",
       "  'v80_acc': 0.24271808564662933},\n",
       " {'epoch': 145,\n",
       "  'train_loss': 0.14051060378551483,\n",
       "  'train_accuracy': 0.29939383268356323,\n",
       "  'test_loss': 6.26591157913208,\n",
       "  'test_accuracy': 0.22745327651500702,\n",
       "  'v2_acc': 0.7414330244064331,\n",
       "  'v4_acc': 0.5895638465881348,\n",
       "  'v10_acc': 0.36915889382362366,\n",
       "  'v80_acc': 0.22745327651500702},\n",
       " {'epoch': 146,\n",
       "  'train_loss': 0.1471727043390274,\n",
       "  'train_accuracy': 0.2941461503505707,\n",
       "  'test_loss': 6.313314437866211,\n",
       "  'test_accuracy': 0.22955608367919922,\n",
       "  'v2_acc': 0.7352024912834167,\n",
       "  'v4_acc': 0.5700935125350952,\n",
       "  'v10_acc': 0.3697819113731384,\n",
       "  'v80_acc': 0.22955608367919922},\n",
       " {'epoch': 147,\n",
       "  'train_loss': 0.13480444252490997,\n",
       "  'train_accuracy': 0.28792431950569153,\n",
       "  'test_loss': 6.2505340576171875,\n",
       "  'test_accuracy': 0.23936916887760162,\n",
       "  'v2_acc': 0.7305296063423157,\n",
       "  'v4_acc': 0.5833333730697632,\n",
       "  'v10_acc': 0.3785046935081482,\n",
       "  'v80_acc': 0.23936918377876282},\n",
       " {'epoch': 148,\n",
       "  'train_loss': 0.12726785242557526,\n",
       "  'train_accuracy': 0.29617249965667725,\n",
       "  'test_loss': 6.330880641937256,\n",
       "  'test_accuracy': 0.22394859790802002,\n",
       "  'v2_acc': 0.7398753762245178,\n",
       "  'v4_acc': 0.5809968709945679,\n",
       "  'v10_acc': 0.3744548261165619,\n",
       "  'v80_acc': 0.22394859790802002},\n",
       " {'epoch': 149,\n",
       "  'train_loss': 0.14357814192771912,\n",
       "  'train_accuracy': 0.3035850524902344,\n",
       "  'test_loss': 6.3042426109313965,\n",
       "  'test_accuracy': 0.22904986143112183,\n",
       "  'v2_acc': 0.7445482611656189,\n",
       "  'v4_acc': 0.5732086896896362,\n",
       "  'v10_acc': 0.3704049587249756,\n",
       "  'v80_acc': 0.22904986143112183},\n",
       " {'epoch': 150,\n",
       "  'train_loss': 0.15518125891685486,\n",
       "  'train_accuracy': 0.2959473431110382,\n",
       "  'test_loss': 6.312614917755127,\n",
       "  'test_accuracy': 0.22690808773040771,\n",
       "  'v2_acc': 0.7429906725883484,\n",
       "  'v4_acc': 0.5685358643531799,\n",
       "  'v10_acc': 0.37476634979248047,\n",
       "  'v80_acc': 0.22690808773040771},\n",
       " {'epoch': 151,\n",
       "  'train_loss': 0.17491425573825836,\n",
       "  'train_accuracy': 0.31970471143722534,\n",
       "  'test_loss': 6.374170780181885,\n",
       "  'test_accuracy': 0.23411214351654053,\n",
       "  'v2_acc': 0.7352024912834167,\n",
       "  'v4_acc': 0.5599688291549683,\n",
       "  'v10_acc': 0.370404988527298,\n",
       "  'v80_acc': 0.23411214351654053},\n",
       " {'epoch': 152,\n",
       "  'train_loss': 0.14738179743289948,\n",
       "  'train_accuracy': 0.3114089071750641,\n",
       "  'test_loss': 6.567087650299072,\n",
       "  'test_accuracy': 0.2700934410095215,\n",
       "  'v2_acc': 0.7009345889091492,\n",
       "  'v4_acc': 0.5646417737007141,\n",
       "  'v10_acc': 0.38598132133483887,\n",
       "  'v80_acc': 0.2700934410095215},\n",
       " {'epoch': 153,\n",
       "  'train_loss': 0.15620601177215576,\n",
       "  'train_accuracy': 0.2903706431388855,\n",
       "  'test_loss': 6.495840072631836,\n",
       "  'test_accuracy': 0.2169003039598465,\n",
       "  'v2_acc': 0.7492212057113647,\n",
       "  'v4_acc': 0.5778816342353821,\n",
       "  'v10_acc': 0.37071648240089417,\n",
       "  'v80_acc': 0.2169003039598465},\n",
       " {'epoch': 154,\n",
       "  'train_loss': 0.1314055174589157,\n",
       "  'train_accuracy': 0.28252077102661133,\n",
       "  'test_loss': 6.439399719238281,\n",
       "  'test_accuracy': 0.21608255803585052,\n",
       "  'v2_acc': 0.7647975087165833,\n",
       "  'v4_acc': 0.586448609828949,\n",
       "  'v10_acc': 0.36822429299354553,\n",
       "  'v80_acc': 0.21608255803585052},\n",
       " {'epoch': 155,\n",
       "  'train_loss': 0.15193204581737518,\n",
       "  'train_accuracy': 0.2766929268836975,\n",
       "  'test_loss': 6.358005523681641,\n",
       "  'test_accuracy': 0.2163551300764084,\n",
       "  'v2_acc': 0.7507787942886353,\n",
       "  'v4_acc': 0.5763239860534668,\n",
       "  'v10_acc': 0.3672897219657898,\n",
       "  'v80_acc': 0.2163551300764084},\n",
       " {'epoch': 156,\n",
       "  'train_loss': 0.14847083389759064,\n",
       "  'train_accuracy': 0.2659854292869568,\n",
       "  'test_loss': 6.505635738372803,\n",
       "  'test_accuracy': 0.22819316387176514,\n",
       "  'v2_acc': 0.7523364424705505,\n",
       "  'v4_acc': 0.5880062580108643,\n",
       "  'v10_acc': 0.37788164615631104,\n",
       "  'v80_acc': 0.22819316387176514},\n",
       " {'epoch': 157,\n",
       "  'train_loss': 0.1468714475631714,\n",
       "  'train_accuracy': 0.3076246976852417,\n",
       "  'test_loss': 6.379698276519775,\n",
       "  'test_accuracy': 0.221651092171669,\n",
       "  'v2_acc': 0.7476634979248047,\n",
       "  'v4_acc': 0.5755451917648315,\n",
       "  'v10_acc': 0.36074766516685486,\n",
       "  'v80_acc': 0.2216511070728302},\n",
       " {'epoch': 158,\n",
       "  'train_loss': 0.13220928609371185,\n",
       "  'train_accuracy': 0.2874220609664917,\n",
       "  'test_loss': 6.386483669281006,\n",
       "  'test_accuracy': 0.2374221235513687,\n",
       "  'v2_acc': 0.7274143099784851,\n",
       "  'v4_acc': 0.5623053312301636,\n",
       "  'v10_acc': 0.3800622820854187,\n",
       "  'v80_acc': 0.2374221235513687},\n",
       " {'epoch': 159,\n",
       "  'train_loss': 0.11872871220111847,\n",
       "  'train_accuracy': 0.27425098419189453,\n",
       "  'test_loss': 6.282449245452881,\n",
       "  'test_accuracy': 0.20864486694335938,\n",
       "  'v2_acc': 0.7803738117218018,\n",
       "  'v4_acc': 0.5996884703636169,\n",
       "  'v10_acc': 0.3744548261165619,\n",
       "  'v80_acc': 0.20864486694335938},\n",
       " {'epoch': 160,\n",
       "  'train_loss': 0.12474039196968079,\n",
       "  'train_accuracy': 0.2790396511554718,\n",
       "  'test_loss': 6.368320465087891,\n",
       "  'test_accuracy': 0.22231309115886688,\n",
       "  'v2_acc': 0.7570093870162964,\n",
       "  'v4_acc': 0.5841121673583984,\n",
       "  'v10_acc': 0.37352025508880615,\n",
       "  'v80_acc': 0.22231309115886688},\n",
       " {'epoch': 161,\n",
       "  'train_loss': 0.1480567306280136,\n",
       "  'train_accuracy': 0.2988309860229492,\n",
       "  'test_loss': 6.395477771759033,\n",
       "  'test_accuracy': 0.22013239562511444,\n",
       "  'v2_acc': 0.7383177280426025,\n",
       "  'v4_acc': 0.5841121673583984,\n",
       "  'v10_acc': 0.37227413058280945,\n",
       "  'v80_acc': 0.22013241052627563},\n",
       " {'epoch': 162,\n",
       "  'train_loss': 0.14129137992858887,\n",
       "  'train_accuracy': 0.31209734082221985,\n",
       "  'test_loss': 6.642236709594727,\n",
       "  'test_accuracy': 0.271534264087677,\n",
       "  'v2_acc': 0.6993769407272339,\n",
       "  'v4_acc': 0.5716511011123657,\n",
       "  'v10_acc': 0.3940809965133667,\n",
       "  'v80_acc': 0.271534264087677},\n",
       " {'epoch': 163,\n",
       "  'train_loss': 0.13896240293979645,\n",
       "  'train_accuracy': 0.26970037817955017,\n",
       "  'test_loss': 6.465936183929443,\n",
       "  'test_accuracy': 0.2328271120786667,\n",
       "  'v2_acc': 0.736760139465332,\n",
       "  'v4_acc': 0.5755451917648315,\n",
       "  'v10_acc': 0.39034271240234375,\n",
       "  'v80_acc': 0.2328270971775055},\n",
       " {'epoch': 164,\n",
       "  'train_loss': 0.16614370048046112,\n",
       "  'train_accuracy': 0.2781001031398773,\n",
       "  'test_loss': 6.515188694000244,\n",
       "  'test_accuracy': 0.22799843549728394,\n",
       "  'v2_acc': 0.7398754358291626,\n",
       "  'v4_acc': 0.5848909616470337,\n",
       "  'v10_acc': 0.3741433024406433,\n",
       "  'v80_acc': 0.22799845039844513},\n",
       " {'epoch': 165,\n",
       "  'train_loss': 0.14883551001548767,\n",
       "  'train_accuracy': 0.2806892991065979,\n",
       "  'test_loss': 6.401893615722656,\n",
       "  'test_accuracy': 0.2454439252614975,\n",
       "  'v2_acc': 0.7507787942886353,\n",
       "  'v4_acc': 0.5833333730697632,\n",
       "  'v10_acc': 0.3965732455253601,\n",
       "  'v80_acc': 0.2454439252614975},\n",
       " {'epoch': 166,\n",
       "  'train_loss': 0.1326928585767746,\n",
       "  'train_accuracy': 0.28067198395729065,\n",
       "  'test_loss': 6.45692253112793,\n",
       "  'test_accuracy': 0.23228192329406738,\n",
       "  'v2_acc': 0.7647975087165833,\n",
       "  'v4_acc': 0.5856698155403137,\n",
       "  'v10_acc': 0.37788164615631104,\n",
       "  'v80_acc': 0.23228192329406738},\n",
       " {'epoch': 167,\n",
       "  'train_loss': 0.14139612019062042,\n",
       "  'train_accuracy': 0.2851749062538147,\n",
       "  'test_loss': 6.500037670135498,\n",
       "  'test_accuracy': 0.24267911911010742,\n",
       "  'v2_acc': 0.7352024912834167,\n",
       "  'v4_acc': 0.5833333730697632,\n",
       "  'v10_acc': 0.38753893971443176,\n",
       "  'v80_acc': 0.24267911911010742},\n",
       " {'epoch': 168,\n",
       "  'train_loss': 0.15228217840194702,\n",
       "  'train_accuracy': 0.2778056859970093,\n",
       "  'test_loss': 6.475158214569092,\n",
       "  'test_accuracy': 0.2200545072555542,\n",
       "  'v2_acc': 0.7538940906524658,\n",
       "  'v4_acc': 0.5841121673583984,\n",
       "  'v10_acc': 0.3757009506225586,\n",
       "  'v80_acc': 0.2200545072555542},\n",
       " {'epoch': 169,\n",
       "  'train_loss': 0.1403682976961136,\n",
       "  'train_accuracy': 0.2796371579170227,\n",
       "  'test_loss': 6.445658206939697,\n",
       "  'test_accuracy': 0.2335669845342636,\n",
       "  'v2_acc': 0.7242990732192993,\n",
       "  'v4_acc': 0.5615264773368835,\n",
       "  'v10_acc': 0.3697819411754608,\n",
       "  'v80_acc': 0.2335669845342636},\n",
       " {'epoch': 170,\n",
       "  'train_loss': 0.1281050741672516,\n",
       "  'train_accuracy': 0.2851142883300781,\n",
       "  'test_loss': 6.444862365722656,\n",
       "  'test_accuracy': 0.22126168012619019,\n",
       "  'v2_acc': 0.732087254524231,\n",
       "  'v4_acc': 0.5661993622779846,\n",
       "  'v10_acc': 0.3657321035861969,\n",
       "  'v80_acc': 0.22126168012619019},\n",
       " {'epoch': 171,\n",
       "  'train_loss': 0.1482783406972885,\n",
       "  'train_accuracy': 0.29943713545799255,\n",
       "  'test_loss': 6.521064758300781,\n",
       "  'test_accuracy': 0.22764797508716583,\n",
       "  'v2_acc': 0.7492212057113647,\n",
       "  'v4_acc': 0.5747663974761963,\n",
       "  'v10_acc': 0.3753893971443176,\n",
       "  'v80_acc': 0.22764796018600464},\n",
       " {'epoch': 172,\n",
       "  'train_loss': 0.13201501965522766,\n",
       "  'train_accuracy': 0.2947826385498047,\n",
       "  'test_loss': 6.461226940155029,\n",
       "  'test_accuracy': 0.2569704055786133,\n",
       "  'v2_acc': 0.7165108919143677,\n",
       "  'v4_acc': 0.5623053312301636,\n",
       "  'v10_acc': 0.38068535923957825,\n",
       "  'v80_acc': 0.2569704055786133},\n",
       " {'epoch': 173,\n",
       "  'train_loss': 0.13917431235313416,\n",
       "  'train_accuracy': 0.2838067412376404,\n",
       "  'test_loss': 6.416898727416992,\n",
       "  'test_accuracy': 0.21417444944381714,\n",
       "  'v2_acc': 0.7601246237754822,\n",
       "  'v4_acc': 0.5957944393157959,\n",
       "  'v10_acc': 0.3629283607006073,\n",
       "  'v80_acc': 0.21417444944381714},\n",
       " {'epoch': 174,\n",
       "  'train_loss': 0.1368224173784256,\n",
       "  'train_accuracy': 0.2687651515007019,\n",
       "  'test_loss': 6.409664630889893,\n",
       "  'test_accuracy': 0.21386292576789856,\n",
       "  'v2_acc': 0.7523364424705505,\n",
       "  'v4_acc': 0.5880062580108643,\n",
       "  'v10_acc': 0.37196260690689087,\n",
       "  'v80_acc': 0.21386292576789856},\n",
       " {'epoch': 175,\n",
       "  'train_loss': 0.1251193881034851,\n",
       "  'train_accuracy': 0.28038620948791504,\n",
       "  'test_loss': 6.366844177246094,\n",
       "  'test_accuracy': 0.21051400899887085,\n",
       "  'v2_acc': 0.7554516792297363,\n",
       "  'v4_acc': 0.5825545191764832,\n",
       "  'v10_acc': 0.36074763536453247,\n",
       "  'v80_acc': 0.21051402390003204},\n",
       " {'epoch': 176,\n",
       "  'train_loss': 0.13953432440757751,\n",
       "  'train_accuracy': 0.28824904561042786,\n",
       "  'test_loss': 6.448894023895264,\n",
       "  'test_accuracy': 0.22807630896568298,\n",
       "  'v2_acc': 0.7492212057113647,\n",
       "  'v4_acc': 0.585669755935669,\n",
       "  'v10_acc': 0.370404988527298,\n",
       "  'v80_acc': 0.22807632386684418},\n",
       " {'epoch': 177,\n",
       "  'train_loss': 0.1413959562778473,\n",
       "  'train_accuracy': 0.30503982305526733,\n",
       "  'test_loss': 6.403293132781982,\n",
       "  'test_accuracy': 0.2225077897310257,\n",
       "  'v2_acc': 0.7616822719573975,\n",
       "  'v4_acc': 0.59034264087677,\n",
       "  'v10_acc': 0.38473519682884216,\n",
       "  'v80_acc': 0.2225077748298645},\n",
       " {'epoch': 178,\n",
       "  'train_loss': 0.12196611613035202,\n",
       "  'train_accuracy': 0.30742552876472473,\n",
       "  'test_loss': 6.320827484130859,\n",
       "  'test_accuracy': 0.2480919063091278,\n",
       "  'v2_acc': 0.7414330244064331,\n",
       "  'v4_acc': 0.5778816342353821,\n",
       "  'v10_acc': 0.38629284501075745,\n",
       "  'v80_acc': 0.2480919063091278},\n",
       " {'epoch': 179,\n",
       "  'train_loss': 0.11841430515050888,\n",
       "  'train_accuracy': 0.29525458812713623,\n",
       "  'test_loss': 6.361727237701416,\n",
       "  'test_accuracy': 0.22258566319942474,\n",
       "  'v2_acc': 0.7461059093475342,\n",
       "  'v4_acc': 0.5825545191764832,\n",
       "  'v10_acc': 0.36947038769721985,\n",
       "  'v80_acc': 0.22258567810058594},\n",
       " {'epoch': 180,\n",
       "  'train_loss': 0.12081631273031235,\n",
       "  'train_accuracy': 0.28859978914260864,\n",
       "  'test_loss': 6.352148532867432,\n",
       "  'test_accuracy': 0.2142912745475769,\n",
       "  'v2_acc': 0.7538940906524658,\n",
       "  'v4_acc': 0.586448609828949,\n",
       "  'v10_acc': 0.36355137825012207,\n",
       "  'v80_acc': 0.2142912745475769},\n",
       " {'epoch': 181,\n",
       "  'train_loss': 0.13135062158107758,\n",
       "  'train_accuracy': 0.30946487188339233,\n",
       "  'test_loss': 6.389066696166992,\n",
       "  'test_accuracy': 0.20704829692840576,\n",
       "  'v2_acc': 0.7601246237754822,\n",
       "  'v4_acc': 0.5872274041175842,\n",
       "  'v10_acc': 0.3514018654823303,\n",
       "  'v80_acc': 0.20704828202724457},\n",
       " {'epoch': 182,\n",
       "  'train_loss': 0.13464973866939545,\n",
       "  'train_accuracy': 0.31348717212677,\n",
       "  'test_loss': 6.334365367889404,\n",
       "  'test_accuracy': 0.21144859492778778,\n",
       "  'v2_acc': 0.7616822719573975,\n",
       "  'v4_acc': 0.5833333134651184,\n",
       "  'v10_acc': 0.372585654258728,\n",
       "  'v80_acc': 0.21144860982894897},\n",
       " {'epoch': 183,\n",
       "  'train_loss': 0.15171432495117188,\n",
       "  'train_accuracy': 0.30459386110305786,\n",
       "  'test_loss': 6.349929332733154,\n",
       "  'test_accuracy': 0.23516355454921722,\n",
       "  'v2_acc': 0.7601245641708374,\n",
       "  'v4_acc': 0.5887850522994995,\n",
       "  'v10_acc': 0.3785046935081482,\n",
       "  'v80_acc': 0.23516356945037842},\n",
       " {'epoch': 184,\n",
       "  'train_loss': 0.1470213383436203,\n",
       "  'train_accuracy': 0.30505281686782837,\n",
       "  'test_loss': 6.476961612701416,\n",
       "  'test_accuracy': 0.2165498584508896,\n",
       "  'v2_acc': 0.7429906725883484,\n",
       "  'v4_acc': 0.573208749294281,\n",
       "  'v10_acc': 0.37507790327072144,\n",
       "  'v80_acc': 0.2165498435497284},\n",
       " {'epoch': 185,\n",
       "  'train_loss': 0.13207374513149261,\n",
       "  'train_accuracy': 0.30266281962394714,\n",
       "  'test_loss': 6.2919793128967285,\n",
       "  'test_accuracy': 0.24007008969783783,\n",
       "  'v2_acc': 0.7149533033370972,\n",
       "  'v4_acc': 0.5700934529304504,\n",
       "  'v10_acc': 0.3813084065914154,\n",
       "  'v80_acc': 0.24007010459899902},\n",
       " {'epoch': 186,\n",
       "  'train_loss': 0.1321602761745453,\n",
       "  'train_accuracy': 0.2976619601249695,\n",
       "  'test_loss': 6.4170918464660645,\n",
       "  'test_accuracy': 0.2464953362941742,\n",
       "  'v2_acc': 0.718068540096283,\n",
       "  'v4_acc': 0.559190034866333,\n",
       "  'v10_acc': 0.3853582441806793,\n",
       "  'v80_acc': 0.246495321393013},\n",
       " {'epoch': 187,\n",
       "  'train_loss': 0.1496691256761551,\n",
       "  'train_accuracy': 0.3018314838409424,\n",
       "  'test_loss': 6.275182723999023,\n",
       "  'test_accuracy': 0.2267133891582489,\n",
       "  'v2_acc': 0.7476635575294495,\n",
       "  'v4_acc': 0.5809968709945679,\n",
       "  'v10_acc': 0.3772585690021515,\n",
       "  'v80_acc': 0.2267134040594101},\n",
       " {'epoch': 188,\n",
       "  'train_loss': 0.11787432432174683,\n",
       "  'train_accuracy': 0.30006060004234314,\n",
       "  'test_loss': 6.314610958099365,\n",
       "  'test_accuracy': 0.27141743898391724,\n",
       "  'v2_acc': 0.7274143695831299,\n",
       "  'v4_acc': 0.5802180767059326,\n",
       "  'v10_acc': 0.409345805644989,\n",
       "  'v80_acc': 0.27141743898391724},\n",
       " {'epoch': 189,\n",
       "  'train_loss': 0.1362868994474411,\n",
       "  'train_accuracy': 0.2992466390132904,\n",
       "  'test_loss': 6.252490997314453,\n",
       "  'test_accuracy': 0.22764796018600464,\n",
       "  'v2_acc': 0.7352024912834167,\n",
       "  'v4_acc': 0.5778816342353821,\n",
       "  'v10_acc': 0.3757009506225586,\n",
       "  'v80_acc': 0.22764796018600464},\n",
       " {'epoch': 190,\n",
       "  'train_loss': 0.1334303319454193,\n",
       "  'train_accuracy': 0.30510908365249634,\n",
       "  'test_loss': 6.253467082977295,\n",
       "  'test_accuracy': 0.21810749173164368,\n",
       "  'v2_acc': 0.7507787942886353,\n",
       "  'v4_acc': 0.5700934529304504,\n",
       "  'v10_acc': 0.3710280656814575,\n",
       "  'v80_acc': 0.21810747683048248},\n",
       " {'epoch': 191,\n",
       "  'train_loss': 0.1441228836774826,\n",
       "  'train_accuracy': 0.31485968828201294,\n",
       "  'test_loss': 6.216291904449463,\n",
       "  'test_accuracy': 0.2154984474182129,\n",
       "  'v2_acc': 0.7554516792297363,\n",
       "  'v4_acc': 0.5763239860534668,\n",
       "  'v10_acc': 0.36697816848754883,\n",
       "  'v80_acc': 0.2154984474182129},\n",
       " {'epoch': 192,\n",
       "  'train_loss': 0.13811539113521576,\n",
       "  'train_accuracy': 0.2942240834236145,\n",
       "  'test_loss': 6.261960983276367,\n",
       "  'test_accuracy': 0.2335669845342636,\n",
       "  'v2_acc': 0.7274143099784851,\n",
       "  'v4_acc': 0.5654205083847046,\n",
       "  'v10_acc': 0.37196260690689087,\n",
       "  'v80_acc': 0.23356696963310242},\n",
       " {'epoch': 193,\n",
       "  'train_loss': 0.13299931585788727,\n",
       "  'train_accuracy': 0.2715015411376953,\n",
       "  'test_loss': 6.245041370391846,\n",
       "  'test_accuracy': 0.23259344696998596,\n",
       "  'v2_acc': 0.732087254524231,\n",
       "  'v4_acc': 0.5700934529304504,\n",
       "  'v10_acc': 0.3853582739830017,\n",
       "  'v80_acc': 0.23259346187114716},\n",
       " {'epoch': 194,\n",
       "  'train_loss': 0.1403660923242569,\n",
       "  'train_accuracy': 0.29048317670822144,\n",
       "  'test_loss': 6.2059783935546875,\n",
       "  'test_accuracy': 0.2169003188610077,\n",
       "  'v2_acc': 0.7398753762245178,\n",
       "  'v4_acc': 0.577102780342102,\n",
       "  'v10_acc': 0.3672897219657898,\n",
       "  'v80_acc': 0.2169003039598465},\n",
       " {'epoch': 195,\n",
       "  'train_loss': 0.1223331093788147,\n",
       "  'train_accuracy': 0.28158554434776306,\n",
       "  'test_loss': 6.232588291168213,\n",
       "  'test_accuracy': 0.21947039663791656,\n",
       "  'v2_acc': 0.7445483207702637,\n",
       "  'v4_acc': 0.5833333730697632,\n",
       "  'v10_acc': 0.37071651220321655,\n",
       "  'v80_acc': 0.21947041153907776},\n",
       " {'epoch': 196,\n",
       "  'train_loss': 0.11326389759778976,\n",
       "  'train_accuracy': 0.3187478184700012,\n",
       "  'test_loss': 6.310148239135742,\n",
       "  'test_accuracy': 0.24731308221817017,\n",
       "  'v2_acc': 0.7352024912834167,\n",
       "  'v4_acc': 0.5825545191764832,\n",
       "  'v10_acc': 0.3825545310974121,\n",
       "  'v80_acc': 0.24731308221817017},\n",
       " {'epoch': 197,\n",
       "  'train_loss': 0.14286820590496063,\n",
       "  'train_accuracy': 0.30006492137908936,\n",
       "  'test_loss': 6.3444366455078125,\n",
       "  'test_accuracy': 0.25782710313796997,\n",
       "  'v2_acc': 0.7305296063423157,\n",
       "  'v4_acc': 0.5755451917648315,\n",
       "  'v10_acc': 0.3900311291217804,\n",
       "  'v80_acc': 0.25782710313796997},\n",
       " {'epoch': 198,\n",
       "  'train_loss': 0.13363374769687653,\n",
       "  'train_accuracy': 0.30238136649131775,\n",
       "  'test_loss': 6.202286243438721,\n",
       "  'test_accuracy': 0.22838784754276276,\n",
       "  'v2_acc': 0.7507787942886353,\n",
       "  'v4_acc': 0.5841121673583984,\n",
       "  'v10_acc': 0.3772585391998291,\n",
       "  'v80_acc': 0.22838786244392395},\n",
       " {'epoch': 199,\n",
       "  'train_loss': 0.13774427771568298,\n",
       "  'train_accuracy': 0.29305073618888855,\n",
       "  'test_loss': 6.199691295623779,\n",
       "  'test_accuracy': 0.2330218106508255,\n",
       "  'v2_acc': 0.7523364424705505,\n",
       "  'v4_acc': 0.5880061984062195,\n",
       "  'v10_acc': 0.37943923473358154,\n",
       "  'v80_acc': 0.2330218106508255},\n",
       " {'epoch': 200,\n",
       "  'train_loss': 0.1363341063261032,\n",
       "  'train_accuracy': 0.3032039999961853,\n",
       "  'test_loss': 6.231723308563232,\n",
       "  'test_accuracy': 0.22943924367427826,\n",
       "  'v2_acc': 0.7570093870162964,\n",
       "  'v4_acc': 0.59034264087677,\n",
       "  'v10_acc': 0.39283487200737,\n",
       "  'v80_acc': 0.22943924367427826}]"
      ]
     },
     "execution_count": 5,
     "metadata": {},
     "output_type": "execute_result"
    }
   ],
   "source": [
    "results = []\n",
    "for epoch in range(epochs):\n",
    "    if epoch < len(plotting_callback.train_losses):\n",
    "        epoch_results = {\n",
    "            \"epoch\": epoch + 1,\n",
    "            \"train_loss\": plotting_callback.train_losses[epoch],\n",
    "            \"train_accuracy\": plotting_callback.train_accuracies[epoch],\n",
    "            \"test_loss\": plotting_callback.test_losses[epoch],\n",
    "            \"test_accuracy\": plotting_callback.test_accuracies[epoch],\n",
    "            \"v2_acc\": plotting_callback.v2_accs[epoch],\n",
    "            \"v4_acc\": plotting_callback.v4_accs[epoch],\n",
    "            \"v10_acc\": plotting_callback.v10_accs[epoch],\n",
    "            \"v80_acc\": plotting_callback.v80_accs[epoch]\n",
    "        }\n",
    "        results.append(epoch_results)\n",
    "\n",
    "results"
   ]
  }
 ],
 "metadata": {
  "kernelspec": {
   "display_name": "Python3 (ipykernel)",
   "language": "python",
   "name": "python3"
  },
  "language_info": {
   "codemirror_mode": {
    "name": "ipython",
    "version": 3
   },
   "file_extension": ".py",
   "mimetype": "text/x-python",
   "name": "python",
   "nbconvert_exporter": "python",
   "pygments_lexer": "ipython3",
   "version": "3.10.18"
  }
 },
 "nbformat": 4,
 "nbformat_minor": 5
}
