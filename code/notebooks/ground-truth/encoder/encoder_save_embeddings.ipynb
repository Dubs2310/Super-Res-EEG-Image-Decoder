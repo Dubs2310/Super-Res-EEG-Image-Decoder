{
 "cells": [
  {
   "cell_type": "code",
   "execution_count": 1,
   "id": "986c4776",
   "metadata": {},
   "outputs": [
    {
     "name": "stdout",
     "output_type": "stream",
     "text": [
      "/workspace/eeg-image-decoding/data/all-joined-1/eeg/epochs\n"
     ]
    }
   ],
   "source": [
    "import sys\n",
    "import wandb\n",
    "import torch\n",
    "sys.path.append('../../')\n",
    "import pytorch_lightning as pl\n",
    "from utils.data_modules.contrastive import EEGContrastiveDataModule\n",
    "from models.trainers.contrastive import ContrastiveTrainerModel, EmbeddingSaveCallback"
   ]
  },
  {
   "cell_type": "code",
   "execution_count": 2,
   "id": "5fe0b6b4",
   "metadata": {},
   "outputs": [],
   "source": [
    "dm = EEGContrastiveDataModule(\n",
    "    input_channels=['Fp1', 'AF7', 'AF3', 'F1', 'F3', 'F5', 'F7', 'FT7', 'FC5', 'FC3', 'FC1', 'C1', 'C3', 'C5', 'T7', 'TP7', 'CP5', 'CP3', 'CP1', 'P1', 'P3', 'P5', 'P7', 'P9', 'PO7', 'PO3', 'O1', 'Iz', 'Oz', 'POz', 'Pz', 'CPz', 'Fpz', 'Fp2', 'AF8', 'AF4', 'AFz', 'Fz', 'F2', 'F4', 'F6', 'F8', 'FT8', 'FC6', 'FC4', 'FC2', 'FCz', 'Cz', 'C2', 'C4', 'C6', 'T8', 'TP8', 'CP6', 'CP4', 'CP2', 'P2', 'P4', 'P6', 'P8', 'P10', 'PO8', 'PO4', 'O2'],\n",
    "    sfreq=250,\n",
    "    montage='standard_1020',\n",
    "    window_before_event_ms=50,\n",
    "    window_after_event_ms=600,\n",
    "    subject=1, \n",
    "    session=1, \n",
    "    batch_size=64, \n",
    "    num_workers=4,\n",
    "    test='All'\n",
    ")"
   ]
  },
  {
   "cell_type": "code",
   "execution_count": 3,
   "id": "b7ce8b65",
   "metadata": {},
   "outputs": [
    {
     "name": "stdout",
     "output_type": "stream",
     "text": [
      "Using ALL data for subject=1, session=1 as TEST SET\n",
      "Found 3839 total samples for test set\n",
      "Data split - Train: 2879, Val: 320, Test: 3839\n",
      "Creating Datasets...\n",
      "Original dataframe size: 2879\n",
      "Original dataframe size: 320\n",
      "Original dataframe size: 3839\n"
     ]
    }
   ],
   "source": [
    "sample_data = dm.get_sample_info()\n",
    "epochs = 200\n",
    "subject = 1\n",
    "session = 1\n",
    "num_channels = sample_data['input']['num_channels']\n",
    "timesteps = sample_data['input']['num_timesteps']\n",
    "num_fine_labels = sample_data['output']['fine_labels_shape']"
   ]
  },
  {
   "cell_type": "code",
   "execution_count": 4,
   "id": "2482d1b5",
   "metadata": {},
   "outputs": [],
   "source": [
    "checkpoint_path = \"/workspace/eeg-image-decoding/code/models/check_points/contrastive_encoder/subj1_session1_epoch=199.ckpt\""
   ]
  },
  {
   "cell_type": "code",
   "execution_count": 6,
   "id": "777826d1",
   "metadata": {},
   "outputs": [
    {
     "name": "stderr",
     "output_type": "stream",
     "text": [
      "/venv/main/lib/python3.10/site-packages/braindecode/models/base.py:23: UserWarning: EEGNetv4: 'in_chans' is depreciated. Use 'n_chans' instead.\n",
      "  warnings.warn(\n",
      "/venv/main/lib/python3.10/site-packages/braindecode/models/base.py:23: UserWarning: EEGNetv4: 'n_classes' is depreciated. Use 'n_outputs' instead.\n",
      "  warnings.warn(\n",
      "/venv/main/lib/python3.10/site-packages/braindecode/models/base.py:23: UserWarning: EEGNetv4: 'input_window_samples' is depreciated. Use 'n_times' instead.\n",
      "  warnings.warn(\n",
      "💡 Tip: For seamless cloud uploads and versioning, try installing [litmodels](https://pypi.org/project/litmodels/) to enable LitModelCheckpoint, which syncs automatically with the Lightning model registry.\n",
      "GPU available: True (cuda), used: True\n",
      "TPU available: False, using: 0 TPU cores\n",
      "HPU available: False, using: 0 HPUs\n",
      "/venv/main/lib/python3.10/site-packages/pytorch_lightning/trainer/connectors/logger_connector/logger_connector.py:76: Starting from v1.9.0, `tensorboardX` has been removed as a dependency of the `pytorch_lightning` package, due to potential conflicts with other packages in the ML ecosystem. For this reason, `logger=True` will use `CSVLogger` as the default logger, unless the `tensorboard` or `tensorboardX` packages are found. Please `pip install lightning[extra]` or one of them to enable TensorBoard support by default\n",
      "You are using a CUDA device ('NVIDIA H100 NVL') that has Tensor Cores. To properly utilize them, you should set `torch.set_float32_matmul_precision('medium' | 'high')` which will trade-off precision for performance. For more details, read https://pytorch.org/docs/stable/generated/torch.set_float32_matmul_precision.html#torch.set_float32_matmul_precision\n",
      "LOCAL_RANK: 0 - CUDA_VISIBLE_DEVICES: [0]\n"
     ]
    },
    {
     "name": "stdout",
     "output_type": "stream",
     "text": [
      "Datasets already initialized, skipping setup\n"
     ]
    },
    {
     "data": {
      "application/vnd.jupyter.widget-view+json": {
       "model_id": "7b74d4587b0d4e4a835ff67147d3dd5f",
       "version_major": 2,
       "version_minor": 0
      },
      "text/plain": [
       "Testing: |          | 0/? [00:00<?, ?it/s]"
      ]
     },
     "metadata": {},
     "output_type": "display_data"
    },
    {
     "name": "stdout",
     "output_type": "stream",
     "text": [
      "\n",
      "=== TEST RESULTS ===\n",
      "Test Precision: 0.0339\n",
      "Test Recall: 0.7720\n",
      "Test F1-Score: 0.0601\n",
      "Test AUROC: 0.5016\n",
      "====================\n",
      "\n",
      "────────────────────────────────────────────────────────────────────────────────────────────────────────────────────────\n",
      "       Test metric             DataLoader 0\n",
      "────────────────────────────────────────────────────────────────────────────────────────────────────────────────────────\n",
      "       test_auroc           0.5016080141067505\n",
      "         test_f1            0.06014416366815567\n",
      "     test_precision         0.03387201577425003\n",
      "       test_recall          0.7720038890838623\n",
      "────────────────────────────────────────────────────────────────────────────────────────────────────────────────────────\n"
     ]
    },
    {
     "data": {
      "text/plain": [
       "[{'test_precision': 0.03387201577425003,\n",
       "  'test_recall': 0.7720038890838623,\n",
       "  'test_f1': 0.06014416366815567,\n",
       "  'test_auroc': 0.5016080141067505}]"
      ]
     },
     "execution_count": 6,
     "metadata": {},
     "output_type": "execute_result"
    }
   ],
   "source": [
    "lightning_model = ContrastiveTrainerModel.load_from_checkpoint(checkpoint_path)\n",
    "\n",
    "results_callback = EmbeddingSaveCallback(save_dir=\"/workspace/eeg-image-decoding/data/all-joined-1/eeg/embeddings/650ms-250Hz/\", filename=f\"subj0{subject}_session{session}_eeg_embeddings.npy\")\n",
    "\n",
    "trainer = pl.Trainer(\n",
    "    max_epochs=epochs,\n",
    "    callbacks=[results_callback],\n",
    "    accelerator='gpu' if torch.cuda.is_available() else 'cpu',\n",
    "    devices=1\n",
    ")\n",
    "\n",
    "trainer.test(lightning_model, dm)"
   ]
  }
 ],
 "metadata": {
  "kernelspec": {
   "display_name": "Python3 (ipykernel)",
   "language": "python",
   "name": "python3"
  },
  "language_info": {
   "codemirror_mode": {
    "name": "ipython",
    "version": 3
   },
   "file_extension": ".py",
   "mimetype": "text/x-python",
   "name": "python",
   "nbconvert_exporter": "python",
   "pygments_lexer": "ipython3",
   "version": "3.10.18"
  }
 },
 "nbformat": 4,
 "nbformat_minor": 5
}
