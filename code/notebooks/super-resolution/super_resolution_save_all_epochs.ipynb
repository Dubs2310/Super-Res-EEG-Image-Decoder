{
 "cells": [
  {
   "cell_type": "code",
   "execution_count": 2,
   "id": "986c4776",
   "metadata": {},
   "outputs": [
    {
     "name": "stdout",
     "output_type": "stream",
     "text": [
      "/workspace/eeg-image-decoding/data/all-joined-1/eeg/epochs\n"
     ]
    }
   ],
   "source": [
    "import sys\n",
    "import torch\n",
    "import wandb\n",
    "sys.path.append('../../')\n",
    "import pytorch_lightning as pl\n",
    "from utils.data_modules.super_resolution import EEGSuperResolutionDataModule\n",
    "from models.trainers.super_resolution import SuperResolutionTrainerModel, SaveSuperResEpochsCallbackMinimal"
   ]
  },
  {
   "cell_type": "code",
   "execution_count": 3,
   "id": "5fe0b6b4",
   "metadata": {},
   "outputs": [
    {
     "data": {
      "application/vnd.jupyter.widget-view+json": {
       "model_id": "aa6e0527dc9045968b336c4cfc2f3e87",
       "version_major": 2,
       "version_minor": 0
      },
      "text/plain": [
       "open_clip_model.safetensors:   0%|          | 0.00/3.94G [00:00<?, ?B/s]"
      ]
     },
     "metadata": {},
     "output_type": "display_data"
    }
   ],
   "source": [
    "dm = EEGSuperResolutionDataModule(\n",
    "    input_channels=['Fp1', 'Fp2', 'AF3', 'AF4', 'F7', 'F3', 'Fz', 'F4', 'F8', 'FT7', 'FC3', 'FCz', 'FC4', 'FT8', 'T7', 'C3', 'Cz', 'C4', 'T8', 'TP7', 'CP3', 'CPz', 'CP4', 'TP8', 'P7', 'P3', 'Pz', 'P4', 'P8', 'O1', 'Oz', 'O2'],\n",
    "    output_channels=['Fp1', 'AF7', 'AF3', 'F1', 'F3', 'F5', 'F7', 'FT7', 'FC5', 'FC3', 'FC1', 'C1', 'C3', 'C5', 'T7', 'TP7', 'CP5', 'CP3', 'CP1', 'P1', 'P3', 'P5', 'P7', 'P9', 'PO7', 'PO3', 'O1', 'Iz', 'Oz', 'POz', 'Pz', 'CPz', 'Fpz', 'Fp2', 'AF8', 'AF4', 'AFz', 'Fz', 'F2', 'F4', 'F6', 'F8', 'FT8', 'FC6', 'FC4', 'FC2', 'FCz', 'Cz', 'C2', 'C4', 'C6', 'T8', 'TP8', 'CP6', 'CP4', 'CP2', 'P2', 'P4', 'P6', 'P8', 'P10', 'PO8', 'PO4', 'O2'],\n",
    "    sfreq=250,\n",
    "    montage='standard_1020',\n",
    "    window_before_event_ms=50,\n",
    "    window_after_event_ms=600,\n",
    "    subject=1, \n",
    "    session=1, \n",
    "    batch_size=64, \n",
    "    num_workers=4,\n",
    "    test='All'\n",
    ")"
   ]
  },
  {
   "cell_type": "code",
   "execution_count": 4,
   "id": "b7ce8b65",
   "metadata": {},
   "outputs": [
    {
     "name": "stdout",
     "output_type": "stream",
     "text": [
      "Using ALL data for subject=1, session=1 as TEST SET\n",
      "Found 3839 total samples for test set\n",
      "Data split - Train: 2879, Val: 320, Test: 3839\n",
      "Creating Datasets...\n",
      "Original dataframe size: 2879\n",
      "Original dataframe size: 320\n",
      "Original dataframe size: 3839\n"
     ]
    }
   ],
   "source": [
    "sample_data = dm.get_sample_info()\n",
    "epochs = 100\n",
    "subject = 1\n",
    "session = 1\n",
    "input_channels = sample_data['input']['channel_names']\n",
    "output_channels = sample_data['output']['channel_names']\n",
    "timesteps = sample_data['input']['num_timesteps']"
   ]
  },
  {
   "cell_type": "code",
   "execution_count": 5,
   "id": "2482d1b5",
   "metadata": {},
   "outputs": [],
   "source": [
    "checkpoint_path = \"/workspace/eeg-image-decoding/code/models/check_points/super-resolution/subj1_session1_epoch=99.ckpt\""
   ]
  },
  {
   "cell_type": "code",
   "execution_count": 6,
   "id": "777826d1",
   "metadata": {},
   "outputs": [
    {
     "name": "stderr",
     "output_type": "stream",
     "text": [
      "💡 Tip: For seamless cloud uploads and versioning, try installing [litmodels](https://pypi.org/project/litmodels/) to enable LitModelCheckpoint, which syncs automatically with the Lightning model registry.\n",
      "GPU available: True (cuda), used: True\n",
      "TPU available: False, using: 0 TPU cores\n",
      "HPU available: False, using: 0 HPUs\n",
      "/venv/main/lib/python3.10/site-packages/pytorch_lightning/trainer/connectors/logger_connector/logger_connector.py:76: Starting from v1.9.0, `tensorboardX` has been removed as a dependency of the `pytorch_lightning` package, due to potential conflicts with other packages in the ML ecosystem. For this reason, `logger=True` will use `CSVLogger` as the default logger, unless the `tensorboard` or `tensorboardX` packages are found. Please `pip install lightning[extra]` or one of them to enable TensorBoard support by default\n",
      "You are using a CUDA device ('NVIDIA H100 NVL') that has Tensor Cores. To properly utilize them, you should set `torch.set_float32_matmul_precision('medium' | 'high')` which will trade-off precision for performance. For more details, read https://pytorch.org/docs/stable/generated/torch.set_float32_matmul_precision.html#torch.set_float32_matmul_precision\n",
      "LOCAL_RANK: 0 - CUDA_VISIBLE_DEVICES: [0]\n"
     ]
    },
    {
     "name": "stdout",
     "output_type": "stream",
     "text": [
      "Datasets already initialized, skipping setup\n",
      "Collecting super-resolution predictions to save as subj1_session1_epochs.npy...\n"
     ]
    },
    {
     "data": {
      "application/vnd.jupyter.widget-view+json": {
       "model_id": "5c9e9c9e96094fb19ea854d93a988065",
       "version_major": 2,
       "version_minor": 0
      },
      "text/plain": [
       "Testing: |          | 0/? [00:00<?, ?it/s]"
      ]
     },
     "metadata": {},
     "output_type": "display_data"
    },
    {
     "name": "stdout",
     "output_type": "stream",
     "text": [
      "\n",
      "=== NMSE ANALYSIS ===\n",
      "NMSE (variance): 0.527355\n",
      "NMSE (mean square): 0.527331\n",
      "Average MSE: 0.256146\n",
      "Average Target Variance: 0.485718\n",
      "Average Target Mean Square: 0.485741\n",
      "===================\n",
      "\n",
      "\n",
      "=== SUPER RESOLUTION TEST RESULTS ===\n",
      "Test Loss: 17.708557\n",
      "Test SNR: 2.7417 dB\n",
      "Test MAE: 0.357683\n",
      "Test MSE: 0.256158\n",
      "Test NMSE: 0.527355\n",
      "Test Pearson Correlation: 0.7655\n",
      "=====================================\n",
      "\n",
      "Saved 3839 super-resolution epochs to: /workspace/eeg-image-decoding/data/all-joined-1/eeg/super-res-epochs/650ms-250Hz/subj1_session1_epochs.npy\n",
      "────────────────────────────────────────────────────────────────────────────────────────────────────────────────────────\n",
      "       Test metric             DataLoader 0\n",
      "────────────────────────────────────────────────────────────────────────────────────────────────────────────────────────\n",
      "        test_loss            17.70855712890625\n",
      "        test_mae            0.3576827943325043\n",
      "        test_mse            0.2561577260494232\n",
      "        test_nmse           0.5273549556732178\n",
      "      test_pearson          0.7655397653579712\n",
      "        test_snr            2.7416789531707764\n",
      "────────────────────────────────────────────────────────────────────────────────────────────────────────────────────────\n"
     ]
    },
    {
     "data": {
      "text/plain": [
       "[{'test_loss': 17.70855712890625,\n",
       "  'test_snr': 2.7416789531707764,\n",
       "  'test_mae': 0.3576827943325043,\n",
       "  'test_mse': 0.2561577260494232,\n",
       "  'test_nmse': 0.5273549556732178,\n",
       "  'test_pearson': 0.7655397653579712}]"
      ]
     },
     "execution_count": 6,
     "metadata": {},
     "output_type": "execute_result"
    }
   ],
   "source": [
    "lightning_model = SuperResolutionTrainerModel.load_from_checkpoint(checkpoint_path)\n",
    "\n",
    "save_callback = SaveSuperResEpochsCallbackMinimal(\n",
    "    save_dir=\"/workspace/eeg-image-decoding/data/all-joined-1/eeg/super-res-epochs/650ms-250Hz\",\n",
    "    filename=f\"subj{subject}_session{session}_epochs\"\n",
    ")\n",
    "\n",
    "trainer = pl.Trainer(\n",
    "    max_epochs=epochs,\n",
    "    callbacks=[save_callback],\n",
    "    accelerator='gpu' if torch.cuda.is_available() else 'cpu',\n",
    "    devices=1\n",
    ")\n",
    "\n",
    "trainer.test(lightning_model, dm)"
   ]
  }
 ],
 "metadata": {
  "kernelspec": {
   "display_name": "Python3 (ipykernel)",
   "language": "python",
   "name": "python3"
  },
  "language_info": {
   "codemirror_mode": {
    "name": "ipython",
    "version": 3
   },
   "file_extension": ".py",
   "mimetype": "text/x-python",
   "name": "python",
   "nbconvert_exporter": "python",
   "pygments_lexer": "ipython3",
   "version": "3.10.18"
  }
 },
 "nbformat": 4,
 "nbformat_minor": 5
}
