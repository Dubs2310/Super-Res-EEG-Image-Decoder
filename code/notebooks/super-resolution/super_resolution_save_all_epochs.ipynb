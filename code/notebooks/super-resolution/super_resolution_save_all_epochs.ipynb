{
 "cells": [
  {
   "cell_type": "code",
   "execution_count": 1,
   "id": "986c4776",
   "metadata": {},
   "outputs": [
    {
     "name": "stderr",
     "output_type": "stream",
     "text": [
      "s:\\PolySecLabProjects\\eeg-image-decoding\\env\\Lib\\site-packages\\tqdm\\auto.py:21: TqdmWarning: IProgress not found. Please update jupyter and ipywidgets. See https://ipywidgets.readthedocs.io/en/stable/user_install.html\n",
      "  from .autonotebook import tqdm as notebook_tqdm\n"
     ]
    },
    {
     "name": "stdout",
     "output_type": "stream",
     "text": [
      "S:\\PolySecLabProjects\\eeg-image-decoding\\data\\all-joined-1\\eeg\\epochs\n"
     ]
    }
   ],
   "source": [
    "import sys\n",
    "import torch\n",
    "import wandb\n",
    "sys.path.append('..')\n",
    "import pytorch_lightning as pl\n",
    "from utils.data_modules.super_resolution import EEGSuperResolutionDataModule\n",
    "from models.trainers.super_resolution import SuperResolutionTrainerModel, SaveSuperResEpochsCallbackMinimal"
   ]
  },
  {
   "cell_type": "code",
   "execution_count": 2,
   "id": "5fe0b6b4",
   "metadata": {},
   "outputs": [],
   "source": [
    "dm = EEGSuperResolutionDataModule(\n",
    "    input_channels=['Fp1', 'Fp2', 'AF3', 'AF4', 'F7', 'F3', 'Fz', 'F4', 'F8', 'FT7', 'FC3', 'FCz', 'FC4', 'FT8', 'T7', 'C3', 'Cz', 'C4', 'T8', 'TP7', 'CP3', 'CPz', 'CP4', 'TP8', 'P7', 'P3', 'Pz', 'P4', 'P8', 'O1', 'Oz', 'O2'],\n",
    "    output_channels=['Fp1', 'AF7', 'AF3', 'F1', 'F3', 'F5', 'F7', 'FT7', 'FC5', 'FC3', 'FC1', 'C1', 'C3', 'C5', 'T7', 'TP7', 'CP5', 'CP3', 'CP1', 'P1', 'P3', 'P5', 'P7', 'P9', 'PO7', 'PO3', 'O1', 'Iz', 'Oz', 'POz', 'Pz', 'CPz', 'Fpz', 'Fp2', 'AF8', 'AF4', 'AFz', 'Fz', 'F2', 'F4', 'F6', 'F8', 'FT8', 'FC6', 'FC4', 'FC2', 'FCz', 'Cz', 'C2', 'C4', 'C6', 'T8', 'TP8', 'CP6', 'CP4', 'CP2', 'P2', 'P4', 'P6', 'P8', 'P10', 'PO8', 'PO4', 'O2'],\n",
    "    sfreq=250,\n",
    "    montage='standard_1020',\n",
    "    window_before_event_ms=50,\n",
    "    window_after_event_ms=600,\n",
    "    subject=1, \n",
    "    session=1, \n",
    "    batch_size=64, \n",
    "    num_workers=4,\n",
    "    test='All'\n",
    ")"
   ]
  },
  {
   "cell_type": "code",
   "execution_count": 3,
   "id": "b7ce8b65",
   "metadata": {},
   "outputs": [
    {
     "name": "stdout",
     "output_type": "stream",
     "text": [
      "Using ALL data for subject=1, session=1 as TEST SET\n",
      "Found 3839 total samples for test set\n",
      "Data split - Train: 2879, Val: 320, Test: 3839\n",
      "Creating Datasets...\n",
      "Original dataframe size: 2879\n",
      "Original dataframe size: 320\n",
      "Original dataframe size: 3839\n"
     ]
    }
   ],
   "source": [
    "sample_data = dm.get_sample_info()\n",
    "epochs = 100\n",
    "subject = 1\n",
    "session = 1\n",
    "input_channels = sample_data['input']['channel_names']\n",
    "output_channels = sample_data['output']['channel_names']\n",
    "timesteps = sample_data['input']['num_timesteps']"
   ]
  },
  {
   "cell_type": "code",
   "execution_count": 4,
   "id": "2482d1b5",
   "metadata": {},
   "outputs": [],
   "source": [
    "checkpoint_path = \"S:\\\\PolySecLabProjects\\\\eeg-image-decoding\\\\code\\\\models\\\\check_points\\\\super_resolution\\\\subj1_session1_epoch=99.ckpt\""
   ]
  },
  {
   "cell_type": "code",
   "execution_count": 5,
   "id": "777826d1",
   "metadata": {},
   "outputs": [
    {
     "name": "stderr",
     "output_type": "stream",
     "text": [
      "s:\\PolySecLabProjects\\eeg-image-decoding\\env\\Lib\\site-packages\\pytorch_lightning\\utilities\\migration\\utils.py:56: The loaded checkpoint was produced with Lightning v2.5.2, which is newer than your current Lightning version: v2.5.1.post0\n",
      "Using default `ModelCheckpoint`. Consider installing `litmodels` package to enable `LitModelCheckpoint` for automatic upload to the Lightning model registry.\n",
      "GPU available: True (cuda), used: True\n",
      "TPU available: False, using: 0 TPU cores\n",
      "HPU available: False, using: 0 HPUs\n",
      "s:\\PolySecLabProjects\\eeg-image-decoding\\env\\Lib\\site-packages\\pytorch_lightning\\trainer\\connectors\\logger_connector\\logger_connector.py:76: Starting from v1.9.0, `tensorboardX` has been removed as a dependency of the `pytorch_lightning` package, due to potential conflicts with other packages in the ML ecosystem. For this reason, `logger=True` will use `CSVLogger` as the default logger, unless the `tensorboard` or `tensorboardX` packages are found. Please `pip install lightning[extra]` or one of them to enable TensorBoard support by default\n",
      "You are using a CUDA device ('NVIDIA GeForce RTX 3070 Laptop GPU') that has Tensor Cores. To properly utilize them, you should set `torch.set_float32_matmul_precision('medium' | 'high')` which will trade-off precision for performance. For more details, read https://pytorch.org/docs/stable/generated/torch.set_float32_matmul_precision.html#torch.set_float32_matmul_precision\n"
     ]
    },
    {
     "name": "stdout",
     "output_type": "stream",
     "text": [
      "Using ALL data for subject=1, session=1 as TEST SET\n",
      "Found 3839 total samples for test set\n",
      "Data split - Train: 2879, Val: 320, Test: 3839\n",
      "Creating Datasets...\n",
      "Original dataframe size: 2879\n",
      "Original dataframe size: 320\n"
     ]
    },
    {
     "name": "stderr",
     "output_type": "stream",
     "text": [
      "LOCAL_RANK: 0 - CUDA_VISIBLE_DEVICES: [0]\n"
     ]
    },
    {
     "name": "stdout",
     "output_type": "stream",
     "text": [
      "Original dataframe size: 3839\n",
      "Collecting super-resolution predictions to save as subj{subject}_session{session}_epochs_sr.npy...\n",
      "Testing DataLoader 0: 100%|██████████| 60/60 [07:38<00:00,  0.13it/s]\n",
      "=== NMSE ANALYSIS ===\n",
      "NMSE (variance): 0.527355\n",
      "NMSE (mean square): 0.527331\n",
      "Average MSE: 0.256146\n",
      "Average Target Variance: 0.485718\n",
      "Average Target Mean Square: 0.485741\n",
      "===================\n",
      "\n",
      "\n",
      "=== SUPER RESOLUTION TEST RESULTS ===\n",
      "Test Loss: 17.708557\n",
      "Test SNR: 2.7417 dB\n",
      "Test MAE: 0.357683\n",
      "Test MSE: 0.256158\n",
      "Test NMSE: 0.527355\n",
      "Test Pearson Correlation: 0.7655\n",
      "=====================================\n",
      "\n",
      "Saved 3839 super-resolution epochs to: S:\\PolySecLabProjects\\eeg-image-decoding\\data\\all-joined-1\\eeg\\epochs\\650ms-250Hz\\subj{subject}_session{session}_epochs_sr.npy\n",
      "Testing DataLoader 0: 100%|██████████| 60/60 [07:38<00:00,  0.13it/s]\n",
      "────────────────────────────────────────────────────────────────────────────────────────────────────────────────────────\n",
      "       Test metric             DataLoader 0\n",
      "────────────────────────────────────────────────────────────────────────────────────────────────────────────────────────\n",
      "        test_loss            17.70855712890625\n",
      "        test_mae            0.3576827943325043\n",
      "        test_mse            0.2561577260494232\n",
      "        test_nmse           0.5273549556732178\n",
      "      test_pearson          0.7655397653579712\n",
      "        test_snr            2.7416791915893555\n",
      "────────────────────────────────────────────────────────────────────────────────────────────────────────────────────────\n"
     ]
    },
    {
     "data": {
      "text/plain": [
       "[{'test_loss': 17.70855712890625,\n",
       "  'test_snr': 2.7416791915893555,\n",
       "  'test_mae': 0.3576827943325043,\n",
       "  'test_mse': 0.2561577260494232,\n",
       "  'test_nmse': 0.5273549556732178,\n",
       "  'test_pearson': 0.7655397653579712}]"
      ]
     },
     "execution_count": 5,
     "metadata": {},
     "output_type": "execute_result"
    }
   ],
   "source": [
    "lightning_model = SuperResolutionTrainerModel.load_from_checkpoint(checkpoint_path)\n",
    "\n",
    "save_callback = SaveSuperResEpochsCallbackMinimal(\n",
    "    save_dir=\"S:\\\\PolySecLabProjects\\\\eeg-image-decoding\\\\data\\\\all-joined-1\\\\eeg\\\\epochs\\\\650ms-250Hz\", \n",
    "    filename=\"subj{subject}_session{session}_epochs_sr\"\n",
    ")\n",
    "\n",
    "trainer = pl.Trainer(\n",
    "    max_epochs=epochs,\n",
    "    callbacks=[save_callback],\n",
    "    accelerator='gpu' if torch.cuda.is_available() else 'cpu',\n",
    "    devices=1\n",
    ")\n",
    "\n",
    "trainer.test(lightning_model, dm)"
   ]
  }
 ],
 "metadata": {
  "kernelspec": {
   "display_name": "env",
   "language": "python",
   "name": "python3"
  },
  "language_info": {
   "codemirror_mode": {
    "name": "ipython",
    "version": 3
   },
   "file_extension": ".py",
   "mimetype": "text/x-python",
   "name": "python",
   "nbconvert_exporter": "python",
   "pygments_lexer": "ipython3",
   "version": "3.11.9"
  }
 },
 "nbformat": 4,
 "nbformat_minor": 5
}
