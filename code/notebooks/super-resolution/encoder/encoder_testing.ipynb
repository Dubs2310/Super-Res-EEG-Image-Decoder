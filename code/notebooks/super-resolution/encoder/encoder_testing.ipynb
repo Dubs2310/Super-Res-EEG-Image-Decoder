{
 "cells": [
  {
   "cell_type": "code",
   "execution_count": 1,
   "id": "986c4776",
   "metadata": {},
   "outputs": [
    {
     "name": "stdout",
     "output_type": "stream",
     "text": [
      "/workspace/eeg-image-decoding/data/all-joined-1/eeg/epochs\n"
     ]
    }
   ],
   "source": [
    "import sys\n",
    "import wandb\n",
    "import torch\n",
    "sys.path.append('../../')\n",
    "import pytorch_lightning as pl\n",
    "from utils.data_modules.contrastive import EEGContrastiveDataModule\n",
    "from models.trainers.contrastive import ContrastiveTrainerModel, PlottingCallback"
   ]
  },
  {
   "cell_type": "code",
   "execution_count": 6,
   "id": "5fe0b6b4",
   "metadata": {},
   "outputs": [],
   "source": [
    "dm = EEGContrastiveDataModule(\n",
    "    input_channels=['Fp1', 'AF7', 'AF3', 'F1', 'F3', 'F5', 'F7', 'FT7', 'FC5', 'FC3', 'FC1', 'C1', 'C3', 'C5', 'T7', 'TP7', 'CP5', 'CP3', 'CP1', 'P1', 'P3', 'P5', 'P7', 'P9', 'PO7', 'PO3', 'O1', 'Iz', 'Oz', 'POz', 'Pz', 'CPz', 'Fpz', 'Fp2', 'AF8', 'AF4', 'AFz', 'Fz', 'F2', 'F4', 'F6', 'F8', 'FT8', 'FC6', 'FC4', 'FC2', 'FCz', 'Cz', 'C2', 'C4', 'C6', 'T8', 'TP8', 'CP6', 'CP4', 'CP2', 'P2', 'P4', 'P6', 'P8', 'P10', 'PO8', 'PO4', 'O2'],\n",
    "    sfreq=250,\n",
    "    montage='standard_1020',\n",
    "    window_before_event_ms=50,\n",
    "    window_after_event_ms=600,\n",
    "    subject=1, \n",
    "    session=1, \n",
    "    batch_size=64, \n",
    "    num_workers=4,\n",
    "    epochs_dir=\"/workspace/eeg-image-decoding/data/all-joined-1/eeg/super-res-epochs\",\n",
    "    test='All'\n",
    ")"
   ]
  },
  {
   "cell_type": "code",
   "execution_count": 7,
   "id": "b7ce8b65",
   "metadata": {},
   "outputs": [
    {
     "name": "stdout",
     "output_type": "stream",
     "text": [
      "Using ALL data for subject=1, session=1 as TEST SET\n",
      "Found 3839 total samples for test set\n",
      "Data split - Train: 2879, Val: 320, Test: 3839\n",
      "Creating Datasets...\n",
      "Original dataframe size: 2879\n",
      "Original dataframe size: 320\n",
      "Original dataframe size: 3839\n"
     ]
    }
   ],
   "source": [
    "sample_data = dm.get_sample_info()\n",
    "epochs = 200\n",
    "subject = 1\n",
    "session = 1\n",
    "num_channels = sample_data['input']['num_channels']\n",
    "timesteps = sample_data['input']['num_timesteps']\n",
    "num_fine_labels = sample_data['output']['fine_labels_shape']"
   ]
  },
  {
   "cell_type": "code",
   "execution_count": 8,
   "id": "2482d1b5",
   "metadata": {},
   "outputs": [],
   "source": [
    "checkpoint_path = \"/workspace/eeg-image-decoding/code/models/check_points/contrastive_encoder/subj1_session1_epoch=199.ckpt\""
   ]
  },
  {
   "cell_type": "code",
   "execution_count": 9,
   "id": "777826d1",
   "metadata": {},
   "outputs": [
    {
     "name": "stderr",
     "output_type": "stream",
     "text": [
      "/venv/main/lib/python3.10/site-packages/braindecode/models/base.py:23: UserWarning: EEGNetv4: 'in_chans' is depreciated. Use 'n_chans' instead.\n",
      "  warnings.warn(\n",
      "/venv/main/lib/python3.10/site-packages/braindecode/models/base.py:23: UserWarning: EEGNetv4: 'n_classes' is depreciated. Use 'n_outputs' instead.\n",
      "  warnings.warn(\n",
      "/venv/main/lib/python3.10/site-packages/braindecode/models/base.py:23: UserWarning: EEGNetv4: 'input_window_samples' is depreciated. Use 'n_times' instead.\n",
      "  warnings.warn(\n",
      "💡 Tip: For seamless cloud uploads and versioning, try installing [litmodels](https://pypi.org/project/litmodels/) to enable LitModelCheckpoint, which syncs automatically with the Lightning model registry.\n",
      "GPU available: True (cuda), used: True\n",
      "TPU available: False, using: 0 TPU cores\n",
      "HPU available: False, using: 0 HPUs\n"
     ]
    },
    {
     "name": "stdout",
     "output_type": "stream",
     "text": [
      "Skip loading parameter: train_image_features, required shape: torch.Size([4002, 1024]), loaded shape: torch.Size([4014, 1024])\n",
      "Skip loading parameter: test_image_features, required shape: torch.Size([802, 1024]), loaded shape: torch.Size([790, 1024])\n"
     ]
    },
    {
     "data": {
      "text/html": [
       "creating run (0.0s)"
      ],
      "text/plain": [
       "<IPython.core.display.HTML object>"
      ]
     },
     "metadata": {},
     "output_type": "display_data"
    },
    {
     "data": {
      "text/html": [
       "Tracking run with wandb version 0.21.0"
      ],
      "text/plain": [
       "<IPython.core.display.HTML object>"
      ]
     },
     "metadata": {},
     "output_type": "display_data"
    },
    {
     "data": {
      "text/html": [
       "Run data is saved locally in <code>./wandb/run-20250709_205951-lh3s1voq</code>"
      ],
      "text/plain": [
       "<IPython.core.display.HTML object>"
      ]
     },
     "metadata": {},
     "output_type": "display_data"
    },
    {
     "data": {
      "text/html": [
       "Syncing run <strong><a href='https://wandb.ai/dubs2310-cal-poly-pomona/super_res_contrastive_eeg_net/runs/lh3s1voq' target=\"_blank\">ancient-microwave-3</a></strong> to <a href='https://wandb.ai/dubs2310-cal-poly-pomona/super_res_contrastive_eeg_net' target=\"_blank\">Weights & Biases</a> (<a href='https://wandb.me/developer-guide' target=\"_blank\">docs</a>)<br>"
      ],
      "text/plain": [
       "<IPython.core.display.HTML object>"
      ]
     },
     "metadata": {},
     "output_type": "display_data"
    },
    {
     "data": {
      "text/html": [
       " View project at <a href='https://wandb.ai/dubs2310-cal-poly-pomona/super_res_contrastive_eeg_net' target=\"_blank\">https://wandb.ai/dubs2310-cal-poly-pomona/super_res_contrastive_eeg_net</a>"
      ],
      "text/plain": [
       "<IPython.core.display.HTML object>"
      ]
     },
     "metadata": {},
     "output_type": "display_data"
    },
    {
     "data": {
      "text/html": [
       " View run at <a href='https://wandb.ai/dubs2310-cal-poly-pomona/super_res_contrastive_eeg_net/runs/lh3s1voq' target=\"_blank\">https://wandb.ai/dubs2310-cal-poly-pomona/super_res_contrastive_eeg_net/runs/lh3s1voq</a>"
      ],
      "text/plain": [
       "<IPython.core.display.HTML object>"
      ]
     },
     "metadata": {},
     "output_type": "display_data"
    },
    {
     "name": "stderr",
     "output_type": "stream",
     "text": [
      "LOCAL_RANK: 0 - CUDA_VISIBLE_DEVICES: [0]\n"
     ]
    },
    {
     "name": "stdout",
     "output_type": "stream",
     "text": [
      "Datasets already initialized, skipping setup\n"
     ]
    },
    {
     "data": {
      "application/vnd.jupyter.widget-view+json": {
       "model_id": "58b3936d6c1747bfbd636b13bd213a74",
       "version_major": 2,
       "version_minor": 0
      },
      "text/plain": [
       "Testing: |          | 0/? [00:00<?, ?it/s]"
      ]
     },
     "metadata": {},
     "output_type": "display_data"
    },
    {
     "name": "stdout",
     "output_type": "stream",
     "text": [
      "\n",
      "=== TEST RESULTS ===\n",
      "Test Precision: 0.0339\n",
      "Test Recall: 0.7720\n",
      "Test F1-Score: 0.0601\n",
      "Test AUROC: 0.5016\n",
      "====================\n",
      "\n",
      "Confusion matrix visualization completed!\n",
      "\n",
      "==========================================================================================\n",
      "DETAILED CLASSIFICATION REPORT (Top 20 Classes by Precision)\n",
      "==========================================================================================\n",
      "Class 49 - fork                     : P=0.510, R=0.800, F1=0.623, Acc=0.506, Support=1956\n",
      "Class 18 - potted plant             : P=0.104, R=0.848, F1=0.185, Acc=0.227, Support=396\n",
      "Class 27 - bicycle                  : P=0.096, R=0.789, F1=0.172, Acc=0.333, Support=336\n",
      "Class 26 - bed                      : P=0.070, R=0.742, F1=0.127, Acc=0.331, Support=252\n",
      "Class 22 - donut                    : P=0.069, R=0.779, F1=0.126, Acc=0.237, Support=272\n",
      "Class 14 - orange                   : P=0.062, R=0.805, F1=0.115, Acc=0.235, Support=236\n",
      "Class 74 - toaster                  : P=0.057, R=0.708, F1=0.106, Acc=0.326, Support=216\n",
      "Class 13 - toilet                   : P=0.053, R=0.755, F1=0.099, Acc=0.226, Support=216\n",
      "Class 36 - giraffe                  : P=0.047, R=0.784, F1=0.089, Acc=0.261, Support=176\n",
      "Class  2 - bottle                   : P=0.046, R=0.766, F1=0.087, Acc=0.213, Support=188\n",
      "Class 28 - pizza                    : P=0.044, R=0.731, F1=0.082, Acc=0.319, Support=160\n",
      "Class  8 - mouse                    : P=0.043, R=0.671, F1=0.080, Acc=0.389, Support=152\n",
      "Class 57 - traffic light            : P=0.043, R=0.895, F1=0.081, Acc=0.198, Support=152\n",
      "Class 65 - hot dog                  : P=0.042, R=0.803, F1=0.080, Acc=0.264, Support=152\n",
      "Class  0 - snowboard                : P=0.037, R=0.792, F1=0.071, Acc=0.219, Support=144\n",
      "Class 77 - bowl                     : P=0.036, R=0.681, F1=0.069, Acc=0.307, Support=144\n",
      "Class 23 - sheep                    : P=0.035, R=0.716, F1=0.067, Acc=0.227, Support=148\n",
      "Class 44 - suitcase                 : P=0.035, R=0.820, F1=0.067, Acc=0.237, Support=128\n",
      "Class 62 - oven                     : P=0.034, R=0.713, F1=0.065, Acc=0.277, Support=136\n",
      "Class 20 - bird                     : P=0.034, R=0.833, F1=0.064, Acc=0.244, Support=120\n",
      "\n",
      "AVERAGES:\n",
      "Macro Average: P=0.034, R=0.772, F1=0.060, Acc=0.251\n",
      "Micro Average: P=0.034, R=0.776, F1=0.065, Acc=0.000\n",
      "==========================================================================================\n",
      "Classification report visualization completed!\n",
      "Precision-Recall curves completed! Global Average AUC: 0.0350\n",
      "────────────────────────────────────────────────────────────────────────────────────────────────────────────────────────\n",
      "       Test metric             DataLoader 0\n",
      "────────────────────────────────────────────────────────────────────────────────────────────────────────────────────────\n",
      "       test_auroc           0.5016080141067505\n",
      "         test_f1            0.06014416366815567\n",
      "     test_precision         0.03387201577425003\n",
      "       test_recall          0.7720038890838623\n",
      "────────────────────────────────────────────────────────────────────────────────────────────────────────────────────────\n"
     ]
    },
    {
     "data": {
      "text/html": [],
      "text/plain": [
       "<IPython.core.display.HTML object>"
      ]
     },
     "metadata": {},
     "output_type": "display_data"
    },
    {
     "data": {
      "text/html": [
       "<br>    <style><br>        .wandb-row {<br>            display: flex;<br>            flex-direction: row;<br>            flex-wrap: wrap;<br>            justify-content: flex-start;<br>            width: 100%;<br>        }<br>        .wandb-col {<br>            display: flex;<br>            flex-direction: column;<br>            flex-basis: 100%;<br>            flex: 1;<br>            padding: 10px;<br>        }<br>    </style><br><div class=\"wandb-row\"><div class=\"wandb-col\"><h3>Run history:</h3><br/><table class=\"wandb\"><tr><td>epoch</td><td>▁</td></tr><tr><td>test_auroc</td><td>▁</td></tr><tr><td>test_f1</td><td>▁</td></tr><tr><td>test_precision</td><td>▁</td></tr><tr><td>test_recall</td><td>▁</td></tr><tr><td>trainer/global_step</td><td>▁▁▁▁▁</td></tr></table><br/></div><div class=\"wandb-col\"><h3>Run summary:</h3><br/><table class=\"wandb\"><tr><td>epoch</td><td>0</td></tr><tr><td>test_auroc</td><td>0.50161</td></tr><tr><td>test_f1</td><td>0.06014</td></tr><tr><td>test_precision</td><td>0.03387</td></tr><tr><td>test_recall</td><td>0.772</td></tr><tr><td>trainer/global_step</td><td>0</td></tr></table><br/></div></div>"
      ],
      "text/plain": [
       "<IPython.core.display.HTML object>"
      ]
     },
     "metadata": {},
     "output_type": "display_data"
    },
    {
     "data": {
      "text/html": [
       " View run <strong style=\"color:#cdcd00\">ancient-microwave-3</strong> at: <a href='https://wandb.ai/dubs2310-cal-poly-pomona/super_res_contrastive_eeg_net/runs/lh3s1voq' target=\"_blank\">https://wandb.ai/dubs2310-cal-poly-pomona/super_res_contrastive_eeg_net/runs/lh3s1voq</a><br> View project at: <a href='https://wandb.ai/dubs2310-cal-poly-pomona/super_res_contrastive_eeg_net' target=\"_blank\">https://wandb.ai/dubs2310-cal-poly-pomona/super_res_contrastive_eeg_net</a><br>Synced 5 W&B file(s), 4 media file(s), 0 artifact file(s) and 0 other file(s)"
      ],
      "text/plain": [
       "<IPython.core.display.HTML object>"
      ]
     },
     "metadata": {},
     "output_type": "display_data"
    },
    {
     "data": {
      "text/html": [
       "Find logs at: <code>./wandb/run-20250709_205951-lh3s1voq/logs</code>"
      ],
      "text/plain": [
       "<IPython.core.display.HTML object>"
      ]
     },
     "metadata": {},
     "output_type": "display_data"
    }
   ],
   "source": [
    "lightning_model = ContrastiveTrainerModel.load_from_checkpoint(checkpoint_path, strict=False)\n",
    "\n",
    "results_callback = PlottingCallback()\n",
    "\n",
    "logger = pl.loggers.WandbLogger(project=\"super_res_contrastive_eeg_net\")\n",
    "\n",
    "trainer = pl.Trainer(\n",
    "    max_epochs=epochs,\n",
    "    callbacks=[results_callback],\n",
    "    logger=logger,\n",
    "    accelerator='gpu' if torch.cuda.is_available() else 'cpu',\n",
    "    devices=1\n",
    ")\n",
    "\n",
    "trainer.test(lightning_model, dm)\n",
    "\n",
    "if logger and isinstance(logger, pl.loggers.WandbLogger):\n",
    "    logger.finalize('success')\n",
    "    wandb.finish()"
   ]
  }
 ],
 "metadata": {
  "kernelspec": {
   "display_name": "Python3 (ipykernel)",
   "language": "python",
   "name": "python3"
  },
  "language_info": {
   "codemirror_mode": {
    "name": "ipython",
    "version": 3
   },
   "file_extension": ".py",
   "mimetype": "text/x-python",
   "name": "python",
   "nbconvert_exporter": "python",
   "pygments_lexer": "ipython3",
   "version": "3.10.18"
  }
 },
 "nbformat": 4,
 "nbformat_minor": 5
}
