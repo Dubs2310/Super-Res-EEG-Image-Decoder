{
 "cells": [
  {
   "cell_type": "code",
   "execution_count": 1,
   "id": "986c4776",
   "metadata": {},
   "outputs": [
    {
     "name": "stderr",
     "output_type": "stream",
     "text": [
      "s:\\PolySecLabProjects\\eeg-image-decoding\\env\\Lib\\site-packages\\tqdm\\auto.py:21: TqdmWarning: IProgress not found. Please update jupyter and ipywidgets. See https://ipywidgets.readthedocs.io/en/stable/user_install.html\n",
      "  from .autonotebook import tqdm as notebook_tqdm\n"
     ]
    },
    {
     "name": "stdout",
     "output_type": "stream",
     "text": [
      "S:\\PolySecLabProjects\\eeg-image-decoding\\data\\all-joined-1\\eeg\\epochs\n"
     ]
    }
   ],
   "source": [
    "import sys\n",
    "import torch\n",
    "import wandb\n",
    "sys.path.append('..')\n",
    "import pytorch_lightning as pl\n",
    "from utils.data_modules.super_resolution import EEGSuperResolutionDataModule\n",
    "from models.trainers.super_resolution import SuperResolutionTrainerModel, SuperResolutionPlottingCallback"
   ]
  },
  {
   "cell_type": "code",
   "execution_count": 2,
   "id": "5fe0b6b4",
   "metadata": {},
   "outputs": [],
   "source": [
    "dm = EEGSuperResolutionDataModule(\n",
    "    input_channels=['Fp1', 'Fp2', 'AF3', 'AF4', 'F7', 'F3', 'Fz', 'F4', 'F8', 'FT7', 'FC3', 'FCz', 'FC4', 'FT8', 'T7', 'C3', 'Cz', 'C4', 'T8', 'TP7', 'CP3', 'CPz', 'CP4', 'TP8', 'P7', 'P3', 'Pz', 'P4', 'P8', 'O1', 'Oz', 'O2'],\n",
    "    output_channels=['Fp1', 'AF7', 'AF3', 'F1', 'F3', 'F5', 'F7', 'FT7', 'FC5', 'FC3', 'FC1', 'C1', 'C3', 'C5', 'T7', 'TP7', 'CP5', 'CP3', 'CP1', 'P1', 'P3', 'P5', 'P7', 'P9', 'PO7', 'PO3', 'O1', 'Iz', 'Oz', 'POz', 'Pz', 'CPz', 'Fpz', 'Fp2', 'AF8', 'AF4', 'AFz', 'Fz', 'F2', 'F4', 'F6', 'F8', 'FT8', 'FC6', 'FC4', 'FC2', 'FCz', 'Cz', 'C2', 'C4', 'C6', 'T8', 'TP8', 'CP6', 'CP4', 'CP2', 'P2', 'P4', 'P6', 'P8', 'P10', 'PO8', 'PO4', 'O2'],\n",
    "    sfreq=250,\n",
    "    montage='standard_1020',\n",
    "    window_before_event_ms=50,\n",
    "    window_after_event_ms=600,\n",
    "    subject=1, \n",
    "    session=1, \n",
    "    batch_size=64, \n",
    "    num_workers=4\n",
    ")"
   ]
  },
  {
   "cell_type": "code",
   "execution_count": 3,
   "id": "b7ce8b65",
   "metadata": {},
   "outputs": [
    {
     "name": "stdout",
     "output_type": "stream",
     "text": [
      "Creating Datasets...\n",
      "Original dataframe size: 2879\n",
      "Original dataframe size: 320\n",
      "Original dataframe size: 640\n"
     ]
    }
   ],
   "source": [
    "sample_data = dm.get_sample_info()\n",
    "epochs = 100\n",
    "subject = 1\n",
    "session = 1\n",
    "input_channels = sample_data['input']['channel_names']\n",
    "output_channels = sample_data['output']['channel_names']\n",
    "timesteps = sample_data['input']['num_timesteps']"
   ]
  },
  {
   "cell_type": "code",
   "execution_count": 4,
   "id": "2482d1b5",
   "metadata": {},
   "outputs": [],
   "source": [
    "checkpoint_path = \"S:\\\\PolySecLabProjects\\\\eeg-image-decoding\\\\code\\\\models\\\\check_points\\\\super_resolution\\\\subj1_session1_epoch=99.ckpt\""
   ]
  },
  {
   "cell_type": "code",
   "execution_count": 5,
   "id": "777826d1",
   "metadata": {},
   "outputs": [
    {
     "name": "stderr",
     "output_type": "stream",
     "text": [
      "s:\\PolySecLabProjects\\eeg-image-decoding\\env\\Lib\\site-packages\\pytorch_lightning\\utilities\\migration\\utils.py:56: The loaded checkpoint was produced with Lightning v2.5.2, which is newer than your current Lightning version: v2.5.1.post0\n",
      "Using default `ModelCheckpoint`. Consider installing `litmodels` package to enable `LitModelCheckpoint` for automatic upload to the Lightning model registry.\n",
      "GPU available: True (cuda), used: True\n",
      "TPU available: False, using: 0 TPU cores\n",
      "HPU available: False, using: 0 HPUs\n",
      "You are using a CUDA device ('NVIDIA GeForce RTX 3070 Laptop GPU') that has Tensor Cores. To properly utilize them, you should set `torch.set_float32_matmul_precision('medium' | 'high')` which will trade-off precision for performance. For more details, read https://pytorch.org/docs/stable/generated/torch.set_float32_matmul_precision.html#torch.set_float32_matmul_precision\n",
      "\u001b[34m\u001b[1mwandb\u001b[0m: Currently logged in as: \u001b[33mdubs2310\u001b[0m (\u001b[33mdubs2310-cal-poly-pomona\u001b[0m) to \u001b[32mhttps://api.wandb.ai\u001b[0m. Use \u001b[1m`wandb login --relogin`\u001b[0m to force relogin\n"
     ]
    },
    {
     "data": {
      "text/html": [
       "Tracking run with wandb version 0.19.11"
      ],
      "text/plain": [
       "<IPython.core.display.HTML object>"
      ]
     },
     "metadata": {},
     "output_type": "display_data"
    },
    {
     "data": {
      "text/html": [
       "Run data is saved locally in <code>.\\wandb\\run-20250708_021729-xrdpqrak</code>"
      ],
      "text/plain": [
       "<IPython.core.display.HTML object>"
      ]
     },
     "metadata": {},
     "output_type": "display_data"
    },
    {
     "data": {
      "text/html": [
       "Syncing run <strong><a href='https://wandb.ai/dubs2310-cal-poly-pomona/eeg_super_resolution/runs/xrdpqrak' target=\"_blank\">noble-frog-12</a></strong> to <a href='https://wandb.ai/dubs2310-cal-poly-pomona/eeg_super_resolution' target=\"_blank\">Weights & Biases</a> (<a href='https://wandb.me/developer-guide' target=\"_blank\">docs</a>)<br>"
      ],
      "text/plain": [
       "<IPython.core.display.HTML object>"
      ]
     },
     "metadata": {},
     "output_type": "display_data"
    },
    {
     "data": {
      "text/html": [
       " View project at <a href='https://wandb.ai/dubs2310-cal-poly-pomona/eeg_super_resolution' target=\"_blank\">https://wandb.ai/dubs2310-cal-poly-pomona/eeg_super_resolution</a>"
      ],
      "text/plain": [
       "<IPython.core.display.HTML object>"
      ]
     },
     "metadata": {},
     "output_type": "display_data"
    },
    {
     "data": {
      "text/html": [
       " View run at <a href='https://wandb.ai/dubs2310-cal-poly-pomona/eeg_super_resolution/runs/xrdpqrak' target=\"_blank\">https://wandb.ai/dubs2310-cal-poly-pomona/eeg_super_resolution/runs/xrdpqrak</a>"
      ],
      "text/plain": [
       "<IPython.core.display.HTML object>"
      ]
     },
     "metadata": {},
     "output_type": "display_data"
    },
    {
     "name": "stdout",
     "output_type": "stream",
     "text": [
      "Creating Datasets...\n",
      "Original dataframe size: 2879\n",
      "Original dataframe size: 320\n"
     ]
    },
    {
     "name": "stderr",
     "output_type": "stream",
     "text": [
      "LOCAL_RANK: 0 - CUDA_VISIBLE_DEVICES: [0]\n"
     ]
    },
    {
     "name": "stdout",
     "output_type": "stream",
     "text": [
      "Original dataframe size: 640\n",
      "Testing DataLoader 0: 100%|██████████| 10/10 [00:53<00:00,  0.19it/s]Callback collected test metrics: {'test_loss': 17.112995147705078, 'test_snr': 2.7484703063964844, 'test_mae': 0.35854288935661316, 'test_mse': 0.2468574345111847, 'test_nmse': 0.5162146935463189, 'test_pearson': 0.773216088149331}\n",
      "Plotting test metrics: {'test_loss': 17.112995147705078, 'test_snr': 2.7484703063964844, 'test_mae': 0.35854288935661316, 'test_mse': 0.2468574345111847, 'test_nmse': 0.5162146935463189, 'test_pearson': 0.773216088149331}\n",
      "Logged test metrics bar plot to wandb\n",
      "\n",
      "=== NMSE ANALYSIS ===\n",
      "NMSE (variance): 0.516215\n",
      "NMSE (mean square): 0.516127\n",
      "Average MSE: 0.246857\n",
      "Average Target Variance: 0.478207\n",
      "Average Target Mean Square: 0.478289\n",
      "===================\n",
      "\n",
      "\n",
      "=== SUPER RESOLUTION TEST RESULTS ===\n",
      "Test Loss: 17.112995\n",
      "Test SNR: 2.7485 dB\n",
      "Test MAE: 0.358543\n",
      "Test MSE: 0.246857\n",
      "Test NMSE: 0.516215\n",
      "Test Pearson Correlation: 0.7732\n",
      "=====================================\n",
      "\n",
      "Using callback metrics: {'test_loss': 17.112995147705078, 'test_snr': 2.7484703063964844, 'test_mae': 0.35854288935661316, 'test_mse': 0.2468574345111847, 'test_nmse': 0.5162146687507629, 'test_pearson': 0.7732160687446594}\n",
      "Plotting test metrics: {'test_loss': 17.112995147705078, 'test_snr': 2.7484703063964844, 'test_mae': 0.35854288935661316, 'test_mse': 0.2468574345111847, 'test_nmse': 0.5162146687507629, 'test_pearson': 0.7732160687446594}\n",
      "Logged test metrics bar plot to wandb\n",
      "Creating EEG epoch plot for sample 67 (correlation: 0.8890, MSE: 0.126724)\n",
      "\n",
      "=== DATA ALIGNMENT DEBUG ===\n",
      "Lo-res shape: (32, 163), channels: ['Fp1', 'Fp2', 'AF3', 'AF4', 'F7', 'F3', 'Fz', 'F4', 'F8', 'FT7', 'FC3', 'FCz', 'FC4', 'FT8', 'T7', 'C3', 'Cz', 'C4', 'T8', 'TP7', 'CP3', 'CPz', 'CP4', 'TP8', 'P7', 'P3', 'Pz', 'P4', 'P8', 'O1', 'Oz', 'O2']\n",
      "Hi-res shape: (64, 163), channels: ['Fp1', 'AF7', 'AF3', 'F1', 'F3', 'F5', 'F7', 'FT7', 'FC5', 'FC3', 'FC1', 'C1', 'C3', 'C5', 'T7', 'TP7', 'CP5', 'CP3', 'CP1', 'P1', 'P3', 'P5', 'P7', 'P9', 'PO7', 'PO3', 'O1', 'Iz', 'Oz', 'POz', 'Pz', 'CPz', 'Fpz', 'Fp2', 'AF8', 'AF4', 'AFz', 'Fz', 'F2', 'F4', 'F6', 'F8', 'FT8', 'FC6', 'FC4', 'FC2', 'FCz', 'Cz', 'C2', 'C4', 'C6', 'T8', 'TP8', 'CP6', 'CP4', 'CP2', 'P2', 'P4', 'P6', 'P8', 'P10', 'PO8', 'PO4', 'O2']\n",
      "Super-res shape: (64, 163)\n",
      "Missing channels (being super-resolved): ['AF7', 'F1', 'F5', 'FC5', 'FC1', 'C1', 'C5', 'CP5', 'CP1', 'P1', 'P5', 'P9', 'PO7', 'PO3', 'Iz', 'POz', 'Fpz', 'AF8', 'AFz', 'F2', 'F6', 'FC6', 'FC2', 'C2', 'C6', 'CP6', 'CP2', 'P2', 'P6', 'P10', 'PO8', 'PO4']\n",
      "Missing channel indices: [1, 3, 5, 8, 10, 11, 13, 16, 18, 19, 21, 23, 24, 25, 27, 29, 32, 34, 36, 38, 40, 43, 45, 48, 50, 53, 55, 56, 58, 60, 61, 62]\n",
      "Available channels: ['Fp1', 'Fp2', 'AF3', 'AF4', 'F7', 'F3', 'Fz', 'F4', 'F8', 'FT7', 'FC3', 'FCz', 'FC4', 'FT8', 'T7', 'C3', 'Cz', 'C4', 'T8', 'TP7', 'CP3', 'CPz', 'CP4', 'TP8', 'P7', 'P3', 'Pz', 'P4', 'P8', 'O1', 'Oz', 'O2']\n",
      "Lo-res channel list: ['Fp1', 'Fp2', 'AF3', 'AF4', 'F7', 'F3', 'Fz', 'F4', 'F8', 'FT7', 'FC3', 'FCz', 'FC4', 'FT8', 'T7', 'C3', 'Cz', 'C4', 'T8', 'TP7', 'CP3', 'CPz', 'CP4', 'TP8', 'P7', 'P3', 'Pz', 'P4', 'P8', 'O1', 'Oz', 'O2']\n",
      "Hi-res channel list: ['Fp1', 'AF7', 'AF3', 'F1', 'F3', 'F5', 'F7', 'FT7', 'FC5', 'FC3', 'FC1', 'C1', 'C3', 'C5', 'T7', 'TP7', 'CP5', 'CP3', 'CP1', 'P1', 'P3', 'P5', 'P7', 'P9', 'PO7', 'PO3', 'O1', 'Iz', 'Oz', 'POz', 'Pz', 'CPz', 'Fpz', 'Fp2', 'AF8', 'AF4', 'AFz', 'Fz', 'F2', 'F4', 'F6', 'F8', 'FT8', 'FC6', 'FC4', 'FC2', 'FCz', 'Cz', 'C2', 'C4', 'C6', 'T8', 'TP8', 'CP6', 'CP4', 'CP2', 'P2', 'P4', 'P6', 'P8', 'P10', 'PO8', 'PO4', 'O2']\n",
      "Available indices in hi_res: [0, 33, 2, 35, 6, 4, 37, 39, 41, 7, 9, 46, 44, 42, 14, 12, 47, 49, 51, 15, 17, 31, 54, 52, 22, 20, 30, 57, 59, 26, 28, 63]\n",
      "Available indices in lo_res: [0, 1, 2, 3, 4, 5, 6, 7, 8, 9, 10, 11, 12, 13, 14, 15, 16, 17, 18, 19, 20, 21, 22, 23, 24, 25, 26, 27, 28, 29, 30, 31]\n",
      "  Fp1: lo_idx=0 (Fp1), hi_idx=0 (Fp1)\n",
      "  Fp2: lo_idx=1 (Fp2), hi_idx=33 (Fp2)\n",
      "  AF3: lo_idx=2 (AF3), hi_idx=2 (AF3)\n",
      "  AF4: lo_idx=3 (AF4), hi_idx=35 (AF4)\n",
      "  F7: lo_idx=4 (F7), hi_idx=6 (F7)\n",
      "  F3: lo_idx=5 (F3), hi_idx=4 (F3)\n",
      "  Fz: lo_idx=6 (Fz), hi_idx=37 (Fz)\n",
      "  F4: lo_idx=7 (F4), hi_idx=39 (F4)\n",
      "  F8: lo_idx=8 (F8), hi_idx=41 (F8)\n",
      "  FT7: lo_idx=9 (FT7), hi_idx=7 (FT7)\n",
      "  FC3: lo_idx=10 (FC3), hi_idx=9 (FC3)\n",
      "  FCz: lo_idx=11 (FCz), hi_idx=46 (FCz)\n",
      "  FC4: lo_idx=12 (FC4), hi_idx=44 (FC4)\n",
      "  FT8: lo_idx=13 (FT8), hi_idx=42 (FT8)\n",
      "  T7: lo_idx=14 (T7), hi_idx=14 (T7)\n",
      "  C3: lo_idx=15 (C3), hi_idx=12 (C3)\n",
      "  Cz: lo_idx=16 (Cz), hi_idx=47 (Cz)\n",
      "  C4: lo_idx=17 (C4), hi_idx=49 (C4)\n",
      "  T8: lo_idx=18 (T8), hi_idx=51 (T8)\n",
      "  TP7: lo_idx=19 (TP7), hi_idx=15 (TP7)\n",
      "  CP3: lo_idx=20 (CP3), hi_idx=17 (CP3)\n",
      "  CPz: lo_idx=21 (CPz), hi_idx=31 (CPz)\n",
      "  CP4: lo_idx=22 (CP4), hi_idx=54 (CP4)\n",
      "  TP8: lo_idx=23 (TP8), hi_idx=52 (TP8)\n",
      "  P7: lo_idx=24 (P7), hi_idx=22 (P7)\n",
      "  P3: lo_idx=25 (P3), hi_idx=20 (P3)\n",
      "  Pz: lo_idx=26 (Pz), hi_idx=30 (Pz)\n",
      "  P4: lo_idx=27 (P4), hi_idx=57 (P4)\n",
      "  P8: lo_idx=28 (P8), hi_idx=59 (P8)\n",
      "  O1: lo_idx=29 (O1), hi_idx=26 (O1)\n",
      "  Oz: lo_idx=30 (Oz), hi_idx=28 (Oz)\n",
      "  O2: lo_idx=31 (O2), hi_idx=63 (O2)\n",
      "\n",
      "=== AVAILABLE CHANNEL VERIFICATION ===\n",
      "Fp1 (lo_idx=0, hi_idx=0):\n",
      "  Lo-res vs Hi-res (should be identical): MSE=0.00000000, Corr=1.000000\n",
      "  Super-res vs Hi-res: MSE=0.10226871, Corr=0.808785\n",
      "  Lo-res range: [-0.8471, 0.9082]\n",
      "  Hi-res range: [-0.8471, 0.9082]\n",
      "Fp2 (lo_idx=1, hi_idx=33):\n",
      "  Lo-res vs Hi-res (should be identical): MSE=0.67350638, Corr=-0.211152\n",
      "  Super-res vs Hi-res: MSE=0.02739531, Corr=0.664776\n",
      "  Lo-res range: [-2.4039, 1.6471]\n",
      "  Hi-res range: [-0.2591, 0.4120]\n",
      "AF3 (lo_idx=2, hi_idx=2):\n",
      "  Lo-res vs Hi-res (should be identical): MSE=0.25154689, Corr=0.915345\n",
      "  Super-res vs Hi-res: MSE=0.11950382, Corr=0.914494\n",
      "  Lo-res range: [-1.5121, 0.7712]\n",
      "  Hi-res range: [-2.4039, 1.6471]\n",
      "Logged best EEG epoch plot to wandb\n",
      "Missing channels (being super-resolved): ['AF7', 'F1', 'F5', 'FC5', 'FC1', 'C1', 'C5', 'CP5', 'CP1', 'P1', 'P5', 'P9', 'PO7', 'PO3', 'Iz', 'POz', 'Fpz', 'AF8', 'AFz', 'F2', 'F6', 'FC6', 'FC2', 'C2', 'C6', 'CP6', 'CP2', 'P2', 'P6', 'P10', 'PO8', 'PO4']\n",
      "Missing channel indices: [1, 3, 5, 8, 10, 11, 13, 16, 18, 19, 21, 23, 24, 25, 27, 29, 32, 34, 36, 38, 40, 43, 45, 48, 50, 53, 55, 56, 58, 60, 61, 62]\n",
      "Testing DataLoader 0: 100%|██████████| 10/10 [00:59<00:00,  0.17it/s]\n",
      "────────────────────────────────────────────────────────────────────────────────────────────────────────────────────────\n",
      "       Test metric             DataLoader 0\n",
      "────────────────────────────────────────────────────────────────────────────────────────────────────────────────────────\n",
      "        test_loss           17.112995147705078\n",
      "        test_mae            0.35854288935661316\n",
      "        test_mse            0.2468574345111847\n",
      "        test_nmse           0.5162146687507629\n",
      "      test_pearson          0.7732160687446594\n",
      "        test_snr            2.7484703063964844\n",
      "────────────────────────────────────────────────────────────────────────────────────────────────────────────────────────\n"
     ]
    },
    {
     "data": {
      "text/plain": [
       "[{'test_loss': 17.112995147705078,\n",
       "  'test_snr': 2.7484703063964844,\n",
       "  'test_mae': 0.35854288935661316,\n",
       "  'test_mse': 0.2468574345111847,\n",
       "  'test_nmse': 0.5162146687507629,\n",
       "  'test_pearson': 0.7732160687446594}]"
      ]
     },
     "execution_count": 5,
     "metadata": {},
     "output_type": "execute_result"
    }
   ],
   "source": [
    "lightning_model = SuperResolutionTrainerModel.load_from_checkpoint(checkpoint_path)\n",
    "\n",
    "results_callback = SuperResolutionPlottingCallback()\n",
    "\n",
    "logger = pl.loggers.WandbLogger(project=\"eeg_super_resolution\")\n",
    "\n",
    "trainer = pl.Trainer(\n",
    "    max_epochs=epochs,\n",
    "    callbacks=[results_callback],\n",
    "    logger=logger,\n",
    "    accelerator='gpu' if torch.cuda.is_available() else 'cpu',\n",
    "    devices=1\n",
    ")\n",
    "\n",
    "trainer.test(lightning_model, dm)"
   ]
  },
  {
   "cell_type": "code",
   "execution_count": 6,
   "id": "e1c3be64-1a31-4594-a8d1-b595e9905764",
   "metadata": {},
   "outputs": [
    {
     "data": {
      "text/html": [],
      "text/plain": [
       "<IPython.core.display.HTML object>"
      ]
     },
     "metadata": {},
     "output_type": "display_data"
    },
    {
     "data": {
      "text/html": [
       "<br>    <style><br>        .wandb-row {<br>            display: flex;<br>            flex-direction: row;<br>            flex-wrap: wrap;<br>            justify-content: flex-start;<br>            width: 100%;<br>        }<br>        .wandb-col {<br>            display: flex;<br>            flex-direction: column;<br>            flex-basis: 100%;<br>            flex: 1;<br>            padding: 10px;<br>        }<br>    </style><br><div class=\"wandb-row\"><div class=\"wandb-col\"><h3>Run history:</h3><br/><table class=\"wandb\"><tr><td>epoch</td><td>▁</td></tr><tr><td>test_loss</td><td>▁</td></tr><tr><td>test_mae</td><td>▁</td></tr><tr><td>test_mse</td><td>▁</td></tr><tr><td>test_nmse</td><td>▁</td></tr><tr><td>test_pearson</td><td>▁</td></tr><tr><td>test_snr</td><td>▁</td></tr><tr><td>trainer/global_step</td><td>▁▁▁▁▁▁▁</td></tr></table><br/></div><div class=\"wandb-col\"><h3>Run summary:</h3><br/><table class=\"wandb\"><tr><td>epoch</td><td>0</td></tr><tr><td>test_loss</td><td>17.113</td></tr><tr><td>test_mae</td><td>0.35854</td></tr><tr><td>test_mse</td><td>0.24686</td></tr><tr><td>test_nmse</td><td>0.51621</td></tr><tr><td>test_pearson</td><td>0.77322</td></tr><tr><td>test_snr</td><td>2.74847</td></tr><tr><td>trainer/global_step</td><td>0</td></tr></table><br/></div></div>"
      ],
      "text/plain": [
       "<IPython.core.display.HTML object>"
      ]
     },
     "metadata": {},
     "output_type": "display_data"
    },
    {
     "data": {
      "text/html": [
       " View run <strong style=\"color:#cdcd00\">noble-frog-12</strong> at: <a href='https://wandb.ai/dubs2310-cal-poly-pomona/eeg_super_resolution/runs/xrdpqrak' target=\"_blank\">https://wandb.ai/dubs2310-cal-poly-pomona/eeg_super_resolution/runs/xrdpqrak</a><br> View project at: <a href='https://wandb.ai/dubs2310-cal-poly-pomona/eeg_super_resolution' target=\"_blank\">https://wandb.ai/dubs2310-cal-poly-pomona/eeg_super_resolution</a><br>Synced 5 W&B file(s), 6 media file(s), 0 artifact file(s) and 0 other file(s)"
      ],
      "text/plain": [
       "<IPython.core.display.HTML object>"
      ]
     },
     "metadata": {},
     "output_type": "display_data"
    },
    {
     "data": {
      "text/html": [
       "Find logs at: <code>.\\wandb\\run-20250708_021729-xrdpqrak\\logs</code>"
      ],
      "text/plain": [
       "<IPython.core.display.HTML object>"
      ]
     },
     "metadata": {},
     "output_type": "display_data"
    }
   ],
   "source": [
    "if logger and isinstance(logger, pl.loggers.WandbLogger):\n",
    "    logger.finalize('success')\n",
    "    wandb.finish()"
   ]
  }
 ],
 "metadata": {
  "kernelspec": {
   "display_name": "env",
   "language": "python",
   "name": "python3"
  },
  "language_info": {
   "codemirror_mode": {
    "name": "ipython",
    "version": 3
   },
   "file_extension": ".py",
   "mimetype": "text/x-python",
   "name": "python",
   "nbconvert_exporter": "python",
   "pygments_lexer": "ipython3",
   "version": "3.11.9"
  }
 },
 "nbformat": 4,
 "nbformat_minor": 5
}
