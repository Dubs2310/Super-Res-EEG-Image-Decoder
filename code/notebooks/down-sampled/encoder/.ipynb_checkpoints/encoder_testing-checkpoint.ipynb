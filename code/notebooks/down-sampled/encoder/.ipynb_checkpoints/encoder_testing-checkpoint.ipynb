{
 "cells": [
  {
   "cell_type": "code",
   "execution_count": null,
   "id": "986c4776",
   "metadata": {},
   "outputs": [],
   "source": [
    "import sys\n",
    "import wandb\n",
    "import torch\n",
    "sys.path.append('../../')\n",
    "import pytorch_lightning as pl\n",
    "from utils.data_modules.contrastive import EEGContrastiveDataModule\n",
    "from models.trainers.contrastive import ContrastiveTrainerModel, PlottingCallback"
   ]
  },
  {
   "cell_type": "code",
   "execution_count": null,
   "id": "5fe0b6b4",
   "metadata": {},
   "outputs": [],
   "source": [
    "dm = EEGContrastiveDataModule(\n",
    "    input_channels=['Fp1', 'AF7', 'AF3', 'F1', 'F3', 'F5', 'F7', 'FT7', 'FC5', 'FC3', 'FC1', 'C1', 'C3', 'C5', 'T7', 'TP7', 'CP5', 'CP3', 'CP1', 'P1', 'P3', 'P5', 'P7', 'P9', 'PO7', 'PO3', 'O1', 'Iz', 'Oz', 'POz', 'Pz', 'CPz', 'Fpz', 'Fp2', 'AF8', 'AF4', 'AFz', 'Fz', 'F2', 'F4', 'F6', 'F8', 'FT8', 'FC6', 'FC4', 'FC2', 'FCz', 'Cz', 'C2', 'C4', 'C6', 'T8', 'TP8', 'CP6', 'CP4', 'CP2', 'P2', 'P4', 'P6', 'P8', 'P10', 'PO8', 'PO4', 'O2'],\n",
    "    sfreq=250,\n",
    "    montage='standard_1020',\n",
    "    window_before_event_ms=50,\n",
    "    window_after_event_ms=600,\n",
    "    subject=1, \n",
    "    session=1, \n",
    "    batch_size=64, \n",
    "    num_workers=4,\n",
    "    epochs_dir=\"/workspace/eeg-image-decoding/data/all-joined-1/eeg/lo-res-epochs\",\n",
    "    test='All'\n",
    ")"
   ]
  },
  {
   "cell_type": "code",
   "execution_count": null,
   "id": "b7ce8b65",
   "metadata": {},
   "outputs": [],
   "source": [
    "sample_data = dm.get_sample_info()\n",
    "epochs = 200\n",
    "subject = 1\n",
    "session = 1\n",
    "num_channels = sample_data['input']['num_channels']\n",
    "timesteps = sample_data['input']['num_timesteps']\n",
    "num_fine_labels = sample_data['output']['fine_labels_shape']"
   ]
  },
  {
   "cell_type": "code",
   "execution_count": null,
   "id": "2482d1b5",
   "metadata": {},
   "outputs": [],
   "source": [
    "checkpoint_path = \"/workspace/eeg-image-decoding/code/models/check_points/contrastive_encoder/subj1_session1_epoch=199.ckpt\""
   ]
  },
  {
   "cell_type": "code",
   "execution_count": null,
   "id": "777826d1",
   "metadata": {},
   "outputs": [],
   "source": [
    "lightning_model = ContrastiveTrainerModel.load_from_checkpoint(checkpoint_path, strict=False)\n",
    "\n",
    "results_callback = PlottingCallback()\n",
    "\n",
    "logger = pl.loggers.WandbLogger(project=\"lo_res_contrastive_eeg_net\")\n",
    "\n",
    "trainer = pl.Trainer(\n",
    "    max_epochs=epochs,\n",
    "    callbacks=[results_callback],\n",
    "    logger=logger,\n",
    "    accelerator='gpu' if torch.cuda.is_available() else 'cpu',\n",
    "    devices=1\n",
    ")\n",
    "\n",
    "trainer.test(lightning_model, dm)\n",
    "\n",
    "if logger and isinstance(logger, pl.loggers.WandbLogger):\n",
    "    logger.finalize('success')\n",
    "    wandb.finish()"
   ]
  }
 ],
 "metadata": {
  "kernelspec": {
   "display_name": "Python3 (ipykernel)",
   "language": "python",
   "name": "python3"
  },
  "language_info": {
   "codemirror_mode": {
    "name": "ipython",
    "version": 3
   },
   "file_extension": ".py",
   "mimetype": "text/x-python",
   "name": "python",
   "nbconvert_exporter": "python",
   "pygments_lexer": "ipython3",
   "version": "3.10.18"
  }
 },
 "nbformat": 4,
 "nbformat_minor": 5
}
