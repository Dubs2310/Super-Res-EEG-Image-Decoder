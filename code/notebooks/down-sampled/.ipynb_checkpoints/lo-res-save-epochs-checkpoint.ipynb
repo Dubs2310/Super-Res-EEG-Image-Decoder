{
 "cells": [
  {
   "cell_type": "code",
   "execution_count": null,
   "id": "1a773621-42c0-4dd3-a7ac-07bfc578f4fc",
   "metadata": {},
   "outputs": [],
   "source": [
    "import mne\n",
    "import numpy as np\n",
    "mne.set_log_level('WARNING')\n",
    "\n",
    "raw = mne.io.read_raw_fif(\"/workspace/eeg-image-decoding/data/all-joined-1/eeg/preprocessed/subj01_session1_eeg.fif\", preload=True)\n",
    "events = mne.find_events(raw)\n",
    "\n",
    "original_epochs = mne.Epochs(raw, events, tmin=-0.05, tmax=0.6, preload=True)\n",
    "original_epochs = original_epochs.resample(250)\n",
    "\n",
    "wanted_channels = ['Fp1', 'Fp2', 'AF3', 'AF4', 'F7', 'F3', 'Fz', 'F4', 'F8', 'FT7', 'FC3', 'FCz', 'FC4', 'FT8', 'T7', 'C3', 'Cz', 'C4', 'T8', 'TP7', 'CP3', 'CPz', 'CP4', 'TP8', 'P7', 'P3', 'Pz', 'P4', 'P8', 'O1', 'Oz', 'O2']\n",
    "channels_to_zero = [ch for ch in original_epochs.ch_names if ch not in wanted_channels]\n",
    "zero_indices = [original_epochs.ch_names.index(ch) for ch in channels_to_zero]\n",
    "\n",
    "data = original_epochs.get_data()\n",
    "data[:, zero_indices, :] = 0.0\n",
    "\n",
    "np.save('/workspace/eeg-image-decoding/data/all-joined-1/eeg/lo-res-epochs/650ms-250Hz/subj01_session1_epochs.npy', data)"
   ]
  }
 ],
 "metadata": {
  "kernelspec": {
   "display_name": "Python3 (ipykernel)",
   "language": "python",
   "name": "python3"
  },
  "language_info": {
   "codemirror_mode": {
    "name": "ipython",
    "version": 3
   },
   "file_extension": ".py",
   "mimetype": "text/x-python",
   "name": "python",
   "nbconvert_exporter": "python",
   "pygments_lexer": "ipython3",
   "version": "3.10.18"
  }
 },
 "nbformat": 4,
 "nbformat_minor": 5
}
