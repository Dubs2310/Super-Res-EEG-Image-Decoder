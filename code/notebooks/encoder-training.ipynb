{
 "cells": [
  {
   "cell_type": "code",
   "execution_count": null,
   "id": "986c4776",
   "metadata": {},
   "outputs": [
    {
     "name": "stderr",
     "output_type": "stream",
     "text": [
      "s:\\PolySecLabProjects\\eeg-image-decoding\\env\\Lib\\site-packages\\tqdm\\auto.py:21: TqdmWarning: IProgress not found. Please update jupyter and ipywidgets. See https://ipywidgets.readthedocs.io/en/stable/user_install.html\n",
      "  from .autonotebook import tqdm as notebook_tqdm\n"
     ]
    },
    {
     "name": "stdout",
     "output_type": "stream",
     "text": [
      "S:\\PolySecLabProjects\\eeg-image-decoding\\data\\all-joined-1\\eeg\\epochs\n"
     ]
    }
   ],
   "source": [
    "import sys\n",
    "import math\n",
    "import wandb\n",
    "import torch\n",
    "sys.path.append('..')\n",
    "import pytorch_lightning as pl\n",
    "from pytorch_lightning.callbacks import ModelCheckpoint\n",
    "from utils.data_modules.contrastive import EEGContrastiveDataModule\n",
    "from models.trainers.contrastive import ContrastiveTrainerModel, PlottingCallback"
   ]
  },
  {
   "cell_type": "code",
   "execution_count": 2,
   "id": "cb4f8703",
   "metadata": {},
   "outputs": [],
   "source": [
    "dm = EEGContrastiveDataModule(\n",
    "    input_channels=['Fp1', 'AF7', 'AF3', 'F1', 'F3', 'F5', 'F7', 'FT7', 'FC5', 'FC3', 'FC1', 'C1', 'C3', 'C5', 'T7', 'TP7', 'CP5', 'CP3', 'CP1', 'P1', 'P3', 'P5', 'P7', 'P9', 'PO7', 'PO3', 'O1', 'Iz', 'Oz', 'POz', 'Pz', 'CPz', 'Fpz', 'Fp2', 'AF8', 'AF4', 'AFz', 'Fz', 'F2', 'F4', 'F6', 'F8', 'FT8', 'FC6', 'FC4', 'FC2', 'FCz', 'Cz', 'C2', 'C4', 'C6', 'T8', 'TP8', 'CP6', 'CP4', 'CP2', 'P2', 'P4', 'P6', 'P8', 'P10', 'PO8', 'PO4', 'O2'],\n",
    "    sfreq=250,\n",
    "    montage='standard_1020',\n",
    "    window_before_event_ms=50,\n",
    "    window_after_event_ms=600,\n",
    "    subject=1, \n",
    "    session=1, \n",
    "    batch_size=32, \n",
    "    num_workers=4\n",
    ")"
   ]
  },
  {
   "cell_type": "code",
   "execution_count": 3,
   "id": "0e1fe4eb",
   "metadata": {},
   "outputs": [
    {
     "name": "stdout",
     "output_type": "stream",
     "text": [
      "Creating Datasets...\n",
      "Original dataframe size: 2879\n",
      "Original dataframe size: 320\n",
      "Original dataframe size: 640\n"
     ]
    }
   ],
   "source": [
    "sample_data = dm.get_sample_info()\n",
    "epochs = 1\n",
    "subject = 1\n",
    "session = 1\n",
    "num_channels = sample_data['input']['num_channels']\n",
    "timesteps = sample_data['input']['num_timesteps']\n",
    "num_fine_labels = sample_data['output']['fine_labels_shape']"
   ]
  },
  {
   "cell_type": "code",
   "execution_count": 4,
   "id": "54b3ee16",
   "metadata": {},
   "outputs": [
    {
     "name": "stderr",
     "output_type": "stream",
     "text": [
      "s:\\PolySecLabProjects\\eeg-image-decoding\\env\\Lib\\site-packages\\braindecode\\models\\base.py:23: UserWarning: EEGNetv4: 'in_chans' is depreciated. Use 'n_chans' instead.\n",
      "  warnings.warn(\n",
      "s:\\PolySecLabProjects\\eeg-image-decoding\\env\\Lib\\site-packages\\braindecode\\models\\base.py:23: UserWarning: EEGNetv4: 'n_classes' is depreciated. Use 'n_outputs' instead.\n",
      "  warnings.warn(\n",
      "s:\\PolySecLabProjects\\eeg-image-decoding\\env\\Lib\\site-packages\\braindecode\\models\\base.py:23: UserWarning: EEGNetv4: 'input_window_samples' is depreciated. Use 'n_times' instead.\n",
      "  warnings.warn(\n",
      "GPU available: True (cuda), used: True\n",
      "TPU available: False, using: 0 TPU cores\n",
      "HPU available: False, using: 0 HPUs\n",
      "You are using a CUDA device ('NVIDIA GeForce RTX 3070 Laptop GPU') that has Tensor Cores. To properly utilize them, you should set `torch.set_float32_matmul_precision('medium' | 'high')` which will trade-off precision for performance. For more details, read https://pytorch.org/docs/stable/generated/torch.set_float32_matmul_precision.html#torch.set_float32_matmul_precision\n",
      "\u001b[34m\u001b[1mwandb\u001b[0m: Currently logged in as: \u001b[33mdubs2310\u001b[0m (\u001b[33mdubs2310-cal-poly-pomona\u001b[0m) to \u001b[32mhttps://api.wandb.ai\u001b[0m. Use \u001b[1m`wandb login --relogin`\u001b[0m to force relogin\n"
     ]
    },
    {
     "data": {
      "text/html": [
       "Tracking run with wandb version 0.19.11"
      ],
      "text/plain": [
       "<IPython.core.display.HTML object>"
      ]
     },
     "metadata": {},
     "output_type": "display_data"
    },
    {
     "data": {
      "text/html": [
       "Run data is saved locally in <code>.\\wandb\\run-20250707_022742-7dq3epjk</code>"
      ],
      "text/plain": [
       "<IPython.core.display.HTML object>"
      ]
     },
     "metadata": {},
     "output_type": "display_data"
    },
    {
     "data": {
      "text/html": [
       "Syncing run <strong><a href='https://wandb.ai/dubs2310-cal-poly-pomona/contrastive_eeg_net/runs/7dq3epjk' target=\"_blank\">classic-sun-6</a></strong> to <a href='https://wandb.ai/dubs2310-cal-poly-pomona/contrastive_eeg_net' target=\"_blank\">Weights & Biases</a> (<a href='https://wandb.me/developer-guide' target=\"_blank\">docs</a>)<br>"
      ],
      "text/plain": [
       "<IPython.core.display.HTML object>"
      ]
     },
     "metadata": {},
     "output_type": "display_data"
    },
    {
     "data": {
      "text/html": [
       " View project at <a href='https://wandb.ai/dubs2310-cal-poly-pomona/contrastive_eeg_net' target=\"_blank\">https://wandb.ai/dubs2310-cal-poly-pomona/contrastive_eeg_net</a>"
      ],
      "text/plain": [
       "<IPython.core.display.HTML object>"
      ]
     },
     "metadata": {},
     "output_type": "display_data"
    },
    {
     "data": {
      "text/html": [
       " View run at <a href='https://wandb.ai/dubs2310-cal-poly-pomona/contrastive_eeg_net/runs/7dq3epjk' target=\"_blank\">https://wandb.ai/dubs2310-cal-poly-pomona/contrastive_eeg_net/runs/7dq3epjk</a>"
      ],
      "text/plain": [
       "<IPython.core.display.HTML object>"
      ]
     },
     "metadata": {},
     "output_type": "display_data"
    },
    {
     "name": "stdout",
     "output_type": "stream",
     "text": [
      "Creating Datasets...\n",
      "Original dataframe size: 2879\n",
      "Original dataframe size: 320\n"
     ]
    },
    {
     "name": "stderr",
     "output_type": "stream",
     "text": [
      "LOCAL_RANK: 0 - CUDA_VISIBLE_DEVICES: [0]\n",
      "\n",
      "   | Name                  | Type                      | Params | Mode \n",
      "-----------------------------------------------------------------------------\n",
      "0  | encoder               | EEGEncoderDefiner         | 859 K  | train\n",
      "1  | train_loss            | MeanMetric                | 0      | train\n",
      "2  | train_accuracy        | MultilabelAccuracy        | 0      | train\n",
      "3  | val_loss              | MeanMetric                | 0      | train\n",
      "4  | val_accuracy          | MultilabelAccuracy        | 0      | train\n",
      "5  | v2_acc                | MultilabelAccuracy        | 0      | train\n",
      "6  | v4_acc                | MultilabelAccuracy        | 0      | train\n",
      "7  | v10_acc               | MultilabelAccuracy        | 0      | train\n",
      "8  | v80_acc               | MultilabelAccuracy        | 0      | train\n",
      "9  | top5_acc              | MeanMetric                | 0      | train\n",
      "10 | test_precision        | MultilabelPrecision       | 0      | train\n",
      "11 | test_recall           | MultilabelRecall          | 0      | train\n",
      "12 | test_f1               | MultilabelF1Score         | 0      | train\n",
      "13 | test_auroc            | MultilabelAUROC           | 0      | train\n",
      "14 | test_confusion_matrix | MultilabelConfusionMatrix | 0      | train\n",
      "-----------------------------------------------------------------------------\n",
      "859 K     Trainable params\n",
      "0         Non-trainable params\n",
      "859 K     Total params\n",
      "3.437     Total estimated model params size (MB)\n",
      "36        Modules in train mode\n",
      "0         Modules in eval mode\n"
     ]
    },
    {
     "name": "stdout",
     "output_type": "stream",
     "text": [
      "Original dataframe size: 640\n",
      "                                                                           \r"
     ]
    },
    {
     "name": "stderr",
     "output_type": "stream",
     "text": [
      "s:\\PolySecLabProjects\\eeg-image-decoding\\env\\Lib\\site-packages\\torchmetrics\\utilities\\prints.py:43: UserWarning: The ``compute`` method of metric MeanMetric was called before the ``update`` method which may lead to errors, as metric states have not yet been updated.\n",
      "  warnings.warn(*args, **kwargs)\n",
      "s:\\PolySecLabProjects\\eeg-image-decoding\\env\\Lib\\site-packages\\torchmetrics\\utilities\\prints.py:43: UserWarning: The ``compute`` method of metric MultilabelAccuracy was called before the ``update`` method which may lead to errors, as metric states have not yet been updated.\n",
      "  warnings.warn(*args, **kwargs)\n"
     ]
    },
    {
     "name": "stdout",
     "output_type": "stream",
     "text": [
      "Epoch 0: 100%|██████████| 90/90 [03:35<00:00,  0.42it/s, v_num=epjk, val_loss=3.470, val_accuracy=0.0339]"
     ]
    },
    {
     "name": "stderr",
     "output_type": "stream",
     "text": [
      "`Trainer.fit` stopped: `max_epochs=1` reached.\n"
     ]
    },
    {
     "name": "stdout",
     "output_type": "stream",
     "text": [
      "No test predictions available for confusion matrix visualization\n",
      "Epoch 0: 100%|██████████| 90/90 [03:36<00:00,  0.42it/s, v_num=epjk, val_loss=3.470, val_accuracy=0.0339]\n"
     ]
    },
    {
     "data": {
      "text/html": [],
      "text/plain": [
       "<IPython.core.display.HTML object>"
      ]
     },
     "metadata": {},
     "output_type": "display_data"
    },
    {
     "data": {
      "text/html": [
       "<br>    <style><br>        .wandb-row {<br>            display: flex;<br>            flex-direction: row;<br>            flex-wrap: wrap;<br>            justify-content: flex-start;<br>            width: 100%;<br>        }<br>        .wandb-col {<br>            display: flex;<br>            flex-direction: column;<br>            flex-basis: 100%;<br>            flex: 1;<br>            padding: 10px;<br>        }<br>    </style><br><div class=\"wandb-row\"><div class=\"wandb-col\"><h3>Run history:</h3><br/><table class=\"wandb\"><tr><td>epoch</td><td>▁▁</td></tr><tr><td>top5_acc</td><td>▁</td></tr><tr><td>train_accuracy</td><td>▁</td></tr><tr><td>train_loss</td><td>▁</td></tr><tr><td>trainer/global_step</td><td>▁▁▁▁▁▁▁▁▁</td></tr><tr><td>v10_acc</td><td>▁</td></tr><tr><td>v2_acc</td><td>▁</td></tr><tr><td>v4_acc</td><td>▁</td></tr><tr><td>v80_acc</td><td>▁</td></tr><tr><td>val_accuracy</td><td>▁</td></tr><tr><td>val_loss</td><td>▁</td></tr></table><br/></div><div class=\"wandb-col\"><h3>Run summary:</h3><br/><table class=\"wandb\"><tr><td>epoch</td><td>0</td></tr><tr><td>top5_acc</td><td>0.09063</td></tr><tr><td>train_accuracy</td><td>0.66516</td></tr><tr><td>train_loss</td><td>3.71146</td></tr><tr><td>trainer/global_step</td><td>89</td></tr><tr><td>v10_acc</td><td>0.27094</td></tr><tr><td>v2_acc</td><td>0.86406</td></tr><tr><td>v4_acc</td><td>0.59922</td></tr><tr><td>v80_acc</td><td>0.03387</td></tr><tr><td>val_accuracy</td><td>0.03387</td></tr><tr><td>val_loss</td><td>3.46793</td></tr></table><br/></div></div>"
      ],
      "text/plain": [
       "<IPython.core.display.HTML object>"
      ]
     },
     "metadata": {},
     "output_type": "display_data"
    },
    {
     "data": {
      "text/html": [
       " View run <strong style=\"color:#cdcd00\">classic-sun-6</strong> at: <a href='https://wandb.ai/dubs2310-cal-poly-pomona/contrastive_eeg_net/runs/7dq3epjk' target=\"_blank\">https://wandb.ai/dubs2310-cal-poly-pomona/contrastive_eeg_net/runs/7dq3epjk</a><br> View project at: <a href='https://wandb.ai/dubs2310-cal-poly-pomona/contrastive_eeg_net' target=\"_blank\">https://wandb.ai/dubs2310-cal-poly-pomona/contrastive_eeg_net</a><br>Synced 5 W&B file(s), 7 media file(s), 0 artifact file(s) and 0 other file(s)"
      ],
      "text/plain": [
       "<IPython.core.display.HTML object>"
      ]
     },
     "metadata": {},
     "output_type": "display_data"
    },
    {
     "data": {
      "text/html": [
       "Find logs at: <code>.\\wandb\\run-20250707_022742-7dq3epjk\\logs</code>"
      ],
      "text/plain": [
       "<IPython.core.display.HTML object>"
      ]
     },
     "metadata": {},
     "output_type": "display_data"
    }
   ],
   "source": [
    "lightning_model = ContrastiveTrainerModel(num_channels, timesteps, num_fine_labels)\n",
    "    \n",
    "checkpoint_callback = ModelCheckpoint(\n",
    "    dirpath=\"S:\\\\PolySecLabProjects\\\\eeg-image-decoding\\\\updated-code\\\\models\\\\check_points\\\\contrastive_encoder\",\n",
    "    filename=f\"subj{subject}_session{session}_{{epoch}}\",\n",
    "    every_n_epochs=5,\n",
    "    save_top_k=-1\n",
    ")\n",
    "\n",
    "plotting_callback = PlottingCallback()\n",
    "\n",
    "logger = pl.loggers.WandbLogger(project=\"contrastive_eeg_net\")\n",
    "\n",
    "trainer = pl.Trainer(\n",
    "    max_epochs=epochs,\n",
    "    callbacks=[checkpoint_callback, plotting_callback],\n",
    "    logger=logger,\n",
    "    accelerator='gpu' if torch.cuda.is_available() else 'cpu',\n",
    "    devices=1\n",
    ")\n",
    "\n",
    "trainer.fit(lightning_model, dm)\n",
    "\n",
    "if logger and isinstance(logger, pl.loggers.WandbLogger):\n",
    "    logger.finalize('success')\n",
    "    wandb.finish()"
   ]
  },
  {
   "cell_type": "code",
   "execution_count": 5,
   "id": "81671b89",
   "metadata": {},
   "outputs": [
    {
     "data": {
      "text/plain": [
       "[{'epoch': 1,\n",
       "  'train_loss': 0,\n",
       "  'train_accuracy': 0,\n",
       "  'test_loss': 0,\n",
       "  'test_accuracy': 0,\n",
       "  'v2_acc': 0,\n",
       "  'v4_acc': 0,\n",
       "  'v10_acc': 0,\n",
       "  'v80_acc': 0}]"
      ]
     },
     "execution_count": 5,
     "metadata": {},
     "output_type": "execute_result"
    }
   ],
   "source": [
    "results = []\n",
    "for epoch in range(epochs):\n",
    "    if epoch < len(plotting_callback.train_losses):\n",
    "        epoch_results = {\n",
    "            \"epoch\": epoch + 1,\n",
    "            \"train_loss\": plotting_callback.train_losses[epoch],\n",
    "            \"train_accuracy\": plotting_callback.train_accuracies[epoch],\n",
    "            \"test_loss\": plotting_callback.test_losses[epoch],\n",
    "            \"test_accuracy\": plotting_callback.test_accuracies[epoch],\n",
    "            \"v2_acc\": plotting_callback.v2_accs[epoch],\n",
    "            \"v4_acc\": plotting_callback.v4_accs[epoch],\n",
    "            \"v10_acc\": plotting_callback.v10_accs[epoch],\n",
    "            \"v80_acc\": plotting_callback.v80_accs[epoch]\n",
    "        }\n",
    "        results.append(epoch_results)\n",
    "\n",
    "results"
   ]
  }
 ],
 "metadata": {
  "kernelspec": {
   "display_name": "env",
   "language": "python",
   "name": "python3"
  },
  "language_info": {
   "codemirror_mode": {
    "name": "ipython",
    "version": 3
   },
   "file_extension": ".py",
   "mimetype": "text/x-python",
   "name": "python",
   "nbconvert_exporter": "python",
   "pygments_lexer": "ipython3",
   "version": "3.11.9"
  }
 },
 "nbformat": 4,
 "nbformat_minor": 5
}
