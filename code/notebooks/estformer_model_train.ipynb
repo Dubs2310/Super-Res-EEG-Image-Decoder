{
 "cells": [
  {
   "cell_type": "code",
   "execution_count": 1,
   "id": "1b727e25",
   "metadata": {},
   "outputs": [],
   "source": [
    "import os\n",
    "import sys\n",
    "import pandas as pd\n",
    "from sklearn.model_selection import train_test_split\n",
    "\n",
    "sys.path.append(\"..\")\n",
    "from utils.epoch_data_generator import EpochDataGenerator, OutputType\n",
    "from models.ESTformer import ESTFormer"
   ]
  },
  {
   "cell_type": "code",
   "execution_count": 2,
   "id": "27c52853",
   "metadata": {},
   "outputs": [
    {
     "name": "stdout",
     "output_type": "stream",
     "text": [
      "Reading s:\\PolySecLabProjects\\eeg-image-decode\\code\\notebooks\\..\\..\\data\\things-eeg\\sub-47\\eeg\\sub-47_task-rsvp_eeg_epochs.fif ...\n"
     ]
    },
    {
     "name": "stderr",
     "output_type": "stream",
     "text": [
      "s:\\PolySecLabProjects\\eeg-image-decode\\code\\notebooks\\..\\utils\\epoch_data_generator.py:44: RuntimeWarning: This filename (..\\..\\data\\things-eeg\\sub-47\\eeg\\sub-47_task-rsvp_eeg_epochs.fif) does not conform to MNE naming conventions. All epochs files should end with -epo.fif, -epo.fif.gz, _epo.fif or _epo.fif.gz\n",
      "  epoch = mne.read_epochs(os.path.join(self.data_dir(), subject, \"eeg\", f\"{subject}_task-rsvp_eeg_epochs.fif\"))[epoch_index]\n"
     ]
    },
    {
     "name": "stdout",
     "output_type": "stream",
     "text": [
      "    Found the data of interest:\n",
      "        t =      -1.00 ...      51.00 ms\n",
      "        0 CTF compensation matrices available\n",
      "Not setting metadata\n",
      "24648 matching events found\n",
      "No baseline correction applied\n",
      "0 projection items activated\n",
      "Reading s:\\PolySecLabProjects\\eeg-image-decode\\code\\notebooks\\..\\..\\data\\things-eeg\\sub-47\\eeg\\sub-47_task-rsvp_eeg_epochs.fif ...\n"
     ]
    },
    {
     "name": "stderr",
     "output_type": "stream",
     "text": [
      "s:\\PolySecLabProjects\\eeg-image-decode\\code\\notebooks\\..\\utils\\epoch_data_generator.py:53: RuntimeWarning: This filename (..\\..\\data\\things-eeg\\sub-47\\eeg\\sub-47_task-rsvp_eeg_epochs.fif) does not conform to MNE naming conventions. All epochs files should end with -epo.fif, -epo.fif.gz, _epo.fif or _epo.fif.gz\n",
      "  out = mne.read_epochs(os.path.join(self.data_dir(), subject, \"eeg\", f\"{subject}_task-rsvp_eeg_epochs.fif\"))[epoch_index].get_data()\n"
     ]
    },
    {
     "name": "stdout",
     "output_type": "stream",
     "text": [
      "    Found the data of interest:\n",
      "        t =      -1.00 ...      51.00 ms\n",
      "        0 CTF compensation matrices available\n",
      "Not setting metadata\n",
      "24648 matching events found\n",
      "No baseline correction applied\n",
      "0 projection items activated\n",
      "Reading s:\\PolySecLabProjects\\eeg-image-decode\\code\\notebooks\\..\\..\\data\\things-eeg\\sub-32\\eeg\\sub-32_task-rsvp_eeg_epochs.fif ...\n"
     ]
    },
    {
     "name": "stderr",
     "output_type": "stream",
     "text": [
      "s:\\PolySecLabProjects\\eeg-image-decode\\code\\notebooks\\..\\utils\\epoch_data_generator.py:44: RuntimeWarning: This filename (..\\..\\data\\things-eeg\\sub-32\\eeg\\sub-32_task-rsvp_eeg_epochs.fif) does not conform to MNE naming conventions. All epochs files should end with -epo.fif, -epo.fif.gz, _epo.fif or _epo.fif.gz\n",
      "  epoch = mne.read_epochs(os.path.join(self.data_dir(), subject, \"eeg\", f\"{subject}_task-rsvp_eeg_epochs.fif\"))[epoch_index]\n"
     ]
    },
    {
     "name": "stdout",
     "output_type": "stream",
     "text": [
      "    Found the data of interest:\n",
      "        t =      -1.00 ...      51.00 ms\n",
      "        0 CTF compensation matrices available\n",
      "Not setting metadata\n",
      "24648 matching events found\n",
      "No baseline correction applied\n",
      "0 projection items activated\n",
      "Reading s:\\PolySecLabProjects\\eeg-image-decode\\code\\notebooks\\..\\..\\data\\things-eeg\\sub-32\\eeg\\sub-32_task-rsvp_eeg_epochs.fif ...\n"
     ]
    },
    {
     "name": "stderr",
     "output_type": "stream",
     "text": [
      "s:\\PolySecLabProjects\\eeg-image-decode\\code\\notebooks\\..\\utils\\epoch_data_generator.py:53: RuntimeWarning: This filename (..\\..\\data\\things-eeg\\sub-32\\eeg\\sub-32_task-rsvp_eeg_epochs.fif) does not conform to MNE naming conventions. All epochs files should end with -epo.fif, -epo.fif.gz, _epo.fif or _epo.fif.gz\n",
      "  out = mne.read_epochs(os.path.join(self.data_dir(), subject, \"eeg\", f\"{subject}_task-rsvp_eeg_epochs.fif\"))[epoch_index].get_data()\n"
     ]
    },
    {
     "name": "stdout",
     "output_type": "stream",
     "text": [
      "    Found the data of interest:\n",
      "        t =      -1.00 ...      51.00 ms\n",
      "        0 CTF compensation matrices available\n",
      "Not setting metadata\n",
      "24648 matching events found\n",
      "No baseline correction applied\n",
      "0 projection items activated\n",
      "Reading s:\\PolySecLabProjects\\eeg-image-decode\\code\\notebooks\\..\\..\\data\\things-eeg\\sub-30\\eeg\\sub-30_task-rsvp_eeg_epochs.fif ...\n"
     ]
    },
    {
     "name": "stderr",
     "output_type": "stream",
     "text": [
      "s:\\PolySecLabProjects\\eeg-image-decode\\code\\notebooks\\..\\utils\\epoch_data_generator.py:44: RuntimeWarning: This filename (..\\..\\data\\things-eeg\\sub-30\\eeg\\sub-30_task-rsvp_eeg_epochs.fif) does not conform to MNE naming conventions. All epochs files should end with -epo.fif, -epo.fif.gz, _epo.fif or _epo.fif.gz\n",
      "  epoch = mne.read_epochs(os.path.join(self.data_dir(), subject, \"eeg\", f\"{subject}_task-rsvp_eeg_epochs.fif\"))[epoch_index]\n"
     ]
    },
    {
     "name": "stdout",
     "output_type": "stream",
     "text": [
      "    Found the data of interest:\n",
      "        t =      -1.00 ...      51.00 ms\n",
      "        0 CTF compensation matrices available\n",
      "Not setting metadata\n",
      "24648 matching events found\n",
      "No baseline correction applied\n",
      "0 projection items activated\n",
      "Reading s:\\PolySecLabProjects\\eeg-image-decode\\code\\notebooks\\..\\..\\data\\things-eeg\\sub-30\\eeg\\sub-30_task-rsvp_eeg_epochs.fif ...\n"
     ]
    },
    {
     "name": "stderr",
     "output_type": "stream",
     "text": [
      "s:\\PolySecLabProjects\\eeg-image-decode\\code\\notebooks\\..\\utils\\epoch_data_generator.py:53: RuntimeWarning: This filename (..\\..\\data\\things-eeg\\sub-30\\eeg\\sub-30_task-rsvp_eeg_epochs.fif) does not conform to MNE naming conventions. All epochs files should end with -epo.fif, -epo.fif.gz, _epo.fif or _epo.fif.gz\n",
      "  out = mne.read_epochs(os.path.join(self.data_dir(), subject, \"eeg\", f\"{subject}_task-rsvp_eeg_epochs.fif\"))[epoch_index].get_data()\n"
     ]
    },
    {
     "name": "stdout",
     "output_type": "stream",
     "text": [
      "    Found the data of interest:\n",
      "        t =      -1.00 ...      51.00 ms\n",
      "        0 CTF compensation matrices available\n",
      "Not setting metadata\n",
      "24648 matching events found\n",
      "No baseline correction applied\n",
      "0 projection items activated\n"
     ]
    }
   ],
   "source": [
    "channel_names = ['AF3', 'F7', 'F3', 'FC5', 'T7', 'P7', 'O1', 'O2', 'P8', 'T8', 'FC6', 'F4', 'F8', 'AF4']\n",
    "\n",
    "participants_file = os.path.join(EpochDataGenerator.data_dir(), \"participants.tsv\")\n",
    "participants_df = pd.read_csv(participants_file, sep=\"\\t\")\n",
    "subjects = participants_df.loc[participants_df[\"exclude\"] == 0, \"participant_id\"].to_list()\n",
    "\n",
    "subject_epoch_coordinates = [[subject, coordinate] for subject in subjects for coordinate in range(24648)]\n",
    "\n",
    "train_coordinates, test_coordinates = train_test_split(subject_epoch_coordinates, test_size=0.3, random_state=42)\n",
    "test_coordinates, valiation_coordinates = train_test_split(test_coordinates, test_size=0.66, random_state=42)\n",
    "\n",
    "train_generator = EpochDataGenerator(train_coordinates, channel_names, output_type=OutputType.ALL_CHANNELS)\n",
    "test_generator = EpochDataGenerator(test_coordinates, channel_names, output_type=OutputType.ALL_CHANNELS)\n",
    "validation_coordinates = EpochDataGenerator(valiation_coordinates, channel_names, output_type=OutputType.ALL_CHANNELS)"
   ]
  },
  {
   "cell_type": "code",
   "execution_count": 4,
   "id": "841c5e8d",
   "metadata": {},
   "outputs": [
    {
     "data": {
      "text/plain": [
       "((793665, 14, 53), (115648, 14, 53), (224495, 14, 53))"
      ]
     },
     "execution_count": 4,
     "metadata": {},
     "output_type": "execute_result"
    }
   ],
   "source": [
    "train_generator.get_input_shape(), test_generator.get_input_shape(), validation_coordinates.get_input_shape()"
   ]
  },
  {
   "cell_type": "code",
   "execution_count": 5,
   "id": "b4b06645",
   "metadata": {},
   "outputs": [
    {
     "data": {
      "text/plain": [
       "((793665, 63, 53), (115648, 63, 53), (224495, 63, 53))"
      ]
     },
     "execution_count": 5,
     "metadata": {},
     "output_type": "execute_result"
    }
   ],
   "source": [
    "train_generator.get_output_shape(), test_generator.get_output_shape(), validation_coordinates.get_output_shape()"
   ]
  },
  {
   "cell_type": "code",
   "execution_count": 6,
   "id": "de3a56f3",
   "metadata": {},
   "outputs": [
    {
     "data": {
      "text/html": [
       "<pre style=\"white-space:pre;overflow-x:auto;line-height:normal;font-family:Menlo,'DejaVu Sans Mono',consolas,'Courier New',monospace\"><span style=\"font-weight: bold\">Model: \"ESTFormer\"</span>\n",
       "</pre>\n"
      ],
      "text/plain": [
       "\u001b[1mModel: \"ESTFormer\"\u001b[0m\n"
      ]
     },
     "metadata": {},
     "output_type": "display_data"
    },
    {
     "data": {
      "text/html": [
       "<pre style=\"white-space:pre;overflow-x:auto;line-height:normal;font-family:Menlo,'DejaVu Sans Mono',consolas,'Courier New',monospace\">┏━━━━━━━━━━━━━━━━━━━━━┳━━━━━━━━━━━━━━━━━━━┳━━━━━━━━━━━━┳━━━━━━━━━━━━━━━━━━━┓\n",
       "┃<span style=\"font-weight: bold\"> Layer (type)        </span>┃<span style=\"font-weight: bold\"> Output Shape      </span>┃<span style=\"font-weight: bold\">    Param # </span>┃<span style=\"font-weight: bold\"> Connected to      </span>┃\n",
       "┡━━━━━━━━━━━━━━━━━━━━━╇━━━━━━━━━━━━━━━━━━━╇━━━━━━━━━━━━╇━━━━━━━━━━━━━━━━━━━┩\n",
       "│ input_layer         │ (<span style=\"color: #00d7ff; text-decoration-color: #00d7ff\">None</span>, <span style=\"color: #00af00; text-decoration-color: #00af00\">14</span>, <span style=\"color: #00af00; text-decoration-color: #00af00\">53</span>)    │          <span style=\"color: #00af00; text-decoration-color: #00af00\">0</span> │ -                 │\n",
       "│ (<span style=\"color: #0087ff; text-decoration-color: #0087ff\">InputLayer</span>)        │                   │            │                   │\n",
       "├─────────────────────┼───────────────────┼────────────┼───────────────────┤\n",
       "│ ESTFormer_SIM       │ (<span style=\"color: #00d7ff; text-decoration-color: #00d7ff\">None</span>, <span style=\"color: #00af00; text-decoration-color: #00af00\">63</span>, <span style=\"color: #00af00; text-decoration-color: #00af00\">53</span>)    │    <span style=\"color: #00af00; text-decoration-color: #00af00\">334,697</span> │ input_layer[<span style=\"color: #00af00; text-decoration-color: #00af00\">0</span>][<span style=\"color: #00af00; text-decoration-color: #00af00\">0</span>] │\n",
       "│ (<span style=\"color: #0087ff; text-decoration-color: #0087ff\">Functional</span>)        │                   │            │                   │\n",
       "├─────────────────────┼───────────────────┼────────────┼───────────────────┤\n",
       "│ ESTFormer_TRM       │ (<span style=\"color: #00d7ff; text-decoration-color: #00d7ff\">None</span>, <span style=\"color: #00af00; text-decoration-color: #00af00\">63</span>, <span style=\"color: #00af00; text-decoration-color: #00af00\">53</span>)    │    <span style=\"color: #00af00; text-decoration-color: #00af00\">159,891</span> │ ESTFormer_SIM[<span style=\"color: #00af00; text-decoration-color: #00af00\">0</span>]… │\n",
       "│ (<span style=\"color: #0087ff; text-decoration-color: #0087ff\">Functional</span>)        │                   │            │                   │\n",
       "├─────────────────────┼───────────────────┼────────────┼───────────────────┤\n",
       "│ add_36 (<span style=\"color: #0087ff; text-decoration-color: #0087ff\">Add</span>)        │ (<span style=\"color: #00d7ff; text-decoration-color: #00d7ff\">None</span>, <span style=\"color: #00af00; text-decoration-color: #00af00\">63</span>, <span style=\"color: #00af00; text-decoration-color: #00af00\">53</span>)    │          <span style=\"color: #00af00; text-decoration-color: #00af00\">0</span> │ ESTFormer_SIM[<span style=\"color: #00af00; text-decoration-color: #00af00\">0</span>]… │\n",
       "│                     │                   │            │ ESTFormer_TRM[<span style=\"color: #00af00; text-decoration-color: #00af00\">0</span>]… │\n",
       "└─────────────────────┴───────────────────┴────────────┴───────────────────┘\n",
       "</pre>\n"
      ],
      "text/plain": [
       "┏━━━━━━━━━━━━━━━━━━━━━┳━━━━━━━━━━━━━━━━━━━┳━━━━━━━━━━━━┳━━━━━━━━━━━━━━━━━━━┓\n",
       "┃\u001b[1m \u001b[0m\u001b[1mLayer (type)       \u001b[0m\u001b[1m \u001b[0m┃\u001b[1m \u001b[0m\u001b[1mOutput Shape     \u001b[0m\u001b[1m \u001b[0m┃\u001b[1m \u001b[0m\u001b[1m   Param #\u001b[0m\u001b[1m \u001b[0m┃\u001b[1m \u001b[0m\u001b[1mConnected to     \u001b[0m\u001b[1m \u001b[0m┃\n",
       "┡━━━━━━━━━━━━━━━━━━━━━╇━━━━━━━━━━━━━━━━━━━╇━━━━━━━━━━━━╇━━━━━━━━━━━━━━━━━━━┩\n",
       "│ input_layer         │ (\u001b[38;5;45mNone\u001b[0m, \u001b[38;5;34m14\u001b[0m, \u001b[38;5;34m53\u001b[0m)    │          \u001b[38;5;34m0\u001b[0m │ -                 │\n",
       "│ (\u001b[38;5;33mInputLayer\u001b[0m)        │                   │            │                   │\n",
       "├─────────────────────┼───────────────────┼────────────┼───────────────────┤\n",
       "│ ESTFormer_SIM       │ (\u001b[38;5;45mNone\u001b[0m, \u001b[38;5;34m63\u001b[0m, \u001b[38;5;34m53\u001b[0m)    │    \u001b[38;5;34m334,697\u001b[0m │ input_layer[\u001b[38;5;34m0\u001b[0m][\u001b[38;5;34m0\u001b[0m] │\n",
       "│ (\u001b[38;5;33mFunctional\u001b[0m)        │                   │            │                   │\n",
       "├─────────────────────┼───────────────────┼────────────┼───────────────────┤\n",
       "│ ESTFormer_TRM       │ (\u001b[38;5;45mNone\u001b[0m, \u001b[38;5;34m63\u001b[0m, \u001b[38;5;34m53\u001b[0m)    │    \u001b[38;5;34m159,891\u001b[0m │ ESTFormer_SIM[\u001b[38;5;34m0\u001b[0m]… │\n",
       "│ (\u001b[38;5;33mFunctional\u001b[0m)        │                   │            │                   │\n",
       "├─────────────────────┼───────────────────┼────────────┼───────────────────┤\n",
       "│ add_36 (\u001b[38;5;33mAdd\u001b[0m)        │ (\u001b[38;5;45mNone\u001b[0m, \u001b[38;5;34m63\u001b[0m, \u001b[38;5;34m53\u001b[0m)    │          \u001b[38;5;34m0\u001b[0m │ ESTFormer_SIM[\u001b[38;5;34m0\u001b[0m]… │\n",
       "│                     │                   │            │ ESTFormer_TRM[\u001b[38;5;34m0\u001b[0m]… │\n",
       "└─────────────────────┴───────────────────┴────────────┴───────────────────┘\n"
      ]
     },
     "metadata": {},
     "output_type": "display_data"
    },
    {
     "data": {
      "text/html": [
       "<pre style=\"white-space:pre;overflow-x:auto;line-height:normal;font-family:Menlo,'DejaVu Sans Mono',consolas,'Courier New',monospace\"><span style=\"font-weight: bold\"> Total params: </span><span style=\"color: #00af00; text-decoration-color: #00af00\">494,588</span> (1.89 MB)\n",
       "</pre>\n"
      ],
      "text/plain": [
       "\u001b[1m Total params: \u001b[0m\u001b[38;5;34m494,588\u001b[0m (1.89 MB)\n"
      ]
     },
     "metadata": {},
     "output_type": "display_data"
    },
    {
     "data": {
      "text/html": [
       "<pre style=\"white-space:pre;overflow-x:auto;line-height:normal;font-family:Menlo,'DejaVu Sans Mono',consolas,'Courier New',monospace\"><span style=\"font-weight: bold\"> Trainable params: </span><span style=\"color: #00af00; text-decoration-color: #00af00\">494,588</span> (1.89 MB)\n",
       "</pre>\n"
      ],
      "text/plain": [
       "\u001b[1m Trainable params: \u001b[0m\u001b[38;5;34m494,588\u001b[0m (1.89 MB)\n"
      ]
     },
     "metadata": {},
     "output_type": "display_data"
    },
    {
     "data": {
      "text/html": [
       "<pre style=\"white-space:pre;overflow-x:auto;line-height:normal;font-family:Menlo,'DejaVu Sans Mono',consolas,'Courier New',monospace\"><span style=\"font-weight: bold\"> Non-trainable params: </span><span style=\"color: #00af00; text-decoration-color: #00af00\">0</span> (0.00 B)\n",
       "</pre>\n"
      ],
      "text/plain": [
       "\u001b[1m Non-trainable params: \u001b[0m\u001b[38;5;34m0\u001b[0m (0.00 B)\n"
      ]
     },
     "metadata": {},
     "output_type": "display_data"
    }
   ],
   "source": [
    "high_res_ch_names = ['Fp1', 'Fz', 'F3', 'F7', 'FT9', 'FC5', 'FC1', 'C3', 'T7', 'TP9', 'CP5', 'CP1', 'Pz', 'P3', 'P7', 'O1', 'Oz', 'O2', 'P4', 'P8', 'TP10', 'CP6', 'CP2', 'C4', 'T8', 'FT10', 'FC6', 'FC2', 'F4', 'F8', 'Fp2', 'AF7', 'AF3', 'AFz', 'F1', 'F5', 'FT7', 'FC3', 'C1', 'C5', 'TP7', 'CP3', 'P1', 'P5', 'PO7', 'PO3', 'POz', 'PO4', 'PO8', 'P6', 'P2', 'CPz', 'CP4', 'TP8', 'C6', 'C2', 'FC4', 'FT8', 'F6', 'AF8', 'AF4', 'F2', 'FCz']\n",
    "low_res_ch_names = ['AF3', 'F7', 'F3', 'FC5', 'T7', 'P7', 'O1', 'O2', 'P8', 'T8', 'FC6', 'F4', 'F8', 'AF4']\n",
    "builtin_montage = 'standard_1020'\n",
    "time_steps = 53\n",
    "d_model = 60\n",
    "num_heads = 4\n",
    "mlp_dim = 128\n",
    "dropout_rate = 0.1\n",
    "Ls = 1\n",
    "Lt = 1\n",
    "\n",
    "model = ESTFormer(\n",
    "    low_res_ch_names=low_res_ch_names,\n",
    "    high_res_ch_names=high_res_ch_names,\n",
    "    builtin_montage=builtin_montage,\n",
    "    time_steps=time_steps,\n",
    "    d_model=d_model,\n",
    "    num_heads=num_heads,\n",
    "    mlp_dim=mlp_dim,\n",
    "    dropout_rate=dropout_rate,\n",
    "    Ls=Ls,\n",
    "    Lt=Lt\n",
    ")\n",
    "\n",
    "model.summary()"
   ]
  }
 ],
 "metadata": {
  "kernelspec": {
   "display_name": "env",
   "language": "python",
   "name": "python3"
  },
  "language_info": {
   "codemirror_mode": {
    "name": "ipython",
    "version": 3
   },
   "file_extension": ".py",
   "mimetype": "text/x-python",
   "name": "python",
   "nbconvert_exporter": "python",
   "pygments_lexer": "ipython3",
   "version": "3.11.9"
  }
 },
 "nbformat": 4,
 "nbformat_minor": 5
}
