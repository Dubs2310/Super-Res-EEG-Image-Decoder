{
 "cells": [
  {
   "cell_type": "code",
   "execution_count": 1,
   "id": "1b727e25",
   "metadata": {},
   "outputs": [],
   "source": [
    "import os\n",
    "import sys\n",
    "import pandas as pd\n",
    "from sklearn.model_selection import train_test_split\n",
    "\n",
    "sys.path.append(\"..\")\n",
    "from utils.epoch_data_generator import EpochDataGenerator, OutputType\n",
    "from models.ESTformer import build_estformer_model"
   ]
  },
  {
   "cell_type": "code",
   "execution_count": 2,
   "id": "27c52853",
   "metadata": {},
   "outputs": [
    {
     "name": "stdout",
     "output_type": "stream",
     "text": [
      "Reading s:\\PolySecLabProjects\\eeg-image-decode\\code\\notebooks\\..\\..\\data\\things-eeg\\sub-47\\eeg\\sub-47_task-rsvp_eeg_epochs.fif ...\n"
     ]
    },
    {
     "name": "stderr",
     "output_type": "stream",
     "text": [
      "s:\\PolySecLabProjects\\eeg-image-decode\\code\\notebooks\\..\\utils\\epoch_data_generator.py:44: RuntimeWarning: This filename (..\\..\\data\\things-eeg\\sub-47\\eeg\\sub-47_task-rsvp_eeg_epochs.fif) does not conform to MNE naming conventions. All epochs files should end with -epo.fif, -epo.fif.gz, _epo.fif or _epo.fif.gz\n",
      "  epoch = mne.read_epochs(os.path.join(self.data_dir(), subject, \"eeg\", f\"{subject}_task-rsvp_eeg_epochs.fif\"))[epoch_index]\n"
     ]
    },
    {
     "name": "stdout",
     "output_type": "stream",
     "text": [
      "    Found the data of interest:\n",
      "        t =      -1.00 ...      51.00 ms\n",
      "        0 CTF compensation matrices available\n",
      "Not setting metadata\n",
      "24648 matching events found\n",
      "No baseline correction applied\n",
      "0 projection items activated\n",
      "Reading s:\\PolySecLabProjects\\eeg-image-decode\\code\\notebooks\\..\\..\\data\\things-eeg\\sub-47\\eeg\\sub-47_task-rsvp_eeg_epochs.fif ...\n"
     ]
    },
    {
     "name": "stderr",
     "output_type": "stream",
     "text": [
      "s:\\PolySecLabProjects\\eeg-image-decode\\code\\notebooks\\..\\utils\\epoch_data_generator.py:53: RuntimeWarning: This filename (..\\..\\data\\things-eeg\\sub-47\\eeg\\sub-47_task-rsvp_eeg_epochs.fif) does not conform to MNE naming conventions. All epochs files should end with -epo.fif, -epo.fif.gz, _epo.fif or _epo.fif.gz\n",
      "  out = mne.read_epochs(os.path.join(self.data_dir(), subject, \"eeg\", f\"{subject}_task-rsvp_eeg_epochs.fif\"))[epoch_index].get_data()\n"
     ]
    },
    {
     "name": "stdout",
     "output_type": "stream",
     "text": [
      "    Found the data of interest:\n",
      "        t =      -1.00 ...      51.00 ms\n",
      "        0 CTF compensation matrices available\n",
      "Not setting metadata\n",
      "24648 matching events found\n",
      "No baseline correction applied\n",
      "0 projection items activated\n",
      "Reading s:\\PolySecLabProjects\\eeg-image-decode\\code\\notebooks\\..\\..\\data\\things-eeg\\sub-32\\eeg\\sub-32_task-rsvp_eeg_epochs.fif ...\n"
     ]
    },
    {
     "name": "stderr",
     "output_type": "stream",
     "text": [
      "s:\\PolySecLabProjects\\eeg-image-decode\\code\\notebooks\\..\\utils\\epoch_data_generator.py:44: RuntimeWarning: This filename (..\\..\\data\\things-eeg\\sub-32\\eeg\\sub-32_task-rsvp_eeg_epochs.fif) does not conform to MNE naming conventions. All epochs files should end with -epo.fif, -epo.fif.gz, _epo.fif or _epo.fif.gz\n",
      "  epoch = mne.read_epochs(os.path.join(self.data_dir(), subject, \"eeg\", f\"{subject}_task-rsvp_eeg_epochs.fif\"))[epoch_index]\n"
     ]
    },
    {
     "name": "stdout",
     "output_type": "stream",
     "text": [
      "    Found the data of interest:\n",
      "        t =      -1.00 ...      51.00 ms\n",
      "        0 CTF compensation matrices available\n",
      "Not setting metadata\n",
      "24648 matching events found\n",
      "No baseline correction applied\n",
      "0 projection items activated\n",
      "Reading s:\\PolySecLabProjects\\eeg-image-decode\\code\\notebooks\\..\\..\\data\\things-eeg\\sub-32\\eeg\\sub-32_task-rsvp_eeg_epochs.fif ...\n"
     ]
    },
    {
     "name": "stderr",
     "output_type": "stream",
     "text": [
      "s:\\PolySecLabProjects\\eeg-image-decode\\code\\notebooks\\..\\utils\\epoch_data_generator.py:53: RuntimeWarning: This filename (..\\..\\data\\things-eeg\\sub-32\\eeg\\sub-32_task-rsvp_eeg_epochs.fif) does not conform to MNE naming conventions. All epochs files should end with -epo.fif, -epo.fif.gz, _epo.fif or _epo.fif.gz\n",
      "  out = mne.read_epochs(os.path.join(self.data_dir(), subject, \"eeg\", f\"{subject}_task-rsvp_eeg_epochs.fif\"))[epoch_index].get_data()\n"
     ]
    },
    {
     "name": "stdout",
     "output_type": "stream",
     "text": [
      "    Found the data of interest:\n",
      "        t =      -1.00 ...      51.00 ms\n",
      "        0 CTF compensation matrices available\n",
      "Not setting metadata\n",
      "24648 matching events found\n",
      "No baseline correction applied\n",
      "0 projection items activated\n",
      "Reading s:\\PolySecLabProjects\\eeg-image-decode\\code\\notebooks\\..\\..\\data\\things-eeg\\sub-30\\eeg\\sub-30_task-rsvp_eeg_epochs.fif ...\n"
     ]
    },
    {
     "name": "stderr",
     "output_type": "stream",
     "text": [
      "s:\\PolySecLabProjects\\eeg-image-decode\\code\\notebooks\\..\\utils\\epoch_data_generator.py:44: RuntimeWarning: This filename (..\\..\\data\\things-eeg\\sub-30\\eeg\\sub-30_task-rsvp_eeg_epochs.fif) does not conform to MNE naming conventions. All epochs files should end with -epo.fif, -epo.fif.gz, _epo.fif or _epo.fif.gz\n",
      "  epoch = mne.read_epochs(os.path.join(self.data_dir(), subject, \"eeg\", f\"{subject}_task-rsvp_eeg_epochs.fif\"))[epoch_index]\n"
     ]
    },
    {
     "name": "stdout",
     "output_type": "stream",
     "text": [
      "    Found the data of interest:\n",
      "        t =      -1.00 ...      51.00 ms\n",
      "        0 CTF compensation matrices available\n",
      "Not setting metadata\n",
      "24648 matching events found\n",
      "No baseline correction applied\n",
      "0 projection items activated\n",
      "Reading s:\\PolySecLabProjects\\eeg-image-decode\\code\\notebooks\\..\\..\\data\\things-eeg\\sub-30\\eeg\\sub-30_task-rsvp_eeg_epochs.fif ...\n"
     ]
    },
    {
     "name": "stderr",
     "output_type": "stream",
     "text": [
      "s:\\PolySecLabProjects\\eeg-image-decode\\code\\notebooks\\..\\utils\\epoch_data_generator.py:53: RuntimeWarning: This filename (..\\..\\data\\things-eeg\\sub-30\\eeg\\sub-30_task-rsvp_eeg_epochs.fif) does not conform to MNE naming conventions. All epochs files should end with -epo.fif, -epo.fif.gz, _epo.fif or _epo.fif.gz\n",
      "  out = mne.read_epochs(os.path.join(self.data_dir(), subject, \"eeg\", f\"{subject}_task-rsvp_eeg_epochs.fif\"))[epoch_index].get_data()\n"
     ]
    },
    {
     "name": "stdout",
     "output_type": "stream",
     "text": [
      "    Found the data of interest:\n",
      "        t =      -1.00 ...      51.00 ms\n",
      "        0 CTF compensation matrices available\n",
      "Not setting metadata\n",
      "24648 matching events found\n",
      "No baseline correction applied\n",
      "0 projection items activated\n"
     ]
    }
   ],
   "source": [
    "channel_names = ['AF3', 'F7', 'F3', 'FC5', 'T7', 'P7', 'O1', 'O2', 'P8', 'T8', 'FC6', 'F4', 'F8', 'AF4']\n",
    "\n",
    "participants_file = os.path.join(EpochDataGenerator.data_dir(), \"participants.tsv\")\n",
    "participants_df = pd.read_csv(participants_file, sep=\"\\t\")\n",
    "subjects = participants_df.loc[participants_df[\"exclude\"] == 0, \"participant_id\"].to_list()\n",
    "\n",
    "subject_epoch_coordinates = [[subject, coordinate] for subject in subjects for coordinate in range(24648)]\n",
    "\n",
    "train_coordinates, test_coordinates = train_test_split(subject_epoch_coordinates, test_size=0.3, random_state=42)\n",
    "test_coordinates, valiation_coordinates = train_test_split(test_coordinates, test_size=0.66, random_state=42)\n",
    "\n",
    "train_generator = EpochDataGenerator(train_coordinates, channel_names, output_type=OutputType.ALL_CHANNELS)\n",
    "test_generator = EpochDataGenerator(test_coordinates, channel_names, output_type=OutputType.ALL_CHANNELS)\n",
    "valiation_coordinates = EpochDataGenerator(valiation_coordinates, channel_names, output_type=OutputType.ALL_CHANNELS)"
   ]
  },
  {
   "cell_type": "code",
   "execution_count": 3,
   "id": "841c5e8d",
   "metadata": {},
   "outputs": [
    {
     "data": {
      "text/plain": [
       "((793665, 14, 53), (115648, 14, 53), (224495, 14, 53))"
      ]
     },
     "execution_count": 3,
     "metadata": {},
     "output_type": "execute_result"
    }
   ],
   "source": [
    "train_generator.get_input_shape(), test_generator.get_input_shape(), valiation_coordinates.get_input_shape()"
   ]
  },
  {
   "cell_type": "code",
   "execution_count": 4,
   "id": "b4b06645",
   "metadata": {},
   "outputs": [
    {
     "data": {
      "text/plain": [
       "((793665, 63, 53), (115648, 63, 53), (224495, 63, 53))"
      ]
     },
     "execution_count": 4,
     "metadata": {},
     "output_type": "execute_result"
    }
   ],
   "source": [
    "train_generator.get_output_shape(), test_generator.get_output_shape(), valiation_coordinates.get_output_shape()"
   ]
  },
  {
   "cell_type": "code",
   "execution_count": 5,
   "id": "de3a56f3",
   "metadata": {},
   "outputs": [
    {
     "data": {
      "text/html": [
       "<pre style=\"white-space:pre;overflow-x:auto;line-height:normal;font-family:Menlo,'DejaVu Sans Mono',consolas,'Courier New',monospace\"><span style=\"font-weight: bold\">Model: \"ESTformer_EEG_Model\"</span>\n",
       "</pre>\n"
      ],
      "text/plain": [
       "\u001b[1mModel: \"ESTformer_EEG_Model\"\u001b[0m\n"
      ]
     },
     "metadata": {},
     "output_type": "display_data"
    },
    {
     "data": {
      "text/html": [
       "<pre style=\"white-space:pre;overflow-x:auto;line-height:normal;font-family:Menlo,'DejaVu Sans Mono',consolas,'Courier New',monospace\">┏━━━━━━━━━━━━━━━━━━━━━┳━━━━━━━━━━━━━━━━━━━┳━━━━━━━━━━━━┳━━━━━━━━━━━━━━━━━━━┓\n",
       "┃<span style=\"font-weight: bold\"> Layer (type)        </span>┃<span style=\"font-weight: bold\"> Output Shape      </span>┃<span style=\"font-weight: bold\">    Param # </span>┃<span style=\"font-weight: bold\"> Connected to      </span>┃\n",
       "┡━━━━━━━━━━━━━━━━━━━━━╇━━━━━━━━━━━━━━━━━━━╇━━━━━━━━━━━━╇━━━━━━━━━━━━━━━━━━━┩\n",
       "│ input_layer         │ (<span style=\"color: #00d7ff; text-decoration-color: #00d7ff\">None</span>, <span style=\"color: #00af00; text-decoration-color: #00af00\">14</span>, <span style=\"color: #00af00; text-decoration-color: #00af00\">53</span>)    │          <span style=\"color: #00af00; text-decoration-color: #00af00\">0</span> │ -                 │\n",
       "│ (<span style=\"color: #0087ff; text-decoration-color: #0087ff\">InputLayer</span>)        │                   │            │                   │\n",
       "├─────────────────────┼───────────────────┼────────────┼───────────────────┤\n",
       "│ permute (<span style=\"color: #0087ff; text-decoration-color: #0087ff\">Permute</span>)   │ (<span style=\"color: #00d7ff; text-decoration-color: #00d7ff\">None</span>, <span style=\"color: #00af00; text-decoration-color: #00af00\">53</span>, <span style=\"color: #00af00; text-decoration-color: #00af00\">14</span>)    │          <span style=\"color: #00af00; text-decoration-color: #00af00\">0</span> │ input_layer[<span style=\"color: #00af00; text-decoration-color: #00af00\">0</span>][<span style=\"color: #00af00; text-decoration-color: #00af00\">0</span>] │\n",
       "├─────────────────────┼───────────────────┼────────────┼───────────────────┤\n",
       "│ SpatialModule       │ (<span style=\"color: #00af00; text-decoration-color: #00af00\">1</span>, <span style=\"color: #00af00; text-decoration-color: #00af00\">14</span>, <span style=\"color: #00af00; text-decoration-color: #00af00\">128</span>)      │    <span style=\"color: #00af00; text-decoration-color: #00af00\">305,920</span> │ permute[<span style=\"color: #00af00; text-decoration-color: #00af00\">0</span>][<span style=\"color: #00af00; text-decoration-color: #00af00\">0</span>]     │\n",
       "│ (<span style=\"color: #0087ff; text-decoration-color: #0087ff\">Functional</span>)        │                   │            │                   │\n",
       "├─────────────────────┼───────────────────┼────────────┼───────────────────┤\n",
       "│ TemporalModule      │ (<span style=\"color: #00af00; text-decoration-color: #00af00\">1</span>, <span style=\"color: #00af00; text-decoration-color: #00af00\">14</span>, <span style=\"color: #00af00; text-decoration-color: #00af00\">128</span>)      │    <span style=\"color: #00af00; text-decoration-color: #00af00\">206,336</span> │ permute[<span style=\"color: #00af00; text-decoration-color: #00af00\">0</span>][<span style=\"color: #00af00; text-decoration-color: #00af00\">0</span>]     │\n",
       "│ (<span style=\"color: #0087ff; text-decoration-color: #0087ff\">Functional</span>)        │                   │            │                   │\n",
       "├─────────────────────┼───────────────────┼────────────┼───────────────────┤\n",
       "│ concatenate         │ (<span style=\"color: #00af00; text-decoration-color: #00af00\">1</span>, <span style=\"color: #00af00; text-decoration-color: #00af00\">14</span>, <span style=\"color: #00af00; text-decoration-color: #00af00\">256</span>)      │          <span style=\"color: #00af00; text-decoration-color: #00af00\">0</span> │ SpatialModule[<span style=\"color: #00af00; text-decoration-color: #00af00\">0</span>]… │\n",
       "│ (<span style=\"color: #0087ff; text-decoration-color: #0087ff\">Concatenate</span>)       │                   │            │ TemporalModule[<span style=\"color: #00af00; text-decoration-color: #00af00\">0</span>… │\n",
       "├─────────────────────┼───────────────────┼────────────┼───────────────────┤\n",
       "│ dense_13 (<span style=\"color: #0087ff; text-decoration-color: #0087ff\">Dense</span>)    │ (<span style=\"color: #00af00; text-decoration-color: #00af00\">1</span>, <span style=\"color: #00af00; text-decoration-color: #00af00\">14</span>, <span style=\"color: #00af00; text-decoration-color: #00af00\">64</span>)       │     <span style=\"color: #00af00; text-decoration-color: #00af00\">16,448</span> │ concatenate[<span style=\"color: #00af00; text-decoration-color: #00af00\">0</span>][<span style=\"color: #00af00; text-decoration-color: #00af00\">0</span>] │\n",
       "└─────────────────────┴───────────────────┴────────────┴───────────────────┘\n",
       "</pre>\n"
      ],
      "text/plain": [
       "┏━━━━━━━━━━━━━━━━━━━━━┳━━━━━━━━━━━━━━━━━━━┳━━━━━━━━━━━━┳━━━━━━━━━━━━━━━━━━━┓\n",
       "┃\u001b[1m \u001b[0m\u001b[1mLayer (type)       \u001b[0m\u001b[1m \u001b[0m┃\u001b[1m \u001b[0m\u001b[1mOutput Shape     \u001b[0m\u001b[1m \u001b[0m┃\u001b[1m \u001b[0m\u001b[1m   Param #\u001b[0m\u001b[1m \u001b[0m┃\u001b[1m \u001b[0m\u001b[1mConnected to     \u001b[0m\u001b[1m \u001b[0m┃\n",
       "┡━━━━━━━━━━━━━━━━━━━━━╇━━━━━━━━━━━━━━━━━━━╇━━━━━━━━━━━━╇━━━━━━━━━━━━━━━━━━━┩\n",
       "│ input_layer         │ (\u001b[38;5;45mNone\u001b[0m, \u001b[38;5;34m14\u001b[0m, \u001b[38;5;34m53\u001b[0m)    │          \u001b[38;5;34m0\u001b[0m │ -                 │\n",
       "│ (\u001b[38;5;33mInputLayer\u001b[0m)        │                   │            │                   │\n",
       "├─────────────────────┼───────────────────┼────────────┼───────────────────┤\n",
       "│ permute (\u001b[38;5;33mPermute\u001b[0m)   │ (\u001b[38;5;45mNone\u001b[0m, \u001b[38;5;34m53\u001b[0m, \u001b[38;5;34m14\u001b[0m)    │          \u001b[38;5;34m0\u001b[0m │ input_layer[\u001b[38;5;34m0\u001b[0m][\u001b[38;5;34m0\u001b[0m] │\n",
       "├─────────────────────┼───────────────────┼────────────┼───────────────────┤\n",
       "│ SpatialModule       │ (\u001b[38;5;34m1\u001b[0m, \u001b[38;5;34m14\u001b[0m, \u001b[38;5;34m128\u001b[0m)      │    \u001b[38;5;34m305,920\u001b[0m │ permute[\u001b[38;5;34m0\u001b[0m][\u001b[38;5;34m0\u001b[0m]     │\n",
       "│ (\u001b[38;5;33mFunctional\u001b[0m)        │                   │            │                   │\n",
       "├─────────────────────┼───────────────────┼────────────┼───────────────────┤\n",
       "│ TemporalModule      │ (\u001b[38;5;34m1\u001b[0m, \u001b[38;5;34m14\u001b[0m, \u001b[38;5;34m128\u001b[0m)      │    \u001b[38;5;34m206,336\u001b[0m │ permute[\u001b[38;5;34m0\u001b[0m][\u001b[38;5;34m0\u001b[0m]     │\n",
       "│ (\u001b[38;5;33mFunctional\u001b[0m)        │                   │            │                   │\n",
       "├─────────────────────┼───────────────────┼────────────┼───────────────────┤\n",
       "│ concatenate         │ (\u001b[38;5;34m1\u001b[0m, \u001b[38;5;34m14\u001b[0m, \u001b[38;5;34m256\u001b[0m)      │          \u001b[38;5;34m0\u001b[0m │ SpatialModule[\u001b[38;5;34m0\u001b[0m]… │\n",
       "│ (\u001b[38;5;33mConcatenate\u001b[0m)       │                   │            │ TemporalModule[\u001b[38;5;34m0\u001b[0m… │\n",
       "├─────────────────────┼───────────────────┼────────────┼───────────────────┤\n",
       "│ dense_13 (\u001b[38;5;33mDense\u001b[0m)    │ (\u001b[38;5;34m1\u001b[0m, \u001b[38;5;34m14\u001b[0m, \u001b[38;5;34m64\u001b[0m)       │     \u001b[38;5;34m16,448\u001b[0m │ concatenate[\u001b[38;5;34m0\u001b[0m][\u001b[38;5;34m0\u001b[0m] │\n",
       "└─────────────────────┴───────────────────┴────────────┴───────────────────┘\n"
      ]
     },
     "metadata": {},
     "output_type": "display_data"
    },
    {
     "data": {
      "text/html": [
       "<pre style=\"white-space:pre;overflow-x:auto;line-height:normal;font-family:Menlo,'DejaVu Sans Mono',consolas,'Courier New',monospace\"><span style=\"font-weight: bold\"> Total params: </span><span style=\"color: #00af00; text-decoration-color: #00af00\">528,704</span> (2.02 MB)\n",
       "</pre>\n"
      ],
      "text/plain": [
       "\u001b[1m Total params: \u001b[0m\u001b[38;5;34m528,704\u001b[0m (2.02 MB)\n"
      ]
     },
     "metadata": {},
     "output_type": "display_data"
    },
    {
     "data": {
      "text/html": [
       "<pre style=\"white-space:pre;overflow-x:auto;line-height:normal;font-family:Menlo,'DejaVu Sans Mono',consolas,'Courier New',monospace\"><span style=\"font-weight: bold\"> Trainable params: </span><span style=\"color: #00af00; text-decoration-color: #00af00\">528,704</span> (2.02 MB)\n",
       "</pre>\n"
      ],
      "text/plain": [
       "\u001b[1m Trainable params: \u001b[0m\u001b[38;5;34m528,704\u001b[0m (2.02 MB)\n"
      ]
     },
     "metadata": {},
     "output_type": "display_data"
    },
    {
     "data": {
      "text/html": [
       "<pre style=\"white-space:pre;overflow-x:auto;line-height:normal;font-family:Menlo,'DejaVu Sans Mono',consolas,'Courier New',monospace\"><span style=\"font-weight: bold\"> Non-trainable params: </span><span style=\"color: #00af00; text-decoration-color: #00af00\">0</span> (0.00 B)\n",
       "</pre>\n"
      ],
      "text/plain": [
       "\u001b[1m Non-trainable params: \u001b[0m\u001b[38;5;34m0\u001b[0m (0.00 B)\n"
      ]
     },
     "metadata": {},
     "output_type": "display_data"
    }
   ],
   "source": [
    "model = build_estformer_model(channel_names)\n",
    "model.summary()"
   ]
  }
 ],
 "metadata": {
  "kernelspec": {
   "display_name": "env",
   "language": "python",
   "name": "python3"
  },
  "language_info": {
   "codemirror_mode": {
    "name": "ipython",
    "version": 3
   },
   "file_extension": ".py",
   "mimetype": "text/x-python",
   "name": "python",
   "nbconvert_exporter": "python",
   "pygments_lexer": "ipython3",
   "version": "3.11.9"
  }
 },
 "nbformat": 4,
 "nbformat_minor": 5
}
